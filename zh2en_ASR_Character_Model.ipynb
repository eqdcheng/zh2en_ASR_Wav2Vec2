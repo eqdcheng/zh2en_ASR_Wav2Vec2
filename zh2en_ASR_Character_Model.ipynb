{
  "nbformat": 4,
  "nbformat_minor": 0,
  "metadata": {
    "accelerator": "GPU",
    "colab": {
      "name": "ASR_Training_Character.ipynb",
      "provenance": [],
      "collapsed_sections": [
        "Bzp_GObEeXJk",
        "MYWZbu7pedn6",
        "AZ17UEt3elVN",
        "ziuPeVm0eum1"
      ],
      "machine_shape": "hm"
    },
    "kernelspec": {
      "display_name": "Python 3",
      "name": "python3"
    },
    "language_info": {
      "name": "python"
    },
    "widgets": {
      "application/vnd.jupyter.widget-state+json": {
        "0476e40f28184d7093b725996a63dc74": {
          "model_module": "@jupyter-widgets/controls",
          "model_name": "HBoxModel",
          "state": {
            "_view_name": "HBoxView",
            "_dom_classes": [],
            "_model_name": "HBoxModel",
            "_view_module": "@jupyter-widgets/controls",
            "_model_module_version": "1.5.0",
            "_view_count": null,
            "_view_module_version": "1.5.0",
            "box_style": "",
            "layout": "IPY_MODEL_e3674bfb86eb43818c7f1acdb7f07166",
            "_model_module": "@jupyter-widgets/controls",
            "children": [
              "IPY_MODEL_232fe9a632e943e583c639566dc103b1",
              "IPY_MODEL_fd5fcfb76cd94e1e83bf2035375d2f59"
            ]
          }
        },
        "e3674bfb86eb43818c7f1acdb7f07166": {
          "model_module": "@jupyter-widgets/base",
          "model_name": "LayoutModel",
          "state": {
            "_view_name": "LayoutView",
            "grid_template_rows": null,
            "right": null,
            "justify_content": null,
            "_view_module": "@jupyter-widgets/base",
            "overflow": null,
            "_model_module_version": "1.2.0",
            "_view_count": null,
            "flex_flow": null,
            "width": null,
            "min_width": null,
            "border": null,
            "align_items": null,
            "bottom": null,
            "_model_module": "@jupyter-widgets/base",
            "top": null,
            "grid_column": null,
            "overflow_y": null,
            "overflow_x": null,
            "grid_auto_flow": null,
            "grid_area": null,
            "grid_template_columns": null,
            "flex": null,
            "_model_name": "LayoutModel",
            "justify_items": null,
            "grid_row": null,
            "max_height": null,
            "align_content": null,
            "visibility": null,
            "align_self": null,
            "height": null,
            "min_height": null,
            "padding": null,
            "grid_auto_rows": null,
            "grid_gap": null,
            "max_width": null,
            "order": null,
            "_view_module_version": "1.2.0",
            "grid_template_areas": null,
            "object_position": null,
            "object_fit": null,
            "grid_auto_columns": null,
            "margin": null,
            "display": null,
            "left": null
          }
        },
        "232fe9a632e943e583c639566dc103b1": {
          "model_module": "@jupyter-widgets/controls",
          "model_name": "FloatProgressModel",
          "state": {
            "_view_name": "ProgressView",
            "style": "IPY_MODEL_4481174c87a74aa08f194f6daacd8f4c",
            "_dom_classes": [],
            "description": "Downloading: ",
            "_model_name": "FloatProgressModel",
            "bar_style": "success",
            "max": 4284,
            "_view_module": "@jupyter-widgets/controls",
            "_model_module_version": "1.5.0",
            "value": 4284,
            "_view_count": null,
            "_view_module_version": "1.5.0",
            "orientation": "horizontal",
            "min": 0,
            "description_tooltip": null,
            "_model_module": "@jupyter-widgets/controls",
            "layout": "IPY_MODEL_82c21f112fd04c50b6360ecbe821632a"
          }
        },
        "fd5fcfb76cd94e1e83bf2035375d2f59": {
          "model_module": "@jupyter-widgets/controls",
          "model_name": "HTMLModel",
          "state": {
            "_view_name": "HTMLView",
            "style": "IPY_MODEL_5dbb9a64e4864b9ab7b33a4b95487d34",
            "_dom_classes": [],
            "description": "",
            "_model_name": "HTMLModel",
            "placeholder": "​",
            "_view_module": "@jupyter-widgets/controls",
            "_model_module_version": "1.5.0",
            "value": " 22.0k/? [00:00&lt;00:00, 51.1kB/s]",
            "_view_count": null,
            "_view_module_version": "1.5.0",
            "description_tooltip": null,
            "_model_module": "@jupyter-widgets/controls",
            "layout": "IPY_MODEL_f2dc5be0217f4204b0af548c2aa9af0a"
          }
        },
        "4481174c87a74aa08f194f6daacd8f4c": {
          "model_module": "@jupyter-widgets/controls",
          "model_name": "ProgressStyleModel",
          "state": {
            "_view_name": "StyleView",
            "_model_name": "ProgressStyleModel",
            "description_width": "initial",
            "_view_module": "@jupyter-widgets/base",
            "_model_module_version": "1.5.0",
            "_view_count": null,
            "_view_module_version": "1.2.0",
            "bar_color": null,
            "_model_module": "@jupyter-widgets/controls"
          }
        },
        "82c21f112fd04c50b6360ecbe821632a": {
          "model_module": "@jupyter-widgets/base",
          "model_name": "LayoutModel",
          "state": {
            "_view_name": "LayoutView",
            "grid_template_rows": null,
            "right": null,
            "justify_content": null,
            "_view_module": "@jupyter-widgets/base",
            "overflow": null,
            "_model_module_version": "1.2.0",
            "_view_count": null,
            "flex_flow": null,
            "width": null,
            "min_width": null,
            "border": null,
            "align_items": null,
            "bottom": null,
            "_model_module": "@jupyter-widgets/base",
            "top": null,
            "grid_column": null,
            "overflow_y": null,
            "overflow_x": null,
            "grid_auto_flow": null,
            "grid_area": null,
            "grid_template_columns": null,
            "flex": null,
            "_model_name": "LayoutModel",
            "justify_items": null,
            "grid_row": null,
            "max_height": null,
            "align_content": null,
            "visibility": null,
            "align_self": null,
            "height": null,
            "min_height": null,
            "padding": null,
            "grid_auto_rows": null,
            "grid_gap": null,
            "max_width": null,
            "order": null,
            "_view_module_version": "1.2.0",
            "grid_template_areas": null,
            "object_position": null,
            "object_fit": null,
            "grid_auto_columns": null,
            "margin": null,
            "display": null,
            "left": null
          }
        },
        "5dbb9a64e4864b9ab7b33a4b95487d34": {
          "model_module": "@jupyter-widgets/controls",
          "model_name": "DescriptionStyleModel",
          "state": {
            "_view_name": "StyleView",
            "_model_name": "DescriptionStyleModel",
            "description_width": "",
            "_view_module": "@jupyter-widgets/base",
            "_model_module_version": "1.5.0",
            "_view_count": null,
            "_view_module_version": "1.2.0",
            "_model_module": "@jupyter-widgets/controls"
          }
        },
        "f2dc5be0217f4204b0af548c2aa9af0a": {
          "model_module": "@jupyter-widgets/base",
          "model_name": "LayoutModel",
          "state": {
            "_view_name": "LayoutView",
            "grid_template_rows": null,
            "right": null,
            "justify_content": null,
            "_view_module": "@jupyter-widgets/base",
            "overflow": null,
            "_model_module_version": "1.2.0",
            "_view_count": null,
            "flex_flow": null,
            "width": null,
            "min_width": null,
            "border": null,
            "align_items": null,
            "bottom": null,
            "_model_module": "@jupyter-widgets/base",
            "top": null,
            "grid_column": null,
            "overflow_y": null,
            "overflow_x": null,
            "grid_auto_flow": null,
            "grid_area": null,
            "grid_template_columns": null,
            "flex": null,
            "_model_name": "LayoutModel",
            "justify_items": null,
            "grid_row": null,
            "max_height": null,
            "align_content": null,
            "visibility": null,
            "align_self": null,
            "height": null,
            "min_height": null,
            "padding": null,
            "grid_auto_rows": null,
            "grid_gap": null,
            "max_width": null,
            "order": null,
            "_view_module_version": "1.2.0",
            "grid_template_areas": null,
            "object_position": null,
            "object_fit": null,
            "grid_auto_columns": null,
            "margin": null,
            "display": null,
            "left": null
          }
        },
        "6d0e7b281d9a434c8284261d5cbc5421": {
          "model_module": "@jupyter-widgets/controls",
          "model_name": "HBoxModel",
          "state": {
            "_view_name": "HBoxView",
            "_dom_classes": [],
            "_model_name": "HBoxModel",
            "_view_module": "@jupyter-widgets/controls",
            "_model_module_version": "1.5.0",
            "_view_count": null,
            "_view_module_version": "1.5.0",
            "box_style": "",
            "layout": "IPY_MODEL_d74a0817bb9c4fdda3bc2036642a1b42",
            "_model_module": "@jupyter-widgets/controls",
            "children": [
              "IPY_MODEL_8f9c9825e448400180cb18e19688f497",
              "IPY_MODEL_b135a16d12e64a9ea569fbb2b25f3e8f"
            ]
          }
        },
        "d74a0817bb9c4fdda3bc2036642a1b42": {
          "model_module": "@jupyter-widgets/base",
          "model_name": "LayoutModel",
          "state": {
            "_view_name": "LayoutView",
            "grid_template_rows": null,
            "right": null,
            "justify_content": null,
            "_view_module": "@jupyter-widgets/base",
            "overflow": null,
            "_model_module_version": "1.2.0",
            "_view_count": null,
            "flex_flow": null,
            "width": null,
            "min_width": null,
            "border": null,
            "align_items": null,
            "bottom": null,
            "_model_module": "@jupyter-widgets/base",
            "top": null,
            "grid_column": null,
            "overflow_y": null,
            "overflow_x": null,
            "grid_auto_flow": null,
            "grid_area": null,
            "grid_template_columns": null,
            "flex": null,
            "_model_name": "LayoutModel",
            "justify_items": null,
            "grid_row": null,
            "max_height": null,
            "align_content": null,
            "visibility": null,
            "align_self": null,
            "height": null,
            "min_height": null,
            "padding": null,
            "grid_auto_rows": null,
            "grid_gap": null,
            "max_width": null,
            "order": null,
            "_view_module_version": "1.2.0",
            "grid_template_areas": null,
            "object_position": null,
            "object_fit": null,
            "grid_auto_columns": null,
            "margin": null,
            "display": null,
            "left": null
          }
        },
        "8f9c9825e448400180cb18e19688f497": {
          "model_module": "@jupyter-widgets/controls",
          "model_name": "FloatProgressModel",
          "state": {
            "_view_name": "ProgressView",
            "style": "IPY_MODEL_a4b936f4b7d94c50a34b16b0bad96aed",
            "_dom_classes": [],
            "description": "Downloading: ",
            "_model_name": "FloatProgressModel",
            "bar_style": "success",
            "max": 9954,
            "_view_module": "@jupyter-widgets/controls",
            "_model_module_version": "1.5.0",
            "value": 9954,
            "_view_count": null,
            "_view_module_version": "1.5.0",
            "orientation": "horizontal",
            "min": 0,
            "description_tooltip": null,
            "_model_module": "@jupyter-widgets/controls",
            "layout": "IPY_MODEL_decb101530bf48a4b9f7e3bc69b2e0b1"
          }
        },
        "b135a16d12e64a9ea569fbb2b25f3e8f": {
          "model_module": "@jupyter-widgets/controls",
          "model_name": "HTMLModel",
          "state": {
            "_view_name": "HTMLView",
            "style": "IPY_MODEL_c1049f66983d463f9e2ad7bb7d07da80",
            "_dom_classes": [],
            "description": "",
            "_model_name": "HTMLModel",
            "placeholder": "​",
            "_view_module": "@jupyter-widgets/controls",
            "_model_module_version": "1.5.0",
            "value": " 153k/? [00:00&lt;00:00, 2.24MB/s]",
            "_view_count": null,
            "_view_module_version": "1.5.0",
            "description_tooltip": null,
            "_model_module": "@jupyter-widgets/controls",
            "layout": "IPY_MODEL_1259161a6b654169b9616f9c47c09048"
          }
        },
        "a4b936f4b7d94c50a34b16b0bad96aed": {
          "model_module": "@jupyter-widgets/controls",
          "model_name": "ProgressStyleModel",
          "state": {
            "_view_name": "StyleView",
            "_model_name": "ProgressStyleModel",
            "description_width": "initial",
            "_view_module": "@jupyter-widgets/base",
            "_model_module_version": "1.5.0",
            "_view_count": null,
            "_view_module_version": "1.2.0",
            "bar_color": null,
            "_model_module": "@jupyter-widgets/controls"
          }
        },
        "decb101530bf48a4b9f7e3bc69b2e0b1": {
          "model_module": "@jupyter-widgets/base",
          "model_name": "LayoutModel",
          "state": {
            "_view_name": "LayoutView",
            "grid_template_rows": null,
            "right": null,
            "justify_content": null,
            "_view_module": "@jupyter-widgets/base",
            "overflow": null,
            "_model_module_version": "1.2.0",
            "_view_count": null,
            "flex_flow": null,
            "width": null,
            "min_width": null,
            "border": null,
            "align_items": null,
            "bottom": null,
            "_model_module": "@jupyter-widgets/base",
            "top": null,
            "grid_column": null,
            "overflow_y": null,
            "overflow_x": null,
            "grid_auto_flow": null,
            "grid_area": null,
            "grid_template_columns": null,
            "flex": null,
            "_model_name": "LayoutModel",
            "justify_items": null,
            "grid_row": null,
            "max_height": null,
            "align_content": null,
            "visibility": null,
            "align_self": null,
            "height": null,
            "min_height": null,
            "padding": null,
            "grid_auto_rows": null,
            "grid_gap": null,
            "max_width": null,
            "order": null,
            "_view_module_version": "1.2.0",
            "grid_template_areas": null,
            "object_position": null,
            "object_fit": null,
            "grid_auto_columns": null,
            "margin": null,
            "display": null,
            "left": null
          }
        },
        "c1049f66983d463f9e2ad7bb7d07da80": {
          "model_module": "@jupyter-widgets/controls",
          "model_name": "DescriptionStyleModel",
          "state": {
            "_view_name": "StyleView",
            "_model_name": "DescriptionStyleModel",
            "description_width": "",
            "_view_module": "@jupyter-widgets/base",
            "_model_module_version": "1.5.0",
            "_view_count": null,
            "_view_module_version": "1.2.0",
            "_model_module": "@jupyter-widgets/controls"
          }
        },
        "1259161a6b654169b9616f9c47c09048": {
          "model_module": "@jupyter-widgets/base",
          "model_name": "LayoutModel",
          "state": {
            "_view_name": "LayoutView",
            "grid_template_rows": null,
            "right": null,
            "justify_content": null,
            "_view_module": "@jupyter-widgets/base",
            "overflow": null,
            "_model_module_version": "1.2.0",
            "_view_count": null,
            "flex_flow": null,
            "width": null,
            "min_width": null,
            "border": null,
            "align_items": null,
            "bottom": null,
            "_model_module": "@jupyter-widgets/base",
            "top": null,
            "grid_column": null,
            "overflow_y": null,
            "overflow_x": null,
            "grid_auto_flow": null,
            "grid_area": null,
            "grid_template_columns": null,
            "flex": null,
            "_model_name": "LayoutModel",
            "justify_items": null,
            "grid_row": null,
            "max_height": null,
            "align_content": null,
            "visibility": null,
            "align_self": null,
            "height": null,
            "min_height": null,
            "padding": null,
            "grid_auto_rows": null,
            "grid_gap": null,
            "max_width": null,
            "order": null,
            "_view_module_version": "1.2.0",
            "grid_template_areas": null,
            "object_position": null,
            "object_fit": null,
            "grid_auto_columns": null,
            "margin": null,
            "display": null,
            "left": null
          }
        },
        "dcff70e9685c4cbab476791789db39ec": {
          "model_module": "@jupyter-widgets/controls",
          "model_name": "HBoxModel",
          "state": {
            "_view_name": "HBoxView",
            "_dom_classes": [],
            "_model_name": "HBoxModel",
            "_view_module": "@jupyter-widgets/controls",
            "_model_module_version": "1.5.0",
            "_view_count": null,
            "_view_module_version": "1.5.0",
            "box_style": "",
            "layout": "IPY_MODEL_0db0773c625c4f76a4645cf45f04b94b",
            "_model_module": "@jupyter-widgets/controls",
            "children": [
              "IPY_MODEL_cfbb7e09e65b4ee58874954a133e3f46",
              "IPY_MODEL_eeb8467030e843e6998776ca54fabb1e"
            ]
          }
        },
        "0db0773c625c4f76a4645cf45f04b94b": {
          "model_module": "@jupyter-widgets/base",
          "model_name": "LayoutModel",
          "state": {
            "_view_name": "LayoutView",
            "grid_template_rows": null,
            "right": null,
            "justify_content": null,
            "_view_module": "@jupyter-widgets/base",
            "overflow": null,
            "_model_module_version": "1.2.0",
            "_view_count": null,
            "flex_flow": null,
            "width": null,
            "min_width": null,
            "border": null,
            "align_items": null,
            "bottom": null,
            "_model_module": "@jupyter-widgets/base",
            "top": null,
            "grid_column": null,
            "overflow_y": null,
            "overflow_x": null,
            "grid_auto_flow": null,
            "grid_area": null,
            "grid_template_columns": null,
            "flex": null,
            "_model_name": "LayoutModel",
            "justify_items": null,
            "grid_row": null,
            "max_height": null,
            "align_content": null,
            "visibility": null,
            "align_self": null,
            "height": null,
            "min_height": null,
            "padding": null,
            "grid_auto_rows": null,
            "grid_gap": null,
            "max_width": null,
            "order": null,
            "_view_module_version": "1.2.0",
            "grid_template_areas": null,
            "object_position": null,
            "object_fit": null,
            "grid_auto_columns": null,
            "margin": null,
            "display": null,
            "left": null
          }
        },
        "cfbb7e09e65b4ee58874954a133e3f46": {
          "model_module": "@jupyter-widgets/controls",
          "model_name": "FloatProgressModel",
          "state": {
            "_view_name": "ProgressView",
            "style": "IPY_MODEL_33c0044fb66e47abb3542bfb9f656cd3",
            "_dom_classes": [],
            "description": "Downloading: 100%",
            "_model_name": "FloatProgressModel",
            "bar_style": "success",
            "max": 2184602350,
            "_view_module": "@jupyter-widgets/controls",
            "_model_module_version": "1.5.0",
            "value": 2184602350,
            "_view_count": null,
            "_view_module_version": "1.5.0",
            "orientation": "horizontal",
            "min": 0,
            "description_tooltip": null,
            "_model_module": "@jupyter-widgets/controls",
            "layout": "IPY_MODEL_568cc351165041d88baf3d95da56df76"
          }
        },
        "eeb8467030e843e6998776ca54fabb1e": {
          "model_module": "@jupyter-widgets/controls",
          "model_name": "HTMLModel",
          "state": {
            "_view_name": "HTMLView",
            "style": "IPY_MODEL_94d50dc325bd46d7a2d4ed9cab0d988f",
            "_dom_classes": [],
            "description": "",
            "_model_name": "HTMLModel",
            "placeholder": "​",
            "_view_module": "@jupyter-widgets/controls",
            "_model_module_version": "1.5.0",
            "value": " 2.18G/2.18G [02:10&lt;00:00, 16.7MB/s]",
            "_view_count": null,
            "_view_module_version": "1.5.0",
            "description_tooltip": null,
            "_model_module": "@jupyter-widgets/controls",
            "layout": "IPY_MODEL_0156bd888dc14a41baeb215ddad7098e"
          }
        },
        "33c0044fb66e47abb3542bfb9f656cd3": {
          "model_module": "@jupyter-widgets/controls",
          "model_name": "ProgressStyleModel",
          "state": {
            "_view_name": "StyleView",
            "_model_name": "ProgressStyleModel",
            "description_width": "initial",
            "_view_module": "@jupyter-widgets/base",
            "_model_module_version": "1.5.0",
            "_view_count": null,
            "_view_module_version": "1.2.0",
            "bar_color": null,
            "_model_module": "@jupyter-widgets/controls"
          }
        },
        "568cc351165041d88baf3d95da56df76": {
          "model_module": "@jupyter-widgets/base",
          "model_name": "LayoutModel",
          "state": {
            "_view_name": "LayoutView",
            "grid_template_rows": null,
            "right": null,
            "justify_content": null,
            "_view_module": "@jupyter-widgets/base",
            "overflow": null,
            "_model_module_version": "1.2.0",
            "_view_count": null,
            "flex_flow": null,
            "width": null,
            "min_width": null,
            "border": null,
            "align_items": null,
            "bottom": null,
            "_model_module": "@jupyter-widgets/base",
            "top": null,
            "grid_column": null,
            "overflow_y": null,
            "overflow_x": null,
            "grid_auto_flow": null,
            "grid_area": null,
            "grid_template_columns": null,
            "flex": null,
            "_model_name": "LayoutModel",
            "justify_items": null,
            "grid_row": null,
            "max_height": null,
            "align_content": null,
            "visibility": null,
            "align_self": null,
            "height": null,
            "min_height": null,
            "padding": null,
            "grid_auto_rows": null,
            "grid_gap": null,
            "max_width": null,
            "order": null,
            "_view_module_version": "1.2.0",
            "grid_template_areas": null,
            "object_position": null,
            "object_fit": null,
            "grid_auto_columns": null,
            "margin": null,
            "display": null,
            "left": null
          }
        },
        "94d50dc325bd46d7a2d4ed9cab0d988f": {
          "model_module": "@jupyter-widgets/controls",
          "model_name": "DescriptionStyleModel",
          "state": {
            "_view_name": "StyleView",
            "_model_name": "DescriptionStyleModel",
            "description_width": "",
            "_view_module": "@jupyter-widgets/base",
            "_model_module_version": "1.5.0",
            "_view_count": null,
            "_view_module_version": "1.2.0",
            "_model_module": "@jupyter-widgets/controls"
          }
        },
        "0156bd888dc14a41baeb215ddad7098e": {
          "model_module": "@jupyter-widgets/base",
          "model_name": "LayoutModel",
          "state": {
            "_view_name": "LayoutView",
            "grid_template_rows": null,
            "right": null,
            "justify_content": null,
            "_view_module": "@jupyter-widgets/base",
            "overflow": null,
            "_model_module_version": "1.2.0",
            "_view_count": null,
            "flex_flow": null,
            "width": null,
            "min_width": null,
            "border": null,
            "align_items": null,
            "bottom": null,
            "_model_module": "@jupyter-widgets/base",
            "top": null,
            "grid_column": null,
            "overflow_y": null,
            "overflow_x": null,
            "grid_auto_flow": null,
            "grid_area": null,
            "grid_template_columns": null,
            "flex": null,
            "_model_name": "LayoutModel",
            "justify_items": null,
            "grid_row": null,
            "max_height": null,
            "align_content": null,
            "visibility": null,
            "align_self": null,
            "height": null,
            "min_height": null,
            "padding": null,
            "grid_auto_rows": null,
            "grid_gap": null,
            "max_width": null,
            "order": null,
            "_view_module_version": "1.2.0",
            "grid_template_areas": null,
            "object_position": null,
            "object_fit": null,
            "grid_auto_columns": null,
            "margin": null,
            "display": null,
            "left": null
          }
        },
        "a7a7e45ec66e4d5ea6f2802cfb52ba8d": {
          "model_module": "@jupyter-widgets/controls",
          "model_name": "HBoxModel",
          "state": {
            "_view_name": "HBoxView",
            "_dom_classes": [],
            "_model_name": "HBoxModel",
            "_view_module": "@jupyter-widgets/controls",
            "_model_module_version": "1.5.0",
            "_view_count": null,
            "_view_module_version": "1.5.0",
            "box_style": "",
            "layout": "IPY_MODEL_abbc0ae14b0149f7aa1b620ea048d466",
            "_model_module": "@jupyter-widgets/controls",
            "children": [
              "IPY_MODEL_58dd65166c16486caf9a55a2d9341b2e",
              "IPY_MODEL_4a76cdf9886645d1a98e2abc569d8f71"
            ]
          }
        },
        "abbc0ae14b0149f7aa1b620ea048d466": {
          "model_module": "@jupyter-widgets/base",
          "model_name": "LayoutModel",
          "state": {
            "_view_name": "LayoutView",
            "grid_template_rows": null,
            "right": null,
            "justify_content": null,
            "_view_module": "@jupyter-widgets/base",
            "overflow": null,
            "_model_module_version": "1.2.0",
            "_view_count": null,
            "flex_flow": null,
            "width": null,
            "min_width": null,
            "border": null,
            "align_items": null,
            "bottom": null,
            "_model_module": "@jupyter-widgets/base",
            "top": null,
            "grid_column": null,
            "overflow_y": null,
            "overflow_x": null,
            "grid_auto_flow": null,
            "grid_area": null,
            "grid_template_columns": null,
            "flex": null,
            "_model_name": "LayoutModel",
            "justify_items": null,
            "grid_row": null,
            "max_height": null,
            "align_content": null,
            "visibility": null,
            "align_self": null,
            "height": null,
            "min_height": null,
            "padding": null,
            "grid_auto_rows": null,
            "grid_gap": null,
            "max_width": null,
            "order": null,
            "_view_module_version": "1.2.0",
            "grid_template_areas": null,
            "object_position": null,
            "object_fit": null,
            "grid_auto_columns": null,
            "margin": null,
            "display": null,
            "left": null
          }
        },
        "58dd65166c16486caf9a55a2d9341b2e": {
          "model_module": "@jupyter-widgets/controls",
          "model_name": "FloatProgressModel",
          "state": {
            "_view_name": "ProgressView",
            "style": "IPY_MODEL_c30f61341d7248758470687db01df4c8",
            "_dom_classes": [],
            "description": "",
            "_model_name": "FloatProgressModel",
            "bar_style": "info",
            "max": 1,
            "_view_module": "@jupyter-widgets/controls",
            "_model_module_version": "1.5.0",
            "value": 1,
            "_view_count": null,
            "_view_module_version": "1.5.0",
            "orientation": "horizontal",
            "min": 0,
            "description_tooltip": null,
            "_model_module": "@jupyter-widgets/controls",
            "layout": "IPY_MODEL_2b8fcf57f6c04976b1b83d373ae905cb"
          }
        },
        "4a76cdf9886645d1a98e2abc569d8f71": {
          "model_module": "@jupyter-widgets/controls",
          "model_name": "HTMLModel",
          "state": {
            "_view_name": "HTMLView",
            "style": "IPY_MODEL_bf18afd3ec8a4fe2a8b5a5a77aabf760",
            "_dom_classes": [],
            "description": "",
            "_model_name": "HTMLModel",
            "placeholder": "​",
            "_view_module": "@jupyter-widgets/controls",
            "_model_module_version": "1.5.0",
            "value": " 18541/0 [00:02&lt;00:00, 45.03 examples/s]",
            "_view_count": null,
            "_view_module_version": "1.5.0",
            "description_tooltip": null,
            "_model_module": "@jupyter-widgets/controls",
            "layout": "IPY_MODEL_1354c72935ed4213bb6d96eb648fb83a"
          }
        },
        "c30f61341d7248758470687db01df4c8": {
          "model_module": "@jupyter-widgets/controls",
          "model_name": "ProgressStyleModel",
          "state": {
            "_view_name": "StyleView",
            "_model_name": "ProgressStyleModel",
            "description_width": "initial",
            "_view_module": "@jupyter-widgets/base",
            "_model_module_version": "1.5.0",
            "_view_count": null,
            "_view_module_version": "1.2.0",
            "bar_color": null,
            "_model_module": "@jupyter-widgets/controls"
          }
        },
        "2b8fcf57f6c04976b1b83d373ae905cb": {
          "model_module": "@jupyter-widgets/base",
          "model_name": "LayoutModel",
          "state": {
            "_view_name": "LayoutView",
            "grid_template_rows": null,
            "right": null,
            "justify_content": null,
            "_view_module": "@jupyter-widgets/base",
            "overflow": null,
            "_model_module_version": "1.2.0",
            "_view_count": null,
            "flex_flow": null,
            "width": null,
            "min_width": null,
            "border": null,
            "align_items": null,
            "bottom": null,
            "_model_module": "@jupyter-widgets/base",
            "top": null,
            "grid_column": null,
            "overflow_y": null,
            "overflow_x": null,
            "grid_auto_flow": null,
            "grid_area": null,
            "grid_template_columns": null,
            "flex": null,
            "_model_name": "LayoutModel",
            "justify_items": null,
            "grid_row": null,
            "max_height": null,
            "align_content": null,
            "visibility": null,
            "align_self": null,
            "height": null,
            "min_height": null,
            "padding": null,
            "grid_auto_rows": null,
            "grid_gap": null,
            "max_width": null,
            "order": null,
            "_view_module_version": "1.2.0",
            "grid_template_areas": null,
            "object_position": null,
            "object_fit": null,
            "grid_auto_columns": null,
            "margin": null,
            "display": null,
            "left": null
          }
        },
        "bf18afd3ec8a4fe2a8b5a5a77aabf760": {
          "model_module": "@jupyter-widgets/controls",
          "model_name": "DescriptionStyleModel",
          "state": {
            "_view_name": "StyleView",
            "_model_name": "DescriptionStyleModel",
            "description_width": "",
            "_view_module": "@jupyter-widgets/base",
            "_model_module_version": "1.5.0",
            "_view_count": null,
            "_view_module_version": "1.2.0",
            "_model_module": "@jupyter-widgets/controls"
          }
        },
        "1354c72935ed4213bb6d96eb648fb83a": {
          "model_module": "@jupyter-widgets/base",
          "model_name": "LayoutModel",
          "state": {
            "_view_name": "LayoutView",
            "grid_template_rows": null,
            "right": null,
            "justify_content": null,
            "_view_module": "@jupyter-widgets/base",
            "overflow": null,
            "_model_module_version": "1.2.0",
            "_view_count": null,
            "flex_flow": null,
            "width": null,
            "min_width": null,
            "border": null,
            "align_items": null,
            "bottom": null,
            "_model_module": "@jupyter-widgets/base",
            "top": null,
            "grid_column": null,
            "overflow_y": null,
            "overflow_x": null,
            "grid_auto_flow": null,
            "grid_area": null,
            "grid_template_columns": null,
            "flex": null,
            "_model_name": "LayoutModel",
            "justify_items": null,
            "grid_row": null,
            "max_height": null,
            "align_content": null,
            "visibility": null,
            "align_self": null,
            "height": null,
            "min_height": null,
            "padding": null,
            "grid_auto_rows": null,
            "grid_gap": null,
            "max_width": null,
            "order": null,
            "_view_module_version": "1.2.0",
            "grid_template_areas": null,
            "object_position": null,
            "object_fit": null,
            "grid_auto_columns": null,
            "margin": null,
            "display": null,
            "left": null
          }
        },
        "62b7339b2ffa4e86af6ebead6e976640": {
          "model_module": "@jupyter-widgets/controls",
          "model_name": "HBoxModel",
          "state": {
            "_view_name": "HBoxView",
            "_dom_classes": [],
            "_model_name": "HBoxModel",
            "_view_module": "@jupyter-widgets/controls",
            "_model_module_version": "1.5.0",
            "_view_count": null,
            "_view_module_version": "1.5.0",
            "box_style": "",
            "layout": "IPY_MODEL_e2e266dbea35493bbe0aae540c1ea84f",
            "_model_module": "@jupyter-widgets/controls",
            "children": [
              "IPY_MODEL_1b528f23048944b487bec77d683dc875",
              "IPY_MODEL_25638c2b29cc4387acfe2b0564eb8475"
            ]
          }
        },
        "e2e266dbea35493bbe0aae540c1ea84f": {
          "model_module": "@jupyter-widgets/base",
          "model_name": "LayoutModel",
          "state": {
            "_view_name": "LayoutView",
            "grid_template_rows": null,
            "right": null,
            "justify_content": null,
            "_view_module": "@jupyter-widgets/base",
            "overflow": null,
            "_model_module_version": "1.2.0",
            "_view_count": null,
            "flex_flow": null,
            "width": null,
            "min_width": null,
            "border": null,
            "align_items": null,
            "bottom": null,
            "_model_module": "@jupyter-widgets/base",
            "top": null,
            "grid_column": null,
            "overflow_y": null,
            "overflow_x": null,
            "grid_auto_flow": null,
            "grid_area": null,
            "grid_template_columns": null,
            "flex": null,
            "_model_name": "LayoutModel",
            "justify_items": null,
            "grid_row": null,
            "max_height": null,
            "align_content": null,
            "visibility": null,
            "align_self": null,
            "height": null,
            "min_height": null,
            "padding": null,
            "grid_auto_rows": null,
            "grid_gap": null,
            "max_width": null,
            "order": null,
            "_view_module_version": "1.2.0",
            "grid_template_areas": null,
            "object_position": null,
            "object_fit": null,
            "grid_auto_columns": null,
            "margin": null,
            "display": null,
            "left": null
          }
        },
        "1b528f23048944b487bec77d683dc875": {
          "model_module": "@jupyter-widgets/controls",
          "model_name": "FloatProgressModel",
          "state": {
            "_view_name": "ProgressView",
            "style": "IPY_MODEL_5791cbb5ad9b4e338f0c093c9761ad72",
            "_dom_classes": [],
            "description": "",
            "_model_name": "FloatProgressModel",
            "bar_style": "info",
            "max": 1,
            "_view_module": "@jupyter-widgets/controls",
            "_model_module_version": "1.5.0",
            "value": 1,
            "_view_count": null,
            "_view_module_version": "1.5.0",
            "orientation": "horizontal",
            "min": 0,
            "description_tooltip": null,
            "_model_module": "@jupyter-widgets/controls",
            "layout": "IPY_MODEL_27229de070314aad97e6b2f5af7eef9a"
          }
        },
        "25638c2b29cc4387acfe2b0564eb8475": {
          "model_module": "@jupyter-widgets/controls",
          "model_name": "HTMLModel",
          "state": {
            "_view_name": "HTMLView",
            "style": "IPY_MODEL_7133af7829ef463387178b48593c4993",
            "_dom_classes": [],
            "description": "",
            "_model_name": "HTMLModel",
            "placeholder": "​",
            "_view_module": "@jupyter-widgets/controls",
            "_model_module_version": "1.5.0",
            "value": " 8760/0 [00:00&lt;00:00, 12970.76 examples/s]",
            "_view_count": null,
            "_view_module_version": "1.5.0",
            "description_tooltip": null,
            "_model_module": "@jupyter-widgets/controls",
            "layout": "IPY_MODEL_e410b15de9e648ea93c4f0133bd8ff8b"
          }
        },
        "5791cbb5ad9b4e338f0c093c9761ad72": {
          "model_module": "@jupyter-widgets/controls",
          "model_name": "ProgressStyleModel",
          "state": {
            "_view_name": "StyleView",
            "_model_name": "ProgressStyleModel",
            "description_width": "initial",
            "_view_module": "@jupyter-widgets/base",
            "_model_module_version": "1.5.0",
            "_view_count": null,
            "_view_module_version": "1.2.0",
            "bar_color": null,
            "_model_module": "@jupyter-widgets/controls"
          }
        },
        "27229de070314aad97e6b2f5af7eef9a": {
          "model_module": "@jupyter-widgets/base",
          "model_name": "LayoutModel",
          "state": {
            "_view_name": "LayoutView",
            "grid_template_rows": null,
            "right": null,
            "justify_content": null,
            "_view_module": "@jupyter-widgets/base",
            "overflow": null,
            "_model_module_version": "1.2.0",
            "_view_count": null,
            "flex_flow": null,
            "width": null,
            "min_width": null,
            "border": null,
            "align_items": null,
            "bottom": null,
            "_model_module": "@jupyter-widgets/base",
            "top": null,
            "grid_column": null,
            "overflow_y": null,
            "overflow_x": null,
            "grid_auto_flow": null,
            "grid_area": null,
            "grid_template_columns": null,
            "flex": null,
            "_model_name": "LayoutModel",
            "justify_items": null,
            "grid_row": null,
            "max_height": null,
            "align_content": null,
            "visibility": null,
            "align_self": null,
            "height": null,
            "min_height": null,
            "padding": null,
            "grid_auto_rows": null,
            "grid_gap": null,
            "max_width": null,
            "order": null,
            "_view_module_version": "1.2.0",
            "grid_template_areas": null,
            "object_position": null,
            "object_fit": null,
            "grid_auto_columns": null,
            "margin": null,
            "display": null,
            "left": null
          }
        },
        "7133af7829ef463387178b48593c4993": {
          "model_module": "@jupyter-widgets/controls",
          "model_name": "DescriptionStyleModel",
          "state": {
            "_view_name": "StyleView",
            "_model_name": "DescriptionStyleModel",
            "description_width": "",
            "_view_module": "@jupyter-widgets/base",
            "_model_module_version": "1.5.0",
            "_view_count": null,
            "_view_module_version": "1.2.0",
            "_model_module": "@jupyter-widgets/controls"
          }
        },
        "e410b15de9e648ea93c4f0133bd8ff8b": {
          "model_module": "@jupyter-widgets/base",
          "model_name": "LayoutModel",
          "state": {
            "_view_name": "LayoutView",
            "grid_template_rows": null,
            "right": null,
            "justify_content": null,
            "_view_module": "@jupyter-widgets/base",
            "overflow": null,
            "_model_module_version": "1.2.0",
            "_view_count": null,
            "flex_flow": null,
            "width": null,
            "min_width": null,
            "border": null,
            "align_items": null,
            "bottom": null,
            "_model_module": "@jupyter-widgets/base",
            "top": null,
            "grid_column": null,
            "overflow_y": null,
            "overflow_x": null,
            "grid_auto_flow": null,
            "grid_area": null,
            "grid_template_columns": null,
            "flex": null,
            "_model_name": "LayoutModel",
            "justify_items": null,
            "grid_row": null,
            "max_height": null,
            "align_content": null,
            "visibility": null,
            "align_self": null,
            "height": null,
            "min_height": null,
            "padding": null,
            "grid_auto_rows": null,
            "grid_gap": null,
            "max_width": null,
            "order": null,
            "_view_module_version": "1.2.0",
            "grid_template_areas": null,
            "object_position": null,
            "object_fit": null,
            "grid_auto_columns": null,
            "margin": null,
            "display": null,
            "left": null
          }
        },
        "c2e9ca4bd0e74c829f6b6c5f60148055": {
          "model_module": "@jupyter-widgets/controls",
          "model_name": "HBoxModel",
          "state": {
            "_view_name": "HBoxView",
            "_dom_classes": [],
            "_model_name": "HBoxModel",
            "_view_module": "@jupyter-widgets/controls",
            "_model_module_version": "1.5.0",
            "_view_count": null,
            "_view_module_version": "1.5.0",
            "box_style": "",
            "layout": "IPY_MODEL_154b986897a64446bf0552657d304650",
            "_model_module": "@jupyter-widgets/controls",
            "children": [
              "IPY_MODEL_2b39c01d98484cf8b795f433954f891b",
              "IPY_MODEL_14640d7fe87045d5b7472204cf6439b0"
            ]
          }
        },
        "154b986897a64446bf0552657d304650": {
          "model_module": "@jupyter-widgets/base",
          "model_name": "LayoutModel",
          "state": {
            "_view_name": "LayoutView",
            "grid_template_rows": null,
            "right": null,
            "justify_content": null,
            "_view_module": "@jupyter-widgets/base",
            "overflow": null,
            "_model_module_version": "1.2.0",
            "_view_count": null,
            "flex_flow": null,
            "width": null,
            "min_width": null,
            "border": null,
            "align_items": null,
            "bottom": null,
            "_model_module": "@jupyter-widgets/base",
            "top": null,
            "grid_column": null,
            "overflow_y": null,
            "overflow_x": null,
            "grid_auto_flow": null,
            "grid_area": null,
            "grid_template_columns": null,
            "flex": null,
            "_model_name": "LayoutModel",
            "justify_items": null,
            "grid_row": null,
            "max_height": null,
            "align_content": null,
            "visibility": null,
            "align_self": null,
            "height": null,
            "min_height": null,
            "padding": null,
            "grid_auto_rows": null,
            "grid_gap": null,
            "max_width": null,
            "order": null,
            "_view_module_version": "1.2.0",
            "grid_template_areas": null,
            "object_position": null,
            "object_fit": null,
            "grid_auto_columns": null,
            "margin": null,
            "display": null,
            "left": null
          }
        },
        "2b39c01d98484cf8b795f433954f891b": {
          "model_module": "@jupyter-widgets/controls",
          "model_name": "FloatProgressModel",
          "state": {
            "_view_name": "ProgressView",
            "style": "IPY_MODEL_e69537ae4742471e9f72a1f5716aca1c",
            "_dom_classes": [],
            "description": "",
            "_model_name": "FloatProgressModel",
            "bar_style": "info",
            "max": 1,
            "_view_module": "@jupyter-widgets/controls",
            "_model_module_version": "1.5.0",
            "value": 1,
            "_view_count": null,
            "_view_module_version": "1.5.0",
            "orientation": "horizontal",
            "min": 0,
            "description_tooltip": null,
            "_model_module": "@jupyter-widgets/controls",
            "layout": "IPY_MODEL_3e79deb27f00474b8b8e420342c3dfaf"
          }
        },
        "14640d7fe87045d5b7472204cf6439b0": {
          "model_module": "@jupyter-widgets/controls",
          "model_name": "HTMLModel",
          "state": {
            "_view_name": "HTMLView",
            "style": "IPY_MODEL_2dc0737382004f34bdfec950cd0f21ad",
            "_dom_classes": [],
            "description": "",
            "_model_name": "HTMLModel",
            "placeholder": "​",
            "_view_module": "@jupyter-widgets/controls",
            "_model_module_version": "1.5.0",
            "value": " 8743/0 [00:00&lt;00:00, 13586.67 examples/s]",
            "_view_count": null,
            "_view_module_version": "1.5.0",
            "description_tooltip": null,
            "_model_module": "@jupyter-widgets/controls",
            "layout": "IPY_MODEL_2c554cf754c4477b962d208f3d4d2299"
          }
        },
        "e69537ae4742471e9f72a1f5716aca1c": {
          "model_module": "@jupyter-widgets/controls",
          "model_name": "ProgressStyleModel",
          "state": {
            "_view_name": "StyleView",
            "_model_name": "ProgressStyleModel",
            "description_width": "initial",
            "_view_module": "@jupyter-widgets/base",
            "_model_module_version": "1.5.0",
            "_view_count": null,
            "_view_module_version": "1.2.0",
            "bar_color": null,
            "_model_module": "@jupyter-widgets/controls"
          }
        },
        "3e79deb27f00474b8b8e420342c3dfaf": {
          "model_module": "@jupyter-widgets/base",
          "model_name": "LayoutModel",
          "state": {
            "_view_name": "LayoutView",
            "grid_template_rows": null,
            "right": null,
            "justify_content": null,
            "_view_module": "@jupyter-widgets/base",
            "overflow": null,
            "_model_module_version": "1.2.0",
            "_view_count": null,
            "flex_flow": null,
            "width": null,
            "min_width": null,
            "border": null,
            "align_items": null,
            "bottom": null,
            "_model_module": "@jupyter-widgets/base",
            "top": null,
            "grid_column": null,
            "overflow_y": null,
            "overflow_x": null,
            "grid_auto_flow": null,
            "grid_area": null,
            "grid_template_columns": null,
            "flex": null,
            "_model_name": "LayoutModel",
            "justify_items": null,
            "grid_row": null,
            "max_height": null,
            "align_content": null,
            "visibility": null,
            "align_self": null,
            "height": null,
            "min_height": null,
            "padding": null,
            "grid_auto_rows": null,
            "grid_gap": null,
            "max_width": null,
            "order": null,
            "_view_module_version": "1.2.0",
            "grid_template_areas": null,
            "object_position": null,
            "object_fit": null,
            "grid_auto_columns": null,
            "margin": null,
            "display": null,
            "left": null
          }
        },
        "2dc0737382004f34bdfec950cd0f21ad": {
          "model_module": "@jupyter-widgets/controls",
          "model_name": "DescriptionStyleModel",
          "state": {
            "_view_name": "StyleView",
            "_model_name": "DescriptionStyleModel",
            "description_width": "",
            "_view_module": "@jupyter-widgets/base",
            "_model_module_version": "1.5.0",
            "_view_count": null,
            "_view_module_version": "1.2.0",
            "_model_module": "@jupyter-widgets/controls"
          }
        },
        "2c554cf754c4477b962d208f3d4d2299": {
          "model_module": "@jupyter-widgets/base",
          "model_name": "LayoutModel",
          "state": {
            "_view_name": "LayoutView",
            "grid_template_rows": null,
            "right": null,
            "justify_content": null,
            "_view_module": "@jupyter-widgets/base",
            "overflow": null,
            "_model_module_version": "1.2.0",
            "_view_count": null,
            "flex_flow": null,
            "width": null,
            "min_width": null,
            "border": null,
            "align_items": null,
            "bottom": null,
            "_model_module": "@jupyter-widgets/base",
            "top": null,
            "grid_column": null,
            "overflow_y": null,
            "overflow_x": null,
            "grid_auto_flow": null,
            "grid_area": null,
            "grid_template_columns": null,
            "flex": null,
            "_model_name": "LayoutModel",
            "justify_items": null,
            "grid_row": null,
            "max_height": null,
            "align_content": null,
            "visibility": null,
            "align_self": null,
            "height": null,
            "min_height": null,
            "padding": null,
            "grid_auto_rows": null,
            "grid_gap": null,
            "max_width": null,
            "order": null,
            "_view_module_version": "1.2.0",
            "grid_template_areas": null,
            "object_position": null,
            "object_fit": null,
            "grid_auto_columns": null,
            "margin": null,
            "display": null,
            "left": null
          }
        },
        "aa4a332753bd4b40a431afbfd7e54b7d": {
          "model_module": "@jupyter-widgets/controls",
          "model_name": "HBoxModel",
          "state": {
            "_view_name": "HBoxView",
            "_dom_classes": [],
            "_model_name": "HBoxModel",
            "_view_module": "@jupyter-widgets/controls",
            "_model_module_version": "1.5.0",
            "_view_count": null,
            "_view_module_version": "1.5.0",
            "box_style": "",
            "layout": "IPY_MODEL_af434ee5ec774279a160760e74417c60",
            "_model_module": "@jupyter-widgets/controls",
            "children": [
              "IPY_MODEL_fdca1552104c4daeb0fe84d304fa6580",
              "IPY_MODEL_0664fd62522f4d359bef42c90a1c4c54"
            ]
          }
        },
        "af434ee5ec774279a160760e74417c60": {
          "model_module": "@jupyter-widgets/base",
          "model_name": "LayoutModel",
          "state": {
            "_view_name": "LayoutView",
            "grid_template_rows": null,
            "right": null,
            "justify_content": null,
            "_view_module": "@jupyter-widgets/base",
            "overflow": null,
            "_model_module_version": "1.2.0",
            "_view_count": null,
            "flex_flow": null,
            "width": null,
            "min_width": null,
            "border": null,
            "align_items": null,
            "bottom": null,
            "_model_module": "@jupyter-widgets/base",
            "top": null,
            "grid_column": null,
            "overflow_y": null,
            "overflow_x": null,
            "grid_auto_flow": null,
            "grid_area": null,
            "grid_template_columns": null,
            "flex": null,
            "_model_name": "LayoutModel",
            "justify_items": null,
            "grid_row": null,
            "max_height": null,
            "align_content": null,
            "visibility": null,
            "align_self": null,
            "height": null,
            "min_height": null,
            "padding": null,
            "grid_auto_rows": null,
            "grid_gap": null,
            "max_width": null,
            "order": null,
            "_view_module_version": "1.2.0",
            "grid_template_areas": null,
            "object_position": null,
            "object_fit": null,
            "grid_auto_columns": null,
            "margin": null,
            "display": null,
            "left": null
          }
        },
        "fdca1552104c4daeb0fe84d304fa6580": {
          "model_module": "@jupyter-widgets/controls",
          "model_name": "FloatProgressModel",
          "state": {
            "_view_name": "ProgressView",
            "style": "IPY_MODEL_35b2a323415e4b31af5b19cf33bca91f",
            "_dom_classes": [],
            "description": "",
            "_model_name": "FloatProgressModel",
            "bar_style": "info",
            "max": 1,
            "_view_module": "@jupyter-widgets/controls",
            "_model_module_version": "1.5.0",
            "value": 1,
            "_view_count": null,
            "_view_module_version": "1.5.0",
            "orientation": "horizontal",
            "min": 0,
            "description_tooltip": null,
            "_model_module": "@jupyter-widgets/controls",
            "layout": "IPY_MODEL_3593765a97d74d32b6fc2f3985e06cd2"
          }
        },
        "0664fd62522f4d359bef42c90a1c4c54": {
          "model_module": "@jupyter-widgets/controls",
          "model_name": "HTMLModel",
          "state": {
            "_view_name": "HTMLView",
            "style": "IPY_MODEL_cee033c070b445ccb2f240a5a41d02f7",
            "_dom_classes": [],
            "description": "",
            "_model_name": "HTMLModel",
            "placeholder": "​",
            "_view_module": "@jupyter-widgets/controls",
            "_model_module_version": "1.5.0",
            "value": " 8948/0 [00:00&lt;00:00, 13108.35 examples/s]",
            "_view_count": null,
            "_view_module_version": "1.5.0",
            "description_tooltip": null,
            "_model_module": "@jupyter-widgets/controls",
            "layout": "IPY_MODEL_b236d2f2237a4a4f98304ef6e37e0b5f"
          }
        },
        "35b2a323415e4b31af5b19cf33bca91f": {
          "model_module": "@jupyter-widgets/controls",
          "model_name": "ProgressStyleModel",
          "state": {
            "_view_name": "StyleView",
            "_model_name": "ProgressStyleModel",
            "description_width": "initial",
            "_view_module": "@jupyter-widgets/base",
            "_model_module_version": "1.5.0",
            "_view_count": null,
            "_view_module_version": "1.2.0",
            "bar_color": null,
            "_model_module": "@jupyter-widgets/controls"
          }
        },
        "3593765a97d74d32b6fc2f3985e06cd2": {
          "model_module": "@jupyter-widgets/base",
          "model_name": "LayoutModel",
          "state": {
            "_view_name": "LayoutView",
            "grid_template_rows": null,
            "right": null,
            "justify_content": null,
            "_view_module": "@jupyter-widgets/base",
            "overflow": null,
            "_model_module_version": "1.2.0",
            "_view_count": null,
            "flex_flow": null,
            "width": null,
            "min_width": null,
            "border": null,
            "align_items": null,
            "bottom": null,
            "_model_module": "@jupyter-widgets/base",
            "top": null,
            "grid_column": null,
            "overflow_y": null,
            "overflow_x": null,
            "grid_auto_flow": null,
            "grid_area": null,
            "grid_template_columns": null,
            "flex": null,
            "_model_name": "LayoutModel",
            "justify_items": null,
            "grid_row": null,
            "max_height": null,
            "align_content": null,
            "visibility": null,
            "align_self": null,
            "height": null,
            "min_height": null,
            "padding": null,
            "grid_auto_rows": null,
            "grid_gap": null,
            "max_width": null,
            "order": null,
            "_view_module_version": "1.2.0",
            "grid_template_areas": null,
            "object_position": null,
            "object_fit": null,
            "grid_auto_columns": null,
            "margin": null,
            "display": null,
            "left": null
          }
        },
        "cee033c070b445ccb2f240a5a41d02f7": {
          "model_module": "@jupyter-widgets/controls",
          "model_name": "DescriptionStyleModel",
          "state": {
            "_view_name": "StyleView",
            "_model_name": "DescriptionStyleModel",
            "description_width": "",
            "_view_module": "@jupyter-widgets/base",
            "_model_module_version": "1.5.0",
            "_view_count": null,
            "_view_module_version": "1.2.0",
            "_model_module": "@jupyter-widgets/controls"
          }
        },
        "b236d2f2237a4a4f98304ef6e37e0b5f": {
          "model_module": "@jupyter-widgets/base",
          "model_name": "LayoutModel",
          "state": {
            "_view_name": "LayoutView",
            "grid_template_rows": null,
            "right": null,
            "justify_content": null,
            "_view_module": "@jupyter-widgets/base",
            "overflow": null,
            "_model_module_version": "1.2.0",
            "_view_count": null,
            "flex_flow": null,
            "width": null,
            "min_width": null,
            "border": null,
            "align_items": null,
            "bottom": null,
            "_model_module": "@jupyter-widgets/base",
            "top": null,
            "grid_column": null,
            "overflow_y": null,
            "overflow_x": null,
            "grid_auto_flow": null,
            "grid_area": null,
            "grid_template_columns": null,
            "flex": null,
            "_model_name": "LayoutModel",
            "justify_items": null,
            "grid_row": null,
            "max_height": null,
            "align_content": null,
            "visibility": null,
            "align_self": null,
            "height": null,
            "min_height": null,
            "padding": null,
            "grid_auto_rows": null,
            "grid_gap": null,
            "max_width": null,
            "order": null,
            "_view_module_version": "1.2.0",
            "grid_template_areas": null,
            "object_position": null,
            "object_fit": null,
            "grid_auto_columns": null,
            "margin": null,
            "display": null,
            "left": null
          }
        },
        "c0698daebadb46759aba6fb7ce159307": {
          "model_module": "@jupyter-widgets/controls",
          "model_name": "HBoxModel",
          "state": {
            "_view_name": "HBoxView",
            "_dom_classes": [],
            "_model_name": "HBoxModel",
            "_view_module": "@jupyter-widgets/controls",
            "_model_module_version": "1.5.0",
            "_view_count": null,
            "_view_module_version": "1.5.0",
            "box_style": "",
            "layout": "IPY_MODEL_b98211c4f9b94d76be5c0d2fd5d55778",
            "_model_module": "@jupyter-widgets/controls",
            "children": [
              "IPY_MODEL_38bd0df93aba4b2eb84b99bcd22c9bbe",
              "IPY_MODEL_61fc35e601364fc199ad58fbf499ace9"
            ]
          }
        },
        "b98211c4f9b94d76be5c0d2fd5d55778": {
          "model_module": "@jupyter-widgets/base",
          "model_name": "LayoutModel",
          "state": {
            "_view_name": "LayoutView",
            "grid_template_rows": null,
            "right": null,
            "justify_content": null,
            "_view_module": "@jupyter-widgets/base",
            "overflow": null,
            "_model_module_version": "1.2.0",
            "_view_count": null,
            "flex_flow": null,
            "width": null,
            "min_width": null,
            "border": null,
            "align_items": null,
            "bottom": null,
            "_model_module": "@jupyter-widgets/base",
            "top": null,
            "grid_column": null,
            "overflow_y": null,
            "overflow_x": null,
            "grid_auto_flow": null,
            "grid_area": null,
            "grid_template_columns": null,
            "flex": null,
            "_model_name": "LayoutModel",
            "justify_items": null,
            "grid_row": null,
            "max_height": null,
            "align_content": null,
            "visibility": null,
            "align_self": null,
            "height": null,
            "min_height": null,
            "padding": null,
            "grid_auto_rows": null,
            "grid_gap": null,
            "max_width": null,
            "order": null,
            "_view_module_version": "1.2.0",
            "grid_template_areas": null,
            "object_position": null,
            "object_fit": null,
            "grid_auto_columns": null,
            "margin": null,
            "display": null,
            "left": null
          }
        },
        "38bd0df93aba4b2eb84b99bcd22c9bbe": {
          "model_module": "@jupyter-widgets/controls",
          "model_name": "FloatProgressModel",
          "state": {
            "_view_name": "ProgressView",
            "style": "IPY_MODEL_175600eeb4c14d60839a38e56a710811",
            "_dom_classes": [],
            "description": "",
            "_model_name": "FloatProgressModel",
            "bar_style": "info",
            "max": 1,
            "_view_module": "@jupyter-widgets/controls",
            "_model_module_version": "1.5.0",
            "value": 1,
            "_view_count": null,
            "_view_module_version": "1.5.0",
            "orientation": "horizontal",
            "min": 0,
            "description_tooltip": null,
            "_model_module": "@jupyter-widgets/controls",
            "layout": "IPY_MODEL_c3953bc8ecfa428895b58b907551b11d"
          }
        },
        "61fc35e601364fc199ad58fbf499ace9": {
          "model_module": "@jupyter-widgets/controls",
          "model_name": "HTMLModel",
          "state": {
            "_view_name": "HTMLView",
            "style": "IPY_MODEL_1c65a3869bad490a8315e0eff3b700dc",
            "_dom_classes": [],
            "description": "",
            "_model_name": "HTMLModel",
            "placeholder": "​",
            "_view_module": "@jupyter-widgets/controls",
            "_model_module_version": "1.5.0",
            "value": " 5305/0 [00:00&lt;00:00, 11069.59 examples/s]",
            "_view_count": null,
            "_view_module_version": "1.5.0",
            "description_tooltip": null,
            "_model_module": "@jupyter-widgets/controls",
            "layout": "IPY_MODEL_79b38ed5347f4f938239314198053eff"
          }
        },
        "175600eeb4c14d60839a38e56a710811": {
          "model_module": "@jupyter-widgets/controls",
          "model_name": "ProgressStyleModel",
          "state": {
            "_view_name": "StyleView",
            "_model_name": "ProgressStyleModel",
            "description_width": "initial",
            "_view_module": "@jupyter-widgets/base",
            "_model_module_version": "1.5.0",
            "_view_count": null,
            "_view_module_version": "1.2.0",
            "bar_color": null,
            "_model_module": "@jupyter-widgets/controls"
          }
        },
        "c3953bc8ecfa428895b58b907551b11d": {
          "model_module": "@jupyter-widgets/base",
          "model_name": "LayoutModel",
          "state": {
            "_view_name": "LayoutView",
            "grid_template_rows": null,
            "right": null,
            "justify_content": null,
            "_view_module": "@jupyter-widgets/base",
            "overflow": null,
            "_model_module_version": "1.2.0",
            "_view_count": null,
            "flex_flow": null,
            "width": null,
            "min_width": null,
            "border": null,
            "align_items": null,
            "bottom": null,
            "_model_module": "@jupyter-widgets/base",
            "top": null,
            "grid_column": null,
            "overflow_y": null,
            "overflow_x": null,
            "grid_auto_flow": null,
            "grid_area": null,
            "grid_template_columns": null,
            "flex": null,
            "_model_name": "LayoutModel",
            "justify_items": null,
            "grid_row": null,
            "max_height": null,
            "align_content": null,
            "visibility": null,
            "align_self": null,
            "height": null,
            "min_height": null,
            "padding": null,
            "grid_auto_rows": null,
            "grid_gap": null,
            "max_width": null,
            "order": null,
            "_view_module_version": "1.2.0",
            "grid_template_areas": null,
            "object_position": null,
            "object_fit": null,
            "grid_auto_columns": null,
            "margin": null,
            "display": null,
            "left": null
          }
        },
        "1c65a3869bad490a8315e0eff3b700dc": {
          "model_module": "@jupyter-widgets/controls",
          "model_name": "DescriptionStyleModel",
          "state": {
            "_view_name": "StyleView",
            "_model_name": "DescriptionStyleModel",
            "description_width": "",
            "_view_module": "@jupyter-widgets/base",
            "_model_module_version": "1.5.0",
            "_view_count": null,
            "_view_module_version": "1.2.0",
            "_model_module": "@jupyter-widgets/controls"
          }
        },
        "79b38ed5347f4f938239314198053eff": {
          "model_module": "@jupyter-widgets/base",
          "model_name": "LayoutModel",
          "state": {
            "_view_name": "LayoutView",
            "grid_template_rows": null,
            "right": null,
            "justify_content": null,
            "_view_module": "@jupyter-widgets/base",
            "overflow": null,
            "_model_module_version": "1.2.0",
            "_view_count": null,
            "flex_flow": null,
            "width": null,
            "min_width": null,
            "border": null,
            "align_items": null,
            "bottom": null,
            "_model_module": "@jupyter-widgets/base",
            "top": null,
            "grid_column": null,
            "overflow_y": null,
            "overflow_x": null,
            "grid_auto_flow": null,
            "grid_area": null,
            "grid_template_columns": null,
            "flex": null,
            "_model_name": "LayoutModel",
            "justify_items": null,
            "grid_row": null,
            "max_height": null,
            "align_content": null,
            "visibility": null,
            "align_self": null,
            "height": null,
            "min_height": null,
            "padding": null,
            "grid_auto_rows": null,
            "grid_gap": null,
            "max_width": null,
            "order": null,
            "_view_module_version": "1.2.0",
            "grid_template_areas": null,
            "object_position": null,
            "object_fit": null,
            "grid_auto_columns": null,
            "margin": null,
            "display": null,
            "left": null
          }
        },
        "a89b8694b17a478b9e1ba27726000b3b": {
          "model_module": "@jupyter-widgets/controls",
          "model_name": "HBoxModel",
          "state": {
            "_view_name": "HBoxView",
            "_dom_classes": [],
            "_model_name": "HBoxModel",
            "_view_module": "@jupyter-widgets/controls",
            "_model_module_version": "1.5.0",
            "_view_count": null,
            "_view_module_version": "1.5.0",
            "box_style": "",
            "layout": "IPY_MODEL_6494ac407a42451aa02cbda4080d5d28",
            "_model_module": "@jupyter-widgets/controls",
            "children": [
              "IPY_MODEL_b2790881621d4a5eadd2ebbfccede693",
              "IPY_MODEL_433b142a8e4b4d2c852f15065102b03f"
            ]
          }
        },
        "6494ac407a42451aa02cbda4080d5d28": {
          "model_module": "@jupyter-widgets/base",
          "model_name": "LayoutModel",
          "state": {
            "_view_name": "LayoutView",
            "grid_template_rows": null,
            "right": null,
            "justify_content": null,
            "_view_module": "@jupyter-widgets/base",
            "overflow": null,
            "_model_module_version": "1.2.0",
            "_view_count": null,
            "flex_flow": null,
            "width": null,
            "min_width": null,
            "border": null,
            "align_items": null,
            "bottom": null,
            "_model_module": "@jupyter-widgets/base",
            "top": null,
            "grid_column": null,
            "overflow_y": null,
            "overflow_x": null,
            "grid_auto_flow": null,
            "grid_area": null,
            "grid_template_columns": null,
            "flex": null,
            "_model_name": "LayoutModel",
            "justify_items": null,
            "grid_row": null,
            "max_height": null,
            "align_content": null,
            "visibility": null,
            "align_self": null,
            "height": null,
            "min_height": null,
            "padding": null,
            "grid_auto_rows": null,
            "grid_gap": null,
            "max_width": null,
            "order": null,
            "_view_module_version": "1.2.0",
            "grid_template_areas": null,
            "object_position": null,
            "object_fit": null,
            "grid_auto_columns": null,
            "margin": null,
            "display": null,
            "left": null
          }
        },
        "b2790881621d4a5eadd2ebbfccede693": {
          "model_module": "@jupyter-widgets/controls",
          "model_name": "FloatProgressModel",
          "state": {
            "_view_name": "ProgressView",
            "style": "IPY_MODEL_c386e082723547bba36d18fb9f29cd75",
            "_dom_classes": [],
            "description": "100%",
            "_model_name": "FloatProgressModel",
            "bar_style": "success",
            "max": 18541,
            "_view_module": "@jupyter-widgets/controls",
            "_model_module_version": "1.5.0",
            "value": 18541,
            "_view_count": null,
            "_view_module_version": "1.5.0",
            "orientation": "horizontal",
            "min": 0,
            "description_tooltip": null,
            "_model_module": "@jupyter-widgets/controls",
            "layout": "IPY_MODEL_7fc7081368da44cab25725c4d4d6afba"
          }
        },
        "433b142a8e4b4d2c852f15065102b03f": {
          "model_module": "@jupyter-widgets/controls",
          "model_name": "HTMLModel",
          "state": {
            "_view_name": "HTMLView",
            "style": "IPY_MODEL_43fe1121d60a4cc9a42b3c3a735511d1",
            "_dom_classes": [],
            "description": "",
            "_model_name": "HTMLModel",
            "placeholder": "​",
            "_view_module": "@jupyter-widgets/controls",
            "_model_module_version": "1.5.0",
            "value": " 18541/18541 [28:21&lt;00:00, 10.89ex/s]",
            "_view_count": null,
            "_view_module_version": "1.5.0",
            "description_tooltip": null,
            "_model_module": "@jupyter-widgets/controls",
            "layout": "IPY_MODEL_133e7782ae9a4e27a773e96a5f2a48c9"
          }
        },
        "c386e082723547bba36d18fb9f29cd75": {
          "model_module": "@jupyter-widgets/controls",
          "model_name": "ProgressStyleModel",
          "state": {
            "_view_name": "StyleView",
            "_model_name": "ProgressStyleModel",
            "description_width": "initial",
            "_view_module": "@jupyter-widgets/base",
            "_model_module_version": "1.5.0",
            "_view_count": null,
            "_view_module_version": "1.2.0",
            "bar_color": null,
            "_model_module": "@jupyter-widgets/controls"
          }
        },
        "7fc7081368da44cab25725c4d4d6afba": {
          "model_module": "@jupyter-widgets/base",
          "model_name": "LayoutModel",
          "state": {
            "_view_name": "LayoutView",
            "grid_template_rows": null,
            "right": null,
            "justify_content": null,
            "_view_module": "@jupyter-widgets/base",
            "overflow": null,
            "_model_module_version": "1.2.0",
            "_view_count": null,
            "flex_flow": null,
            "width": null,
            "min_width": null,
            "border": null,
            "align_items": null,
            "bottom": null,
            "_model_module": "@jupyter-widgets/base",
            "top": null,
            "grid_column": null,
            "overflow_y": null,
            "overflow_x": null,
            "grid_auto_flow": null,
            "grid_area": null,
            "grid_template_columns": null,
            "flex": null,
            "_model_name": "LayoutModel",
            "justify_items": null,
            "grid_row": null,
            "max_height": null,
            "align_content": null,
            "visibility": null,
            "align_self": null,
            "height": null,
            "min_height": null,
            "padding": null,
            "grid_auto_rows": null,
            "grid_gap": null,
            "max_width": null,
            "order": null,
            "_view_module_version": "1.2.0",
            "grid_template_areas": null,
            "object_position": null,
            "object_fit": null,
            "grid_auto_columns": null,
            "margin": null,
            "display": null,
            "left": null
          }
        },
        "43fe1121d60a4cc9a42b3c3a735511d1": {
          "model_module": "@jupyter-widgets/controls",
          "model_name": "DescriptionStyleModel",
          "state": {
            "_view_name": "StyleView",
            "_model_name": "DescriptionStyleModel",
            "description_width": "",
            "_view_module": "@jupyter-widgets/base",
            "_model_module_version": "1.5.0",
            "_view_count": null,
            "_view_module_version": "1.2.0",
            "_model_module": "@jupyter-widgets/controls"
          }
        },
        "133e7782ae9a4e27a773e96a5f2a48c9": {
          "model_module": "@jupyter-widgets/base",
          "model_name": "LayoutModel",
          "state": {
            "_view_name": "LayoutView",
            "grid_template_rows": null,
            "right": null,
            "justify_content": null,
            "_view_module": "@jupyter-widgets/base",
            "overflow": null,
            "_model_module_version": "1.2.0",
            "_view_count": null,
            "flex_flow": null,
            "width": null,
            "min_width": null,
            "border": null,
            "align_items": null,
            "bottom": null,
            "_model_module": "@jupyter-widgets/base",
            "top": null,
            "grid_column": null,
            "overflow_y": null,
            "overflow_x": null,
            "grid_auto_flow": null,
            "grid_area": null,
            "grid_template_columns": null,
            "flex": null,
            "_model_name": "LayoutModel",
            "justify_items": null,
            "grid_row": null,
            "max_height": null,
            "align_content": null,
            "visibility": null,
            "align_self": null,
            "height": null,
            "min_height": null,
            "padding": null,
            "grid_auto_rows": null,
            "grid_gap": null,
            "max_width": null,
            "order": null,
            "_view_module_version": "1.2.0",
            "grid_template_areas": null,
            "object_position": null,
            "object_fit": null,
            "grid_auto_columns": null,
            "margin": null,
            "display": null,
            "left": null
          }
        },
        "7a6b8f730d83406ebf03d30640814695": {
          "model_module": "@jupyter-widgets/controls",
          "model_name": "HBoxModel",
          "state": {
            "_view_name": "HBoxView",
            "_dom_classes": [],
            "_model_name": "HBoxModel",
            "_view_module": "@jupyter-widgets/controls",
            "_model_module_version": "1.5.0",
            "_view_count": null,
            "_view_module_version": "1.5.0",
            "box_style": "",
            "layout": "IPY_MODEL_4c3cfbec750843bd82dbf286bf16bb58",
            "_model_module": "@jupyter-widgets/controls",
            "children": [
              "IPY_MODEL_02591092f65a482a846e2cec5e2785e9",
              "IPY_MODEL_841ef501b17248e6b49a90aca3120f97"
            ]
          }
        },
        "4c3cfbec750843bd82dbf286bf16bb58": {
          "model_module": "@jupyter-widgets/base",
          "model_name": "LayoutModel",
          "state": {
            "_view_name": "LayoutView",
            "grid_template_rows": null,
            "right": null,
            "justify_content": null,
            "_view_module": "@jupyter-widgets/base",
            "overflow": null,
            "_model_module_version": "1.2.0",
            "_view_count": null,
            "flex_flow": null,
            "width": null,
            "min_width": null,
            "border": null,
            "align_items": null,
            "bottom": null,
            "_model_module": "@jupyter-widgets/base",
            "top": null,
            "grid_column": null,
            "overflow_y": null,
            "overflow_x": null,
            "grid_auto_flow": null,
            "grid_area": null,
            "grid_template_columns": null,
            "flex": null,
            "_model_name": "LayoutModel",
            "justify_items": null,
            "grid_row": null,
            "max_height": null,
            "align_content": null,
            "visibility": null,
            "align_self": null,
            "height": null,
            "min_height": null,
            "padding": null,
            "grid_auto_rows": null,
            "grid_gap": null,
            "max_width": null,
            "order": null,
            "_view_module_version": "1.2.0",
            "grid_template_areas": null,
            "object_position": null,
            "object_fit": null,
            "grid_auto_columns": null,
            "margin": null,
            "display": null,
            "left": null
          }
        },
        "02591092f65a482a846e2cec5e2785e9": {
          "model_module": "@jupyter-widgets/controls",
          "model_name": "FloatProgressModel",
          "state": {
            "_view_name": "ProgressView",
            "style": "IPY_MODEL_5eac0843ca1e41518ae14a61e71cb102",
            "_dom_classes": [],
            "description": "100%",
            "_model_name": "FloatProgressModel",
            "bar_style": "success",
            "max": 8760,
            "_view_module": "@jupyter-widgets/controls",
            "_model_module_version": "1.5.0",
            "value": 8760,
            "_view_count": null,
            "_view_module_version": "1.5.0",
            "orientation": "horizontal",
            "min": 0,
            "description_tooltip": null,
            "_model_module": "@jupyter-widgets/controls",
            "layout": "IPY_MODEL_c170f0ad252d42a5bc9cd0d5b139aba3"
          }
        },
        "841ef501b17248e6b49a90aca3120f97": {
          "model_module": "@jupyter-widgets/controls",
          "model_name": "HTMLModel",
          "state": {
            "_view_name": "HTMLView",
            "style": "IPY_MODEL_d186625d201c4da0b7f4429f6943ad0c",
            "_dom_classes": [],
            "description": "",
            "_model_name": "HTMLModel",
            "placeholder": "​",
            "_view_module": "@jupyter-widgets/controls",
            "_model_module_version": "1.5.0",
            "value": " 8760/8760 [28:19&lt;00:00,  5.15ex/s]",
            "_view_count": null,
            "_view_module_version": "1.5.0",
            "description_tooltip": null,
            "_model_module": "@jupyter-widgets/controls",
            "layout": "IPY_MODEL_f772a068ffec46459345db83036ead89"
          }
        },
        "5eac0843ca1e41518ae14a61e71cb102": {
          "model_module": "@jupyter-widgets/controls",
          "model_name": "ProgressStyleModel",
          "state": {
            "_view_name": "StyleView",
            "_model_name": "ProgressStyleModel",
            "description_width": "initial",
            "_view_module": "@jupyter-widgets/base",
            "_model_module_version": "1.5.0",
            "_view_count": null,
            "_view_module_version": "1.2.0",
            "bar_color": null,
            "_model_module": "@jupyter-widgets/controls"
          }
        },
        "c170f0ad252d42a5bc9cd0d5b139aba3": {
          "model_module": "@jupyter-widgets/base",
          "model_name": "LayoutModel",
          "state": {
            "_view_name": "LayoutView",
            "grid_template_rows": null,
            "right": null,
            "justify_content": null,
            "_view_module": "@jupyter-widgets/base",
            "overflow": null,
            "_model_module_version": "1.2.0",
            "_view_count": null,
            "flex_flow": null,
            "width": null,
            "min_width": null,
            "border": null,
            "align_items": null,
            "bottom": null,
            "_model_module": "@jupyter-widgets/base",
            "top": null,
            "grid_column": null,
            "overflow_y": null,
            "overflow_x": null,
            "grid_auto_flow": null,
            "grid_area": null,
            "grid_template_columns": null,
            "flex": null,
            "_model_name": "LayoutModel",
            "justify_items": null,
            "grid_row": null,
            "max_height": null,
            "align_content": null,
            "visibility": null,
            "align_self": null,
            "height": null,
            "min_height": null,
            "padding": null,
            "grid_auto_rows": null,
            "grid_gap": null,
            "max_width": null,
            "order": null,
            "_view_module_version": "1.2.0",
            "grid_template_areas": null,
            "object_position": null,
            "object_fit": null,
            "grid_auto_columns": null,
            "margin": null,
            "display": null,
            "left": null
          }
        },
        "d186625d201c4da0b7f4429f6943ad0c": {
          "model_module": "@jupyter-widgets/controls",
          "model_name": "DescriptionStyleModel",
          "state": {
            "_view_name": "StyleView",
            "_model_name": "DescriptionStyleModel",
            "description_width": "",
            "_view_module": "@jupyter-widgets/base",
            "_model_module_version": "1.5.0",
            "_view_count": null,
            "_view_module_version": "1.2.0",
            "_model_module": "@jupyter-widgets/controls"
          }
        },
        "f772a068ffec46459345db83036ead89": {
          "model_module": "@jupyter-widgets/base",
          "model_name": "LayoutModel",
          "state": {
            "_view_name": "LayoutView",
            "grid_template_rows": null,
            "right": null,
            "justify_content": null,
            "_view_module": "@jupyter-widgets/base",
            "overflow": null,
            "_model_module_version": "1.2.0",
            "_view_count": null,
            "flex_flow": null,
            "width": null,
            "min_width": null,
            "border": null,
            "align_items": null,
            "bottom": null,
            "_model_module": "@jupyter-widgets/base",
            "top": null,
            "grid_column": null,
            "overflow_y": null,
            "overflow_x": null,
            "grid_auto_flow": null,
            "grid_area": null,
            "grid_template_columns": null,
            "flex": null,
            "_model_name": "LayoutModel",
            "justify_items": null,
            "grid_row": null,
            "max_height": null,
            "align_content": null,
            "visibility": null,
            "align_self": null,
            "height": null,
            "min_height": null,
            "padding": null,
            "grid_auto_rows": null,
            "grid_gap": null,
            "max_width": null,
            "order": null,
            "_view_module_version": "1.2.0",
            "grid_template_areas": null,
            "object_position": null,
            "object_fit": null,
            "grid_auto_columns": null,
            "margin": null,
            "display": null,
            "left": null
          }
        },
        "828aa74cc2de4963812448e83e8a5078": {
          "model_module": "@jupyter-widgets/controls",
          "model_name": "HBoxModel",
          "state": {
            "_view_name": "HBoxView",
            "_dom_classes": [],
            "_model_name": "HBoxModel",
            "_view_module": "@jupyter-widgets/controls",
            "_model_module_version": "1.5.0",
            "_view_count": null,
            "_view_module_version": "1.5.0",
            "box_style": "",
            "layout": "IPY_MODEL_7a82b55b5b1540fa9095556b0b0e6891",
            "_model_module": "@jupyter-widgets/controls",
            "children": [
              "IPY_MODEL_fd8bb18fc7e54c64a1a413ad4514bb86",
              "IPY_MODEL_3ff0aef6b8094765856858db3aecd84e"
            ]
          }
        },
        "7a82b55b5b1540fa9095556b0b0e6891": {
          "model_module": "@jupyter-widgets/base",
          "model_name": "LayoutModel",
          "state": {
            "_view_name": "LayoutView",
            "grid_template_rows": null,
            "right": null,
            "justify_content": null,
            "_view_module": "@jupyter-widgets/base",
            "overflow": null,
            "_model_module_version": "1.2.0",
            "_view_count": null,
            "flex_flow": null,
            "width": null,
            "min_width": null,
            "border": null,
            "align_items": null,
            "bottom": null,
            "_model_module": "@jupyter-widgets/base",
            "top": null,
            "grid_column": null,
            "overflow_y": null,
            "overflow_x": null,
            "grid_auto_flow": null,
            "grid_area": null,
            "grid_template_columns": null,
            "flex": null,
            "_model_name": "LayoutModel",
            "justify_items": null,
            "grid_row": null,
            "max_height": null,
            "align_content": null,
            "visibility": null,
            "align_self": null,
            "height": null,
            "min_height": null,
            "padding": null,
            "grid_auto_rows": null,
            "grid_gap": null,
            "max_width": null,
            "order": null,
            "_view_module_version": "1.2.0",
            "grid_template_areas": null,
            "object_position": null,
            "object_fit": null,
            "grid_auto_columns": null,
            "margin": null,
            "display": null,
            "left": null
          }
        },
        "fd8bb18fc7e54c64a1a413ad4514bb86": {
          "model_module": "@jupyter-widgets/controls",
          "model_name": "FloatProgressModel",
          "state": {
            "_view_name": "ProgressView",
            "style": "IPY_MODEL_1e42f7dba1a1483dbca99f46427c4da9",
            "_dom_classes": [],
            "description": "100%",
            "_model_name": "FloatProgressModel",
            "bar_style": "success",
            "max": 19,
            "_view_module": "@jupyter-widgets/controls",
            "_model_module_version": "1.5.0",
            "value": 19,
            "_view_count": null,
            "_view_module_version": "1.5.0",
            "orientation": "horizontal",
            "min": 0,
            "description_tooltip": null,
            "_model_module": "@jupyter-widgets/controls",
            "layout": "IPY_MODEL_38c7a98c4ce94998b59a3c904e7c1ed3"
          }
        },
        "3ff0aef6b8094765856858db3aecd84e": {
          "model_module": "@jupyter-widgets/controls",
          "model_name": "HTMLModel",
          "state": {
            "_view_name": "HTMLView",
            "style": "IPY_MODEL_7fae86cd7e9349e8b462ec458d606b68",
            "_dom_classes": [],
            "description": "",
            "_model_name": "HTMLModel",
            "placeholder": "​",
            "_view_module": "@jupyter-widgets/controls",
            "_model_module_version": "1.5.0",
            "value": " 19/19 [00:00&lt;00:00, 23.04ba/s]",
            "_view_count": null,
            "_view_module_version": "1.5.0",
            "description_tooltip": null,
            "_model_module": "@jupyter-widgets/controls",
            "layout": "IPY_MODEL_d3c259bc19814234849a3c1a82ca3aee"
          }
        },
        "1e42f7dba1a1483dbca99f46427c4da9": {
          "model_module": "@jupyter-widgets/controls",
          "model_name": "ProgressStyleModel",
          "state": {
            "_view_name": "StyleView",
            "_model_name": "ProgressStyleModel",
            "description_width": "initial",
            "_view_module": "@jupyter-widgets/base",
            "_model_module_version": "1.5.0",
            "_view_count": null,
            "_view_module_version": "1.2.0",
            "bar_color": null,
            "_model_module": "@jupyter-widgets/controls"
          }
        },
        "38c7a98c4ce94998b59a3c904e7c1ed3": {
          "model_module": "@jupyter-widgets/base",
          "model_name": "LayoutModel",
          "state": {
            "_view_name": "LayoutView",
            "grid_template_rows": null,
            "right": null,
            "justify_content": null,
            "_view_module": "@jupyter-widgets/base",
            "overflow": null,
            "_model_module_version": "1.2.0",
            "_view_count": null,
            "flex_flow": null,
            "width": null,
            "min_width": null,
            "border": null,
            "align_items": null,
            "bottom": null,
            "_model_module": "@jupyter-widgets/base",
            "top": null,
            "grid_column": null,
            "overflow_y": null,
            "overflow_x": null,
            "grid_auto_flow": null,
            "grid_area": null,
            "grid_template_columns": null,
            "flex": null,
            "_model_name": "LayoutModel",
            "justify_items": null,
            "grid_row": null,
            "max_height": null,
            "align_content": null,
            "visibility": null,
            "align_self": null,
            "height": null,
            "min_height": null,
            "padding": null,
            "grid_auto_rows": null,
            "grid_gap": null,
            "max_width": null,
            "order": null,
            "_view_module_version": "1.2.0",
            "grid_template_areas": null,
            "object_position": null,
            "object_fit": null,
            "grid_auto_columns": null,
            "margin": null,
            "display": null,
            "left": null
          }
        },
        "7fae86cd7e9349e8b462ec458d606b68": {
          "model_module": "@jupyter-widgets/controls",
          "model_name": "DescriptionStyleModel",
          "state": {
            "_view_name": "StyleView",
            "_model_name": "DescriptionStyleModel",
            "description_width": "",
            "_view_module": "@jupyter-widgets/base",
            "_model_module_version": "1.5.0",
            "_view_count": null,
            "_view_module_version": "1.2.0",
            "_model_module": "@jupyter-widgets/controls"
          }
        },
        "d3c259bc19814234849a3c1a82ca3aee": {
          "model_module": "@jupyter-widgets/base",
          "model_name": "LayoutModel",
          "state": {
            "_view_name": "LayoutView",
            "grid_template_rows": null,
            "right": null,
            "justify_content": null,
            "_view_module": "@jupyter-widgets/base",
            "overflow": null,
            "_model_module_version": "1.2.0",
            "_view_count": null,
            "flex_flow": null,
            "width": null,
            "min_width": null,
            "border": null,
            "align_items": null,
            "bottom": null,
            "_model_module": "@jupyter-widgets/base",
            "top": null,
            "grid_column": null,
            "overflow_y": null,
            "overflow_x": null,
            "grid_auto_flow": null,
            "grid_area": null,
            "grid_template_columns": null,
            "flex": null,
            "_model_name": "LayoutModel",
            "justify_items": null,
            "grid_row": null,
            "max_height": null,
            "align_content": null,
            "visibility": null,
            "align_self": null,
            "height": null,
            "min_height": null,
            "padding": null,
            "grid_auto_rows": null,
            "grid_gap": null,
            "max_width": null,
            "order": null,
            "_view_module_version": "1.2.0",
            "grid_template_areas": null,
            "object_position": null,
            "object_fit": null,
            "grid_auto_columns": null,
            "margin": null,
            "display": null,
            "left": null
          }
        },
        "234adbc8cde14f35b47c89b64a493bc3": {
          "model_module": "@jupyter-widgets/controls",
          "model_name": "HBoxModel",
          "state": {
            "_view_name": "HBoxView",
            "_dom_classes": [],
            "_model_name": "HBoxModel",
            "_view_module": "@jupyter-widgets/controls",
            "_model_module_version": "1.5.0",
            "_view_count": null,
            "_view_module_version": "1.5.0",
            "box_style": "",
            "layout": "IPY_MODEL_64485ba1bedd435babee21d9e5c774c8",
            "_model_module": "@jupyter-widgets/controls",
            "children": [
              "IPY_MODEL_8652febf507d4446b611f4d5779a55bd",
              "IPY_MODEL_ba062d5a79af4335ac07ce0a71356556"
            ]
          }
        },
        "64485ba1bedd435babee21d9e5c774c8": {
          "model_module": "@jupyter-widgets/base",
          "model_name": "LayoutModel",
          "state": {
            "_view_name": "LayoutView",
            "grid_template_rows": null,
            "right": null,
            "justify_content": null,
            "_view_module": "@jupyter-widgets/base",
            "overflow": null,
            "_model_module_version": "1.2.0",
            "_view_count": null,
            "flex_flow": null,
            "width": null,
            "min_width": null,
            "border": null,
            "align_items": null,
            "bottom": null,
            "_model_module": "@jupyter-widgets/base",
            "top": null,
            "grid_column": null,
            "overflow_y": null,
            "overflow_x": null,
            "grid_auto_flow": null,
            "grid_area": null,
            "grid_template_columns": null,
            "flex": null,
            "_model_name": "LayoutModel",
            "justify_items": null,
            "grid_row": null,
            "max_height": null,
            "align_content": null,
            "visibility": null,
            "align_self": null,
            "height": null,
            "min_height": null,
            "padding": null,
            "grid_auto_rows": null,
            "grid_gap": null,
            "max_width": null,
            "order": null,
            "_view_module_version": "1.2.0",
            "grid_template_areas": null,
            "object_position": null,
            "object_fit": null,
            "grid_auto_columns": null,
            "margin": null,
            "display": null,
            "left": null
          }
        },
        "8652febf507d4446b611f4d5779a55bd": {
          "model_module": "@jupyter-widgets/controls",
          "model_name": "FloatProgressModel",
          "state": {
            "_view_name": "ProgressView",
            "style": "IPY_MODEL_b8c4a2df363241dd8d0b962d352588cf",
            "_dom_classes": [],
            "description": "100%",
            "_model_name": "FloatProgressModel",
            "bar_style": "success",
            "max": 9,
            "_view_module": "@jupyter-widgets/controls",
            "_model_module_version": "1.5.0",
            "value": 9,
            "_view_count": null,
            "_view_module_version": "1.5.0",
            "orientation": "horizontal",
            "min": 0,
            "description_tooltip": null,
            "_model_module": "@jupyter-widgets/controls",
            "layout": "IPY_MODEL_b33dca09635043bcada4d86eb8677522"
          }
        },
        "ba062d5a79af4335ac07ce0a71356556": {
          "model_module": "@jupyter-widgets/controls",
          "model_name": "HTMLModel",
          "state": {
            "_view_name": "HTMLView",
            "style": "IPY_MODEL_df9cd92c6e8945e18ff981c20991d295",
            "_dom_classes": [],
            "description": "",
            "_model_name": "HTMLModel",
            "placeholder": "​",
            "_view_module": "@jupyter-widgets/controls",
            "_model_module_version": "1.5.0",
            "value": " 9/9 [01:54&lt;00:00, 12.67s/ba]",
            "_view_count": null,
            "_view_module_version": "1.5.0",
            "description_tooltip": null,
            "_model_module": "@jupyter-widgets/controls",
            "layout": "IPY_MODEL_d9202b3b769e4536ab98bbe3933fda45"
          }
        },
        "b8c4a2df363241dd8d0b962d352588cf": {
          "model_module": "@jupyter-widgets/controls",
          "model_name": "ProgressStyleModel",
          "state": {
            "_view_name": "StyleView",
            "_model_name": "ProgressStyleModel",
            "description_width": "initial",
            "_view_module": "@jupyter-widgets/base",
            "_model_module_version": "1.5.0",
            "_view_count": null,
            "_view_module_version": "1.2.0",
            "bar_color": null,
            "_model_module": "@jupyter-widgets/controls"
          }
        },
        "b33dca09635043bcada4d86eb8677522": {
          "model_module": "@jupyter-widgets/base",
          "model_name": "LayoutModel",
          "state": {
            "_view_name": "LayoutView",
            "grid_template_rows": null,
            "right": null,
            "justify_content": null,
            "_view_module": "@jupyter-widgets/base",
            "overflow": null,
            "_model_module_version": "1.2.0",
            "_view_count": null,
            "flex_flow": null,
            "width": null,
            "min_width": null,
            "border": null,
            "align_items": null,
            "bottom": null,
            "_model_module": "@jupyter-widgets/base",
            "top": null,
            "grid_column": null,
            "overflow_y": null,
            "overflow_x": null,
            "grid_auto_flow": null,
            "grid_area": null,
            "grid_template_columns": null,
            "flex": null,
            "_model_name": "LayoutModel",
            "justify_items": null,
            "grid_row": null,
            "max_height": null,
            "align_content": null,
            "visibility": null,
            "align_self": null,
            "height": null,
            "min_height": null,
            "padding": null,
            "grid_auto_rows": null,
            "grid_gap": null,
            "max_width": null,
            "order": null,
            "_view_module_version": "1.2.0",
            "grid_template_areas": null,
            "object_position": null,
            "object_fit": null,
            "grid_auto_columns": null,
            "margin": null,
            "display": null,
            "left": null
          }
        },
        "df9cd92c6e8945e18ff981c20991d295": {
          "model_module": "@jupyter-widgets/controls",
          "model_name": "DescriptionStyleModel",
          "state": {
            "_view_name": "StyleView",
            "_model_name": "DescriptionStyleModel",
            "description_width": "",
            "_view_module": "@jupyter-widgets/base",
            "_model_module_version": "1.5.0",
            "_view_count": null,
            "_view_module_version": "1.2.0",
            "_model_module": "@jupyter-widgets/controls"
          }
        },
        "d9202b3b769e4536ab98bbe3933fda45": {
          "model_module": "@jupyter-widgets/base",
          "model_name": "LayoutModel",
          "state": {
            "_view_name": "LayoutView",
            "grid_template_rows": null,
            "right": null,
            "justify_content": null,
            "_view_module": "@jupyter-widgets/base",
            "overflow": null,
            "_model_module_version": "1.2.0",
            "_view_count": null,
            "flex_flow": null,
            "width": null,
            "min_width": null,
            "border": null,
            "align_items": null,
            "bottom": null,
            "_model_module": "@jupyter-widgets/base",
            "top": null,
            "grid_column": null,
            "overflow_y": null,
            "overflow_x": null,
            "grid_auto_flow": null,
            "grid_area": null,
            "grid_template_columns": null,
            "flex": null,
            "_model_name": "LayoutModel",
            "justify_items": null,
            "grid_row": null,
            "max_height": null,
            "align_content": null,
            "visibility": null,
            "align_self": null,
            "height": null,
            "min_height": null,
            "padding": null,
            "grid_auto_rows": null,
            "grid_gap": null,
            "max_width": null,
            "order": null,
            "_view_module_version": "1.2.0",
            "grid_template_areas": null,
            "object_position": null,
            "object_fit": null,
            "grid_auto_columns": null,
            "margin": null,
            "display": null,
            "left": null
          }
        },
        "59d745e10c564a568c7fba4256bb0334": {
          "model_module": "@jupyter-widgets/controls",
          "model_name": "HBoxModel",
          "state": {
            "_view_name": "HBoxView",
            "_dom_classes": [],
            "_model_name": "HBoxModel",
            "_view_module": "@jupyter-widgets/controls",
            "_model_module_version": "1.5.0",
            "_view_count": null,
            "_view_module_version": "1.5.0",
            "box_style": "",
            "layout": "IPY_MODEL_c8dfea55ff28429ea97f14ed28533660",
            "_model_module": "@jupyter-widgets/controls",
            "children": [
              "IPY_MODEL_dc3267429615434292c9934d28c32fc3",
              "IPY_MODEL_b914e57018f74f58a29faca77248fbae"
            ]
          }
        },
        "c8dfea55ff28429ea97f14ed28533660": {
          "model_module": "@jupyter-widgets/base",
          "model_name": "LayoutModel",
          "state": {
            "_view_name": "LayoutView",
            "grid_template_rows": null,
            "right": null,
            "justify_content": null,
            "_view_module": "@jupyter-widgets/base",
            "overflow": null,
            "_model_module_version": "1.2.0",
            "_view_count": null,
            "flex_flow": null,
            "width": null,
            "min_width": null,
            "border": null,
            "align_items": null,
            "bottom": null,
            "_model_module": "@jupyter-widgets/base",
            "top": null,
            "grid_column": null,
            "overflow_y": null,
            "overflow_x": null,
            "grid_auto_flow": null,
            "grid_area": null,
            "grid_template_columns": null,
            "flex": null,
            "_model_name": "LayoutModel",
            "justify_items": null,
            "grid_row": null,
            "max_height": null,
            "align_content": null,
            "visibility": null,
            "align_self": null,
            "height": null,
            "min_height": null,
            "padding": null,
            "grid_auto_rows": null,
            "grid_gap": null,
            "max_width": null,
            "order": null,
            "_view_module_version": "1.2.0",
            "grid_template_areas": null,
            "object_position": null,
            "object_fit": null,
            "grid_auto_columns": null,
            "margin": null,
            "display": null,
            "left": null
          }
        },
        "dc3267429615434292c9934d28c32fc3": {
          "model_module": "@jupyter-widgets/controls",
          "model_name": "FloatProgressModel",
          "state": {
            "_view_name": "ProgressView",
            "style": "IPY_MODEL_17b6ae0424404fafa53adaa05b6e3134",
            "_dom_classes": [],
            "description": "100%",
            "_model_name": "FloatProgressModel",
            "bar_style": "success",
            "max": 6718,
            "_view_module": "@jupyter-widgets/controls",
            "_model_module_version": "1.5.0",
            "value": 6718,
            "_view_count": null,
            "_view_module_version": "1.5.0",
            "orientation": "horizontal",
            "min": 0,
            "description_tooltip": null,
            "_model_module": "@jupyter-widgets/controls",
            "layout": "IPY_MODEL_e8ad38b845b84a2aa11d849ab87659b0"
          }
        },
        "b914e57018f74f58a29faca77248fbae": {
          "model_module": "@jupyter-widgets/controls",
          "model_name": "HTMLModel",
          "state": {
            "_view_name": "HTMLView",
            "style": "IPY_MODEL_1cb6611029bb4c1790f3901ba434d802",
            "_dom_classes": [],
            "description": "",
            "_model_name": "HTMLModel",
            "placeholder": "​",
            "_view_module": "@jupyter-widgets/controls",
            "_model_module_version": "1.5.0",
            "value": " 6718/6718 [00:01&lt;00:00, 4810.57ba/s]",
            "_view_count": null,
            "_view_module_version": "1.5.0",
            "description_tooltip": null,
            "_model_module": "@jupyter-widgets/controls",
            "layout": "IPY_MODEL_08b85874dabf4feba5a92c97df8e63ef"
          }
        },
        "17b6ae0424404fafa53adaa05b6e3134": {
          "model_module": "@jupyter-widgets/controls",
          "model_name": "ProgressStyleModel",
          "state": {
            "_view_name": "StyleView",
            "_model_name": "ProgressStyleModel",
            "description_width": "initial",
            "_view_module": "@jupyter-widgets/base",
            "_model_module_version": "1.5.0",
            "_view_count": null,
            "_view_module_version": "1.2.0",
            "bar_color": null,
            "_model_module": "@jupyter-widgets/controls"
          }
        },
        "e8ad38b845b84a2aa11d849ab87659b0": {
          "model_module": "@jupyter-widgets/base",
          "model_name": "LayoutModel",
          "state": {
            "_view_name": "LayoutView",
            "grid_template_rows": null,
            "right": null,
            "justify_content": null,
            "_view_module": "@jupyter-widgets/base",
            "overflow": null,
            "_model_module_version": "1.2.0",
            "_view_count": null,
            "flex_flow": null,
            "width": null,
            "min_width": null,
            "border": null,
            "align_items": null,
            "bottom": null,
            "_model_module": "@jupyter-widgets/base",
            "top": null,
            "grid_column": null,
            "overflow_y": null,
            "overflow_x": null,
            "grid_auto_flow": null,
            "grid_area": null,
            "grid_template_columns": null,
            "flex": null,
            "_model_name": "LayoutModel",
            "justify_items": null,
            "grid_row": null,
            "max_height": null,
            "align_content": null,
            "visibility": null,
            "align_self": null,
            "height": null,
            "min_height": null,
            "padding": null,
            "grid_auto_rows": null,
            "grid_gap": null,
            "max_width": null,
            "order": null,
            "_view_module_version": "1.2.0",
            "grid_template_areas": null,
            "object_position": null,
            "object_fit": null,
            "grid_auto_columns": null,
            "margin": null,
            "display": null,
            "left": null
          }
        },
        "1cb6611029bb4c1790f3901ba434d802": {
          "model_module": "@jupyter-widgets/controls",
          "model_name": "DescriptionStyleModel",
          "state": {
            "_view_name": "StyleView",
            "_model_name": "DescriptionStyleModel",
            "description_width": "",
            "_view_module": "@jupyter-widgets/base",
            "_model_module_version": "1.5.0",
            "_view_count": null,
            "_view_module_version": "1.2.0",
            "_model_module": "@jupyter-widgets/controls"
          }
        },
        "08b85874dabf4feba5a92c97df8e63ef": {
          "model_module": "@jupyter-widgets/base",
          "model_name": "LayoutModel",
          "state": {
            "_view_name": "LayoutView",
            "grid_template_rows": null,
            "right": null,
            "justify_content": null,
            "_view_module": "@jupyter-widgets/base",
            "overflow": null,
            "_model_module_version": "1.2.0",
            "_view_count": null,
            "flex_flow": null,
            "width": null,
            "min_width": null,
            "border": null,
            "align_items": null,
            "bottom": null,
            "_model_module": "@jupyter-widgets/base",
            "top": null,
            "grid_column": null,
            "overflow_y": null,
            "overflow_x": null,
            "grid_auto_flow": null,
            "grid_area": null,
            "grid_template_columns": null,
            "flex": null,
            "_model_name": "LayoutModel",
            "justify_items": null,
            "grid_row": null,
            "max_height": null,
            "align_content": null,
            "visibility": null,
            "align_self": null,
            "height": null,
            "min_height": null,
            "padding": null,
            "grid_auto_rows": null,
            "grid_gap": null,
            "max_width": null,
            "order": null,
            "_view_module_version": "1.2.0",
            "grid_template_areas": null,
            "object_position": null,
            "object_fit": null,
            "grid_auto_columns": null,
            "margin": null,
            "display": null,
            "left": null
          }
        },
        "3828866d651545469f01566b5d055a82": {
          "model_module": "@jupyter-widgets/controls",
          "model_name": "HBoxModel",
          "state": {
            "_view_name": "HBoxView",
            "_dom_classes": [],
            "_model_name": "HBoxModel",
            "_view_module": "@jupyter-widgets/controls",
            "_model_module_version": "1.5.0",
            "_view_count": null,
            "_view_module_version": "1.5.0",
            "box_style": "",
            "layout": "IPY_MODEL_7c08120a22f449e2b4d75fe61bb0fb7a",
            "_model_module": "@jupyter-widgets/controls",
            "children": [
              "IPY_MODEL_008c121d11d14c77aaa4f2e8b34a5403",
              "IPY_MODEL_fa974c0a38364261ba62112537a117e8"
            ]
          }
        },
        "7c08120a22f449e2b4d75fe61bb0fb7a": {
          "model_module": "@jupyter-widgets/base",
          "model_name": "LayoutModel",
          "state": {
            "_view_name": "LayoutView",
            "grid_template_rows": null,
            "right": null,
            "justify_content": null,
            "_view_module": "@jupyter-widgets/base",
            "overflow": null,
            "_model_module_version": "1.2.0",
            "_view_count": null,
            "flex_flow": null,
            "width": null,
            "min_width": null,
            "border": null,
            "align_items": null,
            "bottom": null,
            "_model_module": "@jupyter-widgets/base",
            "top": null,
            "grid_column": null,
            "overflow_y": null,
            "overflow_x": null,
            "grid_auto_flow": null,
            "grid_area": null,
            "grid_template_columns": null,
            "flex": null,
            "_model_name": "LayoutModel",
            "justify_items": null,
            "grid_row": null,
            "max_height": null,
            "align_content": null,
            "visibility": null,
            "align_self": null,
            "height": null,
            "min_height": null,
            "padding": null,
            "grid_auto_rows": null,
            "grid_gap": null,
            "max_width": null,
            "order": null,
            "_view_module_version": "1.2.0",
            "grid_template_areas": null,
            "object_position": null,
            "object_fit": null,
            "grid_auto_columns": null,
            "margin": null,
            "display": null,
            "left": null
          }
        },
        "008c121d11d14c77aaa4f2e8b34a5403": {
          "model_module": "@jupyter-widgets/controls",
          "model_name": "FloatProgressModel",
          "state": {
            "_view_name": "ProgressView",
            "style": "IPY_MODEL_050836faf70b433d81b93c1cbd8ffb3b",
            "_dom_classes": [],
            "description": "100%",
            "_model_name": "FloatProgressModel",
            "bar_style": "success",
            "max": 2150,
            "_view_module": "@jupyter-widgets/controls",
            "_model_module_version": "1.5.0",
            "value": 2150,
            "_view_count": null,
            "_view_module_version": "1.5.0",
            "orientation": "horizontal",
            "min": 0,
            "description_tooltip": null,
            "_model_module": "@jupyter-widgets/controls",
            "layout": "IPY_MODEL_533d1b09e0f9460392925c7a7f0b6457"
          }
        },
        "fa974c0a38364261ba62112537a117e8": {
          "model_module": "@jupyter-widgets/controls",
          "model_name": "HTMLModel",
          "state": {
            "_view_name": "HTMLView",
            "style": "IPY_MODEL_c56db221bf0e49688315d85b32551b84",
            "_dom_classes": [],
            "description": "",
            "_model_name": "HTMLModel",
            "placeholder": "​",
            "_view_module": "@jupyter-widgets/controls",
            "_model_module_version": "1.5.0",
            "value": " 2150/2150 [00:03&lt;00:00, 690.17ba/s]",
            "_view_count": null,
            "_view_module_version": "1.5.0",
            "description_tooltip": null,
            "_model_module": "@jupyter-widgets/controls",
            "layout": "IPY_MODEL_92598b95ffa04a028b351fa61df2875a"
          }
        },
        "050836faf70b433d81b93c1cbd8ffb3b": {
          "model_module": "@jupyter-widgets/controls",
          "model_name": "ProgressStyleModel",
          "state": {
            "_view_name": "StyleView",
            "_model_name": "ProgressStyleModel",
            "description_width": "initial",
            "_view_module": "@jupyter-widgets/base",
            "_model_module_version": "1.5.0",
            "_view_count": null,
            "_view_module_version": "1.2.0",
            "bar_color": null,
            "_model_module": "@jupyter-widgets/controls"
          }
        },
        "533d1b09e0f9460392925c7a7f0b6457": {
          "model_module": "@jupyter-widgets/base",
          "model_name": "LayoutModel",
          "state": {
            "_view_name": "LayoutView",
            "grid_template_rows": null,
            "right": null,
            "justify_content": null,
            "_view_module": "@jupyter-widgets/base",
            "overflow": null,
            "_model_module_version": "1.2.0",
            "_view_count": null,
            "flex_flow": null,
            "width": null,
            "min_width": null,
            "border": null,
            "align_items": null,
            "bottom": null,
            "_model_module": "@jupyter-widgets/base",
            "top": null,
            "grid_column": null,
            "overflow_y": null,
            "overflow_x": null,
            "grid_auto_flow": null,
            "grid_area": null,
            "grid_template_columns": null,
            "flex": null,
            "_model_name": "LayoutModel",
            "justify_items": null,
            "grid_row": null,
            "max_height": null,
            "align_content": null,
            "visibility": null,
            "align_self": null,
            "height": null,
            "min_height": null,
            "padding": null,
            "grid_auto_rows": null,
            "grid_gap": null,
            "max_width": null,
            "order": null,
            "_view_module_version": "1.2.0",
            "grid_template_areas": null,
            "object_position": null,
            "object_fit": null,
            "grid_auto_columns": null,
            "margin": null,
            "display": null,
            "left": null
          }
        },
        "c56db221bf0e49688315d85b32551b84": {
          "model_module": "@jupyter-widgets/controls",
          "model_name": "DescriptionStyleModel",
          "state": {
            "_view_name": "StyleView",
            "_model_name": "DescriptionStyleModel",
            "description_width": "",
            "_view_module": "@jupyter-widgets/base",
            "_model_module_version": "1.5.0",
            "_view_count": null,
            "_view_module_version": "1.2.0",
            "_model_module": "@jupyter-widgets/controls"
          }
        },
        "92598b95ffa04a028b351fa61df2875a": {
          "model_module": "@jupyter-widgets/base",
          "model_name": "LayoutModel",
          "state": {
            "_view_name": "LayoutView",
            "grid_template_rows": null,
            "right": null,
            "justify_content": null,
            "_view_module": "@jupyter-widgets/base",
            "overflow": null,
            "_model_module_version": "1.2.0",
            "_view_count": null,
            "flex_flow": null,
            "width": null,
            "min_width": null,
            "border": null,
            "align_items": null,
            "bottom": null,
            "_model_module": "@jupyter-widgets/base",
            "top": null,
            "grid_column": null,
            "overflow_y": null,
            "overflow_x": null,
            "grid_auto_flow": null,
            "grid_area": null,
            "grid_template_columns": null,
            "flex": null,
            "_model_name": "LayoutModel",
            "justify_items": null,
            "grid_row": null,
            "max_height": null,
            "align_content": null,
            "visibility": null,
            "align_self": null,
            "height": null,
            "min_height": null,
            "padding": null,
            "grid_auto_rows": null,
            "grid_gap": null,
            "max_width": null,
            "order": null,
            "_view_module_version": "1.2.0",
            "grid_template_areas": null,
            "object_position": null,
            "object_fit": null,
            "grid_auto_columns": null,
            "margin": null,
            "display": null,
            "left": null
          }
        },
        "651f06d71cc944f39e036b861fa13ce5": {
          "model_module": "@jupyter-widgets/controls",
          "model_name": "HBoxModel",
          "state": {
            "_view_name": "HBoxView",
            "_dom_classes": [],
            "_model_name": "HBoxModel",
            "_view_module": "@jupyter-widgets/controls",
            "_model_module_version": "1.5.0",
            "_view_count": null,
            "_view_module_version": "1.5.0",
            "box_style": "",
            "layout": "IPY_MODEL_073c5ecb8f1f44c48a5401eb713aa613",
            "_model_module": "@jupyter-widgets/controls",
            "children": [
              "IPY_MODEL_5175098dab5e4bb398e527d26b2e9c88",
              "IPY_MODEL_00dadc3c17c641b5b1a266660d3353de"
            ]
          }
        },
        "073c5ecb8f1f44c48a5401eb713aa613": {
          "model_module": "@jupyter-widgets/base",
          "model_name": "LayoutModel",
          "state": {
            "_view_name": "LayoutView",
            "grid_template_rows": null,
            "right": null,
            "justify_content": null,
            "_view_module": "@jupyter-widgets/base",
            "overflow": null,
            "_model_module_version": "1.2.0",
            "_view_count": null,
            "flex_flow": null,
            "width": null,
            "min_width": null,
            "border": null,
            "align_items": null,
            "bottom": null,
            "_model_module": "@jupyter-widgets/base",
            "top": null,
            "grid_column": null,
            "overflow_y": null,
            "overflow_x": null,
            "grid_auto_flow": null,
            "grid_area": null,
            "grid_template_columns": null,
            "flex": null,
            "_model_name": "LayoutModel",
            "justify_items": null,
            "grid_row": null,
            "max_height": null,
            "align_content": null,
            "visibility": null,
            "align_self": null,
            "height": null,
            "min_height": null,
            "padding": null,
            "grid_auto_rows": null,
            "grid_gap": null,
            "max_width": null,
            "order": null,
            "_view_module_version": "1.2.0",
            "grid_template_areas": null,
            "object_position": null,
            "object_fit": null,
            "grid_auto_columns": null,
            "margin": null,
            "display": null,
            "left": null
          }
        },
        "5175098dab5e4bb398e527d26b2e9c88": {
          "model_module": "@jupyter-widgets/controls",
          "model_name": "FloatProgressModel",
          "state": {
            "_view_name": "ProgressView",
            "style": "IPY_MODEL_c10277e586414595951169f647d4f3c6",
            "_dom_classes": [],
            "description": "100%",
            "_model_name": "FloatProgressModel",
            "bar_style": "success",
            "max": 4457,
            "_view_module": "@jupyter-widgets/controls",
            "_model_module_version": "1.5.0",
            "value": 4457,
            "_view_count": null,
            "_view_module_version": "1.5.0",
            "orientation": "horizontal",
            "min": 0,
            "description_tooltip": null,
            "_model_module": "@jupyter-widgets/controls",
            "layout": "IPY_MODEL_65fc7987ded543e3b9d82e4def6e8a24"
          }
        },
        "00dadc3c17c641b5b1a266660d3353de": {
          "model_module": "@jupyter-widgets/controls",
          "model_name": "HTMLModel",
          "state": {
            "_view_name": "HTMLView",
            "style": "IPY_MODEL_126f0e2536954be59cfc2b5510c3d28a",
            "_dom_classes": [],
            "description": "",
            "_model_name": "HTMLModel",
            "placeholder": "​",
            "_view_module": "@jupyter-widgets/controls",
            "_model_module_version": "1.5.0",
            "value": " 4457/4457 [26:47&lt;00:00,  2.77ex/s]",
            "_view_count": null,
            "_view_module_version": "1.5.0",
            "description_tooltip": null,
            "_model_module": "@jupyter-widgets/controls",
            "layout": "IPY_MODEL_22d967c67ad04fb2adfa0cd6d981f4c8"
          }
        },
        "c10277e586414595951169f647d4f3c6": {
          "model_module": "@jupyter-widgets/controls",
          "model_name": "ProgressStyleModel",
          "state": {
            "_view_name": "StyleView",
            "_model_name": "ProgressStyleModel",
            "description_width": "initial",
            "_view_module": "@jupyter-widgets/base",
            "_model_module_version": "1.5.0",
            "_view_count": null,
            "_view_module_version": "1.2.0",
            "bar_color": null,
            "_model_module": "@jupyter-widgets/controls"
          }
        },
        "65fc7987ded543e3b9d82e4def6e8a24": {
          "model_module": "@jupyter-widgets/base",
          "model_name": "LayoutModel",
          "state": {
            "_view_name": "LayoutView",
            "grid_template_rows": null,
            "right": null,
            "justify_content": null,
            "_view_module": "@jupyter-widgets/base",
            "overflow": null,
            "_model_module_version": "1.2.0",
            "_view_count": null,
            "flex_flow": null,
            "width": null,
            "min_width": null,
            "border": null,
            "align_items": null,
            "bottom": null,
            "_model_module": "@jupyter-widgets/base",
            "top": null,
            "grid_column": null,
            "overflow_y": null,
            "overflow_x": null,
            "grid_auto_flow": null,
            "grid_area": null,
            "grid_template_columns": null,
            "flex": null,
            "_model_name": "LayoutModel",
            "justify_items": null,
            "grid_row": null,
            "max_height": null,
            "align_content": null,
            "visibility": null,
            "align_self": null,
            "height": null,
            "min_height": null,
            "padding": null,
            "grid_auto_rows": null,
            "grid_gap": null,
            "max_width": null,
            "order": null,
            "_view_module_version": "1.2.0",
            "grid_template_areas": null,
            "object_position": null,
            "object_fit": null,
            "grid_auto_columns": null,
            "margin": null,
            "display": null,
            "left": null
          }
        },
        "126f0e2536954be59cfc2b5510c3d28a": {
          "model_module": "@jupyter-widgets/controls",
          "model_name": "DescriptionStyleModel",
          "state": {
            "_view_name": "StyleView",
            "_model_name": "DescriptionStyleModel",
            "description_width": "",
            "_view_module": "@jupyter-widgets/base",
            "_model_module_version": "1.5.0",
            "_view_count": null,
            "_view_module_version": "1.2.0",
            "_model_module": "@jupyter-widgets/controls"
          }
        },
        "22d967c67ad04fb2adfa0cd6d981f4c8": {
          "model_module": "@jupyter-widgets/base",
          "model_name": "LayoutModel",
          "state": {
            "_view_name": "LayoutView",
            "grid_template_rows": null,
            "right": null,
            "justify_content": null,
            "_view_module": "@jupyter-widgets/base",
            "overflow": null,
            "_model_module_version": "1.2.0",
            "_view_count": null,
            "flex_flow": null,
            "width": null,
            "min_width": null,
            "border": null,
            "align_items": null,
            "bottom": null,
            "_model_module": "@jupyter-widgets/base",
            "top": null,
            "grid_column": null,
            "overflow_y": null,
            "overflow_x": null,
            "grid_auto_flow": null,
            "grid_area": null,
            "grid_template_columns": null,
            "flex": null,
            "_model_name": "LayoutModel",
            "justify_items": null,
            "grid_row": null,
            "max_height": null,
            "align_content": null,
            "visibility": null,
            "align_self": null,
            "height": null,
            "min_height": null,
            "padding": null,
            "grid_auto_rows": null,
            "grid_gap": null,
            "max_width": null,
            "order": null,
            "_view_module_version": "1.2.0",
            "grid_template_areas": null,
            "object_position": null,
            "object_fit": null,
            "grid_auto_columns": null,
            "margin": null,
            "display": null,
            "left": null
          }
        },
        "882d50187ae54f9e84d693e51359c516": {
          "model_module": "@jupyter-widgets/controls",
          "model_name": "HBoxModel",
          "state": {
            "_view_name": "HBoxView",
            "_dom_classes": [],
            "_model_name": "HBoxModel",
            "_view_module": "@jupyter-widgets/controls",
            "_model_module_version": "1.5.0",
            "_view_count": null,
            "_view_module_version": "1.5.0",
            "box_style": "",
            "layout": "IPY_MODEL_f90136d2792a45488a83c26ee2c42041",
            "_model_module": "@jupyter-widgets/controls",
            "children": [
              "IPY_MODEL_516590aaccad465bbc24e51cfea1ba1a",
              "IPY_MODEL_fb2265945d5440c8b3b4cbaa937d4884"
            ]
          }
        },
        "f90136d2792a45488a83c26ee2c42041": {
          "model_module": "@jupyter-widgets/base",
          "model_name": "LayoutModel",
          "state": {
            "_view_name": "LayoutView",
            "grid_template_rows": null,
            "right": null,
            "justify_content": null,
            "_view_module": "@jupyter-widgets/base",
            "overflow": null,
            "_model_module_version": "1.2.0",
            "_view_count": null,
            "flex_flow": null,
            "width": null,
            "min_width": null,
            "border": null,
            "align_items": null,
            "bottom": null,
            "_model_module": "@jupyter-widgets/base",
            "top": null,
            "grid_column": null,
            "overflow_y": null,
            "overflow_x": null,
            "grid_auto_flow": null,
            "grid_area": null,
            "grid_template_columns": null,
            "flex": null,
            "_model_name": "LayoutModel",
            "justify_items": null,
            "grid_row": null,
            "max_height": null,
            "align_content": null,
            "visibility": null,
            "align_self": null,
            "height": null,
            "min_height": null,
            "padding": null,
            "grid_auto_rows": null,
            "grid_gap": null,
            "max_width": null,
            "order": null,
            "_view_module_version": "1.2.0",
            "grid_template_areas": null,
            "object_position": null,
            "object_fit": null,
            "grid_auto_columns": null,
            "margin": null,
            "display": null,
            "left": null
          }
        },
        "516590aaccad465bbc24e51cfea1ba1a": {
          "model_module": "@jupyter-widgets/controls",
          "model_name": "FloatProgressModel",
          "state": {
            "_view_name": "ProgressView",
            "style": "IPY_MODEL_0fa7b0b95d75430d8160eba9db7d6d3c",
            "_dom_classes": [],
            "description": "100%",
            "_model_name": "FloatProgressModel",
            "bar_style": "success",
            "max": 1266,
            "_view_module": "@jupyter-widgets/controls",
            "_model_module_version": "1.5.0",
            "value": 1266,
            "_view_count": null,
            "_view_module_version": "1.5.0",
            "orientation": "horizontal",
            "min": 0,
            "description_tooltip": null,
            "_model_module": "@jupyter-widgets/controls",
            "layout": "IPY_MODEL_a0507ffeee65410789b45c7abe79e653"
          }
        },
        "fb2265945d5440c8b3b4cbaa937d4884": {
          "model_module": "@jupyter-widgets/controls",
          "model_name": "HTMLModel",
          "state": {
            "_view_name": "HTMLView",
            "style": "IPY_MODEL_3685130c97e5407b98b38668de329d27",
            "_dom_classes": [],
            "description": "",
            "_model_name": "HTMLModel",
            "placeholder": "​",
            "_view_module": "@jupyter-widgets/controls",
            "_model_module_version": "1.5.0",
            "value": " 1266/1266 [14:04&lt;00:00,  1.50ex/s]",
            "_view_count": null,
            "_view_module_version": "1.5.0",
            "description_tooltip": null,
            "_model_module": "@jupyter-widgets/controls",
            "layout": "IPY_MODEL_ea927ebd65da49ad9f90d0f3d0b77af7"
          }
        },
        "0fa7b0b95d75430d8160eba9db7d6d3c": {
          "model_module": "@jupyter-widgets/controls",
          "model_name": "ProgressStyleModel",
          "state": {
            "_view_name": "StyleView",
            "_model_name": "ProgressStyleModel",
            "description_width": "initial",
            "_view_module": "@jupyter-widgets/base",
            "_model_module_version": "1.5.0",
            "_view_count": null,
            "_view_module_version": "1.2.0",
            "bar_color": null,
            "_model_module": "@jupyter-widgets/controls"
          }
        },
        "a0507ffeee65410789b45c7abe79e653": {
          "model_module": "@jupyter-widgets/base",
          "model_name": "LayoutModel",
          "state": {
            "_view_name": "LayoutView",
            "grid_template_rows": null,
            "right": null,
            "justify_content": null,
            "_view_module": "@jupyter-widgets/base",
            "overflow": null,
            "_model_module_version": "1.2.0",
            "_view_count": null,
            "flex_flow": null,
            "width": null,
            "min_width": null,
            "border": null,
            "align_items": null,
            "bottom": null,
            "_model_module": "@jupyter-widgets/base",
            "top": null,
            "grid_column": null,
            "overflow_y": null,
            "overflow_x": null,
            "grid_auto_flow": null,
            "grid_area": null,
            "grid_template_columns": null,
            "flex": null,
            "_model_name": "LayoutModel",
            "justify_items": null,
            "grid_row": null,
            "max_height": null,
            "align_content": null,
            "visibility": null,
            "align_self": null,
            "height": null,
            "min_height": null,
            "padding": null,
            "grid_auto_rows": null,
            "grid_gap": null,
            "max_width": null,
            "order": null,
            "_view_module_version": "1.2.0",
            "grid_template_areas": null,
            "object_position": null,
            "object_fit": null,
            "grid_auto_columns": null,
            "margin": null,
            "display": null,
            "left": null
          }
        },
        "3685130c97e5407b98b38668de329d27": {
          "model_module": "@jupyter-widgets/controls",
          "model_name": "DescriptionStyleModel",
          "state": {
            "_view_name": "StyleView",
            "_model_name": "DescriptionStyleModel",
            "description_width": "",
            "_view_module": "@jupyter-widgets/base",
            "_model_module_version": "1.5.0",
            "_view_count": null,
            "_view_module_version": "1.2.0",
            "_model_module": "@jupyter-widgets/controls"
          }
        },
        "ea927ebd65da49ad9f90d0f3d0b77af7": {
          "model_module": "@jupyter-widgets/base",
          "model_name": "LayoutModel",
          "state": {
            "_view_name": "LayoutView",
            "grid_template_rows": null,
            "right": null,
            "justify_content": null,
            "_view_module": "@jupyter-widgets/base",
            "overflow": null,
            "_model_module_version": "1.2.0",
            "_view_count": null,
            "flex_flow": null,
            "width": null,
            "min_width": null,
            "border": null,
            "align_items": null,
            "bottom": null,
            "_model_module": "@jupyter-widgets/base",
            "top": null,
            "grid_column": null,
            "overflow_y": null,
            "overflow_x": null,
            "grid_auto_flow": null,
            "grid_area": null,
            "grid_template_columns": null,
            "flex": null,
            "_model_name": "LayoutModel",
            "justify_items": null,
            "grid_row": null,
            "max_height": null,
            "align_content": null,
            "visibility": null,
            "align_self": null,
            "height": null,
            "min_height": null,
            "padding": null,
            "grid_auto_rows": null,
            "grid_gap": null,
            "max_width": null,
            "order": null,
            "_view_module_version": "1.2.0",
            "grid_template_areas": null,
            "object_position": null,
            "object_fit": null,
            "grid_auto_columns": null,
            "margin": null,
            "display": null,
            "left": null
          }
        },
        "5a23490dfa9045b68dd671f80fa49cdc": {
          "model_module": "@jupyter-widgets/controls",
          "model_name": "HBoxModel",
          "state": {
            "_view_name": "HBoxView",
            "_dom_classes": [],
            "_model_name": "HBoxModel",
            "_view_module": "@jupyter-widgets/controls",
            "_model_module_version": "1.5.0",
            "_view_count": null,
            "_view_module_version": "1.5.0",
            "box_style": "",
            "layout": "IPY_MODEL_5ff334f248ca4bcbba57f0ae335bc724",
            "_model_module": "@jupyter-widgets/controls",
            "children": [
              "IPY_MODEL_fd507cfeb3624dfc9868cdda0d53792d",
              "IPY_MODEL_30d947221f554035a949b4294dbbde0b"
            ]
          }
        },
        "5ff334f248ca4bcbba57f0ae335bc724": {
          "model_module": "@jupyter-widgets/base",
          "model_name": "LayoutModel",
          "state": {
            "_view_name": "LayoutView",
            "grid_template_rows": null,
            "right": null,
            "justify_content": null,
            "_view_module": "@jupyter-widgets/base",
            "overflow": null,
            "_model_module_version": "1.2.0",
            "_view_count": null,
            "flex_flow": null,
            "width": null,
            "min_width": null,
            "border": null,
            "align_items": null,
            "bottom": null,
            "_model_module": "@jupyter-widgets/base",
            "top": null,
            "grid_column": null,
            "overflow_y": null,
            "overflow_x": null,
            "grid_auto_flow": null,
            "grid_area": null,
            "grid_template_columns": null,
            "flex": null,
            "_model_name": "LayoutModel",
            "justify_items": null,
            "grid_row": null,
            "max_height": null,
            "align_content": null,
            "visibility": null,
            "align_self": null,
            "height": null,
            "min_height": null,
            "padding": null,
            "grid_auto_rows": null,
            "grid_gap": null,
            "max_width": null,
            "order": null,
            "_view_module_version": "1.2.0",
            "grid_template_areas": null,
            "object_position": null,
            "object_fit": null,
            "grid_auto_columns": null,
            "margin": null,
            "display": null,
            "left": null
          }
        },
        "fd507cfeb3624dfc9868cdda0d53792d": {
          "model_module": "@jupyter-widgets/controls",
          "model_name": "FloatProgressModel",
          "state": {
            "_view_name": "ProgressView",
            "style": "IPY_MODEL_8d5bd066ed0343b380db5f5ad12d7d89",
            "_dom_classes": [],
            "description": "#0: 100%",
            "_model_name": "FloatProgressModel",
            "bar_style": "success",
            "max": 1115,
            "_view_module": "@jupyter-widgets/controls",
            "_model_module_version": "1.5.0",
            "value": 1115,
            "_view_count": null,
            "_view_module_version": "1.5.0",
            "orientation": "horizontal",
            "min": 0,
            "description_tooltip": null,
            "_model_module": "@jupyter-widgets/controls",
            "layout": "IPY_MODEL_be4276206e8f4c6695068f63a9438c41"
          }
        },
        "30d947221f554035a949b4294dbbde0b": {
          "model_module": "@jupyter-widgets/controls",
          "model_name": "HTMLModel",
          "state": {
            "_view_name": "HTMLView",
            "style": "IPY_MODEL_d644f6887b9d453283053c1c98a1d5fa",
            "_dom_classes": [],
            "description": "",
            "_model_name": "HTMLModel",
            "placeholder": "​",
            "_view_module": "@jupyter-widgets/controls",
            "_model_module_version": "1.5.0",
            "value": " 1115/1115 [03:40&lt;00:00,  5.06ex/s]",
            "_view_count": null,
            "_view_module_version": "1.5.0",
            "description_tooltip": null,
            "_model_module": "@jupyter-widgets/controls",
            "layout": "IPY_MODEL_4a4b6c96d6044797b878847b7a99a8ee"
          }
        },
        "8d5bd066ed0343b380db5f5ad12d7d89": {
          "model_module": "@jupyter-widgets/controls",
          "model_name": "ProgressStyleModel",
          "state": {
            "_view_name": "StyleView",
            "_model_name": "ProgressStyleModel",
            "description_width": "initial",
            "_view_module": "@jupyter-widgets/base",
            "_model_module_version": "1.5.0",
            "_view_count": null,
            "_view_module_version": "1.2.0",
            "bar_color": null,
            "_model_module": "@jupyter-widgets/controls"
          }
        },
        "be4276206e8f4c6695068f63a9438c41": {
          "model_module": "@jupyter-widgets/base",
          "model_name": "LayoutModel",
          "state": {
            "_view_name": "LayoutView",
            "grid_template_rows": null,
            "right": null,
            "justify_content": null,
            "_view_module": "@jupyter-widgets/base",
            "overflow": null,
            "_model_module_version": "1.2.0",
            "_view_count": null,
            "flex_flow": null,
            "width": null,
            "min_width": null,
            "border": null,
            "align_items": null,
            "bottom": null,
            "_model_module": "@jupyter-widgets/base",
            "top": null,
            "grid_column": null,
            "overflow_y": null,
            "overflow_x": null,
            "grid_auto_flow": null,
            "grid_area": null,
            "grid_template_columns": null,
            "flex": null,
            "_model_name": "LayoutModel",
            "justify_items": null,
            "grid_row": null,
            "max_height": null,
            "align_content": null,
            "visibility": null,
            "align_self": null,
            "height": null,
            "min_height": null,
            "padding": null,
            "grid_auto_rows": null,
            "grid_gap": null,
            "max_width": null,
            "order": null,
            "_view_module_version": "1.2.0",
            "grid_template_areas": null,
            "object_position": null,
            "object_fit": null,
            "grid_auto_columns": null,
            "margin": null,
            "display": null,
            "left": null
          }
        },
        "d644f6887b9d453283053c1c98a1d5fa": {
          "model_module": "@jupyter-widgets/controls",
          "model_name": "DescriptionStyleModel",
          "state": {
            "_view_name": "StyleView",
            "_model_name": "DescriptionStyleModel",
            "description_width": "",
            "_view_module": "@jupyter-widgets/base",
            "_model_module_version": "1.5.0",
            "_view_count": null,
            "_view_module_version": "1.2.0",
            "_model_module": "@jupyter-widgets/controls"
          }
        },
        "4a4b6c96d6044797b878847b7a99a8ee": {
          "model_module": "@jupyter-widgets/base",
          "model_name": "LayoutModel",
          "state": {
            "_view_name": "LayoutView",
            "grid_template_rows": null,
            "right": null,
            "justify_content": null,
            "_view_module": "@jupyter-widgets/base",
            "overflow": null,
            "_model_module_version": "1.2.0",
            "_view_count": null,
            "flex_flow": null,
            "width": null,
            "min_width": null,
            "border": null,
            "align_items": null,
            "bottom": null,
            "_model_module": "@jupyter-widgets/base",
            "top": null,
            "grid_column": null,
            "overflow_y": null,
            "overflow_x": null,
            "grid_auto_flow": null,
            "grid_area": null,
            "grid_template_columns": null,
            "flex": null,
            "_model_name": "LayoutModel",
            "justify_items": null,
            "grid_row": null,
            "max_height": null,
            "align_content": null,
            "visibility": null,
            "align_self": null,
            "height": null,
            "min_height": null,
            "padding": null,
            "grid_auto_rows": null,
            "grid_gap": null,
            "max_width": null,
            "order": null,
            "_view_module_version": "1.2.0",
            "grid_template_areas": null,
            "object_position": null,
            "object_fit": null,
            "grid_auto_columns": null,
            "margin": null,
            "display": null,
            "left": null
          }
        },
        "87d6b8ab219a4155a6deb4d65a3ad55b": {
          "model_module": "@jupyter-widgets/controls",
          "model_name": "HBoxModel",
          "state": {
            "_view_name": "HBoxView",
            "_dom_classes": [],
            "_model_name": "HBoxModel",
            "_view_module": "@jupyter-widgets/controls",
            "_model_module_version": "1.5.0",
            "_view_count": null,
            "_view_module_version": "1.5.0",
            "box_style": "",
            "layout": "IPY_MODEL_b0877da8cbe24ac4a9e454f747329087",
            "_model_module": "@jupyter-widgets/controls",
            "children": [
              "IPY_MODEL_2f42cd844e05443e89fea0f2c11eadb2",
              "IPY_MODEL_60bee91c8986464a844726779c066c62"
            ]
          }
        },
        "b0877da8cbe24ac4a9e454f747329087": {
          "model_module": "@jupyter-widgets/base",
          "model_name": "LayoutModel",
          "state": {
            "_view_name": "LayoutView",
            "grid_template_rows": null,
            "right": null,
            "justify_content": null,
            "_view_module": "@jupyter-widgets/base",
            "overflow": null,
            "_model_module_version": "1.2.0",
            "_view_count": null,
            "flex_flow": null,
            "width": null,
            "min_width": null,
            "border": null,
            "align_items": null,
            "bottom": null,
            "_model_module": "@jupyter-widgets/base",
            "top": null,
            "grid_column": null,
            "overflow_y": null,
            "overflow_x": null,
            "grid_auto_flow": null,
            "grid_area": null,
            "grid_template_columns": null,
            "flex": null,
            "_model_name": "LayoutModel",
            "justify_items": null,
            "grid_row": null,
            "max_height": null,
            "align_content": null,
            "visibility": null,
            "align_self": null,
            "height": null,
            "min_height": null,
            "padding": null,
            "grid_auto_rows": null,
            "grid_gap": null,
            "max_width": null,
            "order": null,
            "_view_module_version": "1.2.0",
            "grid_template_areas": null,
            "object_position": null,
            "object_fit": null,
            "grid_auto_columns": null,
            "margin": null,
            "display": null,
            "left": null
          }
        },
        "2f42cd844e05443e89fea0f2c11eadb2": {
          "model_module": "@jupyter-widgets/controls",
          "model_name": "FloatProgressModel",
          "state": {
            "_view_name": "ProgressView",
            "style": "IPY_MODEL_7380ecbc1676410e904868546c8bf297",
            "_dom_classes": [],
            "description": "#1:   0%",
            "_model_name": "FloatProgressModel",
            "bar_style": "",
            "max": 1114,
            "_view_module": "@jupyter-widgets/controls",
            "_model_module_version": "1.5.0",
            "value": 0,
            "_view_count": null,
            "_view_module_version": "1.5.0",
            "orientation": "horizontal",
            "min": 0,
            "description_tooltip": null,
            "_model_module": "@jupyter-widgets/controls",
            "layout": "IPY_MODEL_a790af98577a4751acb1c0b672ba10bd"
          }
        },
        "60bee91c8986464a844726779c066c62": {
          "model_module": "@jupyter-widgets/controls",
          "model_name": "HTMLModel",
          "state": {
            "_view_name": "HTMLView",
            "style": "IPY_MODEL_1729c3291a7a4e859671c60e6b398190",
            "_dom_classes": [],
            "description": "",
            "_model_name": "HTMLModel",
            "placeholder": "​",
            "_view_module": "@jupyter-widgets/controls",
            "_model_module_version": "1.5.0",
            "value": " 0/1114 [00:00&lt;?, ?ex/s]",
            "_view_count": null,
            "_view_module_version": "1.5.0",
            "description_tooltip": null,
            "_model_module": "@jupyter-widgets/controls",
            "layout": "IPY_MODEL_11f4055247b64031869b792a0ffdb2de"
          }
        },
        "7380ecbc1676410e904868546c8bf297": {
          "model_module": "@jupyter-widgets/controls",
          "model_name": "ProgressStyleModel",
          "state": {
            "_view_name": "StyleView",
            "_model_name": "ProgressStyleModel",
            "description_width": "initial",
            "_view_module": "@jupyter-widgets/base",
            "_model_module_version": "1.5.0",
            "_view_count": null,
            "_view_module_version": "1.2.0",
            "bar_color": null,
            "_model_module": "@jupyter-widgets/controls"
          }
        },
        "a790af98577a4751acb1c0b672ba10bd": {
          "model_module": "@jupyter-widgets/base",
          "model_name": "LayoutModel",
          "state": {
            "_view_name": "LayoutView",
            "grid_template_rows": null,
            "right": null,
            "justify_content": null,
            "_view_module": "@jupyter-widgets/base",
            "overflow": null,
            "_model_module_version": "1.2.0",
            "_view_count": null,
            "flex_flow": null,
            "width": null,
            "min_width": null,
            "border": null,
            "align_items": null,
            "bottom": null,
            "_model_module": "@jupyter-widgets/base",
            "top": null,
            "grid_column": null,
            "overflow_y": null,
            "overflow_x": null,
            "grid_auto_flow": null,
            "grid_area": null,
            "grid_template_columns": null,
            "flex": null,
            "_model_name": "LayoutModel",
            "justify_items": null,
            "grid_row": null,
            "max_height": null,
            "align_content": null,
            "visibility": null,
            "align_self": null,
            "height": null,
            "min_height": null,
            "padding": null,
            "grid_auto_rows": null,
            "grid_gap": null,
            "max_width": null,
            "order": null,
            "_view_module_version": "1.2.0",
            "grid_template_areas": null,
            "object_position": null,
            "object_fit": null,
            "grid_auto_columns": null,
            "margin": null,
            "display": null,
            "left": null
          }
        },
        "1729c3291a7a4e859671c60e6b398190": {
          "model_module": "@jupyter-widgets/controls",
          "model_name": "DescriptionStyleModel",
          "state": {
            "_view_name": "StyleView",
            "_model_name": "DescriptionStyleModel",
            "description_width": "",
            "_view_module": "@jupyter-widgets/base",
            "_model_module_version": "1.5.0",
            "_view_count": null,
            "_view_module_version": "1.2.0",
            "_model_module": "@jupyter-widgets/controls"
          }
        },
        "11f4055247b64031869b792a0ffdb2de": {
          "model_module": "@jupyter-widgets/base",
          "model_name": "LayoutModel",
          "state": {
            "_view_name": "LayoutView",
            "grid_template_rows": null,
            "right": null,
            "justify_content": null,
            "_view_module": "@jupyter-widgets/base",
            "overflow": null,
            "_model_module_version": "1.2.0",
            "_view_count": null,
            "flex_flow": null,
            "width": null,
            "min_width": null,
            "border": null,
            "align_items": null,
            "bottom": null,
            "_model_module": "@jupyter-widgets/base",
            "top": null,
            "grid_column": null,
            "overflow_y": null,
            "overflow_x": null,
            "grid_auto_flow": null,
            "grid_area": null,
            "grid_template_columns": null,
            "flex": null,
            "_model_name": "LayoutModel",
            "justify_items": null,
            "grid_row": null,
            "max_height": null,
            "align_content": null,
            "visibility": null,
            "align_self": null,
            "height": null,
            "min_height": null,
            "padding": null,
            "grid_auto_rows": null,
            "grid_gap": null,
            "max_width": null,
            "order": null,
            "_view_module_version": "1.2.0",
            "grid_template_areas": null,
            "object_position": null,
            "object_fit": null,
            "grid_auto_columns": null,
            "margin": null,
            "display": null,
            "left": null
          }
        },
        "7135ef1caa484ce2928940daaa09f9d6": {
          "model_module": "@jupyter-widgets/controls",
          "model_name": "HBoxModel",
          "state": {
            "_view_name": "HBoxView",
            "_dom_classes": [],
            "_model_name": "HBoxModel",
            "_view_module": "@jupyter-widgets/controls",
            "_model_module_version": "1.5.0",
            "_view_count": null,
            "_view_module_version": "1.5.0",
            "box_style": "",
            "layout": "IPY_MODEL_b247dc2e6d7142d899d1915c42b10b72",
            "_model_module": "@jupyter-widgets/controls",
            "children": [
              "IPY_MODEL_9ab7e3b479ab4d2ebb4042ffe5d1a1b2",
              "IPY_MODEL_93aafc03eff24d34ad8704b4c4e3d9ea"
            ]
          }
        },
        "b247dc2e6d7142d899d1915c42b10b72": {
          "model_module": "@jupyter-widgets/base",
          "model_name": "LayoutModel",
          "state": {
            "_view_name": "LayoutView",
            "grid_template_rows": null,
            "right": null,
            "justify_content": null,
            "_view_module": "@jupyter-widgets/base",
            "overflow": null,
            "_model_module_version": "1.2.0",
            "_view_count": null,
            "flex_flow": null,
            "width": null,
            "min_width": null,
            "border": null,
            "align_items": null,
            "bottom": null,
            "_model_module": "@jupyter-widgets/base",
            "top": null,
            "grid_column": null,
            "overflow_y": null,
            "overflow_x": null,
            "grid_auto_flow": null,
            "grid_area": null,
            "grid_template_columns": null,
            "flex": null,
            "_model_name": "LayoutModel",
            "justify_items": null,
            "grid_row": null,
            "max_height": null,
            "align_content": null,
            "visibility": null,
            "align_self": null,
            "height": null,
            "min_height": null,
            "padding": null,
            "grid_auto_rows": null,
            "grid_gap": null,
            "max_width": null,
            "order": null,
            "_view_module_version": "1.2.0",
            "grid_template_areas": null,
            "object_position": null,
            "object_fit": null,
            "grid_auto_columns": null,
            "margin": null,
            "display": null,
            "left": null
          }
        },
        "9ab7e3b479ab4d2ebb4042ffe5d1a1b2": {
          "model_module": "@jupyter-widgets/controls",
          "model_name": "FloatProgressModel",
          "state": {
            "_view_name": "ProgressView",
            "style": "IPY_MODEL_e528757bb5774a8aa23ce0c8d8198ecf",
            "_dom_classes": [],
            "description": "#2:  80%",
            "_model_name": "FloatProgressModel",
            "bar_style": "",
            "max": 1114,
            "_view_module": "@jupyter-widgets/controls",
            "_model_module_version": "1.5.0",
            "value": 887,
            "_view_count": null,
            "_view_module_version": "1.5.0",
            "orientation": "horizontal",
            "min": 0,
            "description_tooltip": null,
            "_model_module": "@jupyter-widgets/controls",
            "layout": "IPY_MODEL_2c45e1e1f57f40b59bca302a68e09925"
          }
        },
        "93aafc03eff24d34ad8704b4c4e3d9ea": {
          "model_module": "@jupyter-widgets/controls",
          "model_name": "HTMLModel",
          "state": {
            "_view_name": "HTMLView",
            "style": "IPY_MODEL_7b93340482a74ce9934db29da003d618",
            "_dom_classes": [],
            "description": "",
            "_model_name": "HTMLModel",
            "placeholder": "​",
            "_view_module": "@jupyter-widgets/controls",
            "_model_module_version": "1.5.0",
            "value": " 887/1114 [02:49&lt;01:28,  2.57ex/s]",
            "_view_count": null,
            "_view_module_version": "1.5.0",
            "description_tooltip": null,
            "_model_module": "@jupyter-widgets/controls",
            "layout": "IPY_MODEL_2a56a1d071d14134a900c17fb9f13458"
          }
        },
        "e528757bb5774a8aa23ce0c8d8198ecf": {
          "model_module": "@jupyter-widgets/controls",
          "model_name": "ProgressStyleModel",
          "state": {
            "_view_name": "StyleView",
            "_model_name": "ProgressStyleModel",
            "description_width": "initial",
            "_view_module": "@jupyter-widgets/base",
            "_model_module_version": "1.5.0",
            "_view_count": null,
            "_view_module_version": "1.2.0",
            "bar_color": null,
            "_model_module": "@jupyter-widgets/controls"
          }
        },
        "2c45e1e1f57f40b59bca302a68e09925": {
          "model_module": "@jupyter-widgets/base",
          "model_name": "LayoutModel",
          "state": {
            "_view_name": "LayoutView",
            "grid_template_rows": null,
            "right": null,
            "justify_content": null,
            "_view_module": "@jupyter-widgets/base",
            "overflow": null,
            "_model_module_version": "1.2.0",
            "_view_count": null,
            "flex_flow": null,
            "width": null,
            "min_width": null,
            "border": null,
            "align_items": null,
            "bottom": null,
            "_model_module": "@jupyter-widgets/base",
            "top": null,
            "grid_column": null,
            "overflow_y": null,
            "overflow_x": null,
            "grid_auto_flow": null,
            "grid_area": null,
            "grid_template_columns": null,
            "flex": null,
            "_model_name": "LayoutModel",
            "justify_items": null,
            "grid_row": null,
            "max_height": null,
            "align_content": null,
            "visibility": null,
            "align_self": null,
            "height": null,
            "min_height": null,
            "padding": null,
            "grid_auto_rows": null,
            "grid_gap": null,
            "max_width": null,
            "order": null,
            "_view_module_version": "1.2.0",
            "grid_template_areas": null,
            "object_position": null,
            "object_fit": null,
            "grid_auto_columns": null,
            "margin": null,
            "display": null,
            "left": null
          }
        },
        "7b93340482a74ce9934db29da003d618": {
          "model_module": "@jupyter-widgets/controls",
          "model_name": "DescriptionStyleModel",
          "state": {
            "_view_name": "StyleView",
            "_model_name": "DescriptionStyleModel",
            "description_width": "",
            "_view_module": "@jupyter-widgets/base",
            "_model_module_version": "1.5.0",
            "_view_count": null,
            "_view_module_version": "1.2.0",
            "_model_module": "@jupyter-widgets/controls"
          }
        },
        "2a56a1d071d14134a900c17fb9f13458": {
          "model_module": "@jupyter-widgets/base",
          "model_name": "LayoutModel",
          "state": {
            "_view_name": "LayoutView",
            "grid_template_rows": null,
            "right": null,
            "justify_content": null,
            "_view_module": "@jupyter-widgets/base",
            "overflow": null,
            "_model_module_version": "1.2.0",
            "_view_count": null,
            "flex_flow": null,
            "width": null,
            "min_width": null,
            "border": null,
            "align_items": null,
            "bottom": null,
            "_model_module": "@jupyter-widgets/base",
            "top": null,
            "grid_column": null,
            "overflow_y": null,
            "overflow_x": null,
            "grid_auto_flow": null,
            "grid_area": null,
            "grid_template_columns": null,
            "flex": null,
            "_model_name": "LayoutModel",
            "justify_items": null,
            "grid_row": null,
            "max_height": null,
            "align_content": null,
            "visibility": null,
            "align_self": null,
            "height": null,
            "min_height": null,
            "padding": null,
            "grid_auto_rows": null,
            "grid_gap": null,
            "max_width": null,
            "order": null,
            "_view_module_version": "1.2.0",
            "grid_template_areas": null,
            "object_position": null,
            "object_fit": null,
            "grid_auto_columns": null,
            "margin": null,
            "display": null,
            "left": null
          }
        },
        "2fd4785e9a004bd1ac4558351dd2a7eb": {
          "model_module": "@jupyter-widgets/controls",
          "model_name": "HBoxModel",
          "state": {
            "_view_name": "HBoxView",
            "_dom_classes": [],
            "_model_name": "HBoxModel",
            "_view_module": "@jupyter-widgets/controls",
            "_model_module_version": "1.5.0",
            "_view_count": null,
            "_view_module_version": "1.5.0",
            "box_style": "",
            "layout": "IPY_MODEL_6f625183193c4c2eb9c24fae222a9a80",
            "_model_module": "@jupyter-widgets/controls",
            "children": [
              "IPY_MODEL_06df181c6c614edfb4783188d177ceed",
              "IPY_MODEL_f1199a759eac45838f8ee7d6da03cd1a"
            ]
          }
        },
        "6f625183193c4c2eb9c24fae222a9a80": {
          "model_module": "@jupyter-widgets/base",
          "model_name": "LayoutModel",
          "state": {
            "_view_name": "LayoutView",
            "grid_template_rows": null,
            "right": null,
            "justify_content": null,
            "_view_module": "@jupyter-widgets/base",
            "overflow": null,
            "_model_module_version": "1.2.0",
            "_view_count": null,
            "flex_flow": null,
            "width": null,
            "min_width": null,
            "border": null,
            "align_items": null,
            "bottom": null,
            "_model_module": "@jupyter-widgets/base",
            "top": null,
            "grid_column": null,
            "overflow_y": null,
            "overflow_x": null,
            "grid_auto_flow": null,
            "grid_area": null,
            "grid_template_columns": null,
            "flex": null,
            "_model_name": "LayoutModel",
            "justify_items": null,
            "grid_row": null,
            "max_height": null,
            "align_content": null,
            "visibility": null,
            "align_self": null,
            "height": null,
            "min_height": null,
            "padding": null,
            "grid_auto_rows": null,
            "grid_gap": null,
            "max_width": null,
            "order": null,
            "_view_module_version": "1.2.0",
            "grid_template_areas": null,
            "object_position": null,
            "object_fit": null,
            "grid_auto_columns": null,
            "margin": null,
            "display": null,
            "left": null
          }
        },
        "06df181c6c614edfb4783188d177ceed": {
          "model_module": "@jupyter-widgets/controls",
          "model_name": "FloatProgressModel",
          "state": {
            "_view_name": "ProgressView",
            "style": "IPY_MODEL_5d49b6c51f6c4152a8a0be6b0e487bf2",
            "_dom_classes": [],
            "description": "#3: 100%",
            "_model_name": "FloatProgressModel",
            "bar_style": "success",
            "max": 1114,
            "_view_module": "@jupyter-widgets/controls",
            "_model_module_version": "1.5.0",
            "value": 1114,
            "_view_count": null,
            "_view_module_version": "1.5.0",
            "orientation": "horizontal",
            "min": 0,
            "description_tooltip": null,
            "_model_module": "@jupyter-widgets/controls",
            "layout": "IPY_MODEL_b318d9e83b5d43979b2adabbc7a0c030"
          }
        },
        "f1199a759eac45838f8ee7d6da03cd1a": {
          "model_module": "@jupyter-widgets/controls",
          "model_name": "HTMLModel",
          "state": {
            "_view_name": "HTMLView",
            "style": "IPY_MODEL_030826b5f48b4c28a77a4d42117fe55a",
            "_dom_classes": [],
            "description": "",
            "_model_name": "HTMLModel",
            "placeholder": "​",
            "_view_module": "@jupyter-widgets/controls",
            "_model_module_version": "1.5.0",
            "value": " 1114/1114 [03:11&lt;00:00,  5.80ex/s]",
            "_view_count": null,
            "_view_module_version": "1.5.0",
            "description_tooltip": null,
            "_model_module": "@jupyter-widgets/controls",
            "layout": "IPY_MODEL_265647caf9d642cdba269bd9579a1d58"
          }
        },
        "5d49b6c51f6c4152a8a0be6b0e487bf2": {
          "model_module": "@jupyter-widgets/controls",
          "model_name": "ProgressStyleModel",
          "state": {
            "_view_name": "StyleView",
            "_model_name": "ProgressStyleModel",
            "description_width": "initial",
            "_view_module": "@jupyter-widgets/base",
            "_model_module_version": "1.5.0",
            "_view_count": null,
            "_view_module_version": "1.2.0",
            "bar_color": null,
            "_model_module": "@jupyter-widgets/controls"
          }
        },
        "b318d9e83b5d43979b2adabbc7a0c030": {
          "model_module": "@jupyter-widgets/base",
          "model_name": "LayoutModel",
          "state": {
            "_view_name": "LayoutView",
            "grid_template_rows": null,
            "right": null,
            "justify_content": null,
            "_view_module": "@jupyter-widgets/base",
            "overflow": null,
            "_model_module_version": "1.2.0",
            "_view_count": null,
            "flex_flow": null,
            "width": null,
            "min_width": null,
            "border": null,
            "align_items": null,
            "bottom": null,
            "_model_module": "@jupyter-widgets/base",
            "top": null,
            "grid_column": null,
            "overflow_y": null,
            "overflow_x": null,
            "grid_auto_flow": null,
            "grid_area": null,
            "grid_template_columns": null,
            "flex": null,
            "_model_name": "LayoutModel",
            "justify_items": null,
            "grid_row": null,
            "max_height": null,
            "align_content": null,
            "visibility": null,
            "align_self": null,
            "height": null,
            "min_height": null,
            "padding": null,
            "grid_auto_rows": null,
            "grid_gap": null,
            "max_width": null,
            "order": null,
            "_view_module_version": "1.2.0",
            "grid_template_areas": null,
            "object_position": null,
            "object_fit": null,
            "grid_auto_columns": null,
            "margin": null,
            "display": null,
            "left": null
          }
        },
        "030826b5f48b4c28a77a4d42117fe55a": {
          "model_module": "@jupyter-widgets/controls",
          "model_name": "DescriptionStyleModel",
          "state": {
            "_view_name": "StyleView",
            "_model_name": "DescriptionStyleModel",
            "description_width": "",
            "_view_module": "@jupyter-widgets/base",
            "_model_module_version": "1.5.0",
            "_view_count": null,
            "_view_module_version": "1.2.0",
            "_model_module": "@jupyter-widgets/controls"
          }
        },
        "265647caf9d642cdba269bd9579a1d58": {
          "model_module": "@jupyter-widgets/base",
          "model_name": "LayoutModel",
          "state": {
            "_view_name": "LayoutView",
            "grid_template_rows": null,
            "right": null,
            "justify_content": null,
            "_view_module": "@jupyter-widgets/base",
            "overflow": null,
            "_model_module_version": "1.2.0",
            "_view_count": null,
            "flex_flow": null,
            "width": null,
            "min_width": null,
            "border": null,
            "align_items": null,
            "bottom": null,
            "_model_module": "@jupyter-widgets/base",
            "top": null,
            "grid_column": null,
            "overflow_y": null,
            "overflow_x": null,
            "grid_auto_flow": null,
            "grid_area": null,
            "grid_template_columns": null,
            "flex": null,
            "_model_name": "LayoutModel",
            "justify_items": null,
            "grid_row": null,
            "max_height": null,
            "align_content": null,
            "visibility": null,
            "align_self": null,
            "height": null,
            "min_height": null,
            "padding": null,
            "grid_auto_rows": null,
            "grid_gap": null,
            "max_width": null,
            "order": null,
            "_view_module_version": "1.2.0",
            "grid_template_areas": null,
            "object_position": null,
            "object_fit": null,
            "grid_auto_columns": null,
            "margin": null,
            "display": null,
            "left": null
          }
        },
        "fb9dde788cbc40c0be909c8630a5dda1": {
          "model_module": "@jupyter-widgets/controls",
          "model_name": "HBoxModel",
          "state": {
            "_view_name": "HBoxView",
            "_dom_classes": [],
            "_model_name": "HBoxModel",
            "_view_module": "@jupyter-widgets/controls",
            "_model_module_version": "1.5.0",
            "_view_count": null,
            "_view_module_version": "1.5.0",
            "box_style": "",
            "layout": "IPY_MODEL_60d2e08a57ec4711acd09c57095b8729",
            "_model_module": "@jupyter-widgets/controls",
            "children": [
              "IPY_MODEL_109e5561e3854c099e6421af4d22ecb4",
              "IPY_MODEL_82507184201d4577a742654c67d090d7"
            ]
          }
        },
        "60d2e08a57ec4711acd09c57095b8729": {
          "model_module": "@jupyter-widgets/base",
          "model_name": "LayoutModel",
          "state": {
            "_view_name": "LayoutView",
            "grid_template_rows": null,
            "right": null,
            "justify_content": null,
            "_view_module": "@jupyter-widgets/base",
            "overflow": null,
            "_model_module_version": "1.2.0",
            "_view_count": null,
            "flex_flow": null,
            "width": null,
            "min_width": null,
            "border": null,
            "align_items": null,
            "bottom": null,
            "_model_module": "@jupyter-widgets/base",
            "top": null,
            "grid_column": null,
            "overflow_y": null,
            "overflow_x": null,
            "grid_auto_flow": null,
            "grid_area": null,
            "grid_template_columns": null,
            "flex": null,
            "_model_name": "LayoutModel",
            "justify_items": null,
            "grid_row": null,
            "max_height": null,
            "align_content": null,
            "visibility": null,
            "align_self": null,
            "height": null,
            "min_height": null,
            "padding": null,
            "grid_auto_rows": null,
            "grid_gap": null,
            "max_width": null,
            "order": null,
            "_view_module_version": "1.2.0",
            "grid_template_areas": null,
            "object_position": null,
            "object_fit": null,
            "grid_auto_columns": null,
            "margin": null,
            "display": null,
            "left": null
          }
        },
        "109e5561e3854c099e6421af4d22ecb4": {
          "model_module": "@jupyter-widgets/controls",
          "model_name": "FloatProgressModel",
          "state": {
            "_view_name": "ProgressView",
            "style": "IPY_MODEL_2171363c58624ceeaa8538eea1c43477",
            "_dom_classes": [],
            "description": "Downloading: ",
            "_model_name": "FloatProgressModel",
            "bar_style": "success",
            "max": 1878,
            "_view_module": "@jupyter-widgets/controls",
            "_model_module_version": "1.5.0",
            "value": 1878,
            "_view_count": null,
            "_view_module_version": "1.5.0",
            "orientation": "horizontal",
            "min": 0,
            "description_tooltip": null,
            "_model_module": "@jupyter-widgets/controls",
            "layout": "IPY_MODEL_bad556dcae3844faaf4cf27fbea109d6"
          }
        },
        "82507184201d4577a742654c67d090d7": {
          "model_module": "@jupyter-widgets/controls",
          "model_name": "HTMLModel",
          "state": {
            "_view_name": "HTMLView",
            "style": "IPY_MODEL_e657bdde121a432e8cd7c98ed97256a5",
            "_dom_classes": [],
            "description": "",
            "_model_name": "HTMLModel",
            "placeholder": "​",
            "_view_module": "@jupyter-widgets/controls",
            "_model_module_version": "1.5.0",
            "value": " 4.63k/? [01:20&lt;00:00, 57.6B/s]",
            "_view_count": null,
            "_view_module_version": "1.5.0",
            "description_tooltip": null,
            "_model_module": "@jupyter-widgets/controls",
            "layout": "IPY_MODEL_82f2e897fdc74e8f9fffd90bddf0194b"
          }
        },
        "2171363c58624ceeaa8538eea1c43477": {
          "model_module": "@jupyter-widgets/controls",
          "model_name": "ProgressStyleModel",
          "state": {
            "_view_name": "StyleView",
            "_model_name": "ProgressStyleModel",
            "description_width": "initial",
            "_view_module": "@jupyter-widgets/base",
            "_model_module_version": "1.5.0",
            "_view_count": null,
            "_view_module_version": "1.2.0",
            "bar_color": null,
            "_model_module": "@jupyter-widgets/controls"
          }
        },
        "bad556dcae3844faaf4cf27fbea109d6": {
          "model_module": "@jupyter-widgets/base",
          "model_name": "LayoutModel",
          "state": {
            "_view_name": "LayoutView",
            "grid_template_rows": null,
            "right": null,
            "justify_content": null,
            "_view_module": "@jupyter-widgets/base",
            "overflow": null,
            "_model_module_version": "1.2.0",
            "_view_count": null,
            "flex_flow": null,
            "width": null,
            "min_width": null,
            "border": null,
            "align_items": null,
            "bottom": null,
            "_model_module": "@jupyter-widgets/base",
            "top": null,
            "grid_column": null,
            "overflow_y": null,
            "overflow_x": null,
            "grid_auto_flow": null,
            "grid_area": null,
            "grid_template_columns": null,
            "flex": null,
            "_model_name": "LayoutModel",
            "justify_items": null,
            "grid_row": null,
            "max_height": null,
            "align_content": null,
            "visibility": null,
            "align_self": null,
            "height": null,
            "min_height": null,
            "padding": null,
            "grid_auto_rows": null,
            "grid_gap": null,
            "max_width": null,
            "order": null,
            "_view_module_version": "1.2.0",
            "grid_template_areas": null,
            "object_position": null,
            "object_fit": null,
            "grid_auto_columns": null,
            "margin": null,
            "display": null,
            "left": null
          }
        },
        "e657bdde121a432e8cd7c98ed97256a5": {
          "model_module": "@jupyter-widgets/controls",
          "model_name": "DescriptionStyleModel",
          "state": {
            "_view_name": "StyleView",
            "_model_name": "DescriptionStyleModel",
            "description_width": "",
            "_view_module": "@jupyter-widgets/base",
            "_model_module_version": "1.5.0",
            "_view_count": null,
            "_view_module_version": "1.2.0",
            "_model_module": "@jupyter-widgets/controls"
          }
        },
        "82f2e897fdc74e8f9fffd90bddf0194b": {
          "model_module": "@jupyter-widgets/base",
          "model_name": "LayoutModel",
          "state": {
            "_view_name": "LayoutView",
            "grid_template_rows": null,
            "right": null,
            "justify_content": null,
            "_view_module": "@jupyter-widgets/base",
            "overflow": null,
            "_model_module_version": "1.2.0",
            "_view_count": null,
            "flex_flow": null,
            "width": null,
            "min_width": null,
            "border": null,
            "align_items": null,
            "bottom": null,
            "_model_module": "@jupyter-widgets/base",
            "top": null,
            "grid_column": null,
            "overflow_y": null,
            "overflow_x": null,
            "grid_auto_flow": null,
            "grid_area": null,
            "grid_template_columns": null,
            "flex": null,
            "_model_name": "LayoutModel",
            "justify_items": null,
            "grid_row": null,
            "max_height": null,
            "align_content": null,
            "visibility": null,
            "align_self": null,
            "height": null,
            "min_height": null,
            "padding": null,
            "grid_auto_rows": null,
            "grid_gap": null,
            "max_width": null,
            "order": null,
            "_view_module_version": "1.2.0",
            "grid_template_areas": null,
            "object_position": null,
            "object_fit": null,
            "grid_auto_columns": null,
            "margin": null,
            "display": null,
            "left": null
          }
        },
        "bfd0a8f637734156b1b238a7e66b205d": {
          "model_module": "@jupyter-widgets/controls",
          "model_name": "HBoxModel",
          "state": {
            "_view_name": "HBoxView",
            "_dom_classes": [],
            "_model_name": "HBoxModel",
            "_view_module": "@jupyter-widgets/controls",
            "_model_module_version": "1.5.0",
            "_view_count": null,
            "_view_module_version": "1.5.0",
            "box_style": "",
            "layout": "IPY_MODEL_e07334306ac0418d901385a61a00f24c",
            "_model_module": "@jupyter-widgets/controls",
            "children": [
              "IPY_MODEL_cb39fc88e7d94b8aa3e8b5c8bda3130a",
              "IPY_MODEL_31a65110510a44428f7499365993ab66"
            ]
          }
        },
        "e07334306ac0418d901385a61a00f24c": {
          "model_module": "@jupyter-widgets/base",
          "model_name": "LayoutModel",
          "state": {
            "_view_name": "LayoutView",
            "grid_template_rows": null,
            "right": null,
            "justify_content": null,
            "_view_module": "@jupyter-widgets/base",
            "overflow": null,
            "_model_module_version": "1.2.0",
            "_view_count": null,
            "flex_flow": null,
            "width": null,
            "min_width": null,
            "border": null,
            "align_items": null,
            "bottom": null,
            "_model_module": "@jupyter-widgets/base",
            "top": null,
            "grid_column": null,
            "overflow_y": null,
            "overflow_x": null,
            "grid_auto_flow": null,
            "grid_area": null,
            "grid_template_columns": null,
            "flex": null,
            "_model_name": "LayoutModel",
            "justify_items": null,
            "grid_row": null,
            "max_height": null,
            "align_content": null,
            "visibility": null,
            "align_self": null,
            "height": null,
            "min_height": null,
            "padding": null,
            "grid_auto_rows": null,
            "grid_gap": null,
            "max_width": null,
            "order": null,
            "_view_module_version": "1.2.0",
            "grid_template_areas": null,
            "object_position": null,
            "object_fit": null,
            "grid_auto_columns": null,
            "margin": null,
            "display": null,
            "left": null
          }
        },
        "cb39fc88e7d94b8aa3e8b5c8bda3130a": {
          "model_module": "@jupyter-widgets/controls",
          "model_name": "FloatProgressModel",
          "state": {
            "_view_name": "ProgressView",
            "style": "IPY_MODEL_147a25cc45ce4398aae544d8164b70dc",
            "_dom_classes": [],
            "description": "Downloading: 100%",
            "_model_name": "FloatProgressModel",
            "bar_style": "success",
            "max": 1451,
            "_view_module": "@jupyter-widgets/controls",
            "_model_module_version": "1.5.0",
            "value": 1451,
            "_view_count": null,
            "_view_module_version": "1.5.0",
            "orientation": "horizontal",
            "min": 0,
            "description_tooltip": null,
            "_model_module": "@jupyter-widgets/controls",
            "layout": "IPY_MODEL_a72fb1eac82c4f958f42b179f65092e2"
          }
        },
        "31a65110510a44428f7499365993ab66": {
          "model_module": "@jupyter-widgets/controls",
          "model_name": "HTMLModel",
          "state": {
            "_view_name": "HTMLView",
            "style": "IPY_MODEL_3c3672045b794d268c709f288243c992",
            "_dom_classes": [],
            "description": "",
            "_model_name": "HTMLModel",
            "placeholder": "​",
            "_view_module": "@jupyter-widgets/controls",
            "_model_module_version": "1.5.0",
            "value": " 1.45k/1.45k [00:00&lt;00:00, 2.45kB/s]",
            "_view_count": null,
            "_view_module_version": "1.5.0",
            "description_tooltip": null,
            "_model_module": "@jupyter-widgets/controls",
            "layout": "IPY_MODEL_5495e16aa21447c4bb350c03e2713c19"
          }
        },
        "147a25cc45ce4398aae544d8164b70dc": {
          "model_module": "@jupyter-widgets/controls",
          "model_name": "ProgressStyleModel",
          "state": {
            "_view_name": "StyleView",
            "_model_name": "ProgressStyleModel",
            "description_width": "initial",
            "_view_module": "@jupyter-widgets/base",
            "_model_module_version": "1.5.0",
            "_view_count": null,
            "_view_module_version": "1.2.0",
            "bar_color": null,
            "_model_module": "@jupyter-widgets/controls"
          }
        },
        "a72fb1eac82c4f958f42b179f65092e2": {
          "model_module": "@jupyter-widgets/base",
          "model_name": "LayoutModel",
          "state": {
            "_view_name": "LayoutView",
            "grid_template_rows": null,
            "right": null,
            "justify_content": null,
            "_view_module": "@jupyter-widgets/base",
            "overflow": null,
            "_model_module_version": "1.2.0",
            "_view_count": null,
            "flex_flow": null,
            "width": null,
            "min_width": null,
            "border": null,
            "align_items": null,
            "bottom": null,
            "_model_module": "@jupyter-widgets/base",
            "top": null,
            "grid_column": null,
            "overflow_y": null,
            "overflow_x": null,
            "grid_auto_flow": null,
            "grid_area": null,
            "grid_template_columns": null,
            "flex": null,
            "_model_name": "LayoutModel",
            "justify_items": null,
            "grid_row": null,
            "max_height": null,
            "align_content": null,
            "visibility": null,
            "align_self": null,
            "height": null,
            "min_height": null,
            "padding": null,
            "grid_auto_rows": null,
            "grid_gap": null,
            "max_width": null,
            "order": null,
            "_view_module_version": "1.2.0",
            "grid_template_areas": null,
            "object_position": null,
            "object_fit": null,
            "grid_auto_columns": null,
            "margin": null,
            "display": null,
            "left": null
          }
        },
        "3c3672045b794d268c709f288243c992": {
          "model_module": "@jupyter-widgets/controls",
          "model_name": "DescriptionStyleModel",
          "state": {
            "_view_name": "StyleView",
            "_model_name": "DescriptionStyleModel",
            "description_width": "",
            "_view_module": "@jupyter-widgets/base",
            "_model_module_version": "1.5.0",
            "_view_count": null,
            "_view_module_version": "1.2.0",
            "_model_module": "@jupyter-widgets/controls"
          }
        },
        "5495e16aa21447c4bb350c03e2713c19": {
          "model_module": "@jupyter-widgets/base",
          "model_name": "LayoutModel",
          "state": {
            "_view_name": "LayoutView",
            "grid_template_rows": null,
            "right": null,
            "justify_content": null,
            "_view_module": "@jupyter-widgets/base",
            "overflow": null,
            "_model_module_version": "1.2.0",
            "_view_count": null,
            "flex_flow": null,
            "width": null,
            "min_width": null,
            "border": null,
            "align_items": null,
            "bottom": null,
            "_model_module": "@jupyter-widgets/base",
            "top": null,
            "grid_column": null,
            "overflow_y": null,
            "overflow_x": null,
            "grid_auto_flow": null,
            "grid_area": null,
            "grid_template_columns": null,
            "flex": null,
            "_model_name": "LayoutModel",
            "justify_items": null,
            "grid_row": null,
            "max_height": null,
            "align_content": null,
            "visibility": null,
            "align_self": null,
            "height": null,
            "min_height": null,
            "padding": null,
            "grid_auto_rows": null,
            "grid_gap": null,
            "max_width": null,
            "order": null,
            "_view_module_version": "1.2.0",
            "grid_template_areas": null,
            "object_position": null,
            "object_fit": null,
            "grid_auto_columns": null,
            "margin": null,
            "display": null,
            "left": null
          }
        },
        "8df8474d02574c51891ac86ed6c9bb59": {
          "model_module": "@jupyter-widgets/controls",
          "model_name": "HBoxModel",
          "state": {
            "_view_name": "HBoxView",
            "_dom_classes": [],
            "_model_name": "HBoxModel",
            "_view_module": "@jupyter-widgets/controls",
            "_model_module_version": "1.5.0",
            "_view_count": null,
            "_view_module_version": "1.5.0",
            "box_style": "",
            "layout": "IPY_MODEL_693fc1321347468faeb0fe9fa47a2a86",
            "_model_module": "@jupyter-widgets/controls",
            "children": [
              "IPY_MODEL_a1897a1c5bf14763a28c92c026a6be2d",
              "IPY_MODEL_59191945a8104c2d97db726352632c18"
            ]
          }
        },
        "693fc1321347468faeb0fe9fa47a2a86": {
          "model_module": "@jupyter-widgets/base",
          "model_name": "LayoutModel",
          "state": {
            "_view_name": "LayoutView",
            "grid_template_rows": null,
            "right": null,
            "justify_content": null,
            "_view_module": "@jupyter-widgets/base",
            "overflow": null,
            "_model_module_version": "1.2.0",
            "_view_count": null,
            "flex_flow": null,
            "width": null,
            "min_width": null,
            "border": null,
            "align_items": null,
            "bottom": null,
            "_model_module": "@jupyter-widgets/base",
            "top": null,
            "grid_column": null,
            "overflow_y": null,
            "overflow_x": null,
            "grid_auto_flow": null,
            "grid_area": null,
            "grid_template_columns": null,
            "flex": null,
            "_model_name": "LayoutModel",
            "justify_items": null,
            "grid_row": null,
            "max_height": null,
            "align_content": null,
            "visibility": null,
            "align_self": null,
            "height": null,
            "min_height": null,
            "padding": null,
            "grid_auto_rows": null,
            "grid_gap": null,
            "max_width": null,
            "order": null,
            "_view_module_version": "1.2.0",
            "grid_template_areas": null,
            "object_position": null,
            "object_fit": null,
            "grid_auto_columns": null,
            "margin": null,
            "display": null,
            "left": null
          }
        },
        "a1897a1c5bf14763a28c92c026a6be2d": {
          "model_module": "@jupyter-widgets/controls",
          "model_name": "FloatProgressModel",
          "state": {
            "_view_name": "ProgressView",
            "style": "IPY_MODEL_18c42dccf63b4d028cddfe54802aa7af",
            "_dom_classes": [],
            "description": "Downloading: 100%",
            "_model_name": "FloatProgressModel",
            "bar_style": "success",
            "max": 1261920069,
            "_view_module": "@jupyter-widgets/controls",
            "_model_module_version": "1.5.0",
            "value": 1261920069,
            "_view_count": null,
            "_view_module_version": "1.5.0",
            "orientation": "horizontal",
            "min": 0,
            "description_tooltip": null,
            "_model_module": "@jupyter-widgets/controls",
            "layout": "IPY_MODEL_c01f106de2c94f17ba9ca0da1098deca"
          }
        },
        "59191945a8104c2d97db726352632c18": {
          "model_module": "@jupyter-widgets/controls",
          "model_name": "HTMLModel",
          "state": {
            "_view_name": "HTMLView",
            "style": "IPY_MODEL_888085a4e962481f98a5c3545cb9a952",
            "_dom_classes": [],
            "description": "",
            "_model_name": "HTMLModel",
            "placeholder": "​",
            "_view_module": "@jupyter-widgets/controls",
            "_model_module_version": "1.5.0",
            "value": " 1.26G/1.26G [01:12&lt;00:00, 17.4MB/s]",
            "_view_count": null,
            "_view_module_version": "1.5.0",
            "description_tooltip": null,
            "_model_module": "@jupyter-widgets/controls",
            "layout": "IPY_MODEL_e053ef95f74041d4bece76cd91d7acf0"
          }
        },
        "18c42dccf63b4d028cddfe54802aa7af": {
          "model_module": "@jupyter-widgets/controls",
          "model_name": "ProgressStyleModel",
          "state": {
            "_view_name": "StyleView",
            "_model_name": "ProgressStyleModel",
            "description_width": "initial",
            "_view_module": "@jupyter-widgets/base",
            "_model_module_version": "1.5.0",
            "_view_count": null,
            "_view_module_version": "1.2.0",
            "bar_color": null,
            "_model_module": "@jupyter-widgets/controls"
          }
        },
        "c01f106de2c94f17ba9ca0da1098deca": {
          "model_module": "@jupyter-widgets/base",
          "model_name": "LayoutModel",
          "state": {
            "_view_name": "LayoutView",
            "grid_template_rows": null,
            "right": null,
            "justify_content": null,
            "_view_module": "@jupyter-widgets/base",
            "overflow": null,
            "_model_module_version": "1.2.0",
            "_view_count": null,
            "flex_flow": null,
            "width": null,
            "min_width": null,
            "border": null,
            "align_items": null,
            "bottom": null,
            "_model_module": "@jupyter-widgets/base",
            "top": null,
            "grid_column": null,
            "overflow_y": null,
            "overflow_x": null,
            "grid_auto_flow": null,
            "grid_area": null,
            "grid_template_columns": null,
            "flex": null,
            "_model_name": "LayoutModel",
            "justify_items": null,
            "grid_row": null,
            "max_height": null,
            "align_content": null,
            "visibility": null,
            "align_self": null,
            "height": null,
            "min_height": null,
            "padding": null,
            "grid_auto_rows": null,
            "grid_gap": null,
            "max_width": null,
            "order": null,
            "_view_module_version": "1.2.0",
            "grid_template_areas": null,
            "object_position": null,
            "object_fit": null,
            "grid_auto_columns": null,
            "margin": null,
            "display": null,
            "left": null
          }
        },
        "888085a4e962481f98a5c3545cb9a952": {
          "model_module": "@jupyter-widgets/controls",
          "model_name": "DescriptionStyleModel",
          "state": {
            "_view_name": "StyleView",
            "_model_name": "DescriptionStyleModel",
            "description_width": "",
            "_view_module": "@jupyter-widgets/base",
            "_model_module_version": "1.5.0",
            "_view_count": null,
            "_view_module_version": "1.2.0",
            "_model_module": "@jupyter-widgets/controls"
          }
        },
        "e053ef95f74041d4bece76cd91d7acf0": {
          "model_module": "@jupyter-widgets/base",
          "model_name": "LayoutModel",
          "state": {
            "_view_name": "LayoutView",
            "grid_template_rows": null,
            "right": null,
            "justify_content": null,
            "_view_module": "@jupyter-widgets/base",
            "overflow": null,
            "_model_module_version": "1.2.0",
            "_view_count": null,
            "flex_flow": null,
            "width": null,
            "min_width": null,
            "border": null,
            "align_items": null,
            "bottom": null,
            "_model_module": "@jupyter-widgets/base",
            "top": null,
            "grid_column": null,
            "overflow_y": null,
            "overflow_x": null,
            "grid_auto_flow": null,
            "grid_area": null,
            "grid_template_columns": null,
            "flex": null,
            "_model_name": "LayoutModel",
            "justify_items": null,
            "grid_row": null,
            "max_height": null,
            "align_content": null,
            "visibility": null,
            "align_self": null,
            "height": null,
            "min_height": null,
            "padding": null,
            "grid_auto_rows": null,
            "grid_gap": null,
            "max_width": null,
            "order": null,
            "_view_module_version": "1.2.0",
            "grid_template_areas": null,
            "object_position": null,
            "object_fit": null,
            "grid_auto_columns": null,
            "margin": null,
            "display": null,
            "left": null
          }
        },
        "b1a2d66427d7457ea49f1d8e514e419c": {
          "model_module": "@jupyter-widgets/controls",
          "model_name": "HBoxModel",
          "state": {
            "_view_name": "HBoxView",
            "_dom_classes": [],
            "_model_name": "HBoxModel",
            "_view_module": "@jupyter-widgets/controls",
            "_model_module_version": "1.5.0",
            "_view_count": null,
            "_view_module_version": "1.5.0",
            "box_style": "",
            "layout": "IPY_MODEL_327b8a6f1dba464893b2a76ab0f73beb",
            "_model_module": "@jupyter-widgets/controls",
            "children": [
              "IPY_MODEL_b8df87139a8a4ecd842b87e511ea6e8a",
              "IPY_MODEL_d3124370910347e987a1251d85fb5422"
            ]
          }
        },
        "327b8a6f1dba464893b2a76ab0f73beb": {
          "model_module": "@jupyter-widgets/base",
          "model_name": "LayoutModel",
          "state": {
            "_view_name": "LayoutView",
            "grid_template_rows": null,
            "right": null,
            "justify_content": null,
            "_view_module": "@jupyter-widgets/base",
            "overflow": null,
            "_model_module_version": "1.2.0",
            "_view_count": null,
            "flex_flow": null,
            "width": null,
            "min_width": null,
            "border": null,
            "align_items": null,
            "bottom": null,
            "_model_module": "@jupyter-widgets/base",
            "top": null,
            "grid_column": null,
            "overflow_y": null,
            "overflow_x": null,
            "grid_auto_flow": null,
            "grid_area": null,
            "grid_template_columns": null,
            "flex": null,
            "_model_name": "LayoutModel",
            "justify_items": null,
            "grid_row": null,
            "max_height": null,
            "align_content": null,
            "visibility": null,
            "align_self": null,
            "height": null,
            "min_height": null,
            "padding": null,
            "grid_auto_rows": null,
            "grid_gap": null,
            "max_width": null,
            "order": null,
            "_view_module_version": "1.2.0",
            "grid_template_areas": null,
            "object_position": null,
            "object_fit": null,
            "grid_auto_columns": null,
            "margin": null,
            "display": null,
            "left": null
          }
        },
        "b8df87139a8a4ecd842b87e511ea6e8a": {
          "model_module": "@jupyter-widgets/controls",
          "model_name": "FloatProgressModel",
          "state": {
            "_view_name": "ProgressView",
            "style": "IPY_MODEL_9abd4632c29a4b36bfb0006c90fd648a",
            "_dom_classes": [],
            "description": "100%",
            "_model_name": "FloatProgressModel",
            "bar_style": "success",
            "max": 9,
            "_view_module": "@jupyter-widgets/controls",
            "_model_module_version": "1.5.0",
            "value": 9,
            "_view_count": null,
            "_view_module_version": "1.5.0",
            "orientation": "horizontal",
            "min": 0,
            "description_tooltip": null,
            "_model_module": "@jupyter-widgets/controls",
            "layout": "IPY_MODEL_fefa2738f3eb41ab9ecf15af416a5cba"
          }
        },
        "d3124370910347e987a1251d85fb5422": {
          "model_module": "@jupyter-widgets/controls",
          "model_name": "HTMLModel",
          "state": {
            "_view_name": "HTMLView",
            "style": "IPY_MODEL_149de33334ef4e71bedac9511bf85053",
            "_dom_classes": [],
            "description": "",
            "_model_name": "HTMLModel",
            "placeholder": "​",
            "_view_module": "@jupyter-widgets/controls",
            "_model_module_version": "1.5.0",
            "value": " 9/9 [00:05&lt;00:00,  1.60ba/s]",
            "_view_count": null,
            "_view_module_version": "1.5.0",
            "description_tooltip": null,
            "_model_module": "@jupyter-widgets/controls",
            "layout": "IPY_MODEL_c6b1eeeccc354c758cbdffe595c3d20b"
          }
        },
        "9abd4632c29a4b36bfb0006c90fd648a": {
          "model_module": "@jupyter-widgets/controls",
          "model_name": "ProgressStyleModel",
          "state": {
            "_view_name": "StyleView",
            "_model_name": "ProgressStyleModel",
            "description_width": "initial",
            "_view_module": "@jupyter-widgets/base",
            "_model_module_version": "1.5.0",
            "_view_count": null,
            "_view_module_version": "1.2.0",
            "bar_color": null,
            "_model_module": "@jupyter-widgets/controls"
          }
        },
        "fefa2738f3eb41ab9ecf15af416a5cba": {
          "model_module": "@jupyter-widgets/base",
          "model_name": "LayoutModel",
          "state": {
            "_view_name": "LayoutView",
            "grid_template_rows": null,
            "right": null,
            "justify_content": null,
            "_view_module": "@jupyter-widgets/base",
            "overflow": null,
            "_model_module_version": "1.2.0",
            "_view_count": null,
            "flex_flow": null,
            "width": null,
            "min_width": null,
            "border": null,
            "align_items": null,
            "bottom": null,
            "_model_module": "@jupyter-widgets/base",
            "top": null,
            "grid_column": null,
            "overflow_y": null,
            "overflow_x": null,
            "grid_auto_flow": null,
            "grid_area": null,
            "grid_template_columns": null,
            "flex": null,
            "_model_name": "LayoutModel",
            "justify_items": null,
            "grid_row": null,
            "max_height": null,
            "align_content": null,
            "visibility": null,
            "align_self": null,
            "height": null,
            "min_height": null,
            "padding": null,
            "grid_auto_rows": null,
            "grid_gap": null,
            "max_width": null,
            "order": null,
            "_view_module_version": "1.2.0",
            "grid_template_areas": null,
            "object_position": null,
            "object_fit": null,
            "grid_auto_columns": null,
            "margin": null,
            "display": null,
            "left": null
          }
        },
        "149de33334ef4e71bedac9511bf85053": {
          "model_module": "@jupyter-widgets/controls",
          "model_name": "DescriptionStyleModel",
          "state": {
            "_view_name": "StyleView",
            "_model_name": "DescriptionStyleModel",
            "description_width": "",
            "_view_module": "@jupyter-widgets/base",
            "_model_module_version": "1.5.0",
            "_view_count": null,
            "_view_module_version": "1.2.0",
            "_model_module": "@jupyter-widgets/controls"
          }
        },
        "c6b1eeeccc354c758cbdffe595c3d20b": {
          "model_module": "@jupyter-widgets/base",
          "model_name": "LayoutModel",
          "state": {
            "_view_name": "LayoutView",
            "grid_template_rows": null,
            "right": null,
            "justify_content": null,
            "_view_module": "@jupyter-widgets/base",
            "overflow": null,
            "_model_module_version": "1.2.0",
            "_view_count": null,
            "flex_flow": null,
            "width": null,
            "min_width": null,
            "border": null,
            "align_items": null,
            "bottom": null,
            "_model_module": "@jupyter-widgets/base",
            "top": null,
            "grid_column": null,
            "overflow_y": null,
            "overflow_x": null,
            "grid_auto_flow": null,
            "grid_area": null,
            "grid_template_columns": null,
            "flex": null,
            "_model_name": "LayoutModel",
            "justify_items": null,
            "grid_row": null,
            "max_height": null,
            "align_content": null,
            "visibility": null,
            "align_self": null,
            "height": null,
            "min_height": null,
            "padding": null,
            "grid_auto_rows": null,
            "grid_gap": null,
            "max_width": null,
            "order": null,
            "_view_module_version": "1.2.0",
            "grid_template_areas": null,
            "object_position": null,
            "object_fit": null,
            "grid_auto_columns": null,
            "margin": null,
            "display": null,
            "left": null
          }
        }
      }
    }
  },
  "cells": [
    {
      "cell_type": "code",
      "metadata": {
        "colab": {
          "base_uri": "https://localhost:8080/"
        },
        "id": "D7DgQlwyajBu",
        "outputId": "bf73d3fc-b4db-4111-87e9-1d7d8d15d0d8"
      },
      "source": [
        "from google.colab import drive\n",
        "drive.mount('/content/drive')"
      ],
      "execution_count": null,
      "outputs": [
        {
          "output_type": "stream",
          "text": [
            "Mounted at /content/drive\n"
          ],
          "name": "stdout"
        }
      ]
    },
    {
      "cell_type": "code",
      "metadata": {
        "colab": {
          "base_uri": "https://localhost:8080/"
        },
        "id": "v1XAyOO8AFD-",
        "outputId": "a62d4045-81f7-41bf-b20a-c2dd25c8c926"
      },
      "source": [
        "!pip install torchaudio\n",
        "!pip install transformers\n",
        "!pip install datasets\n",
        "!pip install jiwer jiwer\n",
        "!pip install pyarrow"
      ],
      "execution_count": null,
      "outputs": [
        {
          "output_type": "stream",
          "text": [
            "Collecting torchaudio\n",
            "\u001b[?25l  Downloading https://files.pythonhosted.org/packages/aa/55/01ad9244bcd595e39cea5ce30726a7fe02fd963d07daeb136bfe7e23f0a5/torchaudio-0.8.1-cp37-cp37m-manylinux1_x86_64.whl (1.9MB)\n",
            "\u001b[K     |████████████████████████████████| 1.9MB 11.2MB/s \n",
            "\u001b[?25hRequirement already satisfied: torch==1.8.1 in /usr/local/lib/python3.7/dist-packages (from torchaudio) (1.8.1+cu101)\n",
            "Requirement already satisfied: typing-extensions in /usr/local/lib/python3.7/dist-packages (from torch==1.8.1->torchaudio) (3.7.4.3)\n",
            "Requirement already satisfied: numpy in /usr/local/lib/python3.7/dist-packages (from torch==1.8.1->torchaudio) (1.19.5)\n",
            "Installing collected packages: torchaudio\n",
            "Successfully installed torchaudio-0.8.1\n",
            "Collecting transformers\n",
            "\u001b[?25l  Downloading https://files.pythonhosted.org/packages/d8/b2/57495b5309f09fa501866e225c84532d1fd89536ea62406b2181933fb418/transformers-4.5.1-py3-none-any.whl (2.1MB)\n",
            "\u001b[K     |████████████████████████████████| 2.1MB 10.1MB/s \n",
            "\u001b[?25hRequirement already satisfied: tqdm>=4.27 in /usr/local/lib/python3.7/dist-packages (from transformers) (4.41.1)\n",
            "Requirement already satisfied: packaging in /usr/local/lib/python3.7/dist-packages (from transformers) (20.9)\n",
            "Requirement already satisfied: requests in /usr/local/lib/python3.7/dist-packages (from transformers) (2.23.0)\n",
            "Collecting tokenizers<0.11,>=0.10.1\n",
            "\u001b[?25l  Downloading https://files.pythonhosted.org/packages/ae/04/5b870f26a858552025a62f1649c20d29d2672c02ff3c3fb4c688ca46467a/tokenizers-0.10.2-cp37-cp37m-manylinux2010_x86_64.whl (3.3MB)\n",
            "\u001b[K     |████████████████████████████████| 3.3MB 40.9MB/s \n",
            "\u001b[?25hRequirement already satisfied: regex!=2019.12.17 in /usr/local/lib/python3.7/dist-packages (from transformers) (2019.12.20)\n",
            "Requirement already satisfied: importlib-metadata; python_version < \"3.8\" in /usr/local/lib/python3.7/dist-packages (from transformers) (3.10.1)\n",
            "Requirement already satisfied: filelock in /usr/local/lib/python3.7/dist-packages (from transformers) (3.0.12)\n",
            "Collecting sacremoses\n",
            "\u001b[?25l  Downloading https://files.pythonhosted.org/packages/75/ee/67241dc87f266093c533a2d4d3d69438e57d7a90abb216fa076e7d475d4a/sacremoses-0.0.45-py3-none-any.whl (895kB)\n",
            "\u001b[K     |████████████████████████████████| 901kB 40.3MB/s \n",
            "\u001b[?25hRequirement already satisfied: numpy>=1.17 in /usr/local/lib/python3.7/dist-packages (from transformers) (1.19.5)\n",
            "Requirement already satisfied: pyparsing>=2.0.2 in /usr/local/lib/python3.7/dist-packages (from packaging->transformers) (2.4.7)\n",
            "Requirement already satisfied: urllib3!=1.25.0,!=1.25.1,<1.26,>=1.21.1 in /usr/local/lib/python3.7/dist-packages (from requests->transformers) (1.24.3)\n",
            "Requirement already satisfied: certifi>=2017.4.17 in /usr/local/lib/python3.7/dist-packages (from requests->transformers) (2020.12.5)\n",
            "Requirement already satisfied: chardet<4,>=3.0.2 in /usr/local/lib/python3.7/dist-packages (from requests->transformers) (3.0.4)\n",
            "Requirement already satisfied: idna<3,>=2.5 in /usr/local/lib/python3.7/dist-packages (from requests->transformers) (2.10)\n",
            "Requirement already satisfied: zipp>=0.5 in /usr/local/lib/python3.7/dist-packages (from importlib-metadata; python_version < \"3.8\"->transformers) (3.4.1)\n",
            "Requirement already satisfied: typing-extensions>=3.6.4; python_version < \"3.8\" in /usr/local/lib/python3.7/dist-packages (from importlib-metadata; python_version < \"3.8\"->transformers) (3.7.4.3)\n",
            "Requirement already satisfied: joblib in /usr/local/lib/python3.7/dist-packages (from sacremoses->transformers) (1.0.1)\n",
            "Requirement already satisfied: click in /usr/local/lib/python3.7/dist-packages (from sacremoses->transformers) (7.1.2)\n",
            "Requirement already satisfied: six in /usr/local/lib/python3.7/dist-packages (from sacremoses->transformers) (1.15.0)\n",
            "Installing collected packages: tokenizers, sacremoses, transformers\n",
            "Successfully installed sacremoses-0.0.45 tokenizers-0.10.2 transformers-4.5.1\n",
            "Collecting datasets\n",
            "\u001b[?25l  Downloading https://files.pythonhosted.org/packages/df/4f/8ef6e4df6e92fc02da620ccfac249112619e5c21273a836958160d6e96fb/datasets-1.6.1-py3-none-any.whl (220kB)\n",
            "\u001b[K     |████████████████████████████████| 225kB 10.6MB/s \n",
            "\u001b[?25hRequirement already satisfied: tqdm<4.50.0,>=4.27 in /usr/local/lib/python3.7/dist-packages (from datasets) (4.41.1)\n",
            "Requirement already satisfied: importlib-metadata; python_version < \"3.8\" in /usr/local/lib/python3.7/dist-packages (from datasets) (3.10.1)\n",
            "Collecting fsspec\n",
            "\u001b[?25l  Downloading https://files.pythonhosted.org/packages/e9/91/2ef649137816850fa4f4c97c6f2eabb1a79bf0aa2c8ed198e387e373455e/fsspec-2021.4.0-py3-none-any.whl (108kB)\n",
            "\u001b[K     |████████████████████████████████| 112kB 19.5MB/s \n",
            "\u001b[?25hRequirement already satisfied: requests>=2.19.0 in /usr/local/lib/python3.7/dist-packages (from datasets) (2.23.0)\n",
            "Requirement already satisfied: numpy>=1.17 in /usr/local/lib/python3.7/dist-packages (from datasets) (1.19.5)\n",
            "Requirement already satisfied: pandas in /usr/local/lib/python3.7/dist-packages (from datasets) (1.1.5)\n",
            "Collecting xxhash\n",
            "\u001b[?25l  Downloading https://files.pythonhosted.org/packages/7d/4f/0a862cad26aa2ed7a7cd87178cbbfa824fc1383e472d63596a0d018374e7/xxhash-2.0.2-cp37-cp37m-manylinux2010_x86_64.whl (243kB)\n",
            "\u001b[K     |████████████████████████████████| 245kB 18.2MB/s \n",
            "\u001b[?25hRequirement already satisfied: packaging in /usr/local/lib/python3.7/dist-packages (from datasets) (20.9)\n",
            "Requirement already satisfied: pyarrow>=1.0.0 in /usr/local/lib/python3.7/dist-packages (from datasets) (3.0.0)\n",
            "Requirement already satisfied: dill in /usr/local/lib/python3.7/dist-packages (from datasets) (0.3.3)\n",
            "Requirement already satisfied: multiprocess in /usr/local/lib/python3.7/dist-packages (from datasets) (0.70.11.1)\n",
            "Collecting huggingface-hub<0.1.0\n",
            "  Downloading https://files.pythonhosted.org/packages/a1/88/7b1e45720ecf59c6c6737ff332f41c955963090a18e72acbcbeac6b25e86/huggingface_hub-0.0.8-py3-none-any.whl\n",
            "Requirement already satisfied: zipp>=0.5 in /usr/local/lib/python3.7/dist-packages (from importlib-metadata; python_version < \"3.8\"->datasets) (3.4.1)\n",
            "Requirement already satisfied: typing-extensions>=3.6.4; python_version < \"3.8\" in /usr/local/lib/python3.7/dist-packages (from importlib-metadata; python_version < \"3.8\"->datasets) (3.7.4.3)\n",
            "Requirement already satisfied: idna<3,>=2.5 in /usr/local/lib/python3.7/dist-packages (from requests>=2.19.0->datasets) (2.10)\n",
            "Requirement already satisfied: urllib3!=1.25.0,!=1.25.1,<1.26,>=1.21.1 in /usr/local/lib/python3.7/dist-packages (from requests>=2.19.0->datasets) (1.24.3)\n",
            "Requirement already satisfied: certifi>=2017.4.17 in /usr/local/lib/python3.7/dist-packages (from requests>=2.19.0->datasets) (2020.12.5)\n",
            "Requirement already satisfied: chardet<4,>=3.0.2 in /usr/local/lib/python3.7/dist-packages (from requests>=2.19.0->datasets) (3.0.4)\n",
            "Requirement already satisfied: python-dateutil>=2.7.3 in /usr/local/lib/python3.7/dist-packages (from pandas->datasets) (2.8.1)\n",
            "Requirement already satisfied: pytz>=2017.2 in /usr/local/lib/python3.7/dist-packages (from pandas->datasets) (2018.9)\n",
            "Requirement already satisfied: pyparsing>=2.0.2 in /usr/local/lib/python3.7/dist-packages (from packaging->datasets) (2.4.7)\n",
            "Requirement already satisfied: filelock in /usr/local/lib/python3.7/dist-packages (from huggingface-hub<0.1.0->datasets) (3.0.12)\n",
            "Requirement already satisfied: six>=1.5 in /usr/local/lib/python3.7/dist-packages (from python-dateutil>=2.7.3->pandas->datasets) (1.15.0)\n",
            "Installing collected packages: fsspec, xxhash, huggingface-hub, datasets\n",
            "Successfully installed datasets-1.6.1 fsspec-2021.4.0 huggingface-hub-0.0.8 xxhash-2.0.2\n",
            "Collecting jiwer\n",
            "  Downloading https://files.pythonhosted.org/packages/8c/cc/fb9d3132cba1f6d393b7d5a9398d9d4c8fc033bc54668cf87e9b197a6d7a/jiwer-2.2.0-py3-none-any.whl\n",
            "Collecting python-Levenshtein\n",
            "\u001b[?25l  Downloading https://files.pythonhosted.org/packages/2a/dc/97f2b63ef0fa1fd78dcb7195aca577804f6b2b51e712516cc0e902a9a201/python-Levenshtein-0.12.2.tar.gz (50kB)\n",
            "\u001b[K     |████████████████████████████████| 51kB 4.1MB/s \n",
            "\u001b[?25hRequirement already satisfied: numpy in /usr/local/lib/python3.7/dist-packages (from jiwer) (1.19.5)\n",
            "Requirement already satisfied: setuptools in /usr/local/lib/python3.7/dist-packages (from python-Levenshtein->jiwer) (56.0.0)\n",
            "Building wheels for collected packages: python-Levenshtein\n",
            "  Building wheel for python-Levenshtein (setup.py) ... \u001b[?25l\u001b[?25hdone\n",
            "  Created wheel for python-Levenshtein: filename=python_Levenshtein-0.12.2-cp37-cp37m-linux_x86_64.whl size=149828 sha256=7484c52567970cb06acaa2e063f93c90683989b0f455a5f35101f70dda732c6b\n",
            "  Stored in directory: /root/.cache/pip/wheels/b3/26/73/4b48503bac73f01cf18e52cd250947049a7f339e940c5df8fc\n",
            "Successfully built python-Levenshtein\n",
            "Installing collected packages: python-Levenshtein, jiwer\n",
            "Successfully installed jiwer-2.2.0 python-Levenshtein-0.12.2\n",
            "Requirement already satisfied: pyarrow in /usr/local/lib/python3.7/dist-packages (3.0.0)\n",
            "Requirement already satisfied: numpy>=1.16.6 in /usr/local/lib/python3.7/dist-packages (from pyarrow) (1.19.5)\n"
          ],
          "name": "stdout"
        }
      ]
    },
    {
      "cell_type": "code",
      "metadata": {
        "id": "125J5maNB1rx"
      },
      "source": [
        "import json\n",
        "import re\n",
        "import numpy as np\n",
        "import pandas as pd \n",
        "import torch\n",
        "import torchaudio\n",
        "import librosa\n",
        "import IPython.display as ipd\n",
        "import random\n",
        "import datasets\n",
        "import gc\n",
        "import os\n",
        "import pyarrow as pa\n",
        "from datasets import load_dataset\n",
        "from transformers import Wav2Vec2ForCTC, Wav2Vec2Processor, Wav2Vec2CTCTokenizer, Wav2Vec2FeatureExtractor"
      ],
      "execution_count": null,
      "outputs": []
    },
    {
      "cell_type": "code",
      "metadata": {
        "colab": {
          "base_uri": "https://localhost:8080/",
          "height": 235,
          "referenced_widgets": [
            "0476e40f28184d7093b725996a63dc74",
            "e3674bfb86eb43818c7f1acdb7f07166",
            "232fe9a632e943e583c639566dc103b1",
            "fd5fcfb76cd94e1e83bf2035375d2f59",
            "4481174c87a74aa08f194f6daacd8f4c",
            "82c21f112fd04c50b6360ecbe821632a",
            "5dbb9a64e4864b9ab7b33a4b95487d34",
            "f2dc5be0217f4204b0af548c2aa9af0a",
            "6d0e7b281d9a434c8284261d5cbc5421",
            "d74a0817bb9c4fdda3bc2036642a1b42",
            "8f9c9825e448400180cb18e19688f497",
            "b135a16d12e64a9ea569fbb2b25f3e8f",
            "a4b936f4b7d94c50a34b16b0bad96aed",
            "decb101530bf48a4b9f7e3bc69b2e0b1",
            "c1049f66983d463f9e2ad7bb7d07da80",
            "1259161a6b654169b9616f9c47c09048",
            "dcff70e9685c4cbab476791789db39ec",
            "0db0773c625c4f76a4645cf45f04b94b",
            "cfbb7e09e65b4ee58874954a133e3f46",
            "eeb8467030e843e6998776ca54fabb1e",
            "33c0044fb66e47abb3542bfb9f656cd3",
            "568cc351165041d88baf3d95da56df76",
            "94d50dc325bd46d7a2d4ed9cab0d988f",
            "0156bd888dc14a41baeb215ddad7098e",
            "a7a7e45ec66e4d5ea6f2802cfb52ba8d",
            "abbc0ae14b0149f7aa1b620ea048d466",
            "58dd65166c16486caf9a55a2d9341b2e",
            "4a76cdf9886645d1a98e2abc569d8f71",
            "c30f61341d7248758470687db01df4c8",
            "2b8fcf57f6c04976b1b83d373ae905cb",
            "bf18afd3ec8a4fe2a8b5a5a77aabf760",
            "1354c72935ed4213bb6d96eb648fb83a",
            "62b7339b2ffa4e86af6ebead6e976640",
            "e2e266dbea35493bbe0aae540c1ea84f",
            "1b528f23048944b487bec77d683dc875",
            "25638c2b29cc4387acfe2b0564eb8475",
            "5791cbb5ad9b4e338f0c093c9761ad72",
            "27229de070314aad97e6b2f5af7eef9a",
            "7133af7829ef463387178b48593c4993",
            "e410b15de9e648ea93c4f0133bd8ff8b",
            "c2e9ca4bd0e74c829f6b6c5f60148055",
            "154b986897a64446bf0552657d304650",
            "2b39c01d98484cf8b795f433954f891b",
            "14640d7fe87045d5b7472204cf6439b0",
            "e69537ae4742471e9f72a1f5716aca1c",
            "3e79deb27f00474b8b8e420342c3dfaf",
            "2dc0737382004f34bdfec950cd0f21ad",
            "2c554cf754c4477b962d208f3d4d2299",
            "aa4a332753bd4b40a431afbfd7e54b7d",
            "af434ee5ec774279a160760e74417c60",
            "fdca1552104c4daeb0fe84d304fa6580",
            "0664fd62522f4d359bef42c90a1c4c54",
            "35b2a323415e4b31af5b19cf33bca91f",
            "3593765a97d74d32b6fc2f3985e06cd2",
            "cee033c070b445ccb2f240a5a41d02f7",
            "b236d2f2237a4a4f98304ef6e37e0b5f",
            "c0698daebadb46759aba6fb7ce159307",
            "b98211c4f9b94d76be5c0d2fd5d55778",
            "38bd0df93aba4b2eb84b99bcd22c9bbe",
            "61fc35e601364fc199ad58fbf499ace9",
            "175600eeb4c14d60839a38e56a710811",
            "c3953bc8ecfa428895b58b907551b11d",
            "1c65a3869bad490a8315e0eff3b700dc",
            "79b38ed5347f4f938239314198053eff"
          ]
        },
        "id": "2jmuoTPnu5CF",
        "outputId": "6b0d890d-636e-43fe-bed7-7f5be9ae5cdd"
      },
      "source": [
        "train_dataset = load_dataset(\"common_voice\", \"zh-CN\", split=\"train\")# +validation #cache_dir\n",
        "test_dataset = load_dataset(\"common_voice\", \"zh-CN\", split=\"test\")"
      ],
      "execution_count": null,
      "outputs": [
        {
          "output_type": "display_data",
          "data": {
            "application/vnd.jupyter.widget-view+json": {
              "model_id": "0476e40f28184d7093b725996a63dc74",
              "version_minor": 0,
              "version_major": 2
            },
            "text/plain": [
              "HBox(children=(FloatProgress(value=0.0, description='Downloading', max=4284.0, style=ProgressStyle(description…"
            ]
          },
          "metadata": {
            "tags": []
          }
        },
        {
          "output_type": "stream",
          "text": [
            "\n"
          ],
          "name": "stdout"
        },
        {
          "output_type": "display_data",
          "data": {
            "application/vnd.jupyter.widget-view+json": {
              "model_id": "6d0e7b281d9a434c8284261d5cbc5421",
              "version_minor": 0,
              "version_major": 2
            },
            "text/plain": [
              "HBox(children=(FloatProgress(value=0.0, description='Downloading', max=9954.0, style=ProgressStyle(description…"
            ]
          },
          "metadata": {
            "tags": []
          }
        },
        {
          "output_type": "stream",
          "text": [
            "\n",
            "Downloading and preparing dataset common_voice/zh-CN (download: 2.03 GiB, generated: 21.07 MiB, post-processed: Unknown size, total: 2.06 GiB) to /root/.cache/huggingface/datasets/common_voice/zh-CN/6.1.0/bb59ce0bb532485ab64b5d488a8dd2addc3104f694e06bcd2c272dc608bb1112...\n"
          ],
          "name": "stdout"
        },
        {
          "output_type": "display_data",
          "data": {
            "application/vnd.jupyter.widget-view+json": {
              "model_id": "dcff70e9685c4cbab476791789db39ec",
              "version_minor": 0,
              "version_major": 2
            },
            "text/plain": [
              "HBox(children=(FloatProgress(value=0.0, description='Downloading', max=2184602350.0, style=ProgressStyle(descr…"
            ]
          },
          "metadata": {
            "tags": []
          }
        },
        {
          "output_type": "stream",
          "text": [
            "\n"
          ],
          "name": "stdout"
        },
        {
          "output_type": "display_data",
          "data": {
            "application/vnd.jupyter.widget-view+json": {
              "model_id": "a7a7e45ec66e4d5ea6f2802cfb52ba8d",
              "version_minor": 0,
              "version_major": 2
            },
            "text/plain": [
              "HBox(children=(FloatProgress(value=1.0, bar_style='info', max=1.0), HTML(value='')))"
            ]
          },
          "metadata": {
            "tags": []
          }
        },
        {
          "output_type": "stream",
          "text": [
            "\r"
          ],
          "name": "stdout"
        },
        {
          "output_type": "display_data",
          "data": {
            "application/vnd.jupyter.widget-view+json": {
              "model_id": "62b7339b2ffa4e86af6ebead6e976640",
              "version_minor": 0,
              "version_major": 2
            },
            "text/plain": [
              "HBox(children=(FloatProgress(value=1.0, bar_style='info', max=1.0), HTML(value='')))"
            ]
          },
          "metadata": {
            "tags": []
          }
        },
        {
          "output_type": "stream",
          "text": [
            "\r"
          ],
          "name": "stdout"
        },
        {
          "output_type": "display_data",
          "data": {
            "application/vnd.jupyter.widget-view+json": {
              "model_id": "c2e9ca4bd0e74c829f6b6c5f60148055",
              "version_minor": 0,
              "version_major": 2
            },
            "text/plain": [
              "HBox(children=(FloatProgress(value=1.0, bar_style='info', max=1.0), HTML(value='')))"
            ]
          },
          "metadata": {
            "tags": []
          }
        },
        {
          "output_type": "stream",
          "text": [
            "\r"
          ],
          "name": "stdout"
        },
        {
          "output_type": "display_data",
          "data": {
            "application/vnd.jupyter.widget-view+json": {
              "model_id": "aa4a332753bd4b40a431afbfd7e54b7d",
              "version_minor": 0,
              "version_major": 2
            },
            "text/plain": [
              "HBox(children=(FloatProgress(value=1.0, bar_style='info', max=1.0), HTML(value='')))"
            ]
          },
          "metadata": {
            "tags": []
          }
        },
        {
          "output_type": "stream",
          "text": [
            "\r"
          ],
          "name": "stdout"
        },
        {
          "output_type": "display_data",
          "data": {
            "application/vnd.jupyter.widget-view+json": {
              "model_id": "c0698daebadb46759aba6fb7ce159307",
              "version_minor": 0,
              "version_major": 2
            },
            "text/plain": [
              "HBox(children=(FloatProgress(value=1.0, bar_style='info', max=1.0), HTML(value='')))"
            ]
          },
          "metadata": {
            "tags": []
          }
        },
        {
          "output_type": "stream",
          "text": [
            "\rDataset common_voice downloaded and prepared to /root/.cache/huggingface/datasets/common_voice/zh-CN/6.1.0/bb59ce0bb532485ab64b5d488a8dd2addc3104f694e06bcd2c272dc608bb1112. Subsequent calls will reuse this data.\n"
          ],
          "name": "stdout"
        },
        {
          "output_type": "stream",
          "text": [
            "Reusing dataset common_voice (/root/.cache/huggingface/datasets/common_voice/zh-CN/6.1.0/bb59ce0bb532485ab64b5d488a8dd2addc3104f694e06bcd2c272dc608bb1112)\n"
          ],
          "name": "stderr"
        }
      ]
    },
    {
      "cell_type": "code",
      "metadata": {
        "id": "3Fbb8H2AF32V"
      },
      "source": [
        "train = train_dataset.remove_columns([\"accent\", \"age\", \"client_id\", \"down_votes\", \"gender\", \"locale\", \"segment\", \"up_votes\"])\n",
        "test = test_dataset.remove_columns([\"accent\", \"age\", \"client_id\", \"down_votes\", \"gender\", \"locale\", \"segment\", \"up_votes\"])"
      ],
      "execution_count": null,
      "outputs": []
    },
    {
      "cell_type": "code",
      "metadata": {
        "id": "InuRJSdtSMe6"
      },
      "source": [
        "def remove_special_characters(batch):\n",
        "  punc = \"！？｡。＂＃＄％＆＇（）＊＋，－／：；＜＝＞＠［＼］＾＿｀｛｜｝～｟｠｢｣､、〃》「」『』【】〔〕〖〗〘〙〚〛〜〝〞〟〰〾〿–—‘’‛“”„‟…‧﹏.\"\n",
        "  batch[\"sentence\"] = re.sub(r\"[%s]+\"%punc, \"\", batch[\"sentence\"]) + \" \"\n",
        "  return batch"
      ],
      "execution_count": null,
      "outputs": []
    },
    {
      "cell_type": "code",
      "metadata": {
        "colab": {
          "base_uri": "https://localhost:8080/",
          "height": 115,
          "referenced_widgets": [
            "a89b8694b17a478b9e1ba27726000b3b",
            "6494ac407a42451aa02cbda4080d5d28",
            "b2790881621d4a5eadd2ebbfccede693",
            "433b142a8e4b4d2c852f15065102b03f",
            "c386e082723547bba36d18fb9f29cd75",
            "7fc7081368da44cab25725c4d4d6afba",
            "43fe1121d60a4cc9a42b3c3a735511d1",
            "133e7782ae9a4e27a773e96a5f2a48c9",
            "7a6b8f730d83406ebf03d30640814695",
            "4c3cfbec750843bd82dbf286bf16bb58",
            "02591092f65a482a846e2cec5e2785e9",
            "841ef501b17248e6b49a90aca3120f97",
            "5eac0843ca1e41518ae14a61e71cb102",
            "c170f0ad252d42a5bc9cd0d5b139aba3",
            "d186625d201c4da0b7f4429f6943ad0c",
            "f772a068ffec46459345db83036ead89"
          ]
        },
        "id": "SgSHhdsNSzYK",
        "outputId": "2959a53f-d2e8-43ff-b0b6-56a00f3f79ca"
      },
      "source": [
        "cv_train = train.map(remove_special_characters)\n",
        "cv_test = test.map(remove_special_characters)"
      ],
      "execution_count": null,
      "outputs": [
        {
          "output_type": "display_data",
          "data": {
            "application/vnd.jupyter.widget-view+json": {
              "model_id": "a89b8694b17a478b9e1ba27726000b3b",
              "version_minor": 0,
              "version_major": 2
            },
            "text/plain": [
              "HBox(children=(FloatProgress(value=0.0, max=18541.0), HTML(value='')))"
            ]
          },
          "metadata": {
            "tags": []
          }
        },
        {
          "output_type": "stream",
          "text": [
            "\n"
          ],
          "name": "stdout"
        },
        {
          "output_type": "display_data",
          "data": {
            "application/vnd.jupyter.widget-view+json": {
              "model_id": "7a6b8f730d83406ebf03d30640814695",
              "version_minor": 0,
              "version_major": 2
            },
            "text/plain": [
              "HBox(children=(FloatProgress(value=0.0, max=8760.0), HTML(value='')))"
            ]
          },
          "metadata": {
            "tags": []
          }
        },
        {
          "output_type": "stream",
          "text": [
            "\n"
          ],
          "name": "stdout"
        }
      ]
    },
    {
      "cell_type": "code",
      "metadata": {
        "colab": {
          "base_uri": "https://localhost:8080/",
          "height": 115,
          "referenced_widgets": [
            "828aa74cc2de4963812448e83e8a5078",
            "7a82b55b5b1540fa9095556b0b0e6891",
            "fd8bb18fc7e54c64a1a413ad4514bb86",
            "3ff0aef6b8094765856858db3aecd84e",
            "1e42f7dba1a1483dbca99f46427c4da9",
            "38c7a98c4ce94998b59a3c904e7c1ed3",
            "7fae86cd7e9349e8b462ec458d606b68",
            "d3c259bc19814234849a3c1a82ca3aee",
            "234adbc8cde14f35b47c89b64a493bc3",
            "64485ba1bedd435babee21d9e5c774c8",
            "8652febf507d4446b611f4d5779a55bd",
            "ba062d5a79af4335ac07ce0a71356556",
            "b8c4a2df363241dd8d0b962d352588cf",
            "b33dca09635043bcada4d86eb8677522",
            "df9cd92c6e8945e18ff981c20991d295",
            "d9202b3b769e4536ab98bbe3933fda45"
          ]
        },
        "id": "auig_uZf12mv",
        "outputId": "8992b2a1-bfcf-43bb-e992-c66848a203d4"
      },
      "source": [
        "cv_train = cv_train.filter(lambda x: os.path.getsize(x['path']) < 30000)\n",
        "cv_test = cv_test.filter(lambda x: os.path.getsize(x['path']) < 30000)"
      ],
      "execution_count": null,
      "outputs": [
        {
          "output_type": "display_data",
          "data": {
            "application/vnd.jupyter.widget-view+json": {
              "model_id": "828aa74cc2de4963812448e83e8a5078",
              "version_minor": 0,
              "version_major": 2
            },
            "text/plain": [
              "HBox(children=(FloatProgress(value=0.0, max=19.0), HTML(value='')))"
            ]
          },
          "metadata": {
            "tags": []
          }
        },
        {
          "output_type": "stream",
          "text": [
            "\n"
          ],
          "name": "stdout"
        },
        {
          "output_type": "display_data",
          "data": {
            "application/vnd.jupyter.widget-view+json": {
              "model_id": "234adbc8cde14f35b47c89b64a493bc3",
              "version_minor": 0,
              "version_major": 2
            },
            "text/plain": [
              "HBox(children=(FloatProgress(value=0.0, max=9.0), HTML(value='')))"
            ]
          },
          "metadata": {
            "tags": []
          }
        },
        {
          "output_type": "stream",
          "text": [
            "\n"
          ],
          "name": "stdout"
        }
      ]
    },
    {
      "cell_type": "markdown",
      "metadata": {
        "id": "Bzp_GObEeXJk"
      },
      "source": [
        "### Build Vocabulary"
      ]
    },
    {
      "cell_type": "code",
      "metadata": {
        "id": "nwklOPooS_J-"
      },
      "source": [
        "def extract_all_chars(batch):\n",
        "  all_text = batch[\"sentence\"]\n",
        "  vocab = list(set(all_text))\n",
        "  return {\"vocab\": [vocab], \"all_text\": [all_text]}"
      ],
      "execution_count": null,
      "outputs": []
    },
    {
      "cell_type": "code",
      "metadata": {
        "colab": {
          "base_uri": "https://localhost:8080/",
          "height": 115,
          "referenced_widgets": [
            "59d745e10c564a568c7fba4256bb0334",
            "c8dfea55ff28429ea97f14ed28533660",
            "dc3267429615434292c9934d28c32fc3",
            "b914e57018f74f58a29faca77248fbae",
            "17b6ae0424404fafa53adaa05b6e3134",
            "e8ad38b845b84a2aa11d849ab87659b0",
            "1cb6611029bb4c1790f3901ba434d802",
            "08b85874dabf4feba5a92c97df8e63ef",
            "3828866d651545469f01566b5d055a82",
            "7c08120a22f449e2b4d75fe61bb0fb7a",
            "008c121d11d14c77aaa4f2e8b34a5403",
            "fa974c0a38364261ba62112537a117e8",
            "050836faf70b433d81b93c1cbd8ffb3b",
            "533d1b09e0f9460392925c7a7f0b6457",
            "c56db221bf0e49688315d85b32551b84",
            "92598b95ffa04a028b351fa61df2875a"
          ]
        },
        "id": "0DKgkpO9VAnS",
        "outputId": "08e152f6-1f5b-445e-e68a-99312b6b5214"
      },
      "source": [
        "vocab_train = cv_train.map(extract_all_chars, batched=True, batch_size=1, keep_in_memory=True, remove_columns=cv_train.column_names)\n",
        "vocab_test = cv_test.map(extract_all_chars, batched=True, batch_size=1, keep_in_memory=True, remove_columns=cv_test.column_names)"
      ],
      "execution_count": null,
      "outputs": [
        {
          "output_type": "display_data",
          "data": {
            "application/vnd.jupyter.widget-view+json": {
              "model_id": "59d745e10c564a568c7fba4256bb0334",
              "version_minor": 0,
              "version_major": 2
            },
            "text/plain": [
              "HBox(children=(FloatProgress(value=0.0, max=6718.0), HTML(value='')))"
            ]
          },
          "metadata": {
            "tags": []
          }
        },
        {
          "output_type": "stream",
          "text": [
            "\n"
          ],
          "name": "stdout"
        },
        {
          "output_type": "display_data",
          "data": {
            "application/vnd.jupyter.widget-view+json": {
              "model_id": "3828866d651545469f01566b5d055a82",
              "version_minor": 0,
              "version_major": 2
            },
            "text/plain": [
              "HBox(children=(FloatProgress(value=0.0, max=2150.0), HTML(value='')))"
            ]
          },
          "metadata": {
            "tags": []
          }
        },
        {
          "output_type": "stream",
          "text": [
            "\n"
          ],
          "name": "stdout"
        }
      ]
    },
    {
      "cell_type": "code",
      "metadata": {
        "id": "E8b-63RxVxYW"
      },
      "source": [
        "vocab_list = list(set(\"\".join([sent[0] for sent in vocab_train[\"vocab\"]])) | set(\"\".join([sent[0] for sent in vocab_test[\"vocab\"]])))"
      ],
      "execution_count": null,
      "outputs": []
    },
    {
      "cell_type": "code",
      "metadata": {
        "id": "ZvLDO4AlrIFG"
      },
      "source": [
        "vocab_dict = {v: k for k, v in enumerate(vocab_list)}\n",
        "#vocab_dict"
      ],
      "execution_count": null,
      "outputs": []
    },
    {
      "cell_type": "code",
      "metadata": {
        "id": "9oHvxGyXtyCt"
      },
      "source": [
        "# replace whitespace to \"|\" to make it visible\n",
        "vocab_dict[\"|\"] = vocab_dict[\" \"] \n",
        "del vocab_dict[\" \"]"
      ],
      "execution_count": null,
      "outputs": []
    },
    {
      "cell_type": "code",
      "metadata": {
        "colab": {
          "base_uri": "https://localhost:8080/"
        },
        "id": "LK_TRDvGuFG2",
        "outputId": "e041413c-744a-4eb4-b64c-cb2e4217e27d"
      },
      "source": [
        "vocab_dict[\"[UNK]\"] = len(vocab_dict)\n",
        "vocab_dict[\"[PAD]\"] = len(vocab_dict)\n",
        "len(vocab_dict)"
      ],
      "execution_count": null,
      "outputs": [
        {
          "output_type": "execute_result",
          "data": {
            "text/plain": [
              "3188"
            ]
          },
          "metadata": {
            "tags": []
          },
          "execution_count": 14
        }
      ]
    },
    {
      "cell_type": "code",
      "metadata": {
        "id": "TnT1m-rcuKio"
      },
      "source": [
        "with open('/content/drive/MyDrive/585_Team_Folder/vocab_5.json', 'w') as vocab_file:\n",
        "    json.dump(vocab_dict, vocab_file)"
      ],
      "execution_count": null,
      "outputs": []
    },
    {
      "cell_type": "markdown",
      "metadata": {
        "id": "MYWZbu7pedn6"
      },
      "source": [
        "### Set up Tokenizer and Processor"
      ]
    },
    {
      "cell_type": "code",
      "metadata": {
        "id": "8j0hCg3iuYmb"
      },
      "source": [
        "#vocab_6 - 30000\n",
        "tokenizer = Wav2Vec2CTCTokenizer(\"/content/drive/MyDrive/585_Team_Folder/vocab_3w.json\", unk_token=\"[UNK]\", pad_token=\"[PAD]\", word_delimiter_token=\"\")\n",
        "feature_extractor = Wav2Vec2FeatureExtractor(feature_size=1, sampling_rate=16000, padding_value=0.0, do_normalize=True, return_attention_mask=True)\n",
        "processor = Wav2Vec2Processor(feature_extractor=feature_extractor, tokenizer=tokenizer)"
      ],
      "execution_count": null,
      "outputs": []
    },
    {
      "cell_type": "markdown",
      "metadata": {
        "id": "AZ17UEt3elVN"
      },
      "source": [
        "### Convert and resample"
      ]
    },
    {
      "cell_type": "code",
      "metadata": {
        "colab": {
          "base_uri": "https://localhost:8080/"
        },
        "id": "wRObEJdPvNrB",
        "outputId": "659c850c-7060-4d26-87f4-bf78fe7d04ac"
      },
      "source": [
        "cv_train[0]"
      ],
      "execution_count": null,
      "outputs": [
        {
          "output_type": "execute_result",
          "data": {
            "text/plain": [
              "{'path': '/root/.cache/huggingface/datasets/downloads/extracted/6a9f2b2b774324aca897d6c3873fd8712e331ada5b3d83a3d34d7636777a6ba0/cv-corpus-6.1-2020-12-11/zh-CN/clips/common_voice_zh-CN_22063448.mp3',\n",
              " 'sentence': '道光十四年出生 '}"
            ]
          },
          "metadata": {
            "tags": []
          },
          "execution_count": 10
        }
      ]
    },
    {
      "cell_type": "code",
      "metadata": {
        "id": "ZpbNL9jdKzIN"
      },
      "source": [
        "def speech_file_to_array_fn(batch):\n",
        "    speech_array, sampling_rate = torchaudio.load(batch[\"path\"])\n",
        "    batch[\"speech\"] = speech_array[0].numpy()\n",
        "    batch[\"sampling_rate\"] = sampling_rate\n",
        "    batch[\"target_text\"] = batch[\"sentence\"]\n",
        "    return batch"
      ],
      "execution_count": null,
      "outputs": []
    },
    {
      "cell_type": "code",
      "metadata": {
        "colab": {
          "base_uri": "https://localhost:8080/",
          "height": 115,
          "referenced_widgets": [
            "651f06d71cc944f39e036b861fa13ce5",
            "073c5ecb8f1f44c48a5401eb713aa613",
            "5175098dab5e4bb398e527d26b2e9c88",
            "00dadc3c17c641b5b1a266660d3353de",
            "c10277e586414595951169f647d4f3c6",
            "65fc7987ded543e3b9d82e4def6e8a24",
            "126f0e2536954be59cfc2b5510c3d28a",
            "22d967c67ad04fb2adfa0cd6d981f4c8",
            "882d50187ae54f9e84d693e51359c516",
            "f90136d2792a45488a83c26ee2c42041",
            "516590aaccad465bbc24e51cfea1ba1a",
            "fb2265945d5440c8b3b4cbaa937d4884",
            "0fa7b0b95d75430d8160eba9db7d6d3c",
            "a0507ffeee65410789b45c7abe79e653",
            "3685130c97e5407b98b38668de329d27",
            "ea927ebd65da49ad9f90d0f3d0b77af7"
          ]
        },
        "id": "97eTRExRK6B7",
        "outputId": "f5eff030-3d8a-4ed3-b0ed-11a632f879ea"
      },
      "source": [
        "cv_train = cv_train.map(speech_file_to_array_fn, remove_columns=cv_train.column_names)\n",
        "cv_test = cv_test.map(speech_file_to_array_fn, remove_columns=cv_test.column_names)"
      ],
      "execution_count": null,
      "outputs": [
        {
          "output_type": "display_data",
          "data": {
            "application/vnd.jupyter.widget-view+json": {
              "model_id": "651f06d71cc944f39e036b861fa13ce5",
              "version_minor": 0,
              "version_major": 2
            },
            "text/plain": [
              "HBox(children=(FloatProgress(value=0.0, max=4457.0), HTML(value='')))"
            ]
          },
          "metadata": {
            "tags": []
          }
        },
        {
          "output_type": "stream",
          "text": [
            "\n"
          ],
          "name": "stdout"
        },
        {
          "output_type": "display_data",
          "data": {
            "application/vnd.jupyter.widget-view+json": {
              "model_id": "882d50187ae54f9e84d693e51359c516",
              "version_minor": 0,
              "version_major": 2
            },
            "text/plain": [
              "HBox(children=(FloatProgress(value=0.0, max=1266.0), HTML(value='')))"
            ]
          },
          "metadata": {
            "tags": []
          }
        },
        {
          "output_type": "stream",
          "text": [
            "\n"
          ],
          "name": "stdout"
        }
      ]
    },
    {
      "cell_type": "code",
      "metadata": {
        "id": "_KBeBU00v6gW"
      },
      "source": [
        "def resample(batch):\n",
        "    batch[\"speech\"] = librosa.resample(np.asarray(batch[\"speech\"]), 48_000, 16_000)\n",
        "    batch[\"sampling_rate\"] = 16_000\n",
        "    return batch"
      ],
      "execution_count": null,
      "outputs": []
    },
    {
      "cell_type": "code",
      "metadata": {
        "colab": {
          "base_uri": "https://localhost:8080/",
          "height": 1000,
          "referenced_widgets": [
            "5a23490dfa9045b68dd671f80fa49cdc",
            "5ff334f248ca4bcbba57f0ae335bc724",
            "fd507cfeb3624dfc9868cdda0d53792d",
            "30d947221f554035a949b4294dbbde0b",
            "8d5bd066ed0343b380db5f5ad12d7d89",
            "be4276206e8f4c6695068f63a9438c41",
            "d644f6887b9d453283053c1c98a1d5fa",
            "4a4b6c96d6044797b878847b7a99a8ee",
            "87d6b8ab219a4155a6deb4d65a3ad55b",
            "b0877da8cbe24ac4a9e454f747329087",
            "2f42cd844e05443e89fea0f2c11eadb2",
            "60bee91c8986464a844726779c066c62",
            "7380ecbc1676410e904868546c8bf297",
            "a790af98577a4751acb1c0b672ba10bd",
            "1729c3291a7a4e859671c60e6b398190",
            "11f4055247b64031869b792a0ffdb2de",
            "7135ef1caa484ce2928940daaa09f9d6",
            "b247dc2e6d7142d899d1915c42b10b72",
            "9ab7e3b479ab4d2ebb4042ffe5d1a1b2",
            "93aafc03eff24d34ad8704b4c4e3d9ea",
            "e528757bb5774a8aa23ce0c8d8198ecf",
            "2c45e1e1f57f40b59bca302a68e09925",
            "7b93340482a74ce9934db29da003d618",
            "2a56a1d071d14134a900c17fb9f13458",
            "2fd4785e9a004bd1ac4558351dd2a7eb",
            "6f625183193c4c2eb9c24fae222a9a80",
            "06df181c6c614edfb4783188d177ceed",
            "f1199a759eac45838f8ee7d6da03cd1a",
            "5d49b6c51f6c4152a8a0be6b0e487bf2",
            "b318d9e83b5d43979b2adabbc7a0c030",
            "030826b5f48b4c28a77a4d42117fe55a",
            "265647caf9d642cdba269bd9579a1d58"
          ]
        },
        "id": "mpwyGFdAwJ_q",
        "outputId": "031005e3-663d-4fab-e873-798fa2f5a950"
      },
      "source": [
        "cv_train = cv_train.map(resample, num_proc=4)\n",
        "cv_test = cv_test.map(resample, num_proc=4)"
      ],
      "execution_count": null,
      "outputs": [
        {
          "output_type": "stream",
          "text": [
            " "
          ],
          "name": "stdout"
        },
        {
          "output_type": "display_data",
          "data": {
            "application/vnd.jupyter.widget-view+json": {
              "model_id": "5a23490dfa9045b68dd671f80fa49cdc",
              "version_minor": 0,
              "version_major": 2
            },
            "text/plain": [
              "HBox(children=(FloatProgress(value=0.0, description='#0', max=1115.0, style=ProgressStyle(description_width='i…"
            ]
          },
          "metadata": {
            "tags": []
          }
        },
        {
          "output_type": "stream",
          "text": [
            "\n",
            " "
          ],
          "name": "stdout"
        },
        {
          "output_type": "display_data",
          "data": {
            "application/vnd.jupyter.widget-view+json": {
              "model_id": "87d6b8ab219a4155a6deb4d65a3ad55b",
              "version_minor": 0,
              "version_major": 2
            },
            "text/plain": [
              "HBox(children=(FloatProgress(value=0.0, description='#1', max=1114.0, style=ProgressStyle(description_width='i…"
            ]
          },
          "metadata": {
            "tags": []
          }
        },
        {
          "output_type": "stream",
          "text": [
            " "
          ],
          "name": "stdout"
        },
        {
          "output_type": "display_data",
          "data": {
            "application/vnd.jupyter.widget-view+json": {
              "model_id": "7135ef1caa484ce2928940daaa09f9d6",
              "version_minor": 0,
              "version_major": 2
            },
            "text/plain": [
              "HBox(children=(FloatProgress(value=0.0, description='#2', max=1114.0, style=ProgressStyle(description_width='i…"
            ]
          },
          "metadata": {
            "tags": []
          }
        },
        {
          "output_type": "stream",
          "text": [
            " "
          ],
          "name": "stdout"
        },
        {
          "output_type": "display_data",
          "data": {
            "application/vnd.jupyter.widget-view+json": {
              "model_id": "2fd4785e9a004bd1ac4558351dd2a7eb",
              "version_minor": 0,
              "version_major": 2
            },
            "text/plain": [
              "HBox(children=(FloatProgress(value=0.0, description='#3', max=1114.0, style=ProgressStyle(description_width='i…"
            ]
          },
          "metadata": {
            "tags": []
          }
        },
        {
          "output_type": "stream",
          "text": [
            "\n"
          ],
          "name": "stdout"
        },
        {
          "output_type": "stream",
          "text": [
            "Process ForkPoolWorker-17:\n",
            "Process ForkPoolWorker-16:\n",
            "Process ForkPoolWorker-15:\n",
            "Process ForkPoolWorker-14:\n",
            "Traceback (most recent call last):\n",
            "Traceback (most recent call last):\n",
            "Traceback (most recent call last):\n",
            "Traceback (most recent call last):\n",
            "  File \"/usr/local/lib/python3.7/dist-packages/multiprocess/process.py\", line 297, in _bootstrap\n",
            "    self.run()\n",
            "  File \"/usr/local/lib/python3.7/dist-packages/multiprocess/process.py\", line 297, in _bootstrap\n",
            "    self.run()\n",
            "  File \"/usr/local/lib/python3.7/dist-packages/multiprocess/process.py\", line 297, in _bootstrap\n",
            "    self.run()\n",
            "  File \"/usr/local/lib/python3.7/dist-packages/multiprocess/process.py\", line 297, in _bootstrap\n",
            "    self.run()\n",
            "  File \"/usr/local/lib/python3.7/dist-packages/multiprocess/process.py\", line 99, in run\n",
            "    self._target(*self._args, **self._kwargs)\n",
            "  File \"/usr/local/lib/python3.7/dist-packages/multiprocess/process.py\", line 99, in run\n",
            "    self._target(*self._args, **self._kwargs)\n",
            "  File \"/usr/local/lib/python3.7/dist-packages/multiprocess/pool.py\", line 110, in worker\n",
            "    task = get()\n",
            "  File \"/usr/local/lib/python3.7/dist-packages/multiprocess/process.py\", line 99, in run\n",
            "    self._target(*self._args, **self._kwargs)\n",
            "  File \"/usr/local/lib/python3.7/dist-packages/multiprocess/queues.py\", line 354, in get\n",
            "    with self._rlock:\n",
            "  File \"/usr/local/lib/python3.7/dist-packages/multiprocess/pool.py\", line 110, in worker\n",
            "    task = get()\n",
            "  File \"/usr/local/lib/python3.7/dist-packages/multiprocess/synchronize.py\", line 102, in __enter__\n",
            "    return self._semlock.__enter__()\n",
            "  File \"/usr/local/lib/python3.7/dist-packages/multiprocess/pool.py\", line 110, in worker\n",
            "    task = get()\n",
            "KeyboardInterrupt\n",
            "  File \"/usr/local/lib/python3.7/dist-packages/multiprocess/queues.py\", line 354, in get\n",
            "    with self._rlock:\n",
            "  File \"/usr/local/lib/python3.7/dist-packages/multiprocess/process.py\", line 99, in run\n",
            "    self._target(*self._args, **self._kwargs)\n",
            "  File \"/usr/local/lib/python3.7/dist-packages/multiprocess/pool.py\", line 110, in worker\n",
            "    task = get()\n",
            "  File \"/usr/local/lib/python3.7/dist-packages/multiprocess/synchronize.py\", line 102, in __enter__\n",
            "    return self._semlock.__enter__()\n",
            "  File \"/usr/local/lib/python3.7/dist-packages/multiprocess/queues.py\", line 354, in get\n",
            "    with self._rlock:\n",
            "  File \"/usr/local/lib/python3.7/dist-packages/multiprocess/synchronize.py\", line 102, in __enter__\n",
            "    return self._semlock.__enter__()\n",
            "  File \"/usr/local/lib/python3.7/dist-packages/multiprocess/queues.py\", line 354, in get\n",
            "    with self._rlock:\n",
            "KeyboardInterrupt\n",
            "  File \"/usr/local/lib/python3.7/dist-packages/multiprocess/synchronize.py\", line 102, in __enter__\n",
            "    return self._semlock.__enter__()\n",
            "KeyboardInterrupt\n",
            "KeyboardInterrupt\n"
          ],
          "name": "stderr"
        }
      ]
    },
    {
      "cell_type": "code",
      "metadata": {
        "colab": {
          "base_uri": "https://localhost:8080/",
          "height": 75
        },
        "id": "bHA3hd7RwTot",
        "outputId": "92518a3c-29b6-4595-da78-5677d385737e"
      },
      "source": [
        "rand_int = random.randint(0, len(cv_train)-1)\n",
        "\n",
        "ipd.Audio(data=np.asarray(cv_train[rand_int][\"speech\"]), autoplay=True, rate=16000)"
      ],
      "execution_count": null,
      "outputs": [
        {
          "output_type": "execute_result",
          "data": {
            "text/html": [
              "\n",
              "                <audio controls=\"controls\" autoplay=\"autoplay\">\n",
              "                    <source src=\"data:audio/wav;base64,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\" type=\"audio/wav\" />\n",
              "                    Your browser does not support the audio element.\n",
              "                </audio>\n",
              "              "
            ],
            "text/plain": [
              "<IPython.lib.display.Audio object>"
            ]
          },
          "metadata": {
            "tags": []
          },
          "execution_count": 51
        }
      ]
    },
    {
      "cell_type": "code",
      "metadata": {
        "colab": {
          "base_uri": "https://localhost:8080/"
        },
        "id": "5526a-QHYXXz",
        "outputId": "4fe77fb9-bb39-4951-edf7-7fe95c862f6b"
      },
      "source": [
        "#rand_int = random.randint(0, len(cv_train)-1)\n",
        "\n",
        "print(\"Target text:\", cv_train[rand_int][\"target_text\"])\n",
        "print(\"Input array shape:\", np.asarray(cv_train[rand_int][\"speech\"]).shape)\n",
        "print(\"Sampling rate:\", cv_train[rand_int][\"sampling_rate\"])"
      ],
      "execution_count": null,
      "outputs": [
        {
          "output_type": "stream",
          "text": [
            "Target text: 莫朗人口变化图示 \n",
            "Input array shape: (57600,)\n",
            "Sampling rate: 16000\n"
          ],
          "name": "stdout"
        }
      ]
    },
    {
      "cell_type": "markdown",
      "metadata": {
        "id": "ziuPeVm0eum1"
      },
      "source": [
        "### Prepare dataset for training"
      ]
    },
    {
      "cell_type": "code",
      "metadata": {
        "id": "S8gEmG9vwYPH"
      },
      "source": [
        "def prepare_dataset(batch):\n",
        "    batch[\"input_values\"] = processor(batch[\"speech\"], sampling_rate=batch[\"sampling_rate\"][0]).input_values\n",
        "    with processor.as_target_processor():\n",
        "        batch[\"labels\"] = processor(batch[\"target_text\"]).input_ids\n",
        "    return batch"
      ],
      "execution_count": null,
      "outputs": []
    },
    {
      "cell_type": "code",
      "metadata": {
        "id": "4eJfTB6FEZ9V"
      },
      "source": [
        "cv_train = cv_train.map(prepare_dataset, remove_columns=cv_train.column_names, batch_size=8, num_proc=4, batched=True)\n",
        "cv_test = cv_test.map(prepare_dataset, remove_columns=cv_test.column_names, batch_size=8, num_proc=4, batched=True)"
      ],
      "execution_count": null,
      "outputs": []
    },
    {
      "cell_type": "markdown",
      "metadata": {
        "id": "fjgapUQCe1VS"
      },
      "source": [
        "# Training"
      ]
    },
    {
      "cell_type": "code",
      "metadata": {
        "id": "ksl3VsMCY6XG"
      },
      "source": [
        "from dataclasses import dataclass, field\n",
        "from typing import Any, Dict, List, Optional, Union\n",
        "\n",
        "@dataclass\n",
        "class DataCollatorCTCWithPadding:\n",
        "    \"\"\"\n",
        "    Data collator that will dynamically pad the inputs received.\n",
        "    Args:\n",
        "        processor (:class:`~transformers.Wav2Vec2Processor`)\n",
        "            The processor used for proccessing the data.\n",
        "        padding (:obj:`bool`, :obj:`str` or :class:`~transformers.tokenization_utils_base.PaddingStrategy`, `optional`, defaults to :obj:`True`):\n",
        "            Select a strategy to pad the returned sequences (according to the model's padding side and padding index)\n",
        "            among:\n",
        "            * :obj:`True` or :obj:`'longest'`: Pad to the longest sequence in the batch (or no padding if only a single\n",
        "              sequence if provided).\n",
        "            * :obj:`'max_length'`: Pad to a maximum length specified with the argument :obj:`max_length` or to the\n",
        "              maximum acceptable input length for the model if that argument is not provided.\n",
        "            * :obj:`False` or :obj:`'do_not_pad'` (default): No padding (i.e., can output a batch with sequences of\n",
        "              different lengths).\n",
        "        max_length (:obj:`int`, `optional`):\n",
        "            Maximum length of the ``input_values`` of the returned list and optionally padding length (see above).\n",
        "        max_length_labels (:obj:`int`, `optional`):\n",
        "            Maximum length of the ``labels`` returned list and optionally padding length (see above).\n",
        "        pad_to_multiple_of (:obj:`int`, `optional`):\n",
        "            If set will pad the sequence to a multiple of the provided value.\n",
        "            This is especially useful to enable the use of Tensor Cores on NVIDIA hardware with compute capability >=\n",
        "            7.5 (Volta).\n",
        "    \"\"\"\n",
        "\n",
        "    processor: Wav2Vec2Processor\n",
        "    padding: Union[bool, str] = True\n",
        "    max_length: Optional[int] = None\n",
        "    max_length_labels: Optional[int] = None\n",
        "    pad_to_multiple_of: Optional[int] = None\n",
        "    pad_to_multiple_of_labels: Optional[int] = None\n",
        "\n",
        "    def __call__(self, features: List[Dict[str, Union[List[int], torch.Tensor]]]) -> Dict[str, torch.Tensor]:\n",
        "        # split inputs and labels since they have to be of different lenghts and need\n",
        "        # different padding methods\n",
        "        input_features = [{\"input_values\": feature[\"input_values\"]} for feature in features]\n",
        "        label_features = [{\"input_ids\": feature[\"labels\"]} for feature in features]\n",
        "\n",
        "        batch = self.processor.pad(\n",
        "            input_features,\n",
        "            padding=self.padding,\n",
        "            max_length=self.max_length,\n",
        "            pad_to_multiple_of=self.pad_to_multiple_of,\n",
        "            return_tensors=\"pt\",\n",
        "        )\n",
        "        with self.processor.as_target_processor():\n",
        "            labels_batch = self.processor.pad(\n",
        "                label_features,\n",
        "                padding=self.padding,\n",
        "                max_length=self.max_length_labels,\n",
        "                pad_to_multiple_of=self.pad_to_multiple_of_labels,\n",
        "                return_tensors=\"pt\",\n",
        "            )\n",
        "\n",
        "        # replace padding with -100 to ignore loss correctly\n",
        "        labels = labels_batch[\"input_ids\"].masked_fill(labels_batch.attention_mask.ne(1), -100)\n",
        "\n",
        "        batch[\"labels\"] = labels\n",
        "\n",
        "        return batch"
      ],
      "execution_count": null,
      "outputs": []
    },
    {
      "cell_type": "code",
      "metadata": {
        "id": "P-z2ROvEjHff"
      },
      "source": [
        "data_collator = DataCollatorCTCWithPadding(processor=processor, padding=True)"
      ],
      "execution_count": null,
      "outputs": []
    },
    {
      "cell_type": "code",
      "metadata": {
        "colab": {
          "base_uri": "https://localhost:8080/",
          "height": 100,
          "referenced_widgets": [
            "fb9dde788cbc40c0be909c8630a5dda1",
            "60d2e08a57ec4711acd09c57095b8729",
            "109e5561e3854c099e6421af4d22ecb4",
            "82507184201d4577a742654c67d090d7",
            "2171363c58624ceeaa8538eea1c43477",
            "bad556dcae3844faaf4cf27fbea109d6",
            "e657bdde121a432e8cd7c98ed97256a5",
            "82f2e897fdc74e8f9fffd90bddf0194b"
          ]
        },
        "id": "EZoxLGrMjKrs",
        "outputId": "1d20fa38-490b-4a29-b7fa-8ebb7883fef0"
      },
      "source": [
        "cer_metric = datasets.load_metric(\"cer\")"
      ],
      "execution_count": null,
      "outputs": [
        {
          "output_type": "display_data",
          "data": {
            "application/vnd.jupyter.widget-view+json": {
              "model_id": "fb9dde788cbc40c0be909c8630a5dda1",
              "version_minor": 0,
              "version_major": 2
            },
            "text/plain": [
              "HBox(children=(FloatProgress(value=0.0, description='Downloading', max=1878.0, style=ProgressStyle(description…"
            ]
          },
          "metadata": {
            "tags": []
          }
        },
        {
          "output_type": "stream",
          "text": [
            "Couldn't find file locally at cer/cer.py, or remotely at https://raw.githubusercontent.com/huggingface/datasets/1.5.0/metrics/cer/cer.py.\n",
            "The file was picked from the master branch on github instead at https://raw.githubusercontent.com/huggingface/datasets/master/metrics/cer/cer.py.\n"
          ],
          "name": "stderr"
        },
        {
          "output_type": "stream",
          "text": [
            "\n"
          ],
          "name": "stdout"
        }
      ]
    },
    {
      "cell_type": "code",
      "metadata": {
        "id": "i7ANcLFfjK1r"
      },
      "source": [
        "def compute_metrics(pred):\n",
        "    pred_logits = pred.predictions\n",
        "    pred_ids = np.argmax(pred_logits, axis=-1)\n",
        "\n",
        "    pred.label_ids[pred.label_ids == -100] = processor.tokenizer.pad_token_id\n",
        "\n",
        "    pred_str = processor.batch_decode(pred_ids)\n",
        "    # we do not want to group tokens when computing the metrics\n",
        "    label_str = processor.batch_decode(pred.label_ids, group_tokens=False)\n",
        "\n",
        "    cer = cer_metric.compute(predictions=pred_str, references=label_str)\n",
        "\n",
        "    return {\"cer\": cer}"
      ],
      "execution_count": null,
      "outputs": []
    },
    {
      "cell_type": "code",
      "metadata": {
        "colab": {
          "base_uri": "https://localhost:8080/",
          "height": 169,
          "referenced_widgets": [
            "bfd0a8f637734156b1b238a7e66b205d",
            "e07334306ac0418d901385a61a00f24c",
            "cb39fc88e7d94b8aa3e8b5c8bda3130a",
            "31a65110510a44428f7499365993ab66",
            "147a25cc45ce4398aae544d8164b70dc",
            "a72fb1eac82c4f958f42b179f65092e2",
            "3c3672045b794d268c709f288243c992",
            "5495e16aa21447c4bb350c03e2713c19",
            "8df8474d02574c51891ac86ed6c9bb59",
            "693fc1321347468faeb0fe9fa47a2a86",
            "a1897a1c5bf14763a28c92c026a6be2d",
            "59191945a8104c2d97db726352632c18",
            "18c42dccf63b4d028cddfe54802aa7af",
            "c01f106de2c94f17ba9ca0da1098deca",
            "888085a4e962481f98a5c3545cb9a952",
            "e053ef95f74041d4bece76cd91d7acf0"
          ]
        },
        "id": "EMOlTlMxjWq-",
        "outputId": "5b0c9fc6-689a-407e-b8fc-a6e63f00fb79"
      },
      "source": [
        "from transformers import Wav2Vec2ForCTC\n",
        "\n",
        "model = Wav2Vec2ForCTC.from_pretrained(\n",
        "    \"facebook/wav2vec2-large-xlsr-53\", \n",
        "    attention_dropout=0.1,\n",
        "    hidden_dropout=0.1,\n",
        "    feat_proj_dropout=0.0,\n",
        "    mask_time_prob=0.05, # important - can be optimized\n",
        "    #mask_feature_prob should also be optimized 0.05 - 0.025. not too important.\n",
        "    layerdrop=0.1,\n",
        "    gradient_checkpointing=True, \n",
        "    ctc_loss_reduction=\"mean\", \n",
        "    pad_token_id=processor.tokenizer.pad_token_id,\n",
        "    vocab_size=len(processor.tokenizer)\n",
        ")\n",
        "#device = torch.device(\"cuda:0\" if torch.cuda.is_available() else \"cpu\")\n",
        "#model.to(device)"
      ],
      "execution_count": null,
      "outputs": [
        {
          "output_type": "display_data",
          "data": {
            "application/vnd.jupyter.widget-view+json": {
              "model_id": "bfd0a8f637734156b1b238a7e66b205d",
              "version_minor": 0,
              "version_major": 2
            },
            "text/plain": [
              "HBox(children=(FloatProgress(value=0.0, description='Downloading', max=1451.0, style=ProgressStyle(description…"
            ]
          },
          "metadata": {
            "tags": []
          }
        },
        {
          "output_type": "stream",
          "text": [
            "\n"
          ],
          "name": "stdout"
        },
        {
          "output_type": "display_data",
          "data": {
            "application/vnd.jupyter.widget-view+json": {
              "model_id": "8df8474d02574c51891ac86ed6c9bb59",
              "version_minor": 0,
              "version_major": 2
            },
            "text/plain": [
              "HBox(children=(FloatProgress(value=0.0, description='Downloading', max=1261920069.0, style=ProgressStyle(descr…"
            ]
          },
          "metadata": {
            "tags": []
          }
        },
        {
          "output_type": "stream",
          "text": [
            "\n"
          ],
          "name": "stdout"
        },
        {
          "output_type": "stream",
          "text": [
            "Some weights of Wav2Vec2ForCTC were not initialized from the model checkpoint at facebook/wav2vec2-large-xlsr-53 and are newly initialized: ['lm_head.weight', 'lm_head.bias']\n",
            "You should probably TRAIN this model on a down-stream task to be able to use it for predictions and inference.\n"
          ],
          "name": "stderr"
        }
      ]
    },
    {
      "cell_type": "code",
      "metadata": {
        "id": "ftKyqDajjWwR"
      },
      "source": [
        "model.freeze_feature_extractor()"
      ],
      "execution_count": null,
      "outputs": []
    },
    {
      "cell_type": "code",
      "metadata": {
        "id": "UF_D3QI-jW26"
      },
      "source": [
        "from transformers import TrainingArguments\n",
        "\n",
        "training_args = TrainingArguments(\n",
        "  output_dir=\"/content/drive/MyDrive/585_Team_Folder/model_3/\",\n",
        "  group_by_length=True,\n",
        "  per_device_train_batch_size=2,\n",
        "  gradient_accumulation_steps=16,\n",
        "  evaluation_strategy=\"steps\",\n",
        "  num_train_epochs=30,\n",
        "  #max_steps = 2000,\n",
        "  fp16=True,\n",
        "  save_steps=400,\n",
        "  eval_steps=400,\n",
        "  logging_steps=400,\n",
        "  learning_rate=3e-4,\n",
        "  warmup_steps=500,\n",
        "  save_total_limit=2,\n",
        "  load_best_model_at_end = True\n",
        ")"
      ],
      "execution_count": null,
      "outputs": []
    },
    {
      "cell_type": "code",
      "metadata": {
        "id": "pgliTC2ujpRs"
      },
      "source": [
        "from transformers import Trainer\n",
        "\n",
        "trainer = Trainer(\n",
        "    model=model,\n",
        "    data_collator=data_collator,\n",
        "    args=training_args,\n",
        "    compute_metrics=compute_metrics,\n",
        "    train_dataset=cv_train,\n",
        "    eval_dataset=cv_test,\n",
        "    tokenizer=processor.feature_extractor,\n",
        ")"
      ],
      "execution_count": null,
      "outputs": []
    },
    {
      "cell_type": "code",
      "metadata": {
        "id": "9JaEHO0cYTHj"
      },
      "source": [
        "#gc.collect()\n",
        "#torch.cuda.empty_cache()"
      ],
      "execution_count": null,
      "outputs": []
    },
    {
      "cell_type": "code",
      "metadata": {
        "id": "QNYthPghjtWL",
        "colab": {
          "base_uri": "https://localhost:8080/",
          "height": 576
        },
        "outputId": "daef75b7-1061-45d5-818f-fe9b3223f2f7"
      },
      "source": [
        "trainer.train()"
      ],
      "execution_count": null,
      "outputs": [
        {
          "output_type": "stream",
          "text": [
            "/usr/local/lib/python3.7/dist-packages/torch/optim/lr_scheduler.py:134: UserWarning: Detected call of `lr_scheduler.step()` before `optimizer.step()`. In PyTorch 1.1.0 and later, you should call them in the opposite order: `optimizer.step()` before `lr_scheduler.step()`.  Failure to do this will result in PyTorch skipping the first value of the learning rate schedule. See more details at https://pytorch.org/docs/stable/optim.html#how-to-adjust-learning-rate\n",
            "  \"https://pytorch.org/docs/stable/optim.html#how-to-adjust-learning-rate\", UserWarning)\n"
          ],
          "name": "stderr"
        },
        {
          "output_type": "display_data",
          "data": {
            "text/html": [
              "\n",
              "    <div>\n",
              "        <style>\n",
              "            /* Turns off some styling */\n",
              "            progress {\n",
              "                /* gets rid of default border in Firefox and Opera. */\n",
              "                border: none;\n",
              "                /* Needs to be in here for Safari polyfill so background images work as expected. */\n",
              "                background-size: auto;\n",
              "            }\n",
              "        </style>\n",
              "      \n",
              "      <progress value='1033' max='4170' style='width:300px; height:20px; vertical-align: middle;'></progress>\n",
              "      [1033/4170 1:14:22 < 3:46:19, 0.23 it/s, Epoch 7.42/30]\n",
              "    </div>\n",
              "    <table border=\"1\" class=\"dataframe\">\n",
              "  <thead>\n",
              "    <tr style=\"text-align: left;\">\n",
              "      <th>Step</th>\n",
              "      <th>Training Loss</th>\n",
              "      <th>Validation Loss</th>\n",
              "      <th>Cer</th>\n",
              "      <th>Runtime</th>\n",
              "      <th>Samples Per Second</th>\n",
              "    </tr>\n",
              "  </thead>\n",
              "  <tbody>\n",
              "    <tr>\n",
              "      <td>400</td>\n",
              "      <td>46.901000</td>\n",
              "      <td>7.306947</td>\n",
              "      <td>0.999485</td>\n",
              "      <td>69.696600</td>\n",
              "      <td>18.164000</td>\n",
              "    </tr>\n",
              "    <tr>\n",
              "      <td>800</td>\n",
              "      <td>7.072800</td>\n",
              "      <td>7.097707</td>\n",
              "      <td>0.999485</td>\n",
              "      <td>63.531200</td>\n",
              "      <td>19.927000</td>\n",
              "    </tr>\n",
              "  </tbody>\n",
              "</table><p>"
            ],
            "text/plain": [
              "<IPython.core.display.HTML object>"
            ]
          },
          "metadata": {
            "tags": []
          }
        },
        {
          "output_type": "display_data",
          "data": {
            "text/html": [
              "\n",
              "    <div>\n",
              "        <style>\n",
              "            /* Turns off some styling */\n",
              "            progress {\n",
              "                /* gets rid of default border in Firefox and Opera. */\n",
              "                border: none;\n",
              "                /* Needs to be in here for Safari polyfill so background images work as expected. */\n",
              "                background-size: auto;\n",
              "            }\n",
              "        </style>\n",
              "      \n",
              "      <progress value='4170' max='4170' style='width:300px; height:20px; vertical-align: middle;'></progress>\n",
              "      [4170/4170 5:03:21, Epoch 29/30]\n",
              "    </div>\n",
              "    <table border=\"1\" class=\"dataframe\">\n",
              "  <thead>\n",
              "    <tr style=\"text-align: left;\">\n",
              "      <th>Step</th>\n",
              "      <th>Training Loss</th>\n",
              "      <th>Validation Loss</th>\n",
              "      <th>Cer</th>\n",
              "      <th>Runtime</th>\n",
              "      <th>Samples Per Second</th>\n",
              "    </tr>\n",
              "  </thead>\n",
              "  <tbody>\n",
              "    <tr>\n",
              "      <td>400</td>\n",
              "      <td>46.901000</td>\n",
              "      <td>7.306947</td>\n",
              "      <td>0.999485</td>\n",
              "      <td>69.696600</td>\n",
              "      <td>18.164000</td>\n",
              "    </tr>\n",
              "    <tr>\n",
              "      <td>800</td>\n",
              "      <td>7.072800</td>\n",
              "      <td>7.097707</td>\n",
              "      <td>0.999485</td>\n",
              "      <td>63.531200</td>\n",
              "      <td>19.927000</td>\n",
              "    </tr>\n",
              "    <tr>\n",
              "      <td>1200</td>\n",
              "      <td>5.935100</td>\n",
              "      <td>4.284671</td>\n",
              "      <td>0.830009</td>\n",
              "      <td>64.794100</td>\n",
              "      <td>19.539000</td>\n",
              "    </tr>\n",
              "    <tr>\n",
              "      <td>1600</td>\n",
              "      <td>3.756400</td>\n",
              "      <td>3.522993</td>\n",
              "      <td>0.758847</td>\n",
              "      <td>63.077100</td>\n",
              "      <td>20.071000</td>\n",
              "    </tr>\n",
              "    <tr>\n",
              "      <td>2000</td>\n",
              "      <td>3.067000</td>\n",
              "      <td>3.117598</td>\n",
              "      <td>0.717797</td>\n",
              "      <td>64.965800</td>\n",
              "      <td>19.487000</td>\n",
              "    </tr>\n",
              "    <tr>\n",
              "      <td>2400</td>\n",
              "      <td>2.551200</td>\n",
              "      <td>2.758144</td>\n",
              "      <td>0.672886</td>\n",
              "      <td>63.277100</td>\n",
              "      <td>20.007000</td>\n",
              "    </tr>\n",
              "    <tr>\n",
              "      <td>2800</td>\n",
              "      <td>2.134400</td>\n",
              "      <td>2.492286</td>\n",
              "      <td>0.631064</td>\n",
              "      <td>64.719900</td>\n",
              "      <td>19.561000</td>\n",
              "    </tr>\n",
              "    <tr>\n",
              "      <td>3200</td>\n",
              "      <td>1.850700</td>\n",
              "      <td>2.349797</td>\n",
              "      <td>0.607386</td>\n",
              "      <td>63.487000</td>\n",
              "      <td>19.941000</td>\n",
              "    </tr>\n",
              "    <tr>\n",
              "      <td>3600</td>\n",
              "      <td>1.615800</td>\n",
              "      <td>2.271907</td>\n",
              "      <td>0.592459</td>\n",
              "      <td>64.170700</td>\n",
              "      <td>19.729000</td>\n",
              "    </tr>\n",
              "    <tr>\n",
              "      <td>4000</td>\n",
              "      <td>1.482400</td>\n",
              "      <td>2.198100</td>\n",
              "      <td>0.578819</td>\n",
              "      <td>62.834300</td>\n",
              "      <td>20.148000</td>\n",
              "    </tr>\n",
              "  </tbody>\n",
              "</table><p>"
            ],
            "text/plain": [
              "<IPython.core.display.HTML object>"
            ]
          },
          "metadata": {
            "tags": []
          }
        },
        {
          "output_type": "execute_result",
          "data": {
            "text/plain": [
              "TrainOutput(global_step=4170, training_loss=7.383554940715396, metrics={'train_runtime': 18206.1434, 'train_samples_per_second': 0.229, 'total_flos': 1.2290634423088378e+19, 'epoch': 30.0, 'init_mem_cpu_alloc_delta': 900878336, 'init_mem_gpu_alloc_delta': 1273009664, 'init_mem_cpu_peaked_delta': 0, 'init_mem_gpu_peaked_delta': 0, 'train_mem_cpu_alloc_delta': 4390055936, 'train_mem_gpu_alloc_delta': 5083933696, 'train_mem_cpu_peaked_delta': 2865389568, 'train_mem_gpu_peaked_delta': 3870021632})"
            ]
          },
          "metadata": {
            "tags": []
          },
          "execution_count": 25
        }
      ]
    },
    {
      "cell_type": "code",
      "metadata": {
        "id": "5bqfmatljwsM"
      },
      "source": [
        "Wav2Vec2ForCTC.save_pretrained(model, save_directory = \"/content/drive/MyDrive/585_Team_Folder/model_3/\")"
      ],
      "execution_count": null,
      "outputs": []
    },
    {
      "cell_type": "code",
      "metadata": {
        "id": "ccTZh7sXjwy5"
      },
      "source": [
        "Wav2Vec2Processor.save_pretrained(processor, save_directory = \"/content/drive/MyDrive/585_Team_Folder/model_3/\")"
      ],
      "execution_count": null,
      "outputs": []
    },
    {
      "cell_type": "code",
      "metadata": {
        "id": "Knmp-WGTqQz8",
        "colab": {
          "base_uri": "https://localhost:8080/"
        },
        "outputId": "cbc68f29-a48e-4f38-9a9f-1a7563902128"
      },
      "source": [
        "model = Wav2Vec2ForCTC.from_pretrained(\"/content/drive/MyDrive/585_Team_Folder/model_3/\").to(\"cuda\")\n",
        "processor = Wav2Vec2Processor.from_pretrained(\"/content/drive/MyDrive/585_Team_Folder/model_3/\")"
      ],
      "execution_count": null,
      "outputs": [
        {
          "output_type": "stream",
          "text": [
            "Special tokens have been added in the vocabulary, make sure the associated word embedding are fine-tuned or trained.\n"
          ],
          "name": "stderr"
        }
      ]
    },
    {
      "cell_type": "code",
      "metadata": {
        "colab": {
          "base_uri": "https://localhost:8080/",
          "height": 198
        },
        "id": "aQvhICo0qb0m",
        "outputId": "4fb610ac-14a5-4424-92dd-92f8e13f67af"
      },
      "source": [
        "input_dict = processor(cv_test[0][\"input_values\"], return_tensors=\"pt\", padding=True)\n",
        "logits = model(input_dict.input_values.to(\"cuda\")).logits\n",
        "pred_ids = torch.argmax(logits, dim=-1)[0]"
      ],
      "execution_count": null,
      "outputs": [
        {
          "output_type": "error",
          "ename": "KeyError",
          "evalue": "ignored",
          "traceback": [
            "\u001b[0;31m---------------------------------------------------------------------------\u001b[0m",
            "\u001b[0;31mKeyError\u001b[0m                                  Traceback (most recent call last)",
            "\u001b[0;32m<ipython-input-18-d07733a791ff>\u001b[0m in \u001b[0;36m<module>\u001b[0;34m()\u001b[0m\n\u001b[0;32m----> 1\u001b[0;31m \u001b[0minput_dict\u001b[0m \u001b[0;34m=\u001b[0m \u001b[0mprocessor\u001b[0m\u001b[0;34m(\u001b[0m\u001b[0mcv_test\u001b[0m\u001b[0;34m[\u001b[0m\u001b[0;36m0\u001b[0m\u001b[0;34m]\u001b[0m\u001b[0;34m[\u001b[0m\u001b[0;34m\"input_values\"\u001b[0m\u001b[0;34m]\u001b[0m\u001b[0;34m,\u001b[0m \u001b[0mreturn_tensors\u001b[0m\u001b[0;34m=\u001b[0m\u001b[0;34m\"pt\"\u001b[0m\u001b[0;34m,\u001b[0m \u001b[0mpadding\u001b[0m\u001b[0;34m=\u001b[0m\u001b[0;32mTrue\u001b[0m\u001b[0;34m)\u001b[0m\u001b[0;34m\u001b[0m\u001b[0;34m\u001b[0m\u001b[0m\n\u001b[0m\u001b[1;32m      2\u001b[0m \u001b[0mlogits\u001b[0m \u001b[0;34m=\u001b[0m \u001b[0mmodel\u001b[0m\u001b[0;34m(\u001b[0m\u001b[0minput_dict\u001b[0m\u001b[0;34m.\u001b[0m\u001b[0minput_values\u001b[0m\u001b[0;34m.\u001b[0m\u001b[0mto\u001b[0m\u001b[0;34m(\u001b[0m\u001b[0;34m\"cuda\"\u001b[0m\u001b[0;34m)\u001b[0m\u001b[0;34m)\u001b[0m\u001b[0;34m.\u001b[0m\u001b[0mlogits\u001b[0m\u001b[0;34m\u001b[0m\u001b[0;34m\u001b[0m\u001b[0m\n\u001b[1;32m      3\u001b[0m \u001b[0mpred_ids\u001b[0m \u001b[0;34m=\u001b[0m \u001b[0mtorch\u001b[0m\u001b[0;34m.\u001b[0m\u001b[0margmax\u001b[0m\u001b[0;34m(\u001b[0m\u001b[0mlogits\u001b[0m\u001b[0;34m,\u001b[0m \u001b[0mdim\u001b[0m\u001b[0;34m=\u001b[0m\u001b[0;34m-\u001b[0m\u001b[0;36m1\u001b[0m\u001b[0;34m)\u001b[0m\u001b[0;34m[\u001b[0m\u001b[0;36m0\u001b[0m\u001b[0;34m]\u001b[0m\u001b[0;34m\u001b[0m\u001b[0;34m\u001b[0m\u001b[0m\n",
            "\u001b[0;31mKeyError\u001b[0m: 'input_values'"
          ]
        }
      ]
    },
    {
      "cell_type": "code",
      "metadata": {
        "colab": {
          "base_uri": "https://localhost:8080/",
          "height": 66,
          "referenced_widgets": [
            "b1a2d66427d7457ea49f1d8e514e419c",
            "327b8a6f1dba464893b2a76ab0f73beb",
            "b8df87139a8a4ecd842b87e511ea6e8a",
            "d3124370910347e987a1251d85fb5422",
            "9abd4632c29a4b36bfb0006c90fd648a",
            "fefa2738f3eb41ab9ecf15af416a5cba",
            "149de33334ef4e71bedac9511bf85053",
            "c6b1eeeccc354c758cbdffe595c3d20b"
          ]
        },
        "id": "VAyPtSXNrFVx",
        "outputId": "52500a12-1020-407d-e666-3c1a0e1f1d18"
      },
      "source": [
        "test_output = test.filter(lambda x: os.path.getsize(x['path']) < 30000)"
      ],
      "execution_count": null,
      "outputs": [
        {
          "output_type": "display_data",
          "data": {
            "application/vnd.jupyter.widget-view+json": {
              "model_id": "b1a2d66427d7457ea49f1d8e514e419c",
              "version_minor": 0,
              "version_major": 2
            },
            "text/plain": [
              "HBox(children=(FloatProgress(value=0.0, max=9.0), HTML(value='')))"
            ]
          },
          "metadata": {
            "tags": []
          }
        },
        {
          "output_type": "stream",
          "text": [
            "\n"
          ],
          "name": "stdout"
        }
      ]
    },
    {
      "cell_type": "code",
      "metadata": {
        "colab": {
          "base_uri": "https://localhost:8080/"
        },
        "id": "qmC0YG7FqgJA",
        "outputId": "8640d944-bade-43c5-9fc2-b9999edfedfc"
      },
      "source": [
        "print(\"Prediction:\")\n",
        "print(processor.decode(pred_ids))"
      ],
      "execution_count": null,
      "outputs": [
        {
          "output_type": "stream",
          "text": [
            "Prediction:\n",
            "二十一一年去士\n"
          ],
          "name": "stdout"
        }
      ]
    },
    {
      "cell_type": "code",
      "metadata": {
        "colab": {
          "base_uri": "https://localhost:8080/",
          "height": 52
        },
        "id": "IGfXexh0qnpO",
        "outputId": "a26475f2-0a53-4c6d-823d-89eb776dce34"
      },
      "source": [
        "print('Reference:')\n",
        "test_output[0]['sentence']"
      ],
      "execution_count": null,
      "outputs": [
        {
          "output_type": "stream",
          "text": [
            "Reference:\n"
          ],
          "name": "stdout"
        },
        {
          "output_type": "execute_result",
          "data": {
            "application/vnd.google.colaboratory.intrinsic+json": {
              "type": "string"
            },
            "text/plain": [
              "'二十一年去世。'"
            ]
          },
          "metadata": {
            "tags": []
          },
          "execution_count": 37
        }
      ]
    }
  ]
}