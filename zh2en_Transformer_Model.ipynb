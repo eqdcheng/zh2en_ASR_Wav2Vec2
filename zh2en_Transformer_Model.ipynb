{
  "nbformat": 4,
  "nbformat_minor": 0,
  "metadata": {
    "accelerator": "GPU",
    "colab": {
      "name": "Translation_OpenNMT.ipynb",
      "provenance": []
    },
    "kernelspec": {
      "display_name": "Python 3",
      "name": "python3"
    },
    "language_info": {
      "name": "python"
    }
  },
  "cells": [
    {
      "cell_type": "markdown",
      "metadata": {
        "id": "HJAbvu_w6b5b"
      },
      "source": [
        "Preparation"
      ]
    },
    {
      "cell_type": "code",
      "metadata": {
        "colab": {
          "base_uri": "https://localhost:8080/"
        },
        "id": "XEqaBy0I6Mu2",
        "outputId": "b5c4d478-87c2-4885-fda4-6aaad0660bb4"
      },
      "source": [
        "!pip install torchtext==0.3.1"
      ],
      "execution_count": null,
      "outputs": [
        {
          "output_type": "stream",
          "text": [
            "Collecting torchtext==0.3.1\n",
            "\u001b[?25l  Downloading https://files.pythonhosted.org/packages/c6/bc/b28b9efb4653c03e597ed207264eea45862b5260f48e9f010b5068d64db1/torchtext-0.3.1-py3-none-any.whl (62kB)\n",
            "\r\u001b[K     |█████▎                          | 10kB 18.8MB/s eta 0:00:01\r\u001b[K     |██████████▌                     | 20kB 10.0MB/s eta 0:00:01\r\u001b[K     |███████████████▊                | 30kB 6.4MB/s eta 0:00:01\r\u001b[K     |█████████████████████           | 40kB 6.0MB/s eta 0:00:01\r\u001b[K     |██████████████████████████▎     | 51kB 4.4MB/s eta 0:00:01\r\u001b[K     |███████████████████████████████▌| 61kB 5.0MB/s eta 0:00:01\r\u001b[K     |████████████████████████████████| 71kB 3.8MB/s \n",
            "\u001b[?25hRequirement already satisfied: numpy in /usr/local/lib/python3.7/dist-packages (from torchtext==0.3.1) (1.19.5)\n",
            "Requirement already satisfied: torch in /usr/local/lib/python3.7/dist-packages (from torchtext==0.3.1) (1.8.1+cu101)\n",
            "Requirement already satisfied: requests in /usr/local/lib/python3.7/dist-packages (from torchtext==0.3.1) (2.23.0)\n",
            "Requirement already satisfied: tqdm in /usr/local/lib/python3.7/dist-packages (from torchtext==0.3.1) (4.41.1)\n",
            "Requirement already satisfied: typing-extensions in /usr/local/lib/python3.7/dist-packages (from torch->torchtext==0.3.1) (3.7.4.3)\n",
            "Requirement already satisfied: urllib3!=1.25.0,!=1.25.1,<1.26,>=1.21.1 in /usr/local/lib/python3.7/dist-packages (from requests->torchtext==0.3.1) (1.24.3)\n",
            "Requirement already satisfied: idna<3,>=2.5 in /usr/local/lib/python3.7/dist-packages (from requests->torchtext==0.3.1) (2.10)\n",
            "Requirement already satisfied: chardet<4,>=3.0.2 in /usr/local/lib/python3.7/dist-packages (from requests->torchtext==0.3.1) (3.0.4)\n",
            "Requirement already satisfied: certifi>=2017.4.17 in /usr/local/lib/python3.7/dist-packages (from requests->torchtext==0.3.1) (2020.12.5)\n",
            "Installing collected packages: torchtext\n",
            "  Found existing installation: torchtext 0.9.1\n",
            "    Uninstalling torchtext-0.9.1:\n",
            "      Successfully uninstalled torchtext-0.9.1\n",
            "Successfully installed torchtext-0.3.1\n"
          ],
          "name": "stdout"
        }
      ]
    },
    {
      "cell_type": "code",
      "metadata": {
        "colab": {
          "base_uri": "https://localhost:8080/"
        },
        "id": "Qb1WPGA46gOC",
        "outputId": "9e0cefd1-fdcf-481d-e694-09e4bc323823"
      },
      "source": [
        "!pip install torch==1.6.0+cu101 torchvision==0.7.0+cu101 -f https://download.pytorch.org/whl/torch_stable.html"
      ],
      "execution_count": null,
      "outputs": [
        {
          "output_type": "stream",
          "text": [
            "Looking in links: https://download.pytorch.org/whl/torch_stable.html\n",
            "Collecting torch==1.6.0+cu101\n",
            "\u001b[?25l  Downloading https://download.pytorch.org/whl/cu101/torch-1.6.0%2Bcu101-cp37-cp37m-linux_x86_64.whl (708.0MB)\n",
            "\u001b[K     |████████████████████████████████| 708.0MB 26kB/s \n",
            "\u001b[?25hCollecting torchvision==0.7.0+cu101\n",
            "\u001b[?25l  Downloading https://download.pytorch.org/whl/cu101/torchvision-0.7.0%2Bcu101-cp37-cp37m-linux_x86_64.whl (5.9MB)\n",
            "\u001b[K     |████████████████████████████████| 5.9MB 22.6MB/s \n",
            "\u001b[?25hRequirement already satisfied: future in /usr/local/lib/python3.7/dist-packages (from torch==1.6.0+cu101) (0.16.0)\n",
            "Requirement already satisfied: numpy in /usr/local/lib/python3.7/dist-packages (from torch==1.6.0+cu101) (1.19.5)\n",
            "Requirement already satisfied: pillow>=4.1.1 in /usr/local/lib/python3.7/dist-packages (from torchvision==0.7.0+cu101) (7.1.2)\n",
            "Installing collected packages: torch, torchvision\n",
            "  Found existing installation: torch 1.8.1+cu101\n",
            "    Uninstalling torch-1.8.1+cu101:\n",
            "      Successfully uninstalled torch-1.8.1+cu101\n",
            "  Found existing installation: torchvision 0.9.1+cu101\n",
            "    Uninstalling torchvision-0.9.1+cu101:\n",
            "      Successfully uninstalled torchvision-0.9.1+cu101\n",
            "Successfully installed torch-1.6.0+cu101 torchvision-0.7.0+cu101\n"
          ],
          "name": "stdout"
        }
      ]
    },
    {
      "cell_type": "code",
      "metadata": {
        "colab": {
          "base_uri": "https://localhost:8080/"
        },
        "id": "Bs4KSVCm6i1C",
        "outputId": "72b8c91d-9321-45d7-d9df-0cf1357f05dc"
      },
      "source": [
        "!git clone https://github.com/OpenNMT/OpenNMT-py.git\n",
        "!cd OpenNMT-py; pip install -e ."
      ],
      "execution_count": null,
      "outputs": [
        {
          "output_type": "stream",
          "text": [
            "Cloning into 'OpenNMT-py'...\n",
            "remote: Enumerating objects: 17275, done.\u001b[K\n",
            "remote: Counting objects: 100% (231/231), done.\u001b[K\n",
            "remote: Compressing objects: 100% (160/160), done.\u001b[K\n",
            "remote: Total 17275 (delta 141), reused 105 (delta 69), pack-reused 17044\u001b[K\n",
            "Receiving objects: 100% (17275/17275), 273.38 MiB | 26.65 MiB/s, done.\n",
            "Resolving deltas: 100% (12441/12441), done.\n",
            "Obtaining file:///content/OpenNMT-py\n",
            "Collecting tqdm<5,>=4.51\n",
            "\u001b[?25l  Downloading https://files.pythonhosted.org/packages/72/8a/34efae5cf9924328a8f34eeb2fdaae14c011462d9f0e3fcded48e1266d1c/tqdm-4.60.0-py2.py3-none-any.whl (75kB)\n",
            "\u001b[K     |████████████████████████████████| 81kB 3.7MB/s \n",
            "\u001b[?25hRequirement already satisfied: torch==1.6.0 in /usr/local/lib/python3.7/dist-packages (from OpenNMT-py==2.1.0) (1.6.0+cu101)\n",
            "Collecting torchtext==0.5.0\n",
            "\u001b[?25l  Downloading https://files.pythonhosted.org/packages/79/ef/54b8da26f37787f5c670ae2199329e7dccf195c060b25628d99e587dac51/torchtext-0.5.0-py3-none-any.whl (73kB)\n",
            "\u001b[K     |████████████████████████████████| 81kB 9.5MB/s \n",
            "\u001b[?25hCollecting configargparse<2,>=1.2.3\n",
            "\u001b[?25l  Downloading https://files.pythonhosted.org/packages/5d/c3/17846950db4e11cc2e71b36e5f8b236a7ab2f742f65597f3daf94f0b84b7/ConfigArgParse-1.4.tar.gz (45kB)\n",
            "\u001b[K     |████████████████████████████████| 51kB 7.1MB/s \n",
            "\u001b[?25hRequirement already satisfied: tensorboard<3,>=2.3 in /usr/local/lib/python3.7/dist-packages (from OpenNMT-py==2.1.0) (2.4.1)\n",
            "Requirement already satisfied: flask==1.1.2 in /usr/local/lib/python3.7/dist-packages (from OpenNMT-py==2.1.0) (1.1.2)\n",
            "Collecting waitress==1.4.4\n",
            "\u001b[?25l  Downloading https://files.pythonhosted.org/packages/26/d1/5209fb8c764497a592363c47054436a515b47b8c3e4970ddd7184f088857/waitress-1.4.4-py2.py3-none-any.whl (58kB)\n",
            "\u001b[K     |████████████████████████████████| 61kB 8.6MB/s \n",
            "\u001b[?25hCollecting pyyaml==5.4\n",
            "\u001b[?25l  Downloading https://files.pythonhosted.org/packages/f1/86/83ae5504903b4eca5ae1fd3c53b87b640f9c302df2c97fc08331ec7f3c8a/PyYAML-5.4-cp37-cp37m-manylinux1_x86_64.whl (636kB)\n",
            "\u001b[K     |████████████████████████████████| 645kB 21.9MB/s \n",
            "\u001b[?25hCollecting pyonmttok<2,>=1.23\n",
            "\u001b[?25l  Downloading https://files.pythonhosted.org/packages/90/67/cd64b4c2fd0a83eb1088e31e0217b612281d014299993424420f933df3e7/pyonmttok-1.26.0-cp37-cp37m-manylinux1_x86_64.whl (14.3MB)\n",
            "\u001b[K     |████████████████████████████████| 14.3MB 216kB/s \n",
            "\u001b[?25hRequirement already satisfied: numpy in /usr/local/lib/python3.7/dist-packages (from torch==1.6.0->OpenNMT-py==2.1.0) (1.19.5)\n",
            "Requirement already satisfied: future in /usr/local/lib/python3.7/dist-packages (from torch==1.6.0->OpenNMT-py==2.1.0) (0.16.0)\n",
            "Collecting sentencepiece\n",
            "\u001b[?25l  Downloading https://files.pythonhosted.org/packages/f5/99/e0808cb947ba10f575839c43e8fafc9cc44e4a7a2c8f79c60db48220a577/sentencepiece-0.1.95-cp37-cp37m-manylinux2014_x86_64.whl (1.2MB)\n",
            "\u001b[K     |████████████████████████████████| 1.2MB 53.3MB/s \n",
            "\u001b[?25hRequirement already satisfied: requests in /usr/local/lib/python3.7/dist-packages (from torchtext==0.5.0->OpenNMT-py==2.1.0) (2.23.0)\n",
            "Requirement already satisfied: six in /usr/local/lib/python3.7/dist-packages (from torchtext==0.5.0->OpenNMT-py==2.1.0) (1.15.0)\n",
            "Requirement already satisfied: markdown>=2.6.8 in /usr/local/lib/python3.7/dist-packages (from tensorboard<3,>=2.3->OpenNMT-py==2.1.0) (3.3.4)\n",
            "Requirement already satisfied: google-auth<2,>=1.6.3 in /usr/local/lib/python3.7/dist-packages (from tensorboard<3,>=2.3->OpenNMT-py==2.1.0) (1.28.1)\n",
            "Requirement already satisfied: protobuf>=3.6.0 in /usr/local/lib/python3.7/dist-packages (from tensorboard<3,>=2.3->OpenNMT-py==2.1.0) (3.12.4)\n",
            "Requirement already satisfied: setuptools>=41.0.0 in /usr/local/lib/python3.7/dist-packages (from tensorboard<3,>=2.3->OpenNMT-py==2.1.0) (54.2.0)\n",
            "Requirement already satisfied: grpcio>=1.24.3 in /usr/local/lib/python3.7/dist-packages (from tensorboard<3,>=2.3->OpenNMT-py==2.1.0) (1.32.0)\n",
            "Requirement already satisfied: absl-py>=0.4 in /usr/local/lib/python3.7/dist-packages (from tensorboard<3,>=2.3->OpenNMT-py==2.1.0) (0.12.0)\n",
            "Requirement already satisfied: werkzeug>=0.11.15 in /usr/local/lib/python3.7/dist-packages (from tensorboard<3,>=2.3->OpenNMT-py==2.1.0) (1.0.1)\n",
            "Requirement already satisfied: tensorboard-plugin-wit>=1.6.0 in /usr/local/lib/python3.7/dist-packages (from tensorboard<3,>=2.3->OpenNMT-py==2.1.0) (1.8.0)\n",
            "Requirement already satisfied: wheel>=0.26; python_version >= \"3\" in /usr/local/lib/python3.7/dist-packages (from tensorboard<3,>=2.3->OpenNMT-py==2.1.0) (0.36.2)\n",
            "Requirement already satisfied: google-auth-oauthlib<0.5,>=0.4.1 in /usr/local/lib/python3.7/dist-packages (from tensorboard<3,>=2.3->OpenNMT-py==2.1.0) (0.4.4)\n",
            "Requirement already satisfied: itsdangerous>=0.24 in /usr/local/lib/python3.7/dist-packages (from flask==1.1.2->OpenNMT-py==2.1.0) (1.1.0)\n",
            "Requirement already satisfied: click>=5.1 in /usr/local/lib/python3.7/dist-packages (from flask==1.1.2->OpenNMT-py==2.1.0) (7.1.2)\n",
            "Requirement already satisfied: Jinja2>=2.10.1 in /usr/local/lib/python3.7/dist-packages (from flask==1.1.2->OpenNMT-py==2.1.0) (2.11.3)\n",
            "Requirement already satisfied: urllib3!=1.25.0,!=1.25.1,<1.26,>=1.21.1 in /usr/local/lib/python3.7/dist-packages (from requests->torchtext==0.5.0->OpenNMT-py==2.1.0) (1.24.3)\n",
            "Requirement already satisfied: chardet<4,>=3.0.2 in /usr/local/lib/python3.7/dist-packages (from requests->torchtext==0.5.0->OpenNMT-py==2.1.0) (3.0.4)\n",
            "Requirement already satisfied: idna<3,>=2.5 in /usr/local/lib/python3.7/dist-packages (from requests->torchtext==0.5.0->OpenNMT-py==2.1.0) (2.10)\n",
            "Requirement already satisfied: certifi>=2017.4.17 in /usr/local/lib/python3.7/dist-packages (from requests->torchtext==0.5.0->OpenNMT-py==2.1.0) (2020.12.5)\n",
            "Requirement already satisfied: importlib-metadata; python_version < \"3.8\" in /usr/local/lib/python3.7/dist-packages (from markdown>=2.6.8->tensorboard<3,>=2.3->OpenNMT-py==2.1.0) (3.10.1)\n",
            "Requirement already satisfied: pyasn1-modules>=0.2.1 in /usr/local/lib/python3.7/dist-packages (from google-auth<2,>=1.6.3->tensorboard<3,>=2.3->OpenNMT-py==2.1.0) (0.2.8)\n",
            "Requirement already satisfied: cachetools<5.0,>=2.0.0 in /usr/local/lib/python3.7/dist-packages (from google-auth<2,>=1.6.3->tensorboard<3,>=2.3->OpenNMT-py==2.1.0) (4.2.1)\n",
            "Requirement already satisfied: rsa<5,>=3.1.4; python_version >= \"3.6\" in /usr/local/lib/python3.7/dist-packages (from google-auth<2,>=1.6.3->tensorboard<3,>=2.3->OpenNMT-py==2.1.0) (4.7.2)\n",
            "Requirement already satisfied: requests-oauthlib>=0.7.0 in /usr/local/lib/python3.7/dist-packages (from google-auth-oauthlib<0.5,>=0.4.1->tensorboard<3,>=2.3->OpenNMT-py==2.1.0) (1.3.0)\n",
            "Requirement already satisfied: MarkupSafe>=0.23 in /usr/local/lib/python3.7/dist-packages (from Jinja2>=2.10.1->flask==1.1.2->OpenNMT-py==2.1.0) (1.1.1)\n",
            "Requirement already satisfied: typing-extensions>=3.6.4; python_version < \"3.8\" in /usr/local/lib/python3.7/dist-packages (from importlib-metadata; python_version < \"3.8\"->markdown>=2.6.8->tensorboard<3,>=2.3->OpenNMT-py==2.1.0) (3.7.4.3)\n",
            "Requirement already satisfied: zipp>=0.5 in /usr/local/lib/python3.7/dist-packages (from importlib-metadata; python_version < \"3.8\"->markdown>=2.6.8->tensorboard<3,>=2.3->OpenNMT-py==2.1.0) (3.4.1)\n",
            "Requirement already satisfied: pyasn1<0.5.0,>=0.4.6 in /usr/local/lib/python3.7/dist-packages (from pyasn1-modules>=0.2.1->google-auth<2,>=1.6.3->tensorboard<3,>=2.3->OpenNMT-py==2.1.0) (0.4.8)\n",
            "Requirement already satisfied: oauthlib>=3.0.0 in /usr/local/lib/python3.7/dist-packages (from requests-oauthlib>=0.7.0->google-auth-oauthlib<0.5,>=0.4.1->tensorboard<3,>=2.3->OpenNMT-py==2.1.0) (3.1.0)\n",
            "Building wheels for collected packages: configargparse\n",
            "  Building wheel for configargparse (setup.py) ... \u001b[?25l\u001b[?25hdone\n",
            "  Created wheel for configargparse: filename=ConfigArgParse-1.4-cp37-none-any.whl size=19638 sha256=94abb65b77e78dac32f61199607e98604aee213a940f7bff565a00f8abc3cfec\n",
            "  Stored in directory: /root/.cache/pip/wheels/d6/61/f7/626bbd080a9f2f70015f92025e0af663c595146083f3d9aa05\n",
            "Successfully built configargparse\n",
            "Installing collected packages: tqdm, sentencepiece, torchtext, configargparse, waitress, pyyaml, pyonmttok, OpenNMT-py\n",
            "  Found existing installation: tqdm 4.41.1\n",
            "    Uninstalling tqdm-4.41.1:\n",
            "      Successfully uninstalled tqdm-4.41.1\n",
            "  Found existing installation: torchtext 0.3.1\n",
            "    Uninstalling torchtext-0.3.1:\n",
            "      Successfully uninstalled torchtext-0.3.1\n",
            "  Found existing installation: PyYAML 3.13\n",
            "    Uninstalling PyYAML-3.13:\n",
            "      Successfully uninstalled PyYAML-3.13\n",
            "  Running setup.py develop for OpenNMT-py\n",
            "Successfully installed OpenNMT-py configargparse-1.4 pyonmttok-1.26.0 pyyaml-5.4 sentencepiece-0.1.95 torchtext-0.5.0 tqdm-4.60.0 waitress-1.4.4\n"
          ],
          "name": "stdout"
        }
      ]
    },
    {
      "cell_type": "code",
      "metadata": {
        "colab": {
          "base_uri": "https://localhost:8080/"
        },
        "id": "XFrNhNY7KIUh",
        "outputId": "cfc1bb62-0f1f-4e7a-ba59-0319c3dd2ce9"
      },
      "source": [
        "!pip install spacy==3.0.0"
      ],
      "execution_count": null,
      "outputs": [
        {
          "output_type": "stream",
          "text": [
            "Collecting spacy==3.0.0\n",
            "\u001b[?25l  Downloading https://files.pythonhosted.org/packages/8b/62/a98c61912ea57344816dd4886ed71e34d8aeec55b79e5bed05a7c2a1ae52/spacy-3.0.0-cp37-cp37m-manylinux2014_x86_64.whl (12.7MB)\n",
            "\u001b[K     |████████████████████████████████| 12.7MB 271kB/s \n",
            "\u001b[?25hRequirement already satisfied: tqdm<5.0.0,>=4.38.0 in /usr/local/lib/python3.7/dist-packages (from spacy==3.0.0) (4.60.0)\n",
            "Collecting catalogue<2.1.0,>=2.0.1\n",
            "  Downloading https://files.pythonhosted.org/packages/82/a5/b5021c74c04cac35a27d34cbf3146d86eb8e173b4491888bc4908c4c8b3b/catalogue-2.0.3-py3-none-any.whl\n",
            "Collecting typer<0.4.0,>=0.3.0\n",
            "  Downloading https://files.pythonhosted.org/packages/90/34/d138832f6945432c638f32137e6c79a3b682f06a63c488dcfaca6b166c64/typer-0.3.2-py3-none-any.whl\n",
            "Requirement already satisfied: requests<3.0.0,>=2.13.0 in /usr/local/lib/python3.7/dist-packages (from spacy==3.0.0) (2.23.0)\n",
            "Requirement already satisfied: importlib-metadata>=0.20; python_version < \"3.8\" in /usr/local/lib/python3.7/dist-packages (from spacy==3.0.0) (3.10.1)\n",
            "Requirement already satisfied: packaging>=20.0 in /usr/local/lib/python3.7/dist-packages (from spacy==3.0.0) (20.9)\n",
            "Collecting pydantic<1.8.0,>=1.7.1\n",
            "\u001b[?25l  Downloading https://files.pythonhosted.org/packages/b3/0a/52ae1c659fc08f13dd7c0ae07b88e4f807ad83fb9954a59b0b0a3d1a8ab6/pydantic-1.7.3-cp37-cp37m-manylinux2014_x86_64.whl (9.1MB)\n",
            "\u001b[K     |████████████████████████████████| 9.1MB 54.2MB/s \n",
            "\u001b[?25hRequirement already satisfied: preshed<3.1.0,>=3.0.2 in /usr/local/lib/python3.7/dist-packages (from spacy==3.0.0) (3.0.5)\n",
            "Requirement already satisfied: jinja2 in /usr/local/lib/python3.7/dist-packages (from spacy==3.0.0) (2.11.3)\n",
            "Requirement already satisfied: numpy>=1.15.0 in /usr/local/lib/python3.7/dist-packages (from spacy==3.0.0) (1.19.5)\n",
            "Requirement already satisfied: typing-extensions>=3.7.4; python_version < \"3.8\" in /usr/local/lib/python3.7/dist-packages (from spacy==3.0.0) (3.7.4.3)\n",
            "Collecting spacy-legacy<3.1.0,>=3.0.0\n",
            "  Downloading https://files.pythonhosted.org/packages/6f/6d/114bb7d70c2929ff3e87abae262f58f5a86aa4c8a3bd2f49f31759c6c35a/spacy_legacy-3.0.3-py2.py3-none-any.whl\n",
            "Collecting pathy\n",
            "  Downloading https://files.pythonhosted.org/packages/a2/53/97dc0197cca9357369b3b71bf300896cf2d3604fa60ffaaf5cbc277de7de/pathy-0.4.0-py3-none-any.whl\n",
            "Requirement already satisfied: setuptools in /usr/local/lib/python3.7/dist-packages (from spacy==3.0.0) (54.2.0)\n",
            "Requirement already satisfied: blis<0.8.0,>=0.4.0 in /usr/local/lib/python3.7/dist-packages (from spacy==3.0.0) (0.4.1)\n",
            "Collecting thinc<8.1.0,>=8.0.0\n",
            "\u001b[?25l  Downloading https://files.pythonhosted.org/packages/61/87/decceba68a0c6ca356ddcb6aea8b2500e71d9bc187f148aae19b747b7d3c/thinc-8.0.3-cp37-cp37m-manylinux2014_x86_64.whl (1.1MB)\n",
            "\u001b[K     |████████████████████████████████| 1.1MB 53.0MB/s \n",
            "\u001b[?25hRequirement already satisfied: cymem<2.1.0,>=2.0.2 in /usr/local/lib/python3.7/dist-packages (from spacy==3.0.0) (2.0.5)\n",
            "Collecting srsly<3.0.0,>=2.4.0\n",
            "\u001b[?25l  Downloading https://files.pythonhosted.org/packages/c3/84/dfdfc9f6f04f6b88207d96d9520b911e5fec0c67ff47a0dea31ab5429a1e/srsly-2.4.1-cp37-cp37m-manylinux2014_x86_64.whl (456kB)\n",
            "\u001b[K     |████████████████████████████████| 460kB 54.0MB/s \n",
            "\u001b[?25hRequirement already satisfied: murmurhash<1.1.0,>=0.28.0 in /usr/local/lib/python3.7/dist-packages (from spacy==3.0.0) (1.0.5)\n",
            "Requirement already satisfied: wasabi<1.1.0,>=0.8.1 in /usr/local/lib/python3.7/dist-packages (from spacy==3.0.0) (0.8.2)\n",
            "Requirement already satisfied: zipp>=0.5; python_version < \"3.8\" in /usr/local/lib/python3.7/dist-packages (from catalogue<2.1.0,>=2.0.1->spacy==3.0.0) (3.4.1)\n",
            "Requirement already satisfied: click<7.2.0,>=7.1.1 in /usr/local/lib/python3.7/dist-packages (from typer<0.4.0,>=0.3.0->spacy==3.0.0) (7.1.2)\n",
            "Requirement already satisfied: idna<3,>=2.5 in /usr/local/lib/python3.7/dist-packages (from requests<3.0.0,>=2.13.0->spacy==3.0.0) (2.10)\n",
            "Requirement already satisfied: certifi>=2017.4.17 in /usr/local/lib/python3.7/dist-packages (from requests<3.0.0,>=2.13.0->spacy==3.0.0) (2020.12.5)\n",
            "Requirement already satisfied: urllib3!=1.25.0,!=1.25.1,<1.26,>=1.21.1 in /usr/local/lib/python3.7/dist-packages (from requests<3.0.0,>=2.13.0->spacy==3.0.0) (1.24.3)\n",
            "Requirement already satisfied: chardet<4,>=3.0.2 in /usr/local/lib/python3.7/dist-packages (from requests<3.0.0,>=2.13.0->spacy==3.0.0) (3.0.4)\n",
            "Requirement already satisfied: pyparsing>=2.0.2 in /usr/local/lib/python3.7/dist-packages (from packaging>=20.0->spacy==3.0.0) (2.4.7)\n",
            "Requirement already satisfied: MarkupSafe>=0.23 in /usr/local/lib/python3.7/dist-packages (from jinja2->spacy==3.0.0) (1.1.1)\n",
            "Collecting smart-open<4.0.0,>=2.2.0\n",
            "\u001b[?25l  Downloading https://files.pythonhosted.org/packages/11/9a/ba2d5f67f25e8d5bbf2fcec7a99b1e38428e83cb715f64dd179ca43a11bb/smart_open-3.0.0.tar.gz (113kB)\n",
            "\u001b[K     |████████████████████████████████| 122kB 58.9MB/s \n",
            "\u001b[?25hBuilding wheels for collected packages: smart-open\n",
            "  Building wheel for smart-open (setup.py) ... \u001b[?25l\u001b[?25hdone\n",
            "  Created wheel for smart-open: filename=smart_open-3.0.0-cp37-none-any.whl size=107098 sha256=3923653272edd7fcee830f53b0a494dd8120c5dca74233620a4c545c1eebee6d\n",
            "  Stored in directory: /root/.cache/pip/wheels/18/88/7c/f06dabd5e9cabe02d2269167bcacbbf9b47d0c0ff7d6ebcb78\n",
            "Successfully built smart-open\n",
            "Installing collected packages: catalogue, typer, pydantic, spacy-legacy, smart-open, pathy, srsly, thinc, spacy\n",
            "  Found existing installation: catalogue 1.0.0\n",
            "    Uninstalling catalogue-1.0.0:\n",
            "      Successfully uninstalled catalogue-1.0.0\n",
            "  Found existing installation: smart-open 5.0.0\n",
            "    Uninstalling smart-open-5.0.0:\n",
            "      Successfully uninstalled smart-open-5.0.0\n",
            "  Found existing installation: srsly 1.0.5\n",
            "    Uninstalling srsly-1.0.5:\n",
            "      Successfully uninstalled srsly-1.0.5\n",
            "  Found existing installation: thinc 7.4.0\n",
            "    Uninstalling thinc-7.4.0:\n",
            "      Successfully uninstalled thinc-7.4.0\n",
            "  Found existing installation: spacy 2.2.4\n",
            "    Uninstalling spacy-2.2.4:\n",
            "      Successfully uninstalled spacy-2.2.4\n",
            "Successfully installed catalogue-2.0.3 pathy-0.4.0 pydantic-1.7.3 smart-open-3.0.0 spacy-3.0.0 spacy-legacy-3.0.3 srsly-2.4.1 thinc-8.0.3 typer-0.3.2\n"
          ],
          "name": "stdout"
        }
      ]
    },
    {
      "cell_type": "code",
      "metadata": {
        "colab": {
          "background_save": true
        },
        "id": "faHnbncDuDBr"
      },
      "source": [
        ""
      ],
      "execution_count": null,
      "outputs": []
    },
    {
      "cell_type": "markdown",
      "metadata": {
        "id": "l2ER2xbSy4zI"
      },
      "source": [
        "# Tokenization"
      ]
    },
    {
      "cell_type": "code",
      "metadata": {
        "colab": {
          "base_uri": "https://localhost:8080/"
        },
        "id": "liQmLUgq1FSu",
        "outputId": "8b852edc-7a0c-4d95-c8dc-87cb8f26c485"
      },
      "source": [
        "from google.colab import drive\n",
        "drive.mount('/content/drive')"
      ],
      "execution_count": null,
      "outputs": [
        {
          "output_type": "stream",
          "text": [
            "Mounted at /content/drive\n"
          ],
          "name": "stdout"
        }
      ]
    },
    {
      "cell_type": "code",
      "metadata": {
        "colab": {
          "base_uri": "https://localhost:8080/"
        },
        "id": "QZ5sz3HX20TF",
        "outputId": "c4682c95-b3c8-447b-e543-a7b2c017735b"
      },
      "source": [
        "!pip install transformers"
      ],
      "execution_count": null,
      "outputs": [
        {
          "output_type": "stream",
          "text": [
            "Collecting transformers\n",
            "\u001b[?25l  Downloading https://files.pythonhosted.org/packages/d8/b2/57495b5309f09fa501866e225c84532d1fd89536ea62406b2181933fb418/transformers-4.5.1-py3-none-any.whl (2.1MB)\n",
            "\u001b[K     |████████████████████████████████| 2.1MB 4.2MB/s \n",
            "\u001b[?25hRequirement already satisfied: tqdm>=4.27 in /usr/local/lib/python3.7/dist-packages (from transformers) (4.60.0)\n",
            "Requirement already satisfied: importlib-metadata; python_version < \"3.8\" in /usr/local/lib/python3.7/dist-packages (from transformers) (3.10.1)\n",
            "Collecting tokenizers<0.11,>=0.10.1\n",
            "\u001b[?25l  Downloading https://files.pythonhosted.org/packages/ae/04/5b870f26a858552025a62f1649c20d29d2672c02ff3c3fb4c688ca46467a/tokenizers-0.10.2-cp37-cp37m-manylinux2010_x86_64.whl (3.3MB)\n",
            "\u001b[K     |████████████████████████████████| 3.3MB 11.8MB/s \n",
            "\u001b[?25hRequirement already satisfied: filelock in /usr/local/lib/python3.7/dist-packages (from transformers) (3.0.12)\n",
            "Requirement already satisfied: requests in /usr/local/lib/python3.7/dist-packages (from transformers) (2.23.0)\n",
            "Collecting sacremoses\n",
            "\u001b[?25l  Downloading https://files.pythonhosted.org/packages/75/ee/67241dc87f266093c533a2d4d3d69438e57d7a90abb216fa076e7d475d4a/sacremoses-0.0.45-py3-none-any.whl (895kB)\n",
            "\u001b[K     |████████████████████████████████| 901kB 35.2MB/s \n",
            "\u001b[?25hRequirement already satisfied: packaging in /usr/local/lib/python3.7/dist-packages (from transformers) (20.9)\n",
            "Requirement already satisfied: regex!=2019.12.17 in /usr/local/lib/python3.7/dist-packages (from transformers) (2019.12.20)\n",
            "Requirement already satisfied: numpy>=1.17 in /usr/local/lib/python3.7/dist-packages (from transformers) (1.19.5)\n",
            "Requirement already satisfied: typing-extensions>=3.6.4; python_version < \"3.8\" in /usr/local/lib/python3.7/dist-packages (from importlib-metadata; python_version < \"3.8\"->transformers) (3.7.4.3)\n",
            "Requirement already satisfied: zipp>=0.5 in /usr/local/lib/python3.7/dist-packages (from importlib-metadata; python_version < \"3.8\"->transformers) (3.4.1)\n",
            "Requirement already satisfied: urllib3!=1.25.0,!=1.25.1,<1.26,>=1.21.1 in /usr/local/lib/python3.7/dist-packages (from requests->transformers) (1.24.3)\n",
            "Requirement already satisfied: idna<3,>=2.5 in /usr/local/lib/python3.7/dist-packages (from requests->transformers) (2.10)\n",
            "Requirement already satisfied: certifi>=2017.4.17 in /usr/local/lib/python3.7/dist-packages (from requests->transformers) (2020.12.5)\n",
            "Requirement already satisfied: chardet<4,>=3.0.2 in /usr/local/lib/python3.7/dist-packages (from requests->transformers) (3.0.4)\n",
            "Requirement already satisfied: joblib in /usr/local/lib/python3.7/dist-packages (from sacremoses->transformers) (1.0.1)\n",
            "Requirement already satisfied: six in /usr/local/lib/python3.7/dist-packages (from sacremoses->transformers) (1.15.0)\n",
            "Requirement already satisfied: click in /usr/local/lib/python3.7/dist-packages (from sacremoses->transformers) (7.1.2)\n",
            "Requirement already satisfied: pyparsing>=2.0.2 in /usr/local/lib/python3.7/dist-packages (from packaging->transformers) (2.4.7)\n",
            "Installing collected packages: tokenizers, sacremoses, transformers\n",
            "Successfully installed sacremoses-0.0.45 tokenizers-0.10.2 transformers-4.5.1\n"
          ],
          "name": "stdout"
        }
      ]
    },
    {
      "cell_type": "code",
      "metadata": {
        "colab": {
          "base_uri": "https://localhost:8080/"
        },
        "id": "A2Lv-IOW57aG",
        "outputId": "6d47a82a-0694-4c36-942c-223cec2ff73a"
      },
      "source": [
        "!pip install transformers"
      ],
      "execution_count": null,
      "outputs": [
        {
          "output_type": "stream",
          "text": [
            "Requirement already satisfied: transformers in /usr/local/lib/python3.7/dist-packages (4.5.1)\n",
            "Requirement already satisfied: tokenizers<0.11,>=0.10.1 in /usr/local/lib/python3.7/dist-packages (from transformers) (0.10.2)\n",
            "Requirement already satisfied: importlib-metadata; python_version < \"3.8\" in /usr/local/lib/python3.7/dist-packages (from transformers) (3.10.1)\n",
            "Requirement already satisfied: packaging in /usr/local/lib/python3.7/dist-packages (from transformers) (20.9)\n",
            "Requirement already satisfied: requests in /usr/local/lib/python3.7/dist-packages (from transformers) (2.23.0)\n",
            "Requirement already satisfied: numpy>=1.17 in /usr/local/lib/python3.7/dist-packages (from transformers) (1.19.5)\n",
            "Requirement already satisfied: filelock in /usr/local/lib/python3.7/dist-packages (from transformers) (3.0.12)\n",
            "Requirement already satisfied: regex!=2019.12.17 in /usr/local/lib/python3.7/dist-packages (from transformers) (2019.12.20)\n",
            "Requirement already satisfied: sacremoses in /usr/local/lib/python3.7/dist-packages (from transformers) (0.0.45)\n",
            "Requirement already satisfied: tqdm>=4.27 in /usr/local/lib/python3.7/dist-packages (from transformers) (4.60.0)\n",
            "Requirement already satisfied: typing-extensions>=3.6.4; python_version < \"3.8\" in /usr/local/lib/python3.7/dist-packages (from importlib-metadata; python_version < \"3.8\"->transformers) (3.7.4.3)\n",
            "Requirement already satisfied: zipp>=0.5 in /usr/local/lib/python3.7/dist-packages (from importlib-metadata; python_version < \"3.8\"->transformers) (3.4.1)\n",
            "Requirement already satisfied: pyparsing>=2.0.2 in /usr/local/lib/python3.7/dist-packages (from packaging->transformers) (2.4.7)\n",
            "Requirement already satisfied: urllib3!=1.25.0,!=1.25.1,<1.26,>=1.21.1 in /usr/local/lib/python3.7/dist-packages (from requests->transformers) (1.24.3)\n",
            "Requirement already satisfied: certifi>=2017.4.17 in /usr/local/lib/python3.7/dist-packages (from requests->transformers) (2020.12.5)\n",
            "Requirement already satisfied: idna<3,>=2.5 in /usr/local/lib/python3.7/dist-packages (from requests->transformers) (2.10)\n",
            "Requirement already satisfied: chardet<4,>=3.0.2 in /usr/local/lib/python3.7/dist-packages (from requests->transformers) (3.0.4)\n",
            "Requirement already satisfied: click in /usr/local/lib/python3.7/dist-packages (from sacremoses->transformers) (7.1.2)\n",
            "Requirement already satisfied: six in /usr/local/lib/python3.7/dist-packages (from sacremoses->transformers) (1.15.0)\n",
            "Requirement already satisfied: joblib in /usr/local/lib/python3.7/dist-packages (from sacremoses->transformers) (1.0.1)\n"
          ],
          "name": "stdout"
        }
      ]
    },
    {
      "cell_type": "code",
      "metadata": {
        "id": "ED0NZkvM2qIX"
      },
      "source": [
        "from transformers import Wav2Vec2ForCTC, Wav2Vec2Processor, Wav2Vec2CTCTokenizer, Wav2Vec2FeatureExtractor"
      ],
      "execution_count": null,
      "outputs": []
    },
    {
      "cell_type": "code",
      "metadata": {
        "colab": {
          "base_uri": "https://localhost:8080/",
          "height": 363
        },
        "id": "26R7c5Mdy3zG",
        "outputId": "d09ec5de-7187-47f9-e0ce-6c76eab9a76e"
      },
      "source": [
        "tokenizer = Wav2Vec2CTCTokenizer(\"/content/drive/MyDrive/585_Team_Folder/vocab_2.json\", unk_token=\"[UNK]\", pad_token=\"[PAD]\", word_delimiter_token=\"\")\n",
        "feature_extractor = Wav2Vec2FeatureExtractor(feature_size=1, sampling_rate=16000, padding_value=0.0, do_normalize=True, return_attention_mask=True)\n",
        "processor = Wav2Vec2Processor(feature_extractor=feature_extractor, tokenizer=tokenizer)"
      ],
      "execution_count": null,
      "outputs": [
        {
          "output_type": "error",
          "ename": "FileNotFoundError",
          "evalue": "ignored",
          "traceback": [
            "\u001b[0;31m---------------------------------------------------------------------------\u001b[0m",
            "\u001b[0;31mFileNotFoundError\u001b[0m                         Traceback (most recent call last)",
            "\u001b[0;32m<ipython-input-9-3f138d8e6b3c>\u001b[0m in \u001b[0;36m<module>\u001b[0;34m()\u001b[0m\n\u001b[0;32m----> 1\u001b[0;31m \u001b[0mtokenizer\u001b[0m \u001b[0;34m=\u001b[0m \u001b[0mWav2Vec2CTCTokenizer\u001b[0m\u001b[0;34m(\u001b[0m\u001b[0;34m\"/content/drive/MyDrive/585_Team_Folder/vocab_2.json\"\u001b[0m\u001b[0;34m,\u001b[0m \u001b[0munk_token\u001b[0m\u001b[0;34m=\u001b[0m\u001b[0;34m\"[UNK]\"\u001b[0m\u001b[0;34m,\u001b[0m \u001b[0mpad_token\u001b[0m\u001b[0;34m=\u001b[0m\u001b[0;34m\"[PAD]\"\u001b[0m\u001b[0;34m,\u001b[0m \u001b[0mword_delimiter_token\u001b[0m\u001b[0;34m=\u001b[0m\u001b[0;34m\"\"\u001b[0m\u001b[0;34m)\u001b[0m\u001b[0;34m\u001b[0m\u001b[0;34m\u001b[0m\u001b[0m\n\u001b[0m\u001b[1;32m      2\u001b[0m \u001b[0mfeature_extractor\u001b[0m \u001b[0;34m=\u001b[0m \u001b[0mWav2Vec2FeatureExtractor\u001b[0m\u001b[0;34m(\u001b[0m\u001b[0mfeature_size\u001b[0m\u001b[0;34m=\u001b[0m\u001b[0;36m1\u001b[0m\u001b[0;34m,\u001b[0m \u001b[0msampling_rate\u001b[0m\u001b[0;34m=\u001b[0m\u001b[0;36m16000\u001b[0m\u001b[0;34m,\u001b[0m \u001b[0mpadding_value\u001b[0m\u001b[0;34m=\u001b[0m\u001b[0;36m0.0\u001b[0m\u001b[0;34m,\u001b[0m \u001b[0mdo_normalize\u001b[0m\u001b[0;34m=\u001b[0m\u001b[0;32mTrue\u001b[0m\u001b[0;34m,\u001b[0m \u001b[0mreturn_attention_mask\u001b[0m\u001b[0;34m=\u001b[0m\u001b[0;32mTrue\u001b[0m\u001b[0;34m)\u001b[0m\u001b[0;34m\u001b[0m\u001b[0;34m\u001b[0m\u001b[0m\n\u001b[1;32m      3\u001b[0m \u001b[0mprocessor\u001b[0m \u001b[0;34m=\u001b[0m \u001b[0mWav2Vec2Processor\u001b[0m\u001b[0;34m(\u001b[0m\u001b[0mfeature_extractor\u001b[0m\u001b[0;34m=\u001b[0m\u001b[0mfeature_extractor\u001b[0m\u001b[0;34m,\u001b[0m \u001b[0mtokenizer\u001b[0m\u001b[0;34m=\u001b[0m\u001b[0mtokenizer\u001b[0m\u001b[0;34m)\u001b[0m\u001b[0;34m\u001b[0m\u001b[0;34m\u001b[0m\u001b[0m\n",
            "\u001b[0;32m/usr/local/lib/python3.7/dist-packages/transformers/models/wav2vec2/tokenization_wav2vec2.py\u001b[0m in \u001b[0;36m__init__\u001b[0;34m(self, vocab_file, bos_token, eos_token, unk_token, pad_token, word_delimiter_token, do_lower_case, **kwargs)\u001b[0m\n\u001b[1;32m    139\u001b[0m         \u001b[0mself\u001b[0m\u001b[0;34m.\u001b[0m\u001b[0mdo_lower_case\u001b[0m \u001b[0;34m=\u001b[0m \u001b[0mdo_lower_case\u001b[0m\u001b[0;34m\u001b[0m\u001b[0;34m\u001b[0m\u001b[0m\n\u001b[1;32m    140\u001b[0m \u001b[0;34m\u001b[0m\u001b[0m\n\u001b[0;32m--> 141\u001b[0;31m         \u001b[0;32mwith\u001b[0m \u001b[0mopen\u001b[0m\u001b[0;34m(\u001b[0m\u001b[0mvocab_file\u001b[0m\u001b[0;34m,\u001b[0m \u001b[0mencoding\u001b[0m\u001b[0;34m=\u001b[0m\u001b[0;34m\"utf-8\"\u001b[0m\u001b[0;34m)\u001b[0m \u001b[0;32mas\u001b[0m \u001b[0mvocab_handle\u001b[0m\u001b[0;34m:\u001b[0m\u001b[0;34m\u001b[0m\u001b[0;34m\u001b[0m\u001b[0m\n\u001b[0m\u001b[1;32m    142\u001b[0m             \u001b[0mself\u001b[0m\u001b[0;34m.\u001b[0m\u001b[0mencoder\u001b[0m \u001b[0;34m=\u001b[0m \u001b[0mjson\u001b[0m\u001b[0;34m.\u001b[0m\u001b[0mload\u001b[0m\u001b[0;34m(\u001b[0m\u001b[0mvocab_handle\u001b[0m\u001b[0;34m)\u001b[0m\u001b[0;34m\u001b[0m\u001b[0;34m\u001b[0m\u001b[0m\n\u001b[1;32m    143\u001b[0m         \u001b[0mself\u001b[0m\u001b[0;34m.\u001b[0m\u001b[0mdecoder\u001b[0m \u001b[0;34m=\u001b[0m \u001b[0;34m{\u001b[0m\u001b[0mv\u001b[0m\u001b[0;34m:\u001b[0m \u001b[0mk\u001b[0m \u001b[0;32mfor\u001b[0m \u001b[0mk\u001b[0m\u001b[0;34m,\u001b[0m \u001b[0mv\u001b[0m \u001b[0;32min\u001b[0m \u001b[0mself\u001b[0m\u001b[0;34m.\u001b[0m\u001b[0mencoder\u001b[0m\u001b[0;34m.\u001b[0m\u001b[0mitems\u001b[0m\u001b[0;34m(\u001b[0m\u001b[0;34m)\u001b[0m\u001b[0;34m}\u001b[0m\u001b[0;34m\u001b[0m\u001b[0;34m\u001b[0m\u001b[0m\n",
            "\u001b[0;31mFileNotFoundError\u001b[0m: [Errno 2] No such file or directory: '/content/drive/MyDrive/585_Team_Folder/vocab_2.json'"
          ]
        }
      ]
    },
    {
      "cell_type": "markdown",
      "metadata": {
        "id": "m-4MwJ8ZTkDS"
      },
      "source": [
        "# Jieba Chinese tokenizer"
      ]
    },
    {
      "cell_type": "code",
      "metadata": {
        "colab": {
          "base_uri": "https://localhost:8080/"
        },
        "id": "m_RFn5Uf6InE",
        "outputId": "15ce2a84-3661-470d-d0a5-8376192c06a6"
      },
      "source": [
        "pip install jieba"
      ],
      "execution_count": null,
      "outputs": [
        {
          "output_type": "stream",
          "text": [
            "Requirement already satisfied: jieba in /usr/local/lib/python3.7/dist-packages (0.42.1)\n"
          ],
          "name": "stdout"
        }
      ]
    },
    {
      "cell_type": "code",
      "metadata": {
        "id": "qkGMsFtyTuGs"
      },
      "source": [
        "import jieba"
      ],
      "execution_count": null,
      "outputs": []
    },
    {
      "cell_type": "code",
      "metadata": {
        "colab": {
          "base_uri": "https://localhost:8080/"
        },
        "id": "OBrbERG1TWmf",
        "outputId": "2bdeef7f-46b5-402f-c47b-faab456b7dd5"
      },
      "source": [
        "# example\n",
        "seg_list = jieba.cut(\"我来到北京清华大学\", cut_all=True)\n",
        "print(\"Full Mode: \" + \"/ \".join(seg_list))  # 全模式"
      ],
      "execution_count": null,
      "outputs": [
        {
          "output_type": "stream",
          "text": [
            "Building prefix dict from the default dictionary ...\n",
            "Dumping model to file cache /tmp/jieba.cache\n",
            "Loading model cost 0.922 seconds.\n",
            "Prefix dict has been built successfully.\n"
          ],
          "name": "stderr"
        },
        {
          "output_type": "stream",
          "text": [
            "Full Mode: 我/ 来到/ 北京/ 清华/ 清华大学/ 华大/ 大学\n"
          ],
          "name": "stdout"
        }
      ]
    },
    {
      "cell_type": "code",
      "metadata": {
        "colab": {
          "base_uri": "https://localhost:8080/"
        },
        "id": "0n1KL-7MTsdW",
        "outputId": "251e18b2-27a4-4046-8b74-588482dc2332"
      },
      "source": [
        "seg_list = jieba.cut(\"我来到北京清华大学\", cut_all=False)\n",
        "print(\"Default Mode: \" + \"/ \".join(seg_list))  # 精确模式"
      ],
      "execution_count": null,
      "outputs": [
        {
          "output_type": "stream",
          "text": [
            "Default Mode: 我/ 来到/ 北京/ 清华大学\n"
          ],
          "name": "stdout"
        }
      ]
    },
    {
      "cell_type": "code",
      "metadata": {
        "colab": {
          "base_uri": "https://localhost:8080/"
        },
        "id": "pYYzHlVCT8dx",
        "outputId": "92484946-225a-4bb9-9905-55bf8b0ffcf7"
      },
      "source": [
        "seg_list = jieba.cut(\"我来到北京清华大学\")\n",
        "print(\"Default Mode: \" + \"/ \".join(seg_list))  # 精确模式"
      ],
      "execution_count": null,
      "outputs": [
        {
          "output_type": "stream",
          "text": [
            "Default Mode: 我/ 来到/ 北京/ 清华大学\n"
          ],
          "name": "stdout"
        }
      ]
    },
    {
      "cell_type": "code",
      "metadata": {
        "colab": {
          "base_uri": "https://localhost:8080/"
        },
        "id": "KgXP38IUeDKS",
        "outputId": "c12193f6-5397-4110-afd3-e810214d478c"
      },
      "source": [
        "seg_list = jieba.cut(\"醉里挑灯看剑，梦里吹角连营，八百里分麾下炙，五十弦翻塞外，沙场秋点兵\")\n",
        "print(\"Default Mode: \" + \"/ \".join(seg_list))  # 精确模式"
      ],
      "execution_count": null,
      "outputs": [
        {
          "output_type": "stream",
          "text": [
            "Default Mode: 醉里/ 挑灯/ 看剑/ ，/ 梦里/ 吹角连营/ ，/ 八百里/ 分/ 麾下/ 炙/ ，/ 五十/ 弦/ 翻/ 塞外/ ，/ 沙场/ 秋点兵\n"
          ],
          "name": "stdout"
        }
      ]
    },
    {
      "cell_type": "code",
      "metadata": {
        "colab": {
          "base_uri": "https://localhost:8080/"
        },
        "id": "PtpJ0Q61eXx9",
        "outputId": "41b2f14d-9eaf-497c-9e44-853f1c044d74"
      },
      "source": [
        "seg_list = jieba.cut(\"皮卡丘钢铁加鲁鲁庐山升龙霸天马流星拳\")\n",
        "print(\"Default Mode: \" + \"/ \".join(seg_list))  # 精确模式"
      ],
      "execution_count": null,
      "outputs": [
        {
          "output_type": "stream",
          "text": [
            "Default Mode: 皮卡丘/ 钢铁/ 加鲁鲁/ 庐山/ 升龙/ 霸/ 天马/ 流星/ 拳\n"
          ],
          "name": "stdout"
        }
      ]
    },
    {
      "cell_type": "code",
      "metadata": {
        "colab": {
          "base_uri": "https://localhost:8080/"
        },
        "id": "cTs30zn9fHbC",
        "outputId": "f45302c8-4402-4e38-f964-062340cf4220"
      },
      "source": [
        "seg_list = jieba.cut(\"我怕鬼，鬼却未伤我分毫\")\n",
        "print(\"Default Mode: \" + \"/ \".join(seg_list))  # 精确模式"
      ],
      "execution_count": null,
      "outputs": [
        {
          "output_type": "stream",
          "text": [
            "Default Mode: 我/ 怕鬼/ ，/ 鬼/ 却/ 未伤/ 我/ 分毫\n"
          ],
          "name": "stdout"
        }
      ]
    },
    {
      "cell_type": "code",
      "metadata": {
        "id": "F586qXmWUIWW"
      },
      "source": [
        "# Utilize the Jieba Chinese tokenizer on COVOST aligned files\n",
        "# note that the Chinese sentence in the COVOST_alighed_files folder is not the result of our ASR model\n",
        "aligned_folder_path = '/content/drive/MyDrive/585_Team_Folder/COVOST_aligned_files/'\n",
        "\n",
        "def chinese_tokenizer(file_name):\n",
        "  cutted_list = []\n",
        "  with open(aligned_folder_path+file_name, \"r\") as f:\n",
        "      content = f.read()\n",
        "      for line in content.split(\"\\n\"):\n",
        "          cutted_line = jieba.cut(line, cut_all=False)\n",
        "          cutted_list.append(\" \".join(cutted_line))\n",
        "  return cutted_list"
      ],
      "execution_count": null,
      "outputs": []
    },
    {
      "cell_type": "code",
      "metadata": {
        "id": "mkx492guXzQt"
      },
      "source": [
        "# train_cuttedChinese_list = chinese_tokenizer('zh_CN_sentence_train.txt')\n",
        "# dev_cuttedChinese_list = chinese_tokenizer('zh_CN_sentence_dev.txt')\n",
        "# test_cuttedChinese_list = chinese_tokenizer('zh_CN_sentence_test.txt')"
      ],
      "execution_count": null,
      "outputs": []
    },
    {
      "cell_type": "code",
      "metadata": {
        "id": "74a5UU-ZYC9I"
      },
      "source": [
        "# Write the tokenized Chinese into files\n",
        "def write_files(cutted_list, file_name):\n",
        "    with open(aligned_folder_path+file_name, \"w\") as f:\n",
        "        for line in cutted_list:\n",
        "            f.write(line+\"\\n\")"
      ],
      "execution_count": null,
      "outputs": []
    },
    {
      "cell_type": "code",
      "metadata": {
        "id": "-U0yO_zWcCRc"
      },
      "source": [
        "# write_files(train_cuttedChinese_list, \"zh_CN_Train.tok\")\n",
        "# write_files(dev_cuttedChinese_list, \"zh_CN_Dev.tok\")\n",
        "# write_files(test_cuttedChinese_list, \"zh_CN_Test.tok\")"
      ],
      "execution_count": null,
      "outputs": []
    },
    {
      "cell_type": "code",
      "metadata": {
        "id": "sNgbqnFLYLkB"
      },
      "source": [
        ""
      ],
      "execution_count": null,
      "outputs": []
    },
    {
      "cell_type": "markdown",
      "metadata": {
        "id": "D2yiPXsKdBIg"
      },
      "source": [
        "### Tokenizing for English"
      ]
    },
    {
      "cell_type": "code",
      "metadata": {
        "colab": {
          "base_uri": "https://localhost:8080/"
        },
        "id": "soHtjLL_dDIA",
        "outputId": "18e0487b-760d-47f5-f953-d98d19e8aa23"
      },
      "source": [
        "# Use Spacy to tokenize English\n",
        "!python -m spacy download en_core_web_sm\n",
        "import en_core_web_sm"
      ],
      "execution_count": null,
      "outputs": [
        {
          "output_type": "stream",
          "text": [
            "2021-04-20 23:36:23.923881: I tensorflow/stream_executor/platform/default/dso_loader.cc:49] Successfully opened dynamic library libcudart.so.11.0\n",
            "Collecting en-core-web-sm==3.0.0\n",
            "\u001b[?25l  Downloading https://github.com/explosion/spacy-models/releases/download/en_core_web_sm-3.0.0/en_core_web_sm-3.0.0-py3-none-any.whl (13.7MB)\n",
            "\u001b[K     |████████████████████████████████| 13.7MB 4.0MB/s \n",
            "\u001b[?25hRequirement already satisfied: spacy<3.1.0,>=3.0.0 in /usr/local/lib/python3.7/dist-packages (from en-core-web-sm==3.0.0) (3.0.0)\n",
            "Requirement already satisfied: thinc<8.1.0,>=8.0.0 in /usr/local/lib/python3.7/dist-packages (from spacy<3.1.0,>=3.0.0->en-core-web-sm==3.0.0) (8.0.3)\n",
            "Requirement already satisfied: jinja2 in /usr/local/lib/python3.7/dist-packages (from spacy<3.1.0,>=3.0.0->en-core-web-sm==3.0.0) (2.11.3)\n",
            "Requirement already satisfied: catalogue<2.1.0,>=2.0.1 in /usr/local/lib/python3.7/dist-packages (from spacy<3.1.0,>=3.0.0->en-core-web-sm==3.0.0) (2.0.3)\n",
            "Requirement already satisfied: murmurhash<1.1.0,>=0.28.0 in /usr/local/lib/python3.7/dist-packages (from spacy<3.1.0,>=3.0.0->en-core-web-sm==3.0.0) (1.0.5)\n",
            "Requirement already satisfied: pydantic<1.8.0,>=1.7.1 in /usr/local/lib/python3.7/dist-packages (from spacy<3.1.0,>=3.0.0->en-core-web-sm==3.0.0) (1.7.3)\n",
            "Requirement already satisfied: preshed<3.1.0,>=3.0.2 in /usr/local/lib/python3.7/dist-packages (from spacy<3.1.0,>=3.0.0->en-core-web-sm==3.0.0) (3.0.5)\n",
            "Requirement already satisfied: blis<0.8.0,>=0.4.0 in /usr/local/lib/python3.7/dist-packages (from spacy<3.1.0,>=3.0.0->en-core-web-sm==3.0.0) (0.4.1)\n",
            "Requirement already satisfied: tqdm<5.0.0,>=4.38.0 in /usr/local/lib/python3.7/dist-packages (from spacy<3.1.0,>=3.0.0->en-core-web-sm==3.0.0) (4.60.0)\n",
            "Requirement already satisfied: wasabi<1.1.0,>=0.8.1 in /usr/local/lib/python3.7/dist-packages (from spacy<3.1.0,>=3.0.0->en-core-web-sm==3.0.0) (0.8.2)\n",
            "Requirement already satisfied: spacy-legacy<3.1.0,>=3.0.0 in /usr/local/lib/python3.7/dist-packages (from spacy<3.1.0,>=3.0.0->en-core-web-sm==3.0.0) (3.0.2)\n",
            "Requirement already satisfied: setuptools in /usr/local/lib/python3.7/dist-packages (from spacy<3.1.0,>=3.0.0->en-core-web-sm==3.0.0) (54.2.0)\n",
            "Requirement already satisfied: typing-extensions>=3.7.4; python_version < \"3.8\" in /usr/local/lib/python3.7/dist-packages (from spacy<3.1.0,>=3.0.0->en-core-web-sm==3.0.0) (3.7.4.3)\n",
            "Requirement already satisfied: srsly<3.0.0,>=2.4.0 in /usr/local/lib/python3.7/dist-packages (from spacy<3.1.0,>=3.0.0->en-core-web-sm==3.0.0) (2.4.1)\n",
            "Requirement already satisfied: importlib-metadata>=0.20; python_version < \"3.8\" in /usr/local/lib/python3.7/dist-packages (from spacy<3.1.0,>=3.0.0->en-core-web-sm==3.0.0) (3.10.1)\n",
            "Requirement already satisfied: packaging>=20.0 in /usr/local/lib/python3.7/dist-packages (from spacy<3.1.0,>=3.0.0->en-core-web-sm==3.0.0) (20.9)\n",
            "Requirement already satisfied: typer<0.4.0,>=0.3.0 in /usr/local/lib/python3.7/dist-packages (from spacy<3.1.0,>=3.0.0->en-core-web-sm==3.0.0) (0.3.2)\n",
            "Requirement already satisfied: cymem<2.1.0,>=2.0.2 in /usr/local/lib/python3.7/dist-packages (from spacy<3.1.0,>=3.0.0->en-core-web-sm==3.0.0) (2.0.5)\n",
            "Requirement already satisfied: numpy>=1.15.0 in /usr/local/lib/python3.7/dist-packages (from spacy<3.1.0,>=3.0.0->en-core-web-sm==3.0.0) (1.19.5)\n",
            "Requirement already satisfied: pathy in /usr/local/lib/python3.7/dist-packages (from spacy<3.1.0,>=3.0.0->en-core-web-sm==3.0.0) (0.4.0)\n",
            "Requirement already satisfied: requests<3.0.0,>=2.13.0 in /usr/local/lib/python3.7/dist-packages (from spacy<3.1.0,>=3.0.0->en-core-web-sm==3.0.0) (2.23.0)\n",
            "Requirement already satisfied: MarkupSafe>=0.23 in /usr/local/lib/python3.7/dist-packages (from jinja2->spacy<3.1.0,>=3.0.0->en-core-web-sm==3.0.0) (1.1.1)\n",
            "Requirement already satisfied: zipp>=0.5; python_version < \"3.8\" in /usr/local/lib/python3.7/dist-packages (from catalogue<2.1.0,>=2.0.1->spacy<3.1.0,>=3.0.0->en-core-web-sm==3.0.0) (3.4.1)\n",
            "Requirement already satisfied: pyparsing>=2.0.2 in /usr/local/lib/python3.7/dist-packages (from packaging>=20.0->spacy<3.1.0,>=3.0.0->en-core-web-sm==3.0.0) (2.4.7)\n",
            "Requirement already satisfied: click<7.2.0,>=7.1.1 in /usr/local/lib/python3.7/dist-packages (from typer<0.4.0,>=0.3.0->spacy<3.1.0,>=3.0.0->en-core-web-sm==3.0.0) (7.1.2)\n",
            "Requirement already satisfied: smart-open<4.0.0,>=2.2.0 in /usr/local/lib/python3.7/dist-packages (from pathy->spacy<3.1.0,>=3.0.0->en-core-web-sm==3.0.0) (3.0.0)\n",
            "Requirement already satisfied: certifi>=2017.4.17 in /usr/local/lib/python3.7/dist-packages (from requests<3.0.0,>=2.13.0->spacy<3.1.0,>=3.0.0->en-core-web-sm==3.0.0) (2020.12.5)\n",
            "Requirement already satisfied: chardet<4,>=3.0.2 in /usr/local/lib/python3.7/dist-packages (from requests<3.0.0,>=2.13.0->spacy<3.1.0,>=3.0.0->en-core-web-sm==3.0.0) (3.0.4)\n",
            "Requirement already satisfied: urllib3!=1.25.0,!=1.25.1,<1.26,>=1.21.1 in /usr/local/lib/python3.7/dist-packages (from requests<3.0.0,>=2.13.0->spacy<3.1.0,>=3.0.0->en-core-web-sm==3.0.0) (1.24.3)\n",
            "Requirement already satisfied: idna<3,>=2.5 in /usr/local/lib/python3.7/dist-packages (from requests<3.0.0,>=2.13.0->spacy<3.1.0,>=3.0.0->en-core-web-sm==3.0.0) (2.10)\n",
            "Installing collected packages: en-core-web-sm\n",
            "  Found existing installation: en-core-web-sm 2.2.5\n",
            "    Uninstalling en-core-web-sm-2.2.5:\n",
            "      Successfully uninstalled en-core-web-sm-2.2.5\n",
            "Successfully installed en-core-web-sm-3.0.0\n",
            "\u001b[38;5;2m✔ Download and installation successful\u001b[0m\n",
            "You can now load the package via spacy.load('en_core_web_sm')\n"
          ],
          "name": "stdout"
        }
      ]
    },
    {
      "cell_type": "code",
      "metadata": {
        "id": "ZA4tF94Xf-UJ"
      },
      "source": [
        "import spacy\n",
        "spacy_en = spacy.load('en_core_web_sm')\n",
        "def english_tokenizer_and_write(input_file_name, output_file_name):\n",
        "  with open(aligned_folder_path+input_file_name, \"r\", encoding='utf-8') as fp:\n",
        "      outfile = output_file_name\n",
        "      with open(aligned_folder_path+outfile, \"w\", encoding=\"utf-8\") as out:\n",
        "          for line in fp:\n",
        "            tokenized = [tok.text for tok in spacy_en.tokenizer(line)]\n",
        "            out.write(\" \".join(tokenized))"
      ],
      "execution_count": null,
      "outputs": []
    },
    {
      "cell_type": "code",
      "metadata": {
        "id": "qMfXBTsdgJVp"
      },
      "source": [
        "# english_tokenizer_and_write('en_translation_train.txt', \"en_translation_Train.tok\")\n",
        "# english_tokenizer_and_write('en_translation_dev.txt', \"en_translation_Dev.tok\")\n",
        "# english_tokenizer_and_write('en_translation_test.txt', \"en_translation_Test.tok\")"
      ],
      "execution_count": null,
      "outputs": []
    },
    {
      "cell_type": "code",
      "metadata": {
        "id": "PEhaQ-Evj8iC"
      },
      "source": [
        "#using train files for openNMT \n",
        "# !onmt_build_vocab -config /content/drive/MyDrive/585_Team_Folder/COVOST_aligned_files/585_openNMT.yml -n_sample 20000"
      ],
      "execution_count": null,
      "outputs": []
    },
    {
      "cell_type": "code",
      "metadata": {
        "id": "vYhjc0iQBcf1"
      },
      "source": [
        "# !onmt_train -config /content/drive/MyDrive/585_Team_Folder/COVOST_aligned_files/585_openNMT.yml"
      ],
      "execution_count": null,
      "outputs": []
    },
    {
      "cell_type": "code",
      "metadata": {
        "id": "wKoC47YcHwoA"
      },
      "source": [
        "# !onmt_train -config /content/drive/MyDrive/585_Team_Folder/COVOST_aligned_files/585_openNMT-transformer.yml"
      ],
      "execution_count": null,
      "outputs": []
    },
    {
      "cell_type": "code",
      "metadata": {
        "id": "-xZ8460SBn5U"
      },
      "source": [
        "# !onmt_translate -model /content/drive/MyDrive/585_Team_Folder/COVOST_aligned_files/run/model_step_500.pt  -src /content/drive/MyDrive/585_Team_Folder/COVOST_aligned_files/zh_CN_Dev.tok -output /content/drive/MyDrive/585_Team_Folder/COVOST_aligned_files/zh_CN_sentence_test.txt -gpu 0 -beam_size 10 -seed 531 -block_ngram 2\n",
        "# !onmt_translate -model /content/drive/MyDrive/585_Team_Folder/COVOST_aligned_files/run/model_step_2000.pt -src /content/drive/MyDrive/585_Team_Folder/COVOST_aligned_files/zh_CN_Dev.tok -output /content/drive/MyDrive/585_Team_Folder/COVOST_aligned_files/zh_CN_sentence_test.txt -gpu 0 -beam_size 10 -seed 531 -block_ngram 2\n",
        "# !onmt_translate -model /content/drive/MyDrive/585_Team_Folder/COVOST_aligned_files/run/model_step_3000.pt -src /content/drive/MyDrive/585_Team_Folder/COVOST_aligned_files/zh_CN_Dev.tok -output /content/drive/MyDrive/585_Team_Folder/COVOST_aligned_files/zh_CN_sentence_test.txt -gpu 0 -beam_size 10 -seed 531 -block_ngram 2"
      ],
      "execution_count": null,
      "outputs": []
    },
    {
      "cell_type": "markdown",
      "metadata": {
        "id": "psvTZHOz8deY"
      },
      "source": [
        "# OPUS corpus"
      ]
    },
    {
      "cell_type": "code",
      "metadata": {
        "id": "WKM8JGhBH49X"
      },
      "source": [
        "opus_folder_path = \"/content/drive/MyDrive/585_Team_Folder/OPUS/Ted.txt/\""
      ],
      "execution_count": null,
      "outputs": []
    },
    {
      "cell_type": "code",
      "metadata": {
        "colab": {
          "base_uri": "https://localhost:8080/",
          "height": 229
        },
        "id": "vEV-3V1a8g6B",
        "outputId": "b056de3e-ace8-4e47-bddf-01ff673f2010"
      },
      "source": [
        "# ted_en = []\n",
        "# with open(opus_folder_path+\"TED2013.en-zh.en\") as f:\n",
        "#     content = f.read()\n",
        "#     splitted_content = content.split(\"\\n\")\n",
        "#     loop_count = 0\n",
        "#     for line in splitted_content:\n",
        "#         if line[:4] != \"http\":\n",
        "#             ted_en.append(line)\n",
        "#         loop_count += 1\n",
        "#         if loop_count == 5:\n",
        "#           break"
      ],
      "execution_count": null,
      "outputs": [
        {
          "output_type": "error",
          "ename": "FileNotFoundError",
          "evalue": "ignored",
          "traceback": [
            "\u001b[0;31m---------------------------------------------------------------------------\u001b[0m",
            "\u001b[0;31mFileNotFoundError\u001b[0m                         Traceback (most recent call last)",
            "\u001b[0;32m<ipython-input-30-8a6ad9d68148>\u001b[0m in \u001b[0;36m<module>\u001b[0;34m()\u001b[0m\n\u001b[1;32m      1\u001b[0m \u001b[0mted_en\u001b[0m \u001b[0;34m=\u001b[0m \u001b[0;34m[\u001b[0m\u001b[0;34m]\u001b[0m\u001b[0;34m\u001b[0m\u001b[0;34m\u001b[0m\u001b[0m\n\u001b[0;32m----> 2\u001b[0;31m \u001b[0;32mwith\u001b[0m \u001b[0mopen\u001b[0m\u001b[0;34m(\u001b[0m\u001b[0mopus_folder_path\u001b[0m\u001b[0;34m+\u001b[0m\u001b[0;34m\"TED2013.en-zh.en\"\u001b[0m\u001b[0;34m)\u001b[0m \u001b[0;32mas\u001b[0m \u001b[0mf\u001b[0m\u001b[0;34m:\u001b[0m\u001b[0;34m\u001b[0m\u001b[0;34m\u001b[0m\u001b[0m\n\u001b[0m\u001b[1;32m      3\u001b[0m     \u001b[0mcontent\u001b[0m \u001b[0;34m=\u001b[0m \u001b[0mf\u001b[0m\u001b[0;34m.\u001b[0m\u001b[0mread\u001b[0m\u001b[0;34m(\u001b[0m\u001b[0;34m)\u001b[0m\u001b[0;34m\u001b[0m\u001b[0;34m\u001b[0m\u001b[0m\n\u001b[1;32m      4\u001b[0m     \u001b[0msplitted_content\u001b[0m \u001b[0;34m=\u001b[0m \u001b[0mcontent\u001b[0m\u001b[0;34m.\u001b[0m\u001b[0msplit\u001b[0m\u001b[0;34m(\u001b[0m\u001b[0;34m\"\\n\"\u001b[0m\u001b[0;34m)\u001b[0m\u001b[0;34m\u001b[0m\u001b[0;34m\u001b[0m\u001b[0m\n\u001b[1;32m      5\u001b[0m     \u001b[0mloop_count\u001b[0m \u001b[0;34m=\u001b[0m \u001b[0;36m0\u001b[0m\u001b[0;34m\u001b[0m\u001b[0;34m\u001b[0m\u001b[0m\n",
            "\u001b[0;31mFileNotFoundError\u001b[0m: [Errno 2] No such file or directory: '/content/drive/MyDrive/585_Team_Folder/OPUS/Ted.txt/TED2013.en-zh.en'"
          ]
        }
      ]
    },
    {
      "cell_type": "code",
      "metadata": {
        "id": "yZNUgo5SIR0a"
      },
      "source": [
        "# def english_tokenizer_and_write(input_file_name, output_file_name):\n",
        "#   with open(opus_folder_path+input_file_name, \"r\", encoding='utf-8') as fp:\n",
        "#       outfile = output_file_name\n",
        "#       with open(opus_folder_path+outfile, \"w\", encoding=\"utf-8\") as out:\n",
        "#           for line in fp:\n",
        "#             tokenized = [tok.text for tok in spacy_en.tokenizer(line)]\n",
        "#             out.write(\" \".join(tokenized))"
      ],
      "execution_count": null,
      "outputs": []
    },
    {
      "cell_type": "code",
      "metadata": {
        "id": "_UPS9RnoRpSz"
      },
      "source": [
        "# english_tokenizer_and_write('TED2013.en-zh.en', 'TED2013.en-zh.en.tok')"
      ],
      "execution_count": null,
      "outputs": []
    },
    {
      "cell_type": "code",
      "metadata": {
        "id": "D-TYFZBlRpy1"
      },
      "source": [
        "# def chinese_tokenizer(file_name):\n",
        "#   cutted_list = []\n",
        "#   with open(opus_folder_path+file_name, \"r\") as f:\n",
        "#       content = f.read()\n",
        "#       for line in content.split(\"\\n\"):\n",
        "#           cutted_line = jieba.cut(line, cut_all=False)\n",
        "#           cutted_list.append(\" \".join(cutted_line))\n",
        "#   return cutted_list"
      ],
      "execution_count": null,
      "outputs": []
    },
    {
      "cell_type": "code",
      "metadata": {
        "id": "TeXKUsrKjP0L"
      },
      "source": [
        "# ted_tokenized_cn = chinese_tokenizer('TED2013.en-zh.zh')"
      ],
      "execution_count": null,
      "outputs": []
    },
    {
      "cell_type": "code",
      "metadata": {
        "id": "5Ep_d2wsjOL4"
      },
      "source": [
        "# def write_files(cutted_list, file_name):\n",
        "#     with open(opus_folder_path+file_name, \"w\") as f:\n",
        "#         for line in cutted_list:\n",
        "#             f.write(line+\"\\n\")"
      ],
      "execution_count": null,
      "outputs": []
    },
    {
      "cell_type": "code",
      "metadata": {
        "id": "fUUz1t8rkEFv"
      },
      "source": [
        "# write_files(ted_tokenized_cn, 'TED2013.en-zh.zh.tok')"
      ],
      "execution_count": null,
      "outputs": []
    },
    {
      "cell_type": "code",
      "metadata": {
        "colab": {
          "base_uri": "https://localhost:8080/"
        },
        "id": "AzGvxgCykJ7C",
        "outputId": "fca27854-6cf6-477e-e2dd-82c07bc4419e"
      },
      "source": [
        "!onmt_build_vocab -config /content/drive/MyDrive/585_Team_Folder/OPUS/Ted.txt/585_openNMT-opus.yml -n_sample 20000"
      ],
      "execution_count": null,
      "outputs": [
        {
          "output_type": "stream",
          "text": [
            "Corpus corpus_1's weight should be given. We default it to 1 for you.\n",
            "[2021-04-21 01:20:05,361 INFO] Counter vocab from 20000 samples.\n",
            "[2021-04-21 01:20:05,361 INFO] Build vocab on 20000 transformed examples/corpus.\n",
            "[2021-04-21 01:20:05,369 INFO] corpus_1's transforms: TransformPipe(FilterTooLongTransform(src_seq_length=200, tgt_seq_length=200))\n",
            "[2021-04-21 01:20:05,370 INFO] Loading ParallelCorpus(/content/drive/MyDrive/585_Team_Folder/OPUS/Ted.txt/TED2013.en-zh.zh.tok, /content/drive/MyDrive/585_Team_Folder/OPUS/Ted.txt/TED2013.en-zh.en.tok, align=None)...\n",
            "[2021-04-21 01:20:07,580 INFO] Counters src:25701\n",
            "[2021-04-21 01:20:07,580 INFO] Counters tgt:19449\n",
            "[2021-04-21 01:20:07,581 WARNING] path /content/drive/MyDrive/585_Team_Folder/OPUS/Ted.txt/run/example.vocab.src exists, may overwrite...\n",
            "[2021-04-21 01:20:07,611 WARNING] path /content/drive/MyDrive/585_Team_Folder/OPUS/Ted.txt/run/example.vocab.tgt exists, may overwrite...\n"
          ],
          "name": "stdout"
        }
      ]
    },
    {
      "cell_type": "code",
      "metadata": {
        "colab": {
          "base_uri": "https://localhost:8080/"
        },
        "id": "epd47S4jnygF",
        "outputId": "8248b638-12b2-4e4a-b03b-cfafdeab5f1b"
      },
      "source": [
        "!onmt_train -config /content/drive/MyDrive/585_Team_Folder/OPUS/Ted.txt/585_openNMT-opus.yml"
      ],
      "execution_count": null,
      "outputs": [
        {
          "output_type": "stream",
          "text": [
            "[2021-04-21 01:20:08,444 WARNING] Corpus corpus_1's weight should be given. We default it to 1 for you.\n",
            "[2021-04-21 01:20:08,444 INFO] Parsed 2 corpora from -data.\n",
            "[2021-04-21 01:20:08,445 INFO] Get special vocabs from Transforms: {'src': set(), 'tgt': set()}.\n",
            "[2021-04-21 01:20:08,445 INFO] Loading vocab from text file...\n",
            "[2021-04-21 01:20:08,445 INFO] Loading src vocabulary from /content/drive/MyDrive/585_Team_Folder/OPUS/Ted.txt/run/example.vocab.src\n",
            "[2021-04-21 01:20:08,490 INFO] Loaded src vocab has 25701 tokens.\n",
            "[2021-04-21 01:20:08,501 INFO] Loading tgt vocabulary from /content/drive/MyDrive/585_Team_Folder/OPUS/Ted.txt/run/example.vocab.tgt\n",
            "[2021-04-21 01:20:08,535 INFO] Loaded tgt vocab has 19449 tokens.\n",
            "[2021-04-21 01:20:08,543 INFO] Building fields with vocab in counters...\n",
            "[2021-04-21 01:20:08,568 INFO]  * tgt vocab size: 19453.\n",
            "[2021-04-21 01:20:08,624 INFO]  * src vocab size: 25703.\n",
            "[2021-04-21 01:20:08,626 INFO]  * src vocab size = 25703\n",
            "[2021-04-21 01:20:08,626 INFO]  * tgt vocab size = 19453\n",
            "[2021-04-21 01:20:08,628 INFO] Building model...\n",
            "[2021-04-21 01:20:11,951 INFO] NMTModel(\n",
            "  (encoder): RNNEncoder(\n",
            "    (embeddings): Embeddings(\n",
            "      (make_embedding): Sequential(\n",
            "        (emb_luts): Elementwise(\n",
            "          (0): Embedding(25703, 500, padding_idx=1)\n",
            "        )\n",
            "      )\n",
            "    )\n",
            "    (rnn): LSTM(500, 300, num_layers=3, dropout=0.2)\n",
            "  )\n",
            "  (decoder): InputFeedRNNDecoder(\n",
            "    (embeddings): Embeddings(\n",
            "      (make_embedding): Sequential(\n",
            "        (emb_luts): Elementwise(\n",
            "          (0): Embedding(19453, 500, padding_idx=1)\n",
            "        )\n",
            "      )\n",
            "    )\n",
            "    (dropout): Dropout(p=0.2, inplace=False)\n",
            "    (rnn): StackedLSTM(\n",
            "      (dropout): Dropout(p=0.2, inplace=False)\n",
            "      (layers): ModuleList(\n",
            "        (0): LSTMCell(800, 300)\n",
            "        (1): LSTMCell(300, 300)\n",
            "      )\n",
            "    )\n",
            "    (attn): GlobalAttention(\n",
            "      (linear_context): Linear(in_features=300, out_features=300, bias=False)\n",
            "      (linear_query): Linear(in_features=300, out_features=300, bias=True)\n",
            "      (v): Linear(in_features=300, out_features=1, bias=False)\n",
            "      (linear_out): Linear(in_features=600, out_features=300, bias=True)\n",
            "    )\n",
            "  )\n",
            "  (generator): Sequential(\n",
            "    (0): Linear(in_features=300, out_features=19453, bias=True)\n",
            "    (1): Cast()\n",
            "    (2): LogSoftmax(dim=-1)\n",
            "  )\n",
            ")\n",
            "[2021-04-21 01:20:11,952 INFO] encoder: 15258700\n",
            "[2021-04-21 01:20:11,952 INFO] decoder: 17987553\n",
            "[2021-04-21 01:20:11,952 INFO] * number of parameters: 33246253\n",
            "[2021-04-21 01:20:11,954 INFO] Starting training on GPU: [0]\n",
            "[2021-04-21 01:20:11,954 INFO] Start training loop and validate every 500 steps...\n",
            "[2021-04-21 01:20:11,954 INFO] corpus_1's transforms: TransformPipe(FilterTooLongTransform(src_seq_length=200, tgt_seq_length=200))\n",
            "[2021-04-21 01:20:11,956 INFO] Loading ParallelCorpus(/content/drive/MyDrive/585_Team_Folder/OPUS/Ted.txt/TED2013.en-zh.zh.tok, /content/drive/MyDrive/585_Team_Folder/OPUS/Ted.txt/TED2013.en-zh.en.tok, align=None)...\n",
            "[2021-04-21 01:20:20,890 INFO] Step 100/40000; acc:   9.20; ppl: 862.05; xent: 6.76; lr: 0.00100; 12519/14663 tok/s;      9 sec\n",
            "[2021-04-21 01:20:30,420 INFO] Step 200/40000; acc:  15.34; ppl: 373.95; xent: 5.92; lr: 0.00100; 12383/13863 tok/s;     18 sec\n",
            "[2021-04-21 01:20:40,048 INFO] Step 300/40000; acc:  19.28; ppl: 238.78; xent: 5.48; lr: 0.00100; 12347/14219 tok/s;     28 sec\n",
            "[2021-04-21 01:20:49,908 INFO] Step 400/40000; acc:  22.49; ppl: 147.23; xent: 4.99; lr: 0.00100; 11959/14110 tok/s;     38 sec\n",
            "[2021-04-21 01:20:59,088 INFO] Step 500/40000; acc:  24.05; ppl: 131.89; xent: 4.88; lr: 0.00100; 12008/13713 tok/s;     47 sec\n",
            "[2021-04-21 01:20:59,088 INFO] valid's transforms: TransformPipe(FilterTooLongTransform(src_seq_length=200, tgt_seq_length=200))\n",
            "[2021-04-21 01:20:59,090 INFO] Loading ParallelCorpus(/content/drive/MyDrive/585_Team_Folder/OPUS/Ted.txt/TED2013.en-zh.zhDev.tok, /content/drive/MyDrive/585_Team_Folder/OPUS/Ted.txt/TED2013.en-zh.enDev.tok, align=None)...\n",
            "[2021-04-21 01:22:02,767 INFO] Transform statistics for valid:\n",
            "Filtered sentence: 10 sent\n",
            "\n",
            "[2021-04-21 01:22:06,364 INFO] Validation perplexity: 115.915\n",
            "[2021-04-21 01:22:06,364 INFO] Validation accuracy: 25.0256\n",
            "[2021-04-21 01:22:06,364 INFO] Model is improving ppl: inf --> 115.915.\n",
            "[2021-04-21 01:22:06,364 INFO] Model is improving acc: -inf --> 25.0256.\n",
            "[2021-04-21 01:22:16,075 INFO] Step 600/40000; acc:  24.80; ppl: 116.29; xent: 4.76; lr: 0.00100; 1479/1767 tok/s;    124 sec\n",
            "[2021-04-21 01:22:26,253 INFO] Step 700/40000; acc:  25.61; ppl: 108.18; xent: 4.68; lr: 0.00100; 11742/13994 tok/s;    134 sec\n",
            "[2021-04-21 01:22:35,870 INFO] Step 800/40000; acc:  27.38; ppl: 91.07; xent: 4.51; lr: 0.00100; 11832/13855 tok/s;    144 sec\n",
            "[2021-04-21 01:22:45,340 INFO] Step 900/40000; acc:  28.29; ppl: 82.95; xent: 4.42; lr: 0.00100; 11466/13525 tok/s;    153 sec\n",
            "[2021-04-21 01:22:54,803 INFO] Step 1000/40000; acc:  28.47; ppl: 81.52; xent: 4.40; lr: 0.00100; 11631/13652 tok/s;    163 sec\n",
            "[2021-04-21 01:22:54,805 INFO] Loading ParallelCorpus(/content/drive/MyDrive/585_Team_Folder/OPUS/Ted.txt/TED2013.en-zh.zhDev.tok, /content/drive/MyDrive/585_Team_Folder/OPUS/Ted.txt/TED2013.en-zh.enDev.tok, align=None)...\n",
            "[2021-04-21 01:23:57,022 INFO] Transform statistics for valid:\n",
            "Filtered sentence: 10 sent\n",
            "\n",
            "[2021-04-21 01:24:00,596 INFO] Validation perplexity: 78.1293\n",
            "[2021-04-21 01:24:00,596 INFO] Validation accuracy: 29.1451\n",
            "[2021-04-21 01:24:00,597 INFO] Model is improving ppl: 115.915 --> 78.1293.\n",
            "[2021-04-21 01:24:00,597 INFO] Model is improving acc: 25.0256 --> 29.1451.\n",
            "[2021-04-21 01:24:00,842 INFO] Saving checkpoint /content/drive/MyDrive/585_Team_Folder/OPUS/Ted.txt/run/model_step_1000.pt\n",
            "[2021-04-21 01:24:12,754 INFO] Step 1100/40000; acc:  29.03; ppl: 79.73; xent: 4.38; lr: 0.00100; 1526/1761 tok/s;    241 sec\n",
            "[2021-04-21 01:24:23,279 INFO] Step 1200/40000; acc:  29.74; ppl: 69.94; xent: 4.25; lr: 0.00100; 10565/12401 tok/s;    251 sec\n",
            "[2021-04-21 01:24:33,026 INFO] Step 1300/40000; acc:  30.65; ppl: 67.50; xent: 4.21; lr: 0.00100; 11013/13180 tok/s;    261 sec\n",
            "[2021-04-21 01:24:42,665 INFO] Step 1400/40000; acc:  31.42; ppl: 59.90; xent: 4.09; lr: 0.00100; 11624/13651 tok/s;    271 sec\n",
            "[2021-04-21 01:24:52,297 INFO] Step 1500/40000; acc:  30.73; ppl: 65.26; xent: 4.18; lr: 0.00100; 11753/13895 tok/s;    280 sec\n",
            "[2021-04-21 01:24:52,299 INFO] Loading ParallelCorpus(/content/drive/MyDrive/585_Team_Folder/OPUS/Ted.txt/TED2013.en-zh.zhDev.tok, /content/drive/MyDrive/585_Team_Folder/OPUS/Ted.txt/TED2013.en-zh.enDev.tok, align=None)...\n",
            "[2021-04-21 01:25:55,323 INFO] Transform statistics for valid:\n",
            "Filtered sentence: 10 sent\n",
            "\n",
            "[2021-04-21 01:25:58,911 INFO] Validation perplexity: 60.4477\n",
            "[2021-04-21 01:25:58,911 INFO] Validation accuracy: 31.5209\n",
            "[2021-04-21 01:25:58,911 INFO] Model is improving ppl: 78.1293 --> 60.4477.\n",
            "[2021-04-21 01:25:58,911 INFO] Model is improving acc: 29.1451 --> 31.5209.\n",
            "[2021-04-21 01:26:08,626 INFO] Step 1600/40000; acc:  31.91; ppl: 57.55; xent: 4.05; lr: 0.00100; 1441/1704 tok/s;    357 sec\n",
            "[2021-04-21 01:26:18,792 INFO] Step 1700/40000; acc:  32.66; ppl: 56.36; xent: 4.03; lr: 0.00100; 11554/13230 tok/s;    367 sec\n",
            "[2021-04-21 01:26:28,187 INFO] Step 1800/40000; acc:  32.49; ppl: 53.67; xent: 3.98; lr: 0.00100; 12112/14136 tok/s;    376 sec\n",
            "[2021-04-21 01:26:33,436 INFO] Transform statistics for corpus_1:\n",
            "Filtered sentence: 34 sent\n",
            "\n",
            "[2021-04-21 01:26:33,439 INFO] Loading ParallelCorpus(/content/drive/MyDrive/585_Team_Folder/OPUS/Ted.txt/TED2013.en-zh.zh.tok, /content/drive/MyDrive/585_Team_Folder/OPUS/Ted.txt/TED2013.en-zh.en.tok, align=None)...\n",
            "[2021-04-21 01:26:37,697 INFO] Step 1900/40000; acc:  33.19; ppl: 53.40; xent: 3.98; lr: 0.00100; 11718/13802 tok/s;    386 sec\n",
            "[2021-04-21 01:26:47,182 INFO] Step 2000/40000; acc:  32.26; ppl: 68.04; xent: 4.22; lr: 0.00100; 12073/13832 tok/s;    395 sec\n",
            "[2021-04-21 01:26:47,185 INFO] Loading ParallelCorpus(/content/drive/MyDrive/585_Team_Folder/OPUS/Ted.txt/TED2013.en-zh.zhDev.tok, /content/drive/MyDrive/585_Team_Folder/OPUS/Ted.txt/TED2013.en-zh.enDev.tok, align=None)...\n",
            "[2021-04-21 01:27:49,849 INFO] Transform statistics for valid:\n",
            "Filtered sentence: 10 sent\n",
            "\n",
            "[2021-04-21 01:27:53,314 INFO] Validation perplexity: 57.0036\n",
            "[2021-04-21 01:27:53,315 INFO] Validation accuracy: 32.7637\n",
            "[2021-04-21 01:27:53,315 INFO] Model is improving ppl: 60.4477 --> 57.0036.\n",
            "[2021-04-21 01:27:53,315 INFO] Model is improving acc: 31.5209 --> 32.7637.\n",
            "[2021-04-21 01:27:53,617 INFO] Saving checkpoint /content/drive/MyDrive/585_Team_Folder/OPUS/Ted.txt/run/model_step_2000.pt\n",
            "[2021-04-21 01:28:04,966 INFO] Step 2100/40000; acc:  32.85; ppl: 63.02; xent: 4.14; lr: 0.00100; 1509/1716 tok/s;    473 sec\n",
            "[2021-04-21 01:28:15,564 INFO] Step 2200/40000; acc:  34.18; ppl: 52.74; xent: 3.97; lr: 0.00100; 11180/12868 tok/s;    484 sec\n",
            "[2021-04-21 01:28:25,612 INFO] Step 2300/40000; acc:  34.02; ppl: 46.74; xent: 3.84; lr: 0.00100; 11821/13922 tok/s;    494 sec\n",
            "[2021-04-21 01:28:34,933 INFO] Step 2400/40000; acc:  34.28; ppl: 45.75; xent: 3.82; lr: 0.00100; 11755/13606 tok/s;    503 sec\n",
            "[2021-04-21 01:28:44,516 INFO] Step 2500/40000; acc:  34.13; ppl: 45.44; xent: 3.82; lr: 0.00100; 11568/13899 tok/s;    513 sec\n",
            "[2021-04-21 01:28:44,518 INFO] Loading ParallelCorpus(/content/drive/MyDrive/585_Team_Folder/OPUS/Ted.txt/TED2013.en-zh.zhDev.tok, /content/drive/MyDrive/585_Team_Folder/OPUS/Ted.txt/TED2013.en-zh.enDev.tok, align=None)...\n",
            "[2021-04-21 01:29:47,169 INFO] Transform statistics for valid:\n",
            "Filtered sentence: 10 sent\n",
            "\n",
            "[2021-04-21 01:29:50,757 INFO] Validation perplexity: 42.3474\n",
            "[2021-04-21 01:29:50,757 INFO] Validation accuracy: 35.1919\n",
            "[2021-04-21 01:29:50,757 INFO] Model is improving ppl: 57.0036 --> 42.3474.\n",
            "[2021-04-21 01:29:50,757 INFO] Model is improving acc: 32.7637 --> 35.1919.\n",
            "[2021-04-21 01:30:00,724 INFO] Step 2600/40000; acc:  34.80; ppl: 43.16; xent: 3.76; lr: 0.00100; 1543/1834 tok/s;    589 sec\n",
            "[2021-04-21 01:30:10,416 INFO] Step 2700/40000; acc:  36.15; ppl: 37.87; xent: 3.63; lr: 0.00100; 11977/13936 tok/s;    598 sec\n",
            "[2021-04-21 01:30:20,175 INFO] Step 2800/40000; acc:  35.67; ppl: 38.32; xent: 3.65; lr: 0.00100; 11627/13661 tok/s;    608 sec\n",
            "[2021-04-21 01:30:29,294 INFO] Step 2900/40000; acc:  36.30; ppl: 38.40; xent: 3.65; lr: 0.00100; 12132/14144 tok/s;    617 sec\n",
            "[2021-04-21 01:30:39,175 INFO] Step 3000/40000; acc:  36.39; ppl: 36.52; xent: 3.60; lr: 0.00100; 11702/13640 tok/s;    627 sec\n",
            "[2021-04-21 01:30:39,178 INFO] Loading ParallelCorpus(/content/drive/MyDrive/585_Team_Folder/OPUS/Ted.txt/TED2013.en-zh.zhDev.tok, /content/drive/MyDrive/585_Team_Folder/OPUS/Ted.txt/TED2013.en-zh.enDev.tok, align=None)...\n",
            "[2021-04-21 01:31:41,752 INFO] Transform statistics for valid:\n",
            "Filtered sentence: 10 sent\n",
            "\n",
            "[2021-04-21 01:31:45,337 INFO] Validation perplexity: 37.3242\n",
            "[2021-04-21 01:31:45,337 INFO] Validation accuracy: 36.7012\n",
            "[2021-04-21 01:31:45,337 INFO] Model is improving ppl: 42.3474 --> 37.3242.\n",
            "[2021-04-21 01:31:45,337 INFO] Model is improving acc: 35.1919 --> 36.7012.\n",
            "[2021-04-21 01:31:45,636 INFO] Saving checkpoint /content/drive/MyDrive/585_Team_Folder/OPUS/Ted.txt/run/model_step_3000.pt\n",
            "[2021-04-21 01:31:57,006 INFO] Step 3100/40000; acc:  37.29; ppl: 34.00; xent: 3.53; lr: 0.00100; 1436/1677 tok/s;    705 sec\n",
            "[2021-04-21 01:32:07,518 INFO] Step 3200/40000; acc:  37.29; ppl: 33.69; xent: 3.52; lr: 0.00100; 9847/11988 tok/s;    716 sec\n",
            "[2021-04-21 01:32:17,267 INFO] Step 3300/40000; acc:  37.87; ppl: 31.90; xent: 3.46; lr: 0.00100; 11840/13761 tok/s;    725 sec\n",
            "[2021-04-21 01:32:26,240 INFO] Step 3400/40000; acc:  37.48; ppl: 33.68; xent: 3.52; lr: 0.00100; 12010/14251 tok/s;    734 sec\n",
            "[2021-04-21 01:32:36,091 INFO] Step 3500/40000; acc:  38.20; ppl: 31.29; xent: 3.44; lr: 0.00100; 11756/13676 tok/s;    744 sec\n",
            "[2021-04-21 01:32:36,093 INFO] Loading ParallelCorpus(/content/drive/MyDrive/585_Team_Folder/OPUS/Ted.txt/TED2013.en-zh.zhDev.tok, /content/drive/MyDrive/585_Team_Folder/OPUS/Ted.txt/TED2013.en-zh.enDev.tok, align=None)...\n",
            "[2021-04-21 01:33:38,596 INFO] Transform statistics for valid:\n",
            "Filtered sentence: 10 sent\n",
            "\n",
            "[2021-04-21 01:33:42,109 INFO] Validation perplexity: 33.7698\n",
            "[2021-04-21 01:33:42,110 INFO] Validation accuracy: 37.8866\n",
            "[2021-04-21 01:33:42,110 INFO] Model is improving ppl: 37.3242 --> 33.7698.\n",
            "[2021-04-21 01:33:42,110 INFO] Model is improving acc: 36.7012 --> 37.8866.\n",
            "[2021-04-21 01:33:52,131 INFO] Step 3600/40000; acc:  38.28; ppl: 31.07; xent: 3.44; lr: 0.00100; 1568/1799 tok/s;    820 sec\n",
            "[2021-04-21 01:34:02,131 INFO] Step 3700/40000; acc:  38.16; ppl: 30.70; xent: 3.42; lr: 0.00100; 10999/13006 tok/s;    830 sec\n",
            "[2021-04-21 01:34:06,043 INFO] Transform statistics for corpus_1:\n",
            "Filtered sentence: 34 sent\n",
            "\n",
            "[2021-04-21 01:34:06,046 INFO] Loading ParallelCorpus(/content/drive/MyDrive/585_Team_Folder/OPUS/Ted.txt/TED2013.en-zh.zh.tok, /content/drive/MyDrive/585_Team_Folder/OPUS/Ted.txt/TED2013.en-zh.en.tok, align=None)...\n",
            "[2021-04-21 01:34:11,287 INFO] Step 3800/40000; acc:  38.59; ppl: 31.77; xent: 3.46; lr: 0.00100; 11992/14165 tok/s;    839 sec\n",
            "[2021-04-21 01:34:21,176 INFO] Step 3900/40000; acc:  37.31; ppl: 38.25; xent: 3.64; lr: 0.00100; 11986/13536 tok/s;    849 sec\n",
            "[2021-04-21 01:34:30,802 INFO] Step 4000/40000; acc:  38.52; ppl: 34.10; xent: 3.53; lr: 0.00100; 12491/14257 tok/s;    859 sec\n",
            "[2021-04-21 01:34:30,805 INFO] Loading ParallelCorpus(/content/drive/MyDrive/585_Team_Folder/OPUS/Ted.txt/TED2013.en-zh.zhDev.tok, /content/drive/MyDrive/585_Team_Folder/OPUS/Ted.txt/TED2013.en-zh.enDev.tok, align=None)...\n",
            "[2021-04-21 01:35:33,934 INFO] Transform statistics for valid:\n",
            "Filtered sentence: 10 sent\n",
            "\n",
            "[2021-04-21 01:35:37,508 INFO] Validation perplexity: 36.1763\n",
            "[2021-04-21 01:35:37,508 INFO] Validation accuracy: 37.6702\n",
            "[2021-04-21 01:35:37,508 INFO] Decreasing patience: 3/4\n",
            "[2021-04-21 01:35:37,809 INFO] Saving checkpoint /content/drive/MyDrive/585_Team_Folder/OPUS/Ted.txt/run/model_step_4000.pt\n",
            "[2021-04-21 01:35:49,245 INFO] Step 4100/40000; acc:  39.87; ppl: 28.24; xent: 3.34; lr: 0.00100; 1478/1715 tok/s;    937 sec\n",
            "[2021-04-21 01:35:59,790 INFO] Step 4200/40000; acc:  38.19; ppl: 30.18; xent: 3.41; lr: 0.00100; 10530/12500 tok/s;    948 sec\n",
            "[2021-04-21 01:36:09,653 INFO] Step 4300/40000; acc:  38.28; ppl: 30.15; xent: 3.41; lr: 0.00100; 11706/13539 tok/s;    958 sec\n",
            "[2021-04-21 01:36:19,293 INFO] Step 4400/40000; acc:  38.29; ppl: 29.72; xent: 3.39; lr: 0.00100; 11568/13915 tok/s;    967 sec\n",
            "[2021-04-21 01:36:29,019 INFO] Step 4500/40000; acc:  39.32; ppl: 27.67; xent: 3.32; lr: 0.00100; 12221/14397 tok/s;    977 sec\n",
            "[2021-04-21 01:36:29,022 INFO] Loading ParallelCorpus(/content/drive/MyDrive/585_Team_Folder/OPUS/Ted.txt/TED2013.en-zh.zhDev.tok, /content/drive/MyDrive/585_Team_Folder/OPUS/Ted.txt/TED2013.en-zh.enDev.tok, align=None)...\n",
            "[2021-04-21 01:37:31,308 INFO] Transform statistics for valid:\n",
            "Filtered sentence: 10 sent\n",
            "\n",
            "[2021-04-21 01:37:34,834 INFO] Validation perplexity: 29.7062\n",
            "[2021-04-21 01:37:34,834 INFO] Validation accuracy: 39.1023\n",
            "[2021-04-21 01:37:34,834 INFO] Model is improving ppl: 33.7698 --> 29.7062.\n",
            "[2021-04-21 01:37:34,834 INFO] Model is improving acc: 37.8866 --> 39.1023.\n",
            "[2021-04-21 01:37:44,398 INFO] Step 4600/40000; acc:  40.39; ppl: 25.42; xent: 3.24; lr: 0.00100; 1500/1742 tok/s;   1052 sec\n",
            "[2021-04-21 01:37:54,022 INFO] Step 4700/40000; acc:  38.84; ppl: 27.32; xent: 3.31; lr: 0.00100; 11569/13752 tok/s;   1062 sec\n",
            "[2021-04-21 01:38:03,516 INFO] Step 4800/40000; acc:  39.78; ppl: 26.61; xent: 3.28; lr: 0.00100; 11952/13863 tok/s;   1072 sec\n",
            "[2021-04-21 01:38:13,007 INFO] Step 4900/40000; acc:  39.71; ppl: 25.56; xent: 3.24; lr: 0.00100; 12245/14248 tok/s;   1081 sec\n",
            "[2021-04-21 01:38:22,309 INFO] Step 5000/40000; acc:  40.81; ppl: 24.43; xent: 3.20; lr: 0.00100; 11376/13465 tok/s;   1090 sec\n",
            "[2021-04-21 01:38:22,311 INFO] Loading ParallelCorpus(/content/drive/MyDrive/585_Team_Folder/OPUS/Ted.txt/TED2013.en-zh.zhDev.tok, /content/drive/MyDrive/585_Team_Folder/OPUS/Ted.txt/TED2013.en-zh.enDev.tok, align=None)...\n",
            "[2021-04-21 01:39:23,963 INFO] Transform statistics for valid:\n",
            "Filtered sentence: 10 sent\n",
            "\n",
            "[2021-04-21 01:39:27,460 INFO] Validation perplexity: 28.2933\n",
            "[2021-04-21 01:39:27,460 INFO] Validation accuracy: 39.6872\n",
            "[2021-04-21 01:39:27,460 INFO] Model is improving ppl: 29.7062 --> 28.2933.\n",
            "[2021-04-21 01:39:27,460 INFO] Model is improving acc: 39.1023 --> 39.6872.\n",
            "[2021-04-21 01:39:27,768 INFO] Saving checkpoint /content/drive/MyDrive/585_Team_Folder/OPUS/Ted.txt/run/model_step_5000.pt\n",
            "[2021-04-21 01:39:39,631 INFO] Step 5100/40000; acc:  40.89; ppl: 23.33; xent: 3.15; lr: 0.00100; 1415/1686 tok/s;   1168 sec\n",
            "[2021-04-21 01:39:50,445 INFO] Step 5200/40000; acc:  40.79; ppl: 24.16; xent: 3.18; lr: 0.00100; 10654/12485 tok/s;   1178 sec\n",
            "[2021-04-21 01:39:59,748 INFO] Step 5300/40000; acc:  40.50; ppl: 24.32; xent: 3.19; lr: 0.00100; 11634/13706 tok/s;   1188 sec\n",
            "[2021-04-21 01:40:09,700 INFO] Step 5400/40000; acc:  41.53; ppl: 22.63; xent: 3.12; lr: 0.00100; 11784/13632 tok/s;   1198 sec\n",
            "[2021-04-21 01:40:19,479 INFO] Step 5500/40000; acc:  41.60; ppl: 22.56; xent: 3.12; lr: 0.00100; 12140/13969 tok/s;   1208 sec\n",
            "[2021-04-21 01:40:19,481 INFO] Loading ParallelCorpus(/content/drive/MyDrive/585_Team_Folder/OPUS/Ted.txt/TED2013.en-zh.zhDev.tok, /content/drive/MyDrive/585_Team_Folder/OPUS/Ted.txt/TED2013.en-zh.enDev.tok, align=None)...\n",
            "[2021-04-21 01:41:21,224 INFO] Transform statistics for valid:\n",
            "Filtered sentence: 10 sent\n",
            "\n",
            "[2021-04-21 01:41:24,720 INFO] Validation perplexity: 27.1175\n",
            "[2021-04-21 01:41:24,720 INFO] Validation accuracy: 40.2545\n",
            "[2021-04-21 01:41:24,720 INFO] Model is improving ppl: 28.2933 --> 27.1175.\n",
            "[2021-04-21 01:41:24,720 INFO] Model is improving acc: 39.6872 --> 40.2545.\n",
            "[2021-04-21 01:41:33,820 INFO] Step 5600/40000; acc:  41.52; ppl: 22.38; xent: 3.11; lr: 0.00100; 1428/1699 tok/s;   1282 sec\n",
            "[2021-04-21 01:41:33,868 INFO] Transform statistics for corpus_1:\n",
            "Filtered sentence: 34 sent\n",
            "\n",
            "[2021-04-21 01:41:33,872 INFO] Loading ParallelCorpus(/content/drive/MyDrive/585_Team_Folder/OPUS/Ted.txt/TED2013.en-zh.zh.tok, /content/drive/MyDrive/585_Team_Folder/OPUS/Ted.txt/TED2013.en-zh.en.tok, align=None)...\n",
            "[2021-04-21 01:41:43,112 INFO] Step 5700/40000; acc:  40.38; ppl: 25.05; xent: 3.22; lr: 0.00100; 11850/14011 tok/s;   1291 sec\n",
            "[2021-04-21 01:41:52,448 INFO] Step 5800/40000; acc:  41.01; ppl: 25.92; xent: 3.26; lr: 0.00100; 12698/14289 tok/s;   1300 sec\n",
            "[2021-04-21 01:42:02,098 INFO] Step 5900/40000; acc:  42.00; ppl: 23.33; xent: 3.15; lr: 0.00100; 12548/14405 tok/s;   1310 sec\n",
            "[2021-04-21 01:42:11,670 INFO] Step 6000/40000; acc:  42.25; ppl: 21.27; xent: 3.06; lr: 0.00100; 12266/14351 tok/s;   1320 sec\n",
            "[2021-04-21 01:42:11,672 INFO] Loading ParallelCorpus(/content/drive/MyDrive/585_Team_Folder/OPUS/Ted.txt/TED2013.en-zh.zhDev.tok, /content/drive/MyDrive/585_Team_Folder/OPUS/Ted.txt/TED2013.en-zh.enDev.tok, align=None)...\n",
            "[2021-04-21 01:43:13,792 INFO] Transform statistics for valid:\n",
            "Filtered sentence: 10 sent\n",
            "\n",
            "[2021-04-21 01:43:17,419 INFO] Validation perplexity: 26.3986\n",
            "[2021-04-21 01:43:17,419 INFO] Validation accuracy: 40.3787\n",
            "[2021-04-21 01:43:17,419 INFO] Model is improving ppl: 27.1175 --> 26.3986.\n",
            "[2021-04-21 01:43:17,419 INFO] Model is improving acc: 40.2545 --> 40.3787.\n",
            "[2021-04-21 01:43:17,716 INFO] Saving checkpoint /content/drive/MyDrive/585_Team_Folder/OPUS/Ted.txt/run/model_step_6000.pt\n",
            "[2021-04-21 01:43:29,511 INFO] Step 6100/40000; acc:  40.93; ppl: 23.42; xent: 3.15; lr: 0.00100; 1414/1651 tok/s;   1398 sec\n",
            "[2021-04-21 01:43:40,396 INFO] Step 6200/40000; acc:  40.49; ppl: 23.82; xent: 3.17; lr: 0.00100; 10606/12366 tok/s;   1408 sec\n",
            "[2021-04-21 01:43:50,464 INFO] Step 6300/40000; acc:  40.38; ppl: 23.80; xent: 3.17; lr: 0.00100; 11558/13808 tok/s;   1419 sec\n",
            "[2021-04-21 01:44:00,057 INFO] Step 6400/40000; acc:  42.31; ppl: 20.94; xent: 3.04; lr: 0.00100; 11883/14105 tok/s;   1428 sec\n",
            "[2021-04-21 01:44:09,375 INFO] Step 6500/40000; acc:  42.65; ppl: 19.90; xent: 2.99; lr: 0.00100; 12050/14058 tok/s;   1437 sec\n",
            "[2021-04-21 01:44:09,378 INFO] Loading ParallelCorpus(/content/drive/MyDrive/585_Team_Folder/OPUS/Ted.txt/TED2013.en-zh.zhDev.tok, /content/drive/MyDrive/585_Team_Folder/OPUS/Ted.txt/TED2013.en-zh.enDev.tok, align=None)...\n",
            "[2021-04-21 01:45:11,320 INFO] Transform statistics for valid:\n",
            "Filtered sentence: 10 sent\n",
            "\n",
            "[2021-04-21 01:45:14,827 INFO] Validation perplexity: 25.9013\n",
            "[2021-04-21 01:45:14,827 INFO] Validation accuracy: 40.6982\n",
            "[2021-04-21 01:45:14,827 INFO] Model is improving ppl: 26.3986 --> 25.9013.\n",
            "[2021-04-21 01:45:14,827 INFO] Model is improving acc: 40.3787 --> 40.6982.\n",
            "[2021-04-21 01:45:23,972 INFO] Step 6600/40000; acc:  41.42; ppl: 21.85; xent: 3.08; lr: 0.00100; 1460/1711 tok/s;   1512 sec\n",
            "[2021-04-21 01:45:33,477 INFO] Step 6700/40000; acc:  41.77; ppl: 21.84; xent: 3.08; lr: 0.00100; 12192/14179 tok/s;   1522 sec\n",
            "[2021-04-21 01:45:42,973 INFO] Step 6800/40000; acc:  41.88; ppl: 20.52; xent: 3.02; lr: 0.00100; 12321/14309 tok/s;   1531 sec\n",
            "[2021-04-21 01:45:52,166 INFO] Step 6900/40000; acc:  43.00; ppl: 19.82; xent: 2.99; lr: 0.00100; 11443/13674 tok/s;   1540 sec\n",
            "[2021-04-21 01:46:01,282 INFO] Step 7000/40000; acc:  43.48; ppl: 18.39; xent: 2.91; lr: 0.00100; 12035/14253 tok/s;   1549 sec\n",
            "[2021-04-21 01:46:01,284 INFO] Loading ParallelCorpus(/content/drive/MyDrive/585_Team_Folder/OPUS/Ted.txt/TED2013.en-zh.zhDev.tok, /content/drive/MyDrive/585_Team_Folder/OPUS/Ted.txt/TED2013.en-zh.enDev.tok, align=None)...\n",
            "[2021-04-21 01:47:02,632 INFO] Transform statistics for valid:\n",
            "Filtered sentence: 10 sent\n",
            "\n",
            "[2021-04-21 01:47:06,112 INFO] Validation perplexity: 25.119\n",
            "[2021-04-21 01:47:06,113 INFO] Validation accuracy: 41.1497\n",
            "[2021-04-21 01:47:06,113 INFO] Model is improving ppl: 25.9013 --> 25.119.\n",
            "[2021-04-21 01:47:06,113 INFO] Model is improving acc: 40.6982 --> 41.1497.\n",
            "[2021-04-21 01:47:06,458 INFO] Saving checkpoint /content/drive/MyDrive/585_Team_Folder/OPUS/Ted.txt/run/model_step_7000.pt\n",
            "[2021-04-21 01:47:18,311 INFO] Step 7100/40000; acc:  42.32; ppl: 20.74; xent: 3.03; lr: 0.00100; 1508/1773 tok/s;   1626 sec\n",
            "[2021-04-21 01:47:28,359 INFO] Step 7200/40000; acc:  42.98; ppl: 19.31; xent: 2.96; lr: 0.00100; 10897/12756 tok/s;   1636 sec\n",
            "[2021-04-21 01:47:38,449 INFO] Step 7300/40000; acc:  43.34; ppl: 18.95; xent: 2.94; lr: 0.00100; 11643/13447 tok/s;   1646 sec\n",
            "[2021-04-21 01:47:47,785 INFO] Step 7400/40000; acc:  43.05; ppl: 19.10; xent: 2.95; lr: 0.00100; 12274/14296 tok/s;   1656 sec\n",
            "[2021-04-21 01:47:55,932 INFO] Transform statistics for corpus_1:\n",
            "Filtered sentence: 34 sent\n",
            "\n",
            "[2021-04-21 01:47:55,935 INFO] Loading ParallelCorpus(/content/drive/MyDrive/585_Team_Folder/OPUS/Ted.txt/TED2013.en-zh.zh.tok, /content/drive/MyDrive/585_Team_Folder/OPUS/Ted.txt/TED2013.en-zh.en.tok, align=None)...\n",
            "[2021-04-21 01:47:57,095 INFO] Step 7500/40000; acc:  43.84; ppl: 18.13; xent: 2.90; lr: 0.00100; 11794/13911 tok/s;   1665 sec\n",
            "[2021-04-21 01:47:57,097 INFO] Loading ParallelCorpus(/content/drive/MyDrive/585_Team_Folder/OPUS/Ted.txt/TED2013.en-zh.zhDev.tok, /content/drive/MyDrive/585_Team_Folder/OPUS/Ted.txt/TED2013.en-zh.enDev.tok, align=None)...\n",
            "[2021-04-21 01:48:58,241 INFO] Transform statistics for valid:\n",
            "Filtered sentence: 10 sent\n",
            "\n",
            "[2021-04-21 01:49:01,744 INFO] Validation perplexity: 24.6563\n",
            "[2021-04-21 01:49:01,744 INFO] Validation accuracy: 41.3115\n",
            "[2021-04-21 01:49:01,745 INFO] Model is improving ppl: 25.119 --> 24.6563.\n",
            "[2021-04-21 01:49:01,745 INFO] Model is improving acc: 41.1497 --> 41.3115.\n",
            "[2021-04-21 01:49:10,963 INFO] Step 7600/40000; acc:  42.60; ppl: 20.51; xent: 3.02; lr: 0.00100; 1544/1808 tok/s;   1739 sec\n",
            "[2021-04-21 01:49:20,184 INFO] Step 7700/40000; acc:  44.00; ppl: 19.22; xent: 2.96; lr: 0.00100; 12690/14302 tok/s;   1748 sec\n",
            "[2021-04-21 01:49:29,201 INFO] Step 7800/40000; acc:  45.04; ppl: 17.27; xent: 2.85; lr: 0.00100; 12779/14744 tok/s;   1757 sec\n",
            "[2021-04-21 01:49:39,269 INFO] Step 7900/40000; acc:  43.32; ppl: 18.55; xent: 2.92; lr: 0.00100; 12254/14299 tok/s;   1767 sec\n",
            "[2021-04-21 01:49:48,287 INFO] Step 8000/40000; acc:  42.93; ppl: 19.60; xent: 2.98; lr: 0.00100; 11834/13680 tok/s;   1776 sec\n",
            "[2021-04-21 01:49:48,289 INFO] Loading ParallelCorpus(/content/drive/MyDrive/585_Team_Folder/OPUS/Ted.txt/TED2013.en-zh.zhDev.tok, /content/drive/MyDrive/585_Team_Folder/OPUS/Ted.txt/TED2013.en-zh.enDev.tok, align=None)...\n",
            "[2021-04-21 01:50:49,908 INFO] Transform statistics for valid:\n",
            "Filtered sentence: 10 sent\n",
            "\n",
            "[2021-04-21 01:50:53,415 INFO] Validation perplexity: 24.2442\n",
            "[2021-04-21 01:50:53,415 INFO] Validation accuracy: 41.4147\n",
            "[2021-04-21 01:50:53,415 INFO] Model is improving ppl: 24.6563 --> 24.2442.\n",
            "[2021-04-21 01:50:53,416 INFO] Model is improving acc: 41.3115 --> 41.4147.\n",
            "[2021-04-21 01:50:53,717 INFO] Saving checkpoint /content/drive/MyDrive/585_Team_Folder/OPUS/Ted.txt/run/model_step_8000.pt\n",
            "[2021-04-21 01:51:05,435 INFO] Step 8100/40000; acc:  41.99; ppl: 20.46; xent: 3.02; lr: 0.00100; 1477/1762 tok/s;   1853 sec\n",
            "[2021-04-21 01:51:16,187 INFO] Step 8200/40000; acc:  42.52; ppl: 19.78; xent: 2.98; lr: 0.00100; 10813/12928 tok/s;   1864 sec\n",
            "[2021-04-21 01:51:25,652 INFO] Step 8300/40000; acc:  44.34; ppl: 17.39; xent: 2.86; lr: 0.00100; 12116/14210 tok/s;   1874 sec\n",
            "[2021-04-21 01:51:35,351 INFO] Step 8400/40000; acc:  43.52; ppl: 17.93; xent: 2.89; lr: 0.00100; 11789/13826 tok/s;   1883 sec\n",
            "[2021-04-21 01:51:44,590 INFO] Step 8500/40000; acc:  43.05; ppl: 18.79; xent: 2.93; lr: 0.00100; 11611/13597 tok/s;   1893 sec\n",
            "[2021-04-21 01:51:44,593 INFO] Loading ParallelCorpus(/content/drive/MyDrive/585_Team_Folder/OPUS/Ted.txt/TED2013.en-zh.zhDev.tok, /content/drive/MyDrive/585_Team_Folder/OPUS/Ted.txt/TED2013.en-zh.enDev.tok, align=None)...\n",
            "[2021-04-21 01:52:46,084 INFO] Transform statistics for valid:\n",
            "Filtered sentence: 10 sent\n",
            "\n",
            "[2021-04-21 01:52:49,697 INFO] Validation perplexity: 23.4107\n",
            "[2021-04-21 01:52:49,697 INFO] Validation accuracy: 41.8516\n",
            "[2021-04-21 01:52:49,697 INFO] Model is improving ppl: 24.2442 --> 23.4107.\n",
            "[2021-04-21 01:52:49,697 INFO] Model is improving acc: 41.4147 --> 41.8516.\n",
            "[2021-04-21 01:52:59,101 INFO] Step 8600/40000; acc:  43.62; ppl: 18.29; xent: 2.91; lr: 0.00100; 1585/1835 tok/s;   1967 sec\n",
            "[2021-04-21 01:53:08,599 INFO] Step 8700/40000; acc:  43.90; ppl: 17.59; xent: 2.87; lr: 0.00100; 11770/13809 tok/s;   1977 sec\n",
            "[2021-04-21 01:53:17,915 INFO] Step 8800/40000; acc:  44.42; ppl: 17.12; xent: 2.84; lr: 0.00100; 11656/13810 tok/s;   1986 sec\n",
            "[2021-04-21 01:53:27,283 INFO] Step 8900/40000; acc:  45.24; ppl: 15.96; xent: 2.77; lr: 0.00100; 11796/13979 tok/s;   1995 sec\n",
            "[2021-04-21 01:53:36,263 INFO] Step 9000/40000; acc:  43.78; ppl: 17.75; xent: 2.88; lr: 0.00100; 12250/14583 tok/s;   2004 sec\n",
            "[2021-04-21 01:53:36,266 INFO] Loading ParallelCorpus(/content/drive/MyDrive/585_Team_Folder/OPUS/Ted.txt/TED2013.en-zh.zhDev.tok, /content/drive/MyDrive/585_Team_Folder/OPUS/Ted.txt/TED2013.en-zh.enDev.tok, align=None)...\n",
            "[2021-04-21 01:54:37,653 INFO] Transform statistics for valid:\n",
            "Filtered sentence: 10 sent\n",
            "\n",
            "[2021-04-21 01:54:41,134 INFO] Validation perplexity: 23.0727\n",
            "[2021-04-21 01:54:41,134 INFO] Validation accuracy: 42.1015\n",
            "[2021-04-21 01:54:41,134 INFO] Model is improving ppl: 23.4107 --> 23.0727.\n",
            "[2021-04-21 01:54:41,134 INFO] Model is improving acc: 41.8516 --> 42.1015.\n",
            "[2021-04-21 01:54:41,423 INFO] Saving checkpoint /content/drive/MyDrive/585_Team_Folder/OPUS/Ted.txt/run/model_step_9000.pt\n",
            "[2021-04-21 01:54:53,278 INFO] Step 9100/40000; acc:  44.70; ppl: 16.52; xent: 2.80; lr: 0.00100; 1438/1675 tok/s;   2081 sec\n",
            "[2021-04-21 01:55:04,346 INFO] Step 9200/40000; acc:  44.79; ppl: 16.66; xent: 2.81; lr: 0.00100; 10803/12442 tok/s;   2092 sec\n",
            "[2021-04-21 01:55:13,575 INFO] Step 9300/40000; acc:  44.53; ppl: 16.85; xent: 2.82; lr: 0.00100; 12416/14421 tok/s;   2102 sec\n",
            "[2021-04-21 01:55:17,652 INFO] Transform statistics for corpus_1:\n",
            "Filtered sentence: 34 sent\n",
            "\n",
            "[2021-04-21 01:55:17,656 INFO] Loading ParallelCorpus(/content/drive/MyDrive/585_Team_Folder/OPUS/Ted.txt/TED2013.en-zh.zh.tok, /content/drive/MyDrive/585_Team_Folder/OPUS/Ted.txt/TED2013.en-zh.en.tok, align=None)...\n",
            "[2021-04-21 01:55:22,956 INFO] Step 9400/40000; acc:  45.22; ppl: 15.92; xent: 2.77; lr: 0.00100; 11802/14045 tok/s;   2111 sec\n",
            "[2021-04-21 01:55:32,389 INFO] Step 9500/40000; acc:  44.59; ppl: 17.28; xent: 2.85; lr: 0.00100; 12424/14107 tok/s;   2120 sec\n",
            "[2021-04-21 01:55:32,391 INFO] Loading ParallelCorpus(/content/drive/MyDrive/585_Team_Folder/OPUS/Ted.txt/TED2013.en-zh.zhDev.tok, /content/drive/MyDrive/585_Team_Folder/OPUS/Ted.txt/TED2013.en-zh.enDev.tok, align=None)...\n",
            "[2021-04-21 01:56:33,594 INFO] Transform statistics for valid:\n",
            "Filtered sentence: 10 sent\n",
            "\n",
            "[2021-04-21 01:56:37,060 INFO] Validation perplexity: 26.8346\n",
            "[2021-04-21 01:56:37,060 INFO] Validation accuracy: 41.1555\n",
            "[2021-04-21 01:56:37,060 INFO] Decreasing patience: 3/4\n",
            "[2021-04-21 01:56:46,215 INFO] Step 9600/40000; acc:  46.47; ppl: 15.08; xent: 2.71; lr: 0.00100; 1571/1793 tok/s;   2194 sec\n",
            "[2021-04-21 01:56:55,445 INFO] Step 9700/40000; acc:  47.33; ppl: 14.05; xent: 2.64; lr: 0.00100; 12624/14557 tok/s;   2203 sec\n",
            "[2021-04-21 01:57:05,190 INFO] Step 9800/40000; acc:  44.10; ppl: 17.01; xent: 2.83; lr: 0.00100; 11908/14162 tok/s;   2213 sec\n",
            "[2021-04-21 01:57:14,401 INFO] Step 9900/40000; acc:  43.98; ppl: 17.49; xent: 2.86; lr: 0.00100; 11942/13719 tok/s;   2222 sec\n",
            "[2021-04-21 01:57:24,023 INFO] Step 10000/40000; acc:  43.07; ppl: 18.47; xent: 2.92; lr: 0.00100; 11889/14240 tok/s;   2232 sec\n",
            "[2021-04-21 01:57:24,025 INFO] Loading ParallelCorpus(/content/drive/MyDrive/585_Team_Folder/OPUS/Ted.txt/TED2013.en-zh.zhDev.tok, /content/drive/MyDrive/585_Team_Folder/OPUS/Ted.txt/TED2013.en-zh.enDev.tok, align=None)...\n",
            "[2021-04-21 01:58:25,831 INFO] Transform statistics for valid:\n",
            "Filtered sentence: 10 sent\n",
            "\n",
            "[2021-04-21 01:58:29,337 INFO] Validation perplexity: 22.5091\n",
            "[2021-04-21 01:58:29,337 INFO] Validation accuracy: 42.2817\n",
            "[2021-04-21 01:58:29,337 INFO] Model is improving ppl: 23.0727 --> 22.5091.\n",
            "[2021-04-21 01:58:29,337 INFO] Model is improving acc: 42.1015 --> 42.2817.\n",
            "[2021-04-21 01:58:29,640 INFO] Saving checkpoint /content/drive/MyDrive/585_Team_Folder/OPUS/Ted.txt/run/model_step_10000.pt\n",
            "[2021-04-21 01:58:41,507 INFO] Step 10100/40000; acc:  44.51; ppl: 16.66; xent: 2.81; lr: 0.00100; 1541/1819 tok/s;   2310 sec\n",
            "[2021-04-21 01:58:52,410 INFO] Step 10200/40000; acc:  45.25; ppl: 15.95; xent: 2.77; lr: 0.00100; 10414/12181 tok/s;   2320 sec\n",
            "[2021-04-21 01:59:02,569 INFO] Step 10300/40000; acc:  44.13; ppl: 16.64; xent: 2.81; lr: 0.00100; 11313/13368 tok/s;   2331 sec\n",
            "[2021-04-21 01:59:11,656 INFO] Step 10400/40000; acc:  44.44; ppl: 16.73; xent: 2.82; lr: 0.00100; 12045/14034 tok/s;   2340 sec\n",
            "[2021-04-21 01:59:20,854 INFO] Step 10500/40000; acc:  44.79; ppl: 16.36; xent: 2.79; lr: 0.00100; 12629/14628 tok/s;   2349 sec\n",
            "[2021-04-21 01:59:20,856 INFO] Loading ParallelCorpus(/content/drive/MyDrive/585_Team_Folder/OPUS/Ted.txt/TED2013.en-zh.zhDev.tok, /content/drive/MyDrive/585_Team_Folder/OPUS/Ted.txt/TED2013.en-zh.enDev.tok, align=None)...\n",
            "[2021-04-21 02:00:22,458 INFO] Transform statistics for valid:\n",
            "Filtered sentence: 10 sent\n",
            "\n",
            "[2021-04-21 02:00:25,969 INFO] Validation perplexity: 22.6232\n",
            "[2021-04-21 02:00:25,969 INFO] Validation accuracy: 42.2805\n",
            "[2021-04-21 02:00:25,969 INFO] Decreasing patience: 3/4\n",
            "[2021-04-21 02:00:34,915 INFO] Step 10600/40000; acc:  46.14; ppl: 14.76; xent: 2.69; lr: 0.00100; 1449/1709 tok/s;   2423 sec\n",
            "[2021-04-21 02:00:44,525 INFO] Step 10700/40000; acc:  45.42; ppl: 15.39; xent: 2.73; lr: 0.00100; 11239/13436 tok/s;   2433 sec\n",
            "[2021-04-21 02:00:54,336 INFO] Step 10800/40000; acc:  45.72; ppl: 15.01; xent: 2.71; lr: 0.00100; 11856/13904 tok/s;   2442 sec\n",
            "[2021-04-21 02:01:03,615 INFO] Step 10900/40000; acc:  45.26; ppl: 15.57; xent: 2.75; lr: 0.00100; 11525/13587 tok/s;   2452 sec\n",
            "[2021-04-21 02:01:13,518 INFO] Step 11000/40000; acc:  46.29; ppl: 14.64; xent: 2.68; lr: 0.00100; 11623/13620 tok/s;   2462 sec\n",
            "[2021-04-21 02:01:13,521 INFO] Loading ParallelCorpus(/content/drive/MyDrive/585_Team_Folder/OPUS/Ted.txt/TED2013.en-zh.zhDev.tok, /content/drive/MyDrive/585_Team_Folder/OPUS/Ted.txt/TED2013.en-zh.enDev.tok, align=None)...\n",
            "[2021-04-21 02:02:17,751 INFO] Transform statistics for valid:\n",
            "Filtered sentence: 10 sent\n",
            "\n",
            "[2021-04-21 02:02:21,398 INFO] Validation perplexity: 22.544\n",
            "[2021-04-21 02:02:21,398 INFO] Validation accuracy: 42.681\n",
            "[2021-04-21 02:02:21,398 INFO] Stalled patience: 3/4\n",
            "[2021-04-21 02:02:21,705 INFO] Saving checkpoint /content/drive/MyDrive/585_Team_Folder/OPUS/Ted.txt/run/model_step_11000.pt\n",
            "[2021-04-21 02:02:34,015 INFO] Step 11100/40000; acc:  46.32; ppl: 14.50; xent: 2.67; lr: 0.00100; 1449/1669 tok/s;   2542 sec\n",
            "[2021-04-21 02:02:45,087 INFO] Step 11200/40000; acc:  45.03; ppl: 15.58; xent: 2.75; lr: 0.00100; 10384/12181 tok/s;   2553 sec\n",
            "[2021-04-21 02:02:47,848 INFO] Transform statistics for corpus_1:\n",
            "Filtered sentence: 34 sent\n",
            "\n",
            "[2021-04-21 02:02:47,851 INFO] Loading ParallelCorpus(/content/drive/MyDrive/585_Team_Folder/OPUS/Ted.txt/TED2013.en-zh.zh.tok, /content/drive/MyDrive/585_Team_Folder/OPUS/Ted.txt/TED2013.en-zh.en.tok, align=None)...\n",
            "[2021-04-21 02:02:54,569 INFO] Step 11300/40000; acc:  46.81; ppl: 14.01; xent: 2.64; lr: 0.00100; 11419/13583 tok/s;   2563 sec\n",
            "[2021-04-21 02:03:04,306 INFO] Step 11400/40000; acc:  46.71; ppl: 14.80; xent: 2.69; lr: 0.00100; 12207/13659 tok/s;   2572 sec\n",
            "[2021-04-21 02:03:14,246 INFO] Step 11500/40000; acc:  48.18; ppl: 12.94; xent: 2.56; lr: 0.00100; 11772/13531 tok/s;   2582 sec\n",
            "[2021-04-21 02:03:14,248 INFO] Loading ParallelCorpus(/content/drive/MyDrive/585_Team_Folder/OPUS/Ted.txt/TED2013.en-zh.zhDev.tok, /content/drive/MyDrive/585_Team_Folder/OPUS/Ted.txt/TED2013.en-zh.enDev.tok, align=None)...\n",
            "[2021-04-21 02:04:17,699 INFO] Transform statistics for valid:\n",
            "Filtered sentence: 10 sent\n",
            "\n",
            "[2021-04-21 02:04:21,207 INFO] Validation perplexity: 25.5194\n",
            "[2021-04-21 02:04:21,207 INFO] Validation accuracy: 41.7616\n",
            "[2021-04-21 02:04:21,207 INFO] Decreasing patience: 2/4\n",
            "[2021-04-21 02:04:30,989 INFO] Step 11600/40000; acc:  47.97; ppl: 13.09; xent: 2.57; lr: 0.00100; 1557/1800 tok/s;   2659 sec\n",
            "[2021-04-21 02:04:40,753 INFO] Step 11700/40000; acc:  45.62; ppl: 15.25; xent: 2.72; lr: 0.00100; 11386/13546 tok/s;   2669 sec\n",
            "[2021-04-21 02:04:50,978 INFO] Step 11800/40000; acc:  44.88; ppl: 16.14; xent: 2.78; lr: 0.00100; 10949/12717 tok/s;   2679 sec\n",
            "[2021-04-21 02:05:01,370 INFO] Step 11900/40000; acc:  44.30; ppl: 16.45; xent: 2.80; lr: 0.00100; 10960/13127 tok/s;   2689 sec\n",
            "[2021-04-21 02:05:11,660 INFO] Step 12000/40000; acc:  45.68; ppl: 15.06; xent: 2.71; lr: 0.00100; 11633/13634 tok/s;   2700 sec\n",
            "[2021-04-21 02:05:11,663 INFO] Loading ParallelCorpus(/content/drive/MyDrive/585_Team_Folder/OPUS/Ted.txt/TED2013.en-zh.zhDev.tok, /content/drive/MyDrive/585_Team_Folder/OPUS/Ted.txt/TED2013.en-zh.enDev.tok, align=None)...\n",
            "[2021-04-21 02:06:13,802 INFO] Transform statistics for valid:\n",
            "Filtered sentence: 10 sent\n",
            "\n",
            "[2021-04-21 02:06:17,415 INFO] Validation perplexity: 22.0289\n",
            "[2021-04-21 02:06:17,415 INFO] Validation accuracy: 42.7771\n",
            "[2021-04-21 02:06:17,415 INFO] Model is improving ppl: 22.5091 --> 22.0289.\n",
            "[2021-04-21 02:06:17,415 INFO] Model is improving acc: 42.2817 --> 42.7771.\n",
            "[2021-04-21 02:06:17,735 INFO] Saving checkpoint /content/drive/MyDrive/585_Team_Folder/OPUS/Ted.txt/run/model_step_12000.pt\n",
            "[2021-04-21 02:06:29,728 INFO] Step 12100/40000; acc:  46.76; ppl: 14.25; xent: 2.66; lr: 0.00100; 1432/1673 tok/s;   2778 sec\n",
            "[2021-04-21 02:06:40,400 INFO] Step 12200/40000; acc:  45.19; ppl: 15.30; xent: 2.73; lr: 0.00100; 10368/12279 tok/s;   2788 sec\n",
            "[2021-04-21 02:06:49,856 INFO] Step 12300/40000; acc:  45.89; ppl: 15.10; xent: 2.71; lr: 0.00100; 12069/13923 tok/s;   2798 sec\n",
            "[2021-04-21 02:06:59,478 INFO] Step 12400/40000; acc:  45.81; ppl: 14.68; xent: 2.69; lr: 0.00100; 12157/14191 tok/s;   2808 sec\n",
            "[2021-04-21 02:07:08,667 INFO] Step 12500/40000; acc:  47.17; ppl: 13.64; xent: 2.61; lr: 0.00100; 11556/13662 tok/s;   2817 sec\n",
            "[2021-04-21 02:07:08,670 INFO] Loading ParallelCorpus(/content/drive/MyDrive/585_Team_Folder/OPUS/Ted.txt/TED2013.en-zh.zhDev.tok, /content/drive/MyDrive/585_Team_Folder/OPUS/Ted.txt/TED2013.en-zh.enDev.tok, align=None)...\n",
            "[2021-04-21 02:08:10,863 INFO] Transform statistics for valid:\n",
            "Filtered sentence: 10 sent\n",
            "\n",
            "[2021-04-21 02:08:14,368 INFO] Validation perplexity: 22.0452\n",
            "[2021-04-21 02:08:14,368 INFO] Validation accuracy: 42.9483\n",
            "[2021-04-21 02:08:14,368 INFO] Stalled patience: 3/4\n",
            "[2021-04-21 02:08:23,620 INFO] Step 12600/40000; acc:  47.00; ppl: 13.54; xent: 2.61; lr: 0.00100; 1432/1711 tok/s;   2892 sec\n",
            "[2021-04-21 02:08:33,474 INFO] Step 12700/40000; acc:  46.19; ppl: 14.44; xent: 2.67; lr: 0.00100; 12035/14041 tok/s;   2902 sec\n",
            "[2021-04-21 02:08:42,572 INFO] Step 12800/40000; acc:  46.45; ppl: 14.15; xent: 2.65; lr: 0.00100; 11873/14025 tok/s;   2911 sec\n",
            "[2021-04-21 02:08:52,517 INFO] Step 12900/40000; acc:  47.63; ppl: 13.14; xent: 2.58; lr: 0.00100; 11551/13425 tok/s;   2921 sec\n",
            "[2021-04-21 02:09:02,179 INFO] Step 13000/40000; acc:  47.47; ppl: 13.31; xent: 2.59; lr: 0.00100; 11947/13824 tok/s;   2930 sec\n",
            "[2021-04-21 02:09:02,181 INFO] Loading ParallelCorpus(/content/drive/MyDrive/585_Team_Folder/OPUS/Ted.txt/TED2013.en-zh.zhDev.tok, /content/drive/MyDrive/585_Team_Folder/OPUS/Ted.txt/TED2013.en-zh.enDev.tok, align=None)...\n",
            "[2021-04-21 02:10:04,127 INFO] Transform statistics for valid:\n",
            "Filtered sentence: 10 sent\n",
            "\n",
            "[2021-04-21 02:10:07,700 INFO] Validation perplexity: 22.0353\n",
            "[2021-04-21 02:10:07,700 INFO] Validation accuracy: 43.0062\n",
            "[2021-04-21 02:10:07,700 INFO] Stalled patience: 2/4\n",
            "[2021-04-21 02:10:08,019 INFO] Saving checkpoint /content/drive/MyDrive/585_Team_Folder/OPUS/Ted.txt/run/model_step_13000.pt\n",
            "[2021-04-21 02:10:20,099 INFO] Step 13100/40000; acc:  46.57; ppl: 13.86; xent: 2.63; lr: 0.00100; 1421/1689 tok/s;   3008 sec\n",
            "[2021-04-21 02:10:22,171 INFO] Transform statistics for corpus_1:\n",
            "Filtered sentence: 34 sent\n",
            "\n",
            "[2021-04-21 02:10:22,175 INFO] Loading ParallelCorpus(/content/drive/MyDrive/585_Team_Folder/OPUS/Ted.txt/TED2013.en-zh.zh.tok, /content/drive/MyDrive/585_Team_Folder/OPUS/Ted.txt/TED2013.en-zh.en.tok, align=None)...\n",
            "[2021-04-21 02:10:30,456 INFO] Step 13200/40000; acc:  47.72; ppl: 12.96; xent: 2.56; lr: 0.00100; 10851/12763 tok/s;   3019 sec\n",
            "[2021-04-21 02:10:40,117 INFO] Step 13300/40000; acc:  48.65; ppl: 12.65; xent: 2.54; lr: 0.00100; 12143/13606 tok/s;   3028 sec\n",
            "[2021-04-21 02:10:49,798 INFO] Step 13400/40000; acc:  49.46; ppl: 11.55; xent: 2.45; lr: 0.00100; 12285/14173 tok/s;   3038 sec\n",
            "[2021-04-21 02:11:00,052 INFO] Step 13500/40000; acc:  48.55; ppl: 12.32; xent: 2.51; lr: 0.00100; 11584/13553 tok/s;   3048 sec\n",
            "[2021-04-21 02:11:00,055 INFO] Loading ParallelCorpus(/content/drive/MyDrive/585_Team_Folder/OPUS/Ted.txt/TED2013.en-zh.zhDev.tok, /content/drive/MyDrive/585_Team_Folder/OPUS/Ted.txt/TED2013.en-zh.enDev.tok, align=None)...\n",
            "[2021-04-21 02:12:02,475 INFO] Transform statistics for valid:\n",
            "Filtered sentence: 10 sent\n",
            "\n",
            "[2021-04-21 02:12:06,017 INFO] Validation perplexity: 21.9729\n",
            "[2021-04-21 02:12:06,017 INFO] Validation accuracy: 43.1591\n",
            "[2021-04-21 02:12:06,017 INFO] Model is improving ppl: 22.0289 --> 21.9729.\n",
            "[2021-04-21 02:12:06,018 INFO] Model is improving acc: 42.7771 --> 43.1591.\n",
            "[2021-04-21 02:12:15,223 INFO] Step 13600/40000; acc:  46.11; ppl: 14.65; xent: 2.68; lr: 0.00100; 1483/1692 tok/s;   3123 sec\n",
            "[2021-04-21 02:12:25,376 INFO] Step 13700/40000; acc:  45.58; ppl: 14.90; xent: 2.70; lr: 0.00100; 11115/13302 tok/s;   3133 sec\n",
            "[2021-04-21 02:12:35,332 INFO] Step 13800/40000; acc:  45.82; ppl: 14.79; xent: 2.69; lr: 0.00100; 11502/13726 tok/s;   3143 sec\n",
            "[2021-04-21 02:12:45,293 INFO] Step 13900/40000; acc:  47.12; ppl: 13.71; xent: 2.62; lr: 0.00100; 11597/13674 tok/s;   3153 sec\n",
            "[2021-04-21 02:12:55,216 INFO] Step 14000/40000; acc:  47.36; ppl: 13.24; xent: 2.58; lr: 0.00100; 11509/13365 tok/s;   3163 sec\n",
            "[2021-04-21 02:12:55,219 INFO] Loading ParallelCorpus(/content/drive/MyDrive/585_Team_Folder/OPUS/Ted.txt/TED2013.en-zh.zhDev.tok, /content/drive/MyDrive/585_Team_Folder/OPUS/Ted.txt/TED2013.en-zh.enDev.tok, align=None)...\n",
            "[2021-04-21 02:13:57,549 INFO] Transform statistics for valid:\n",
            "Filtered sentence: 10 sent\n",
            "\n",
            "[2021-04-21 02:14:01,095 INFO] Validation perplexity: 21.7773\n",
            "[2021-04-21 02:14:01,096 INFO] Validation accuracy: 43.0411\n",
            "[2021-04-21 02:14:01,096 INFO] Stalled patience: 3/4\n",
            "[2021-04-21 02:14:01,390 INFO] Saving checkpoint /content/drive/MyDrive/585_Team_Folder/OPUS/Ted.txt/run/model_step_14000.pt\n",
            "[2021-04-21 02:14:13,170 INFO] Step 14100/40000; acc:  46.29; ppl: 14.13; xent: 2.65; lr: 0.00100; 1392/1653 tok/s;   3241 sec\n",
            "[2021-04-21 02:14:23,922 INFO] Step 14200/40000; acc:  47.17; ppl: 13.56; xent: 2.61; lr: 0.00100; 10678/12299 tok/s;   3252 sec\n",
            "[2021-04-21 02:14:34,023 INFO] Step 14300/40000; acc:  46.84; ppl: 13.52; xent: 2.60; lr: 0.00100; 11732/13629 tok/s;   3262 sec\n",
            "[2021-04-21 02:14:43,693 INFO] Step 14400/40000; acc:  47.42; ppl: 13.10; xent: 2.57; lr: 0.00100; 10937/13206 tok/s;   3272 sec\n",
            "[2021-04-21 02:14:53,359 INFO] Step 14500/40000; acc:  48.34; ppl: 12.27; xent: 2.51; lr: 0.00100; 11107/13120 tok/s;   3281 sec\n",
            "[2021-04-21 02:14:53,363 INFO] Loading ParallelCorpus(/content/drive/MyDrive/585_Team_Folder/OPUS/Ted.txt/TED2013.en-zh.zhDev.tok, /content/drive/MyDrive/585_Team_Folder/OPUS/Ted.txt/TED2013.en-zh.enDev.tok, align=None)...\n",
            "[2021-04-21 02:15:56,455 INFO] Transform statistics for valid:\n",
            "Filtered sentence: 10 sent\n",
            "\n",
            "[2021-04-21 02:16:00,066 INFO] Validation perplexity: 22.5659\n",
            "[2021-04-21 02:16:00,066 INFO] Validation accuracy: 42.9674\n",
            "[2021-04-21 02:16:00,066 INFO] Decreasing patience: 3/4\n",
            "[2021-04-21 02:16:09,710 INFO] Step 14600/40000; acc:  47.12; ppl: 13.48; xent: 2.60; lr: 0.00100; 1488/1757 tok/s;   3358 sec\n",
            "[2021-04-21 02:16:18,901 INFO] Step 14700/40000; acc:  48.29; ppl: 12.34; xent: 2.51; lr: 0.00100; 11851/13881 tok/s;   3367 sec\n",
            "[2021-04-21 02:16:29,314 INFO] Step 14800/40000; acc:  47.80; ppl: 12.85; xent: 2.55; lr: 0.00100; 11595/13301 tok/s;   3377 sec\n",
            "[2021-04-21 02:16:38,647 INFO] Step 14900/40000; acc:  47.95; ppl: 12.62; xent: 2.54; lr: 0.00100; 12108/14142 tok/s;   3387 sec\n",
            "[2021-04-21 02:16:45,787 INFO] Transform statistics for corpus_1:\n",
            "Filtered sentence: 34 sent\n",
            "\n",
            "[2021-04-21 02:16:45,790 INFO] Loading ParallelCorpus(/content/drive/MyDrive/585_Team_Folder/OPUS/Ted.txt/TED2013.en-zh.zh.tok, /content/drive/MyDrive/585_Team_Folder/OPUS/Ted.txt/TED2013.en-zh.en.tok, align=None)...\n",
            "[2021-04-21 02:16:48,071 INFO] Step 15000/40000; acc:  48.22; ppl: 12.22; xent: 2.50; lr: 0.00100; 11644/13776 tok/s;   3396 sec\n",
            "[2021-04-21 02:16:48,073 INFO] Loading ParallelCorpus(/content/drive/MyDrive/585_Team_Folder/OPUS/Ted.txt/TED2013.en-zh.zhDev.tok, /content/drive/MyDrive/585_Team_Folder/OPUS/Ted.txt/TED2013.en-zh.enDev.tok, align=None)...\n",
            "[2021-04-21 02:17:50,012 INFO] Transform statistics for valid:\n",
            "Filtered sentence: 10 sent\n",
            "\n",
            "[2021-04-21 02:17:53,529 INFO] Validation perplexity: 21.8633\n",
            "[2021-04-21 02:17:53,529 INFO] Validation accuracy: 43.3129\n",
            "[2021-04-21 02:17:53,529 INFO] Model is improving ppl: 21.9729 --> 21.8633.\n",
            "[2021-04-21 02:17:53,529 INFO] Model is improving acc: 43.1591 --> 43.3129.\n",
            "[2021-04-21 02:17:53,844 INFO] Saving checkpoint /content/drive/MyDrive/585_Team_Folder/OPUS/Ted.txt/run/model_step_15000.pt\n",
            "[2021-04-21 02:18:05,583 INFO] Step 15100/40000; acc:  49.20; ppl: 11.77; xent: 2.47; lr: 0.00100; 1487/1736 tok/s;   3474 sec\n",
            "[2021-04-21 02:18:15,993 INFO] Step 15200/40000; acc:  50.47; ppl: 11.14; xent: 2.41; lr: 0.00100; 11207/12592 tok/s;   3484 sec\n",
            "[2021-04-21 02:18:25,252 INFO] Step 15300/40000; acc:  51.15; ppl: 10.27; xent: 2.33; lr: 0.00100; 12583/14543 tok/s;   3493 sec\n",
            "[2021-04-21 02:18:35,298 INFO] Step 15400/40000; acc:  48.24; ppl: 12.34; xent: 2.51; lr: 0.00100; 11762/13845 tok/s;   3503 sec\n",
            "[2021-04-21 02:18:44,458 INFO] Step 15500/40000; acc:  47.40; ppl: 13.25; xent: 2.58; lr: 0.00100; 11832/13580 tok/s;   3513 sec\n",
            "[2021-04-21 02:18:44,460 INFO] Loading ParallelCorpus(/content/drive/MyDrive/585_Team_Folder/OPUS/Ted.txt/TED2013.en-zh.zhDev.tok, /content/drive/MyDrive/585_Team_Folder/OPUS/Ted.txt/TED2013.en-zh.enDev.tok, align=None)...\n",
            "[2021-04-21 02:19:46,562 INFO] Transform statistics for valid:\n",
            "Filtered sentence: 10 sent\n",
            "\n",
            "[2021-04-21 02:19:50,066 INFO] Validation perplexity: 21.615\n",
            "[2021-04-21 02:19:50,067 INFO] Validation accuracy: 43.2249\n",
            "[2021-04-21 02:19:50,067 INFO] Stalled patience: 3/4\n",
            "[2021-04-21 02:20:00,111 INFO] Step 15600/40000; acc:  46.16; ppl: 14.25; xent: 2.66; lr: 0.00100; 1536/1827 tok/s;   3588 sec\n",
            "[2021-04-21 02:20:10,039 INFO] Step 15700/40000; acc:  47.11; ppl: 13.38; xent: 2.59; lr: 0.00100; 11973/14218 tok/s;   3598 sec\n",
            "[2021-04-21 02:20:19,513 INFO] Step 15800/40000; acc:  48.20; ppl: 12.55; xent: 2.53; lr: 0.00100; 11988/14051 tok/s;   3608 sec\n",
            "[2021-04-21 02:20:29,234 INFO] Step 15900/40000; acc:  47.61; ppl: 12.81; xent: 2.55; lr: 0.00100; 11943/13956 tok/s;   3617 sec\n",
            "[2021-04-21 02:20:38,408 INFO] Step 16000/40000; acc:  47.52; ppl: 13.00; xent: 2.56; lr: 0.00100; 11554/13668 tok/s;   3626 sec\n",
            "[2021-04-21 02:20:38,411 INFO] Loading ParallelCorpus(/content/drive/MyDrive/585_Team_Folder/OPUS/Ted.txt/TED2013.en-zh.zhDev.tok, /content/drive/MyDrive/585_Team_Folder/OPUS/Ted.txt/TED2013.en-zh.enDev.tok, align=None)...\n",
            "[2021-04-21 02:21:40,312 INFO] Transform statistics for valid:\n",
            "Filtered sentence: 10 sent\n",
            "\n",
            "[2021-04-21 02:21:43,809 INFO] Validation perplexity: 21.7446\n",
            "[2021-04-21 02:21:43,809 INFO] Validation accuracy: 43.1739\n",
            "[2021-04-21 02:21:43,809 INFO] Stalled patience: 2/4\n",
            "[2021-04-21 02:21:44,106 INFO] Saving checkpoint /content/drive/MyDrive/585_Team_Folder/OPUS/Ted.txt/run/model_step_16000.pt\n",
            "[2021-04-21 02:21:55,993 INFO] Step 16100/40000; acc:  47.96; ppl: 12.57; xent: 2.53; lr: 0.00100; 1507/1746 tok/s;   3704 sec\n",
            "[2021-04-21 02:22:06,611 INFO] Step 16200/40000; acc:  48.11; ppl: 12.42; xent: 2.52; lr: 0.00100; 10502/12272 tok/s;   3715 sec\n",
            "[2021-04-21 02:22:15,995 INFO] Step 16300/40000; acc:  48.37; ppl: 12.17; xent: 2.50; lr: 0.00100; 11445/13708 tok/s;   3724 sec\n",
            "[2021-04-21 02:22:25,614 INFO] Step 16400/40000; acc:  48.75; ppl: 11.85; xent: 2.47; lr: 0.00100; 11823/13918 tok/s;   3734 sec\n",
            "[2021-04-21 02:22:35,501 INFO] Step 16500/40000; acc:  48.15; ppl: 12.29; xent: 2.51; lr: 0.00100; 11054/13109 tok/s;   3744 sec\n",
            "[2021-04-21 02:22:35,504 INFO] Loading ParallelCorpus(/content/drive/MyDrive/585_Team_Folder/OPUS/Ted.txt/TED2013.en-zh.zhDev.tok, /content/drive/MyDrive/585_Team_Folder/OPUS/Ted.txt/TED2013.en-zh.enDev.tok, align=None)...\n",
            "[2021-04-21 02:23:38,069 INFO] Transform statistics for valid:\n",
            "Filtered sentence: 10 sent\n",
            "\n",
            "[2021-04-21 02:23:41,580 INFO] Validation perplexity: 21.8498\n",
            "[2021-04-21 02:23:41,580 INFO] Validation accuracy: 43.1248\n",
            "[2021-04-21 02:23:41,580 INFO] Stalled patience: 1/4\n",
            "[2021-04-21 02:23:51,314 INFO] Step 16600/40000; acc:  48.83; ppl: 11.73; xent: 2.46; lr: 0.00100; 1464/1719 tok/s;   3819 sec\n",
            "[2021-04-21 02:24:01,488 INFO] Step 16700/40000; acc:  48.38; ppl: 12.17; xent: 2.50; lr: 0.00100; 12174/13917 tok/s;   3830 sec\n",
            "[2021-04-21 02:24:10,754 INFO] Step 16800/40000; acc:  48.56; ppl: 12.03; xent: 2.49; lr: 0.00100; 11911/13867 tok/s;   3839 sec\n",
            "[2021-04-21 02:24:16,632 INFO] Transform statistics for corpus_1:\n",
            "Filtered sentence: 34 sent\n",
            "\n",
            "[2021-04-21 02:24:16,635 INFO] Loading ParallelCorpus(/content/drive/MyDrive/585_Team_Folder/OPUS/Ted.txt/TED2013.en-zh.zh.tok, /content/drive/MyDrive/585_Team_Folder/OPUS/Ted.txt/TED2013.en-zh.en.tok, align=None)...\n",
            "[2021-04-21 02:24:20,188 INFO] Step 16900/40000; acc:  49.78; ppl: 11.01; xent: 2.40; lr: 0.00100; 11695/13878 tok/s;   3848 sec\n",
            "[2021-04-21 02:24:29,407 INFO] Step 17000/40000; acc:  51.13; ppl: 10.39; xent: 2.34; lr: 0.00100; 12218/14116 tok/s;   3857 sec\n",
            "[2021-04-21 02:24:29,410 INFO] Loading ParallelCorpus(/content/drive/MyDrive/585_Team_Folder/OPUS/Ted.txt/TED2013.en-zh.zhDev.tok, /content/drive/MyDrive/585_Team_Folder/OPUS/Ted.txt/TED2013.en-zh.enDev.tok, align=None)...\n",
            "[2021-04-21 02:25:31,597 INFO] Transform statistics for valid:\n",
            "Filtered sentence: 10 sent\n",
            "\n",
            "[2021-04-21 02:25:35,133 INFO] Validation perplexity: 24.8903\n",
            "[2021-04-21 02:25:35,134 INFO] Validation accuracy: 42.4491\n",
            "[2021-04-21 02:25:35,134 INFO] Decreasing patience: 3/4\n",
            "[2021-04-21 02:25:35,439 INFO] Saving checkpoint /content/drive/MyDrive/585_Team_Folder/OPUS/Ted.txt/run/model_step_17000.pt\n",
            "[2021-04-21 02:25:46,951 INFO] Step 17100/40000; acc:  51.88; ppl:  9.97; xent: 2.30; lr: 0.00100; 1499/1689 tok/s;   3935 sec\n",
            "[2021-04-21 02:25:57,748 INFO] Step 17200/40000; acc:  51.79; ppl:  9.79; xent: 2.28; lr: 0.00100; 11191/12894 tok/s;   3946 sec\n",
            "[2021-04-21 02:26:07,436 INFO] Step 17300/40000; acc:  48.35; ppl: 12.21; xent: 2.50; lr: 0.00100; 11954/14125 tok/s;   3955 sec\n",
            "[2021-04-21 02:26:17,011 INFO] Step 17400/40000; acc:  47.89; ppl: 12.56; xent: 2.53; lr: 0.00100; 11630/13516 tok/s;   3965 sec\n",
            "[2021-04-21 02:26:26,536 INFO] Step 17500/40000; acc:  47.11; ppl: 13.30; xent: 2.59; lr: 0.00100; 11642/13960 tok/s;   3975 sec\n",
            "[2021-04-21 02:26:26,539 INFO] Loading ParallelCorpus(/content/drive/MyDrive/585_Team_Folder/OPUS/Ted.txt/TED2013.en-zh.zhDev.tok, /content/drive/MyDrive/585_Team_Folder/OPUS/Ted.txt/TED2013.en-zh.enDev.tok, align=None)...\n",
            "[2021-04-21 02:27:28,538 INFO] Transform statistics for valid:\n",
            "Filtered sentence: 10 sent\n",
            "\n",
            "[2021-04-21 02:27:32,135 INFO] Validation perplexity: 21.8332\n",
            "[2021-04-21 02:27:32,136 INFO] Validation accuracy: 43.3198\n",
            "[2021-04-21 02:27:32,136 INFO] Model is improving ppl: 21.8633 --> 21.8332.\n",
            "[2021-04-21 02:27:32,136 INFO] Model is improving acc: 43.3129 --> 43.3198.\n",
            "[2021-04-21 02:27:42,203 INFO] Step 17600/40000; acc:  47.93; ppl: 12.59; xent: 2.53; lr: 0.00100; 1589/1874 tok/s;   4050 sec\n",
            "[2021-04-21 02:27:52,250 INFO] Step 17700/40000; acc:  49.02; ppl: 11.75; xent: 2.46; lr: 0.00100; 11486/13373 tok/s;   4060 sec\n",
            "[2021-04-21 02:28:01,767 INFO] Step 17800/40000; acc:  47.78; ppl: 12.26; xent: 2.51; lr: 0.00100; 11637/13824 tok/s;   4070 sec\n",
            "[2021-04-21 02:28:11,166 INFO] Step 17900/40000; acc:  48.45; ppl: 12.19; xent: 2.50; lr: 0.00100; 11803/13640 tok/s;   4079 sec\n",
            "[2021-04-21 02:28:20,946 INFO] Step 18000/40000; acc:  48.39; ppl: 12.15; xent: 2.50; lr: 0.00100; 11903/13888 tok/s;   4089 sec\n",
            "[2021-04-21 02:28:20,949 INFO] Loading ParallelCorpus(/content/drive/MyDrive/585_Team_Folder/OPUS/Ted.txt/TED2013.en-zh.zhDev.tok, /content/drive/MyDrive/585_Team_Folder/OPUS/Ted.txt/TED2013.en-zh.enDev.tok, align=None)...\n",
            "[2021-04-21 02:29:22,845 INFO] Transform statistics for valid:\n",
            "Filtered sentence: 10 sent\n",
            "\n",
            "[2021-04-21 02:29:26,378 INFO] Validation perplexity: 21.6341\n",
            "[2021-04-21 02:29:26,378 INFO] Validation accuracy: 43.3933\n",
            "[2021-04-21 02:29:26,378 INFO] Model is improving ppl: 21.8332 --> 21.6341.\n",
            "[2021-04-21 02:29:26,378 INFO] Model is improving acc: 43.3198 --> 43.3933.\n",
            "[2021-04-21 02:29:26,676 INFO] Saving checkpoint /content/drive/MyDrive/585_Team_Folder/OPUS/Ted.txt/run/model_step_18000.pt\n",
            "[2021-04-21 02:29:38,137 INFO] Step 18100/40000; acc:  49.55; ppl: 11.29; xent: 2.42; lr: 0.00100; 1407/1649 tok/s;   4166 sec\n",
            "[2021-04-21 02:29:48,526 INFO] Step 18200/40000; acc:  49.40; ppl: 11.27; xent: 2.42; lr: 0.00100; 10413/12468 tok/s;   4177 sec\n",
            "[2021-04-21 02:29:58,460 INFO] Step 18300/40000; acc:  48.99; ppl: 11.62; xent: 2.45; lr: 0.00100; 11808/13847 tok/s;   4187 sec\n",
            "[2021-04-21 02:30:07,289 INFO] Step 18400/40000; acc:  49.33; ppl: 11.43; xent: 2.44; lr: 0.00100; 12029/14223 tok/s;   4195 sec\n",
            "[2021-04-21 02:30:17,304 INFO] Step 18500/40000; acc:  49.50; ppl: 11.10; xent: 2.41; lr: 0.00100; 11593/13573 tok/s;   4205 sec\n",
            "[2021-04-21 02:30:17,307 INFO] Loading ParallelCorpus(/content/drive/MyDrive/585_Team_Folder/OPUS/Ted.txt/TED2013.en-zh.zhDev.tok, /content/drive/MyDrive/585_Team_Folder/OPUS/Ted.txt/TED2013.en-zh.enDev.tok, align=None)...\n",
            "[2021-04-21 02:31:19,099 INFO] Transform statistics for valid:\n",
            "Filtered sentence: 10 sent\n",
            "\n",
            "[2021-04-21 02:31:22,545 INFO] Validation perplexity: 22.1259\n",
            "[2021-04-21 02:31:22,545 INFO] Validation accuracy: 43.3712\n",
            "[2021-04-21 02:31:22,545 INFO] Decreasing patience: 3/4\n",
            "[2021-04-21 02:31:32,105 INFO] Step 18600/40000; acc:  49.85; ppl: 11.01; xent: 2.40; lr: 0.00100; 1547/1776 tok/s;   4280 sec\n",
            "[2021-04-21 02:31:41,184 INFO] Step 18700/40000; acc:  49.66; ppl: 11.01; xent: 2.40; lr: 0.00100; 12004/14103 tok/s;   4289 sec\n",
            "[2021-04-21 02:31:43,373 INFO] Transform statistics for corpus_1:\n",
            "Filtered sentence: 34 sent\n",
            "\n",
            "[2021-04-21 02:31:43,377 INFO] Loading ParallelCorpus(/content/drive/MyDrive/585_Team_Folder/OPUS/Ted.txt/TED2013.en-zh.zh.tok, /content/drive/MyDrive/585_Team_Folder/OPUS/Ted.txt/TED2013.en-zh.en.tok, align=None)...\n",
            "[2021-04-21 02:31:50,876 INFO] Step 18800/40000; acc:  50.38; ppl: 10.61; xent: 2.36; lr: 0.00100; 11824/13938 tok/s;   4299 sec\n",
            "[2021-04-21 02:32:00,344 INFO] Step 18900/40000; acc:  51.98; ppl:  9.85; xent: 2.29; lr: 0.00100; 12458/14088 tok/s;   4308 sec\n",
            "[2021-04-21 02:32:09,747 INFO] Step 19000/40000; acc:  52.99; ppl:  9.08; xent: 2.21; lr: 0.00100; 12506/14322 tok/s;   4318 sec\n",
            "[2021-04-21 02:32:09,750 INFO] Loading ParallelCorpus(/content/drive/MyDrive/585_Team_Folder/OPUS/Ted.txt/TED2013.en-zh.zhDev.tok, /content/drive/MyDrive/585_Team_Folder/OPUS/Ted.txt/TED2013.en-zh.enDev.tok, align=None)...\n",
            "[2021-04-21 02:33:11,670 INFO] Transform statistics for valid:\n",
            "Filtered sentence: 10 sent\n",
            "\n",
            "[2021-04-21 02:33:15,308 INFO] Validation perplexity: 24.9815\n",
            "[2021-04-21 02:33:15,308 INFO] Validation accuracy: 42.6\n",
            "[2021-04-21 02:33:15,308 INFO] Decreasing patience: 2/4\n",
            "[2021-04-21 02:33:15,613 INFO] Saving checkpoint /content/drive/MyDrive/585_Team_Folder/OPUS/Ted.txt/run/model_step_19000.pt\n",
            "[2021-04-21 02:33:28,585 INFO] Step 19100/40000; acc:  52.31; ppl:  9.37; xent: 2.24; lr: 0.00100; 1534/1772 tok/s;   4397 sec\n",
            "[2021-04-21 02:33:39,037 INFO] Step 19200/40000; acc:  48.58; ppl: 11.95; xent: 2.48; lr: 0.00100; 10248/12234 tok/s;   4407 sec\n",
            "[2021-04-21 02:33:49,611 INFO] Step 19300/40000; acc:  48.38; ppl: 12.01; xent: 2.49; lr: 0.00100; 11024/12702 tok/s;   4418 sec\n",
            "[2021-04-21 02:33:59,862 INFO] Step 19400/40000; acc:  47.60; ppl: 12.58; xent: 2.53; lr: 0.00100; 10913/13108 tok/s;   4428 sec\n",
            "[2021-04-21 02:34:10,136 INFO] Step 19500/40000; acc:  49.38; ppl: 11.47; xent: 2.44; lr: 0.00100; 11413/13445 tok/s;   4438 sec\n",
            "[2021-04-21 02:34:10,139 INFO] Loading ParallelCorpus(/content/drive/MyDrive/585_Team_Folder/OPUS/Ted.txt/TED2013.en-zh.zhDev.tok, /content/drive/MyDrive/585_Team_Folder/OPUS/Ted.txt/TED2013.en-zh.enDev.tok, align=None)...\n",
            "[2021-04-21 02:35:12,506 INFO] Transform statistics for valid:\n",
            "Filtered sentence: 10 sent\n",
            "\n",
            "[2021-04-21 02:35:16,068 INFO] Validation perplexity: 21.8164\n",
            "[2021-04-21 02:35:16,068 INFO] Validation accuracy: 43.3335\n",
            "[2021-04-21 02:35:16,068 INFO] Decreasing patience: 1/4\n",
            "[2021-04-21 02:35:26,134 INFO] Step 19600/40000; acc:  49.81; ppl: 11.06; xent: 2.40; lr: 0.00100; 1509/1760 tok/s;   4514 sec\n",
            "[2021-04-21 02:35:36,094 INFO] Step 19700/40000; acc:  48.61; ppl: 11.72; xent: 2.46; lr: 0.00100; 10929/13004 tok/s;   4524 sec\n",
            "[2021-04-21 02:35:45,727 INFO] Step 19800/40000; acc:  49.41; ppl: 11.32; xent: 2.43; lr: 0.00100; 11749/13617 tok/s;   4534 sec\n",
            "[2021-04-21 02:35:55,803 INFO] Step 19900/40000; acc:  49.04; ppl: 11.46; xent: 2.44; lr: 0.00100; 11701/13555 tok/s;   4544 sec\n",
            "[2021-04-21 02:36:05,291 INFO] Step 20000/40000; acc:  50.62; ppl: 10.57; xent: 2.36; lr: 0.00100; 11250/13395 tok/s;   4553 sec\n",
            "[2021-04-21 02:36:05,293 INFO] Loading ParallelCorpus(/content/drive/MyDrive/585_Team_Folder/OPUS/Ted.txt/TED2013.en-zh.zhDev.tok, /content/drive/MyDrive/585_Team_Folder/OPUS/Ted.txt/TED2013.en-zh.enDev.tok, align=None)...\n",
            "[2021-04-21 02:37:08,806 INFO] Transform statistics for valid:\n",
            "Filtered sentence: 10 sent\n",
            "\n",
            "[2021-04-21 02:37:12,343 INFO] Validation perplexity: 22.106\n",
            "[2021-04-21 02:37:12,343 INFO] Validation accuracy: 43.4543\n",
            "[2021-04-21 02:37:12,343 INFO] Stalled patience: 3/4\n",
            "[2021-04-21 02:37:12,642 INFO] Saving checkpoint /content/drive/MyDrive/585_Team_Folder/OPUS/Ted.txt/run/model_step_20000.pt\n",
            "[2021-04-21 02:37:25,309 INFO] Step 20100/40000; acc:  49.84; ppl: 10.72; xent: 2.37; lr: 0.00100; 1349/1609 tok/s;   4633 sec\n",
            "[2021-04-21 02:37:35,655 INFO] Step 20200/40000; acc:  50.11; ppl: 10.82; xent: 2.38; lr: 0.00100; 11040/12943 tok/s;   4644 sec\n",
            "[2021-04-21 02:37:45,238 INFO] Step 20300/40000; acc:  49.67; ppl: 10.97; xent: 2.40; lr: 0.00100; 11525/13469 tok/s;   4653 sec\n",
            "[2021-04-21 02:37:55,756 INFO] Step 20400/40000; acc:  50.54; ppl: 10.47; xent: 2.35; lr: 0.00100; 11261/13049 tok/s;   4664 sec\n",
            "[2021-04-21 02:38:05,627 INFO] Step 20500/40000; acc:  50.83; ppl: 10.30; xent: 2.33; lr: 0.00100; 11466/13344 tok/s;   4674 sec\n",
            "[2021-04-21 02:38:05,630 INFO] Loading ParallelCorpus(/content/drive/MyDrive/585_Team_Folder/OPUS/Ted.txt/TED2013.en-zh.zhDev.tok, /content/drive/MyDrive/585_Team_Folder/OPUS/Ted.txt/TED2013.en-zh.enDev.tok, align=None)...\n",
            "[2021-04-21 02:39:09,129 INFO] Transform statistics for valid:\n",
            "Filtered sentence: 10 sent\n",
            "\n",
            "[2021-04-21 02:39:12,684 INFO] Validation perplexity: 22.2187\n",
            "[2021-04-21 02:39:12,684 INFO] Validation accuracy: 43.5361\n",
            "[2021-04-21 02:39:12,684 INFO] Stalled patience: 2/4\n",
            "[2021-04-21 02:39:22,298 INFO] Step 20600/40000; acc:  50.13; ppl: 10.58; xent: 2.36; lr: 0.00100; 1433/1688 tok/s;   4750 sec\n",
            "[2021-04-21 02:39:23,253 INFO] Transform statistics for corpus_1:\n",
            "Filtered sentence: 34 sent\n",
            "\n",
            "[2021-04-21 02:39:23,256 INFO] Loading ParallelCorpus(/content/drive/MyDrive/585_Team_Folder/OPUS/Ted.txt/TED2013.en-zh.zh.tok, /content/drive/MyDrive/585_Team_Folder/OPUS/Ted.txt/TED2013.en-zh.en.tok, align=None)...\n",
            "[2021-04-21 02:39:32,362 INFO] Step 20700/40000; acc:  50.83; ppl: 10.16; xent: 2.32; lr: 0.00100; 11515/13575 tok/s;   4760 sec\n",
            "[2021-04-21 02:39:41,941 INFO] Step 20800/40000; acc:  53.36; ppl:  9.13; xent: 2.21; lr: 0.00100; 12069/13647 tok/s;   4770 sec\n",
            "[2021-04-21 02:39:51,623 INFO] Step 20900/40000; acc:  54.56; ppl:  8.15; xent: 2.10; lr: 0.00100; 12145/13985 tok/s;   4780 sec\n",
            "[2021-04-21 02:40:01,718 INFO] Step 21000/40000; acc:  51.71; ppl:  9.74; xent: 2.28; lr: 0.00100; 11612/13499 tok/s;   4790 sec\n",
            "[2021-04-21 02:40:01,720 INFO] Loading ParallelCorpus(/content/drive/MyDrive/585_Team_Folder/OPUS/Ted.txt/TED2013.en-zh.zhDev.tok, /content/drive/MyDrive/585_Team_Folder/OPUS/Ted.txt/TED2013.en-zh.enDev.tok, align=None)...\n",
            "[2021-04-21 02:41:04,737 INFO] Transform statistics for valid:\n",
            "Filtered sentence: 10 sent\n",
            "\n",
            "[2021-04-21 02:41:08,341 INFO] Validation perplexity: 22.2968\n",
            "[2021-04-21 02:41:08,341 INFO] Validation accuracy: 43.487\n",
            "[2021-04-21 02:41:08,341 INFO] Stalled patience: 1/4\n",
            "[2021-04-21 02:41:08,671 INFO] Saving checkpoint /content/drive/MyDrive/585_Team_Folder/OPUS/Ted.txt/run/model_step_21000.pt\n",
            "[2021-04-21 02:41:20,295 INFO] Step 21100/40000; acc:  49.44; ppl: 11.13; xent: 2.41; lr: 0.00100; 1370/1623 tok/s;   4868 sec\n",
            "[2021-04-21 02:41:31,908 INFO] Step 21200/40000; acc:  48.43; ppl: 12.00; xent: 2.48; lr: 0.00100; 10280/11908 tok/s;   4880 sec\n",
            "[2021-04-21 02:41:42,072 INFO] Step 21300/40000; acc:  48.60; ppl: 11.88; xent: 2.47; lr: 0.00100; 11206/13386 tok/s;   4890 sec\n",
            "[2021-04-21 02:41:51,815 INFO] Step 21400/40000; acc:  50.75; ppl: 10.31; xent: 2.33; lr: 0.00100; 11671/13777 tok/s;   4900 sec\n",
            "[2021-04-21 02:42:02,084 INFO] Step 21500/40000; acc:  50.17; ppl: 10.66; xent: 2.37; lr: 0.00100; 11396/13299 tok/s;   4910 sec\n",
            "[2021-04-21 02:42:02,086 INFO] Loading ParallelCorpus(/content/drive/MyDrive/585_Team_Folder/OPUS/Ted.txt/TED2013.en-zh.zhDev.tok, /content/drive/MyDrive/585_Team_Folder/OPUS/Ted.txt/TED2013.en-zh.enDev.tok, align=None)...\n",
            "[2021-04-21 02:43:05,481 INFO] Transform statistics for valid:\n",
            "Filtered sentence: 10 sent\n",
            "\n",
            "[2021-04-21 02:43:09,095 INFO] Validation perplexity: 22.4747\n",
            "[2021-04-21 02:43:09,095 INFO] Validation accuracy: 43.1993\n",
            "[2021-04-21 02:43:09,096 INFO] Decreasing patience: 0/4\n",
            "[2021-04-21 02:43:09,096 INFO] Training finished after not improving. Early Stop!\n",
            "[2021-04-21 02:43:09,096 INFO] Best model found at step 18000\n",
            "[2021-04-21 02:43:09,407 INFO] Saving checkpoint /content/drive/MyDrive/585_Team_Folder/OPUS/Ted.txt/run/model_step_21500.pt\n"
          ],
          "name": "stdout"
        }
      ]
    },
    {
      "cell_type": "code",
      "metadata": {
        "colab": {
          "base_uri": "https://localhost:8080/"
        },
        "id": "i922pkwypRlm",
        "outputId": "32c5b853-e65b-408a-95b9-edc3064f1354"
      },
      "source": [
        "!onmt_translate -model /content/drive/MyDrive/585_Team_Folder/OPUS/Ted.txt/run/model_step_18000.pt -src /content/drive/MyDrive/585_Team_Folder/OPUS/Ted.txt/TED2013.en-zh.zhDev.tok -output /content/drive/MyDrive/585_Team_Folder/OPUS/Ted.txt/val_18.txt -gpu 0 -beam_size 10 -seed 531 -block_ngram 2\n",
        "!onmt_translate -model /content/drive/MyDrive/585_Team_Folder/OPUS/Ted.txt/run/model_step_19000.pt -src /content/drive/MyDrive/585_Team_Folder/OPUS/Ted.txt/TED2013.en-zh.zhDev.tok -output /content/drive/MyDrive/585_Team_Folder/OPUS/Ted.txt/val_19.txt -gpu 0 -beam_size 10 -seed 531 -block_ngram 2\n",
        "!onmt_translate -model /content/drive/MyDrive/585_Team_Folder/OPUS/Ted.txt/run/model_step_20000.pt -src /content/drive/MyDrive/585_Team_Folder/OPUS/Ted.txt/TED2013.en-zh.zhDev.tok -output /content/drive/MyDrive/585_Team_Folder/OPUS/Ted.txt/val_20.txt -gpu 0 -beam_size 10 -seed 531 -block_ngram 2\n",
        "!onmt_translate -model /content/drive/MyDrive/585_Team_Folder/OPUS/Ted.txt/run/model_step_21000.pt -src /content/drive/MyDrive/585_Team_Folder/OPUS/Ted.txt/TED2013.en-zh.zhDev.tok -output /content/drive/MyDrive/585_Team_Folder/OPUS/Ted.txt/val_21.txt -gpu 0 -beam_size 10 -seed 531 -block_ngram 2"
      ],
      "execution_count": null,
      "outputs": [
        {
          "output_type": "stream",
          "text": [
            "[2021-04-21 04:09:50,697 INFO] Translating shard 0.\n",
            "[2021-04-21 04:16:49,588 INFO] PRED AVG SCORE: -0.9275, PRED PPL: 2.5282\n",
            "[2021-04-21 04:16:49,618 INFO] Translating shard 1.\n",
            "[2021-04-21 04:23:50,650 INFO] PRED AVG SCORE: -0.9411, PRED PPL: 2.5629\n",
            "[2021-04-21 04:23:50,679 INFO] Translating shard 2.\n",
            "[2021-04-21 04:31:14,777 INFO] PRED AVG SCORE: -0.9419, PRED PPL: 2.5647\n",
            "[2021-04-21 04:31:14,804 INFO] Translating shard 3.\n",
            "[2021-04-21 04:34:32,881 INFO] PRED AVG SCORE: -0.9544, PRED PPL: 2.5970\n",
            "[2021-04-21 04:34:37,723 INFO] Translating shard 0.\n",
            "[2021-04-21 04:42:13,659 INFO] PRED AVG SCORE: -0.8922, PRED PPL: 2.4405\n",
            "[2021-04-21 04:42:13,688 INFO] Translating shard 1.\n",
            "[2021-04-21 04:49:46,002 INFO] PRED AVG SCORE: -0.9080, PRED PPL: 2.4794\n",
            "[2021-04-21 04:49:46,029 INFO] Translating shard 2.\n",
            "[2021-04-21 04:57:37,879 INFO] PRED AVG SCORE: -0.9035, PRED PPL: 2.4681\n",
            "[2021-04-21 04:57:37,906 INFO] Translating shard 3.\n",
            "[2021-04-21 05:01:13,025 INFO] PRED AVG SCORE: -0.9196, PRED PPL: 2.5083\n",
            "[2021-04-21 05:01:17,879 INFO] Translating shard 0.\n",
            "[2021-04-21 05:08:22,779 INFO] PRED AVG SCORE: -0.8799, PRED PPL: 2.4107\n",
            "[2021-04-21 05:08:22,804 INFO] Translating shard 1.\n",
            "[2021-04-21 05:15:21,620 INFO] PRED AVG SCORE: -0.8963, PRED PPL: 2.4506\n",
            "[2021-04-21 05:15:21,647 INFO] Translating shard 2.\n",
            "[2021-04-21 05:22:45,587 INFO] PRED AVG SCORE: -0.8918, PRED PPL: 2.4395\n",
            "[2021-04-21 05:22:45,614 INFO] Translating shard 3.\n",
            "[2021-04-21 05:26:04,533 INFO] PRED AVG SCORE: -0.9060, PRED PPL: 2.4743\n",
            "[2021-04-21 05:26:09,411 INFO] Translating shard 0.\n",
            "[2021-04-21 05:32:59,813 INFO] PRED AVG SCORE: -0.8610, PRED PPL: 2.3656\n",
            "[2021-04-21 05:32:59,842 INFO] Translating shard 1.\n",
            "[2021-04-21 05:39:48,012 INFO] PRED AVG SCORE: -0.8736, PRED PPL: 2.3954\n",
            "[2021-04-21 05:39:48,038 INFO] Translating shard 2.\n",
            "[2021-04-21 05:46:56,279 INFO] PRED AVG SCORE: -0.8717, PRED PPL: 2.3909\n",
            "[2021-04-21 05:46:56,305 INFO] Translating shard 3.\n",
            "[2021-04-21 05:50:10,178 INFO] PRED AVG SCORE: -0.8893, PRED PPL: 2.4334\n"
          ],
          "name": "stdout"
        }
      ]
    },
    {
      "cell_type": "code",
      "metadata": {
        "colab": {
          "base_uri": "https://localhost:8080/"
        },
        "id": "75rdzbC9K3by",
        "outputId": "b9b3ae70-a30f-42ec-dbcf-9842091f1c95"
      },
      "source": [
        "# !perl multi-bleu.perl /content/drive/MyDrive/585_Team_Folder/OPUS/Ted.txt/TED2013.en-zh.enDev.tok < /content/drive/MyDrive/585_Team_Folder/OPUS/Ted.txt/val_18.txt"
      ],
      "execution_count": null,
      "outputs": [
        {
          "output_type": "stream",
          "text": [
            "Can't open perl script \"multi-bleu.perl\": No such file or directory\n"
          ],
          "name": "stdout"
        }
      ]
    },
    {
      "cell_type": "code",
      "metadata": {
        "colab": {
          "base_uri": "https://localhost:8080/"
        },
        "id": "cH4x5WN5bzMe",
        "outputId": "963da5c1-db5a-4186-ae65-bb7b26af1b35"
      },
      "source": [
        "!head /content/drive/MyDrive/585_Team_Folder/OPUS/Ted.txt/TED2013.en-zh.enDev.tok\n",
        "print(\"-=-=-=-\")\n",
        "!head /content/drive/MyDrive/585_Team_Folder/OPUS/Ted.txt/val_18.txt"
      ],
      "execution_count": null,
      "outputs": [
        {
          "output_type": "stream",
          "text": [
            "I remember hearing all of you in the graphic arts -- \" If you have to explain it , it ai n't working . \" \r\n",
            "And one day I woke up and I said , \" Well , suppose that 's not true ? \" \r\n",
            "So here 's what it says in my explanation at the bottom left . \r\n",
            "It says , \" Thoughts : This poem is impossible . \r\n",
            "Silas usually has a better touch with his choice of quotations . \r\n",
            "This one generates no imagery at all . \" \r\n",
            "I am now exposing myself to my audience , right ? \r\n",
            "Which is something you never want to do professionally . \r\n",
            "\" Maybe the words can make the image without anything else happening . \r\n",
            "What 's the heart of this poem ? \r\n",
            "-=-=-=-\n",
            "And I remember to hear you all say , \" If you have to explain that , it does n't work . \"\n",
            "And one day I wake up and said , \" If that 's wrong ? \"\n",
            "So here 's what I explain on the left .\n",
            "This is what it says , \" It 's impossible . \"\n",
            "<unk> is often better than <unk> .\n",
            "It does n't work any <unk> . \"\n",
            "I 'm talking about my own thoughts , right ?\n",
            "That 's what you never want to do .\n",
            "\" Maybe the text can form images , but slightly less than that .\n",
            "What 's the core core ?\n"
          ],
          "name": "stdout"
        }
      ]
    },
    {
      "cell_type": "code",
      "metadata": {
        "colab": {
          "base_uri": "https://localhost:8080/"
        },
        "id": "eX1Ct6YPndzA",
        "outputId": "53ee64ab-7338-48ce-ec3f-50572b5fbd99"
      },
      "source": [
        "!perl OpenNMT-py/tools/multi-bleu.perl /content/drive/MyDrive/585_Team_Folder/OPUS/Ted.txt/TED2013.en-zh.enDev.tok < /content/drive/MyDrive/585_Team_Folder/OPUS/Ted.txt/val_18.txt\n",
        "!perl OpenNMT-py/tools/multi-bleu.perl /content/drive/MyDrive/585_Team_Folder/OPUS/Ted.txt/TED2013.en-zh.enDev.tok < /content/drive/MyDrive/585_Team_Folder/OPUS/Ted.txt/val_19.txt\n",
        "!perl OpenNMT-py/tools/multi-bleu.perl /content/drive/MyDrive/585_Team_Folder/OPUS/Ted.txt/TED2013.en-zh.enDev.tok < /content/drive/MyDrive/585_Team_Folder/OPUS/Ted.txt/val_20.txt\n",
        "!perl OpenNMT-py/tools/multi-bleu.perl /content/drive/MyDrive/585_Team_Folder/OPUS/Ted.txt/TED2013.en-zh.enDev.tok < /content/drive/MyDrive/585_Team_Folder/OPUS/Ted.txt/val_21.txt"
      ],
      "execution_count": null,
      "outputs": [
        {
          "output_type": "stream",
          "text": [
            "BLEU = 11.21, 47.3/18.0/8.1/4.0 (BP=0.867, ratio=0.875, hyp_len=606466, ref_len=692964)\n",
            "BLEU = 11.63, 46.1/17.5/7.9/3.9 (BP=0.923, ratio=0.926, hyp_len=641390, ref_len=692964)\n",
            "BLEU = 11.45, 47.5/18.3/8.4/4.2 (BP=0.867, ratio=0.875, hyp_len=606517, ref_len=692964)\n",
            "BLEU = 11.09, 48.0/18.4/8.4/4.2 (BP=0.832, ratio=0.845, hyp_len=585257, ref_len=692964)\n"
          ],
          "name": "stdout"
        }
      ]
    },
    {
      "cell_type": "code",
      "metadata": {
        "id": "CbSdh-U-n8Qe",
        "colab": {
          "base_uri": "https://localhost:8080/"
        },
        "outputId": "04c3355b-f51b-4ba7-bacb-a30fa6baa2a5"
      },
      "source": [
        "!onmt_translate -model /content/drive/MyDrive/585_Team_Folder/OPUS/Ted.txt/run/model_step_19000.pt -src /content/drive/MyDrive/585_Team_Folder/OPUS/Ted.txt/TED2013.en-zh.zhDev.tok -output /content/drive/MyDrive/585_Team_Folder/OPUS/Ted.txt/val_19000_beam_5.txt -gpu 0 -beam_size 5 -seed 531 -block_ngram 2\n",
        "!onmt_translate -model /content/drive/MyDrive/585_Team_Folder/OPUS/Ted.txt/run/model_step_19000.pt -src /content/drive/MyDrive/585_Team_Folder/OPUS/Ted.txt/TED2013.en-zh.zhDev.tok -output /content/drive/MyDrive/585_Team_Folder/OPUS/Ted.txt/val_19000_beam_15.txt -gpu 0 -beam_size 15 -seed 531 -block_ngram 2\n",
        "!onmt_translate -model /content/drive/MyDrive/585_Team_Folder/OPUS/Ted.txt/run/model_step_19000.pt -src /content/drive/MyDrive/585_Team_Folder/OPUS/Ted.txt/TED2013.en-zh.zhDev.tok -output /content/drive/MyDrive/585_Team_Folder/OPUS/Ted.txt/val_19000_beam_20.txt -gpu 0 -beam_size 20 -seed 531 -block_ngram 2"
      ],
      "execution_count": null,
      "outputs": [
        {
          "output_type": "stream",
          "text": [
            "[2021-04-21 22:07:28,287 INFO] Translating shard 0.\n",
            "[2021-04-21 22:11:25,097 INFO] PRED AVG SCORE: -0.9173, PRED PPL: 2.5024\n",
            "[2021-04-21 22:11:25,121 INFO] Translating shard 1.\n",
            "[2021-04-21 22:15:20,378 INFO] PRED AVG SCORE: -0.9314, PRED PPL: 2.5381\n",
            "[2021-04-21 22:15:20,403 INFO] Translating shard 2.\n",
            "[2021-04-21 22:19:26,261 INFO] PRED AVG SCORE: -0.9306, PRED PPL: 2.5360\n",
            "[2021-04-21 22:19:26,286 INFO] Translating shard 3.\n",
            "[2021-04-21 22:21:17,873 INFO] PRED AVG SCORE: -0.9458, PRED PPL: 2.5749\n",
            "[2021-04-21 22:21:21,597 INFO] Translating shard 0.\n",
            "[2021-04-21 22:31:35,206 INFO] PRED AVG SCORE: -0.8853, PRED PPL: 2.4237\n",
            "[2021-04-21 22:31:35,229 INFO] Translating shard 1.\n",
            "[2021-04-21 22:41:45,464 INFO] PRED AVG SCORE: -0.8991, PRED PPL: 2.4575\n",
            "[2021-04-21 22:41:45,492 INFO] Translating shard 2.\n",
            "[2021-04-21 22:52:23,620 INFO] PRED AVG SCORE: -0.8957, PRED PPL: 2.4491\n",
            "[2021-04-21 22:52:23,648 INFO] Translating shard 3.\n",
            "[2021-04-21 22:57:13,686 INFO] PRED AVG SCORE: -0.9113, PRED PPL: 2.4876\n",
            "[2021-04-21 22:57:17,410 INFO] Translating shard 0.\n",
            "[2021-04-21 23:10:44,887 INFO] PRED AVG SCORE: -0.8805, PRED PPL: 2.4122\n",
            "[2021-04-21 23:10:44,912 INFO] Translating shard 1.\n",
            "[2021-04-21 23:24:07,556 INFO] PRED AVG SCORE: -0.8945, PRED PPL: 2.4462\n",
            "[2021-04-21 23:24:07,580 INFO] Translating shard 2.\n",
            "[2021-04-21 23:38:11,328 INFO] PRED AVG SCORE: -0.8921, PRED PPL: 2.4402\n",
            "[2021-04-21 23:38:11,352 INFO] Translating shard 3.\n",
            "[2021-04-21 23:44:31,464 INFO] PRED AVG SCORE: -0.9070, PRED PPL: 2.4770\n"
          ],
          "name": "stdout"
        }
      ]
    },
    {
      "cell_type": "code",
      "metadata": {
        "colab": {
          "base_uri": "https://localhost:8080/"
        },
        "id": "bPYM1xfueCN2",
        "outputId": "6f967928-122d-4735-fe55-06979ff2af46"
      },
      "source": [
        "!perl OpenNMT-py/tools/multi-bleu.perl /content/drive/MyDrive/585_Team_Folder/OPUS/Ted.txt/TED2013.en-zh.enDev.tok < /content/drive/MyDrive/585_Team_Folder/OPUS/Ted.txt/val_19000_beam_5.txt\n",
        "!perl OpenNMT-py/tools/multi-bleu.perl /content/drive/MyDrive/585_Team_Folder/OPUS/Ted.txt/TED2013.en-zh.enDev.tok < /content/drive/MyDrive/585_Team_Folder/OPUS/Ted.txt/val_19000_beam_15.txt\n",
        "!perl OpenNMT-py/tools/multi-bleu.perl /content/drive/MyDrive/585_Team_Folder/OPUS/Ted.txt/TED2013.en-zh.enDev.tok < /content/drive/MyDrive/585_Team_Folder/OPUS/Ted.txt/val_19000_beam_20.txt\n",
        "# !perl OpenNMT-py/tools/multi-bleu.perl /content/drive/MyDrive/585_Team_Folder/OPUS/Ted.txt/TED2013.en-zh.enDev.tok < /content/drive/MyDrive/585_Team_Folder/OPUS/Ted.txt/val_21.txt"
      ],
      "execution_count": null,
      "outputs": [
        {
          "output_type": "stream",
          "text": [
            "BLEU = 11.66, 44.9/16.9/7.6/3.7 (BP=0.963, ratio=0.964, hyp_len=667853, ref_len=692964)\n",
            "BLEU = 11.61, 46.7/17.8/8.1/4.1 (BP=0.901, ratio=0.906, hyp_len=627492, ref_len=692964)\n",
            "BLEU = 11.53, 47.0/18.0/8.2/4.1 (BP=0.887, ratio=0.893, hyp_len=618539, ref_len=692964)\n"
          ],
          "name": "stdout"
        }
      ]
    },
    {
      "cell_type": "code",
      "metadata": {
        "id": "Z-L-1bPkesmH"
      },
      "source": [
        ""
      ],
      "execution_count": null,
      "outputs": []
    }
  ]
}